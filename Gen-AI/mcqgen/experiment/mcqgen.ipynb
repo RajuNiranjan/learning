{
 "cells": [
  {
   "cell_type": "code",
   "execution_count": 4,
   "metadata": {},
   "outputs": [],
   "source": [
    "from dotenv import load_dotenv\n",
    "from langchain import PromptTemplate\n",
    "from langchain.chains import SequentialChain, LLMChain\n",
    "from langchain.callbacks import get_openai_callback\n",
    "from langchain.chat_models import ChatOpenAI\n",
    "import os\n",
    "import json\n",
    "import pandas as pd"
   ]
  },
  {
   "cell_type": "code",
   "execution_count": 5,
   "metadata": {},
   "outputs": [
    {
     "data": {
      "text/plain": [
       "True"
      ]
     },
     "execution_count": 5,
     "metadata": {},
     "output_type": "execute_result"
    }
   ],
   "source": [
    "load_dotenv()"
   ]
  },
  {
   "cell_type": "code",
   "execution_count": 6,
   "metadata": {},
   "outputs": [],
   "source": [
    "OPENAI_API_KEY=os.getenv(\"OPENAI_API_KEY2\")"
   ]
  },
  {
   "cell_type": "code",
   "execution_count": 7,
   "metadata": {},
   "outputs": [
    {
     "name": "stderr",
     "output_type": "stream",
     "text": [
      "C:\\Users\\rajun\\AppData\\Local\\Temp\\ipykernel_23016\\1124066220.py:1: LangChainDeprecationWarning: The class `ChatOpenAI` was deprecated in LangChain 0.0.10 and will be removed in 1.0. An updated version of the class exists in the :class:`~langchain-openai package and should be used instead. To use it run `pip install -U :class:`~langchain-openai` and import as `from :class:`~langchain_openai import ChatOpenAI``.\n",
      "  llm = ChatOpenAI(\n"
     ]
    }
   ],
   "source": [
    "llm = ChatOpenAI(\n",
    "    openai_api_key=OPENAI_API_KEY,\n",
    "    model=\"gpt-4o-mini\",\n",
    "    temperature=0.8,\n",
    ")"
   ]
  },
  {
   "cell_type": "code",
   "execution_count": 8,
   "metadata": {},
   "outputs": [],
   "source": [
    "RESPONSE_JSON={\n",
    "    \"1\":{\n",
    "        \"mcq\":\"multiple question\",\n",
    "        \"options\":{\n",
    "            \"a\":\"choice answer\",\n",
    "            \"b\":\"choice answer\",\n",
    "            \"c\":\"choice answer\",\n",
    "            \"d\":\"choice answer\",\n",
    "        },\n",
    "        \"correct_answer\":\"correct answer\"\n",
    "    }\n",
    "}"
   ]
  },
  {
   "cell_type": "code",
   "execution_count": 9,
   "metadata": {},
   "outputs": [],
   "source": [
    "TEMPLATE=\"\"\" \n",
    "text={text}\n",
    "subject={subject}\n",
    "tone={tone}\n",
    "number={number}\n",
    "\n",
    "Instructios:\n",
    "You are to generate a quiz in a {tone} tone based on the subject \"{subject}\".\n",
    "the quiz should contain {number} multiple-choice question.\n",
    "Each question should have:\n",
    "- a clear and concise question text\n",
    "- four option lebeled A, B, C, D\n",
    "- a correct answer key\n",
    "\n",
    "output must be in the following JSON format:\n",
    "{response_json}\n",
    "\n",
    "\"\"\""
   ]
  },
  {
   "cell_type": "code",
   "execution_count": 10,
   "metadata": {},
   "outputs": [],
   "source": [
    "quiz_prompt = PromptTemplate(\n",
    "    input_variables=[\"text\", \"subject\", \"number\", \"tone\", \"response_json\"],\n",
    "    template=TEMPLATE\n",
    ")"
   ]
  },
  {
   "cell_type": "code",
   "execution_count": 11,
   "metadata": {},
   "outputs": [
    {
     "name": "stderr",
     "output_type": "stream",
     "text": [
      "C:\\Users\\rajun\\AppData\\Local\\Temp\\ipykernel_23016\\3773648120.py:1: LangChainDeprecationWarning: The class `LLMChain` was deprecated in LangChain 0.1.17 and will be removed in 1.0. Use :meth:`~RunnableSequence, e.g., `prompt | llm`` instead.\n",
      "  quiz_chain = LLMChain(\n"
     ]
    }
   ],
   "source": [
    "quiz_chain = LLMChain(\n",
    "    llm=llm,\n",
    "    prompt=quiz_prompt,\n",
    "    output_key=\"quiz\",\n",
    "    verbose=True\n",
    ")"
   ]
  },
  {
   "cell_type": "code",
   "execution_count": 12,
   "metadata": {},
   "outputs": [],
   "source": [
    "TEMPLATE = \"\"\"\n",
    "You are an expert English grammarian and writer. Given a multiple-choice quiz for {subject} students,\n",
    "you need to evaluate the complexity of the questions and provide a complete analysis of the quiz.\n",
    "\n",
    "- Use **no more than 50 words** for the complexity analysis.\n",
    "- If any question does not align with the cognitive and analytical abilities of the students,\n",
    "  revise only those questions and adjust the tone to better suit the appropriate difficulty level.\n",
    "\n",
    "Quiz MCQs:\n",
    "{quiz}\n",
    "\n",
    "Please provide your evaluation and the updated quiz (if needed) from the perspective of an expert English writer:\n",
    "\"\"\"\n"
   ]
  },
  {
   "cell_type": "code",
   "execution_count": 13,
   "metadata": {},
   "outputs": [],
   "source": [
    "quiz_evalution_prompt = PromptTemplate(\n",
    "    input_variables=[\"subject\", \"quiz\"],\n",
    "    template=TEMPLATE,\n",
    ")"
   ]
  },
  {
   "cell_type": "code",
   "execution_count": 14,
   "metadata": {},
   "outputs": [],
   "source": [
    "review_chain = LLMChain(\n",
    "    llm=llm,\n",
    "    prompt=quiz_evalution_prompt,\n",
    "    output_key=\"review\",\n",
    "    verbose=True\n",
    ")"
   ]
  },
  {
   "cell_type": "code",
   "execution_count": 15,
   "metadata": {},
   "outputs": [],
   "source": [
    "gen_evaluate_chain = SequentialChain(\n",
    "    chains=[quiz_chain, review_chain],\n",
    "    input_variables=[\"text\", \"subject\", \"number\", \"tone\", \"response_json\"],\n",
    "    output_variables=[\"quiz\", 'review'],\n",
    "    verbose=True\n",
    ")"
   ]
  },
  {
   "cell_type": "code",
   "execution_count": 16,
   "metadata": {},
   "outputs": [],
   "source": [
    "from pathlib import Path\n",
    "file_path = r'E:\\learning\\Gen-AI\\mcqgen\\data.txt'"
   ]
  },
  {
   "cell_type": "code",
   "execution_count": 17,
   "metadata": {},
   "outputs": [],
   "source": [
    "with open(file_path, 'r') as file:\n",
    "    TEXT = file.read()"
   ]
  },
  {
   "cell_type": "code",
   "execution_count": 18,
   "metadata": {},
   "outputs": [],
   "source": [
    "NUMBER=5\n",
    "SUBJECT=\"Data science\"\n",
    "TONE=\"Hard\""
   ]
  },
  {
   "cell_type": "code",
   "execution_count": 19,
   "metadata": {},
   "outputs": [
    {
     "name": "stderr",
     "output_type": "stream",
     "text": [
      "C:\\Users\\rajun\\AppData\\Local\\Temp\\ipykernel_23016\\2310826965.py:2: LangChainDeprecationWarning: The method `Chain.__call__` was deprecated in langchain 0.1.0 and will be removed in 1.0. Use :meth:`~invoke` instead.\n",
      "  response = gen_evaluate_chain(\n"
     ]
    },
    {
     "name": "stdout",
     "output_type": "stream",
     "text": [
      "\n",
      "\n",
      "\u001b[1m> Entering new SequentialChain chain...\u001b[0m\n",
      "\n",
      "\n",
      "\u001b[1m> Entering new LLMChain chain...\u001b[0m\n",
      "Prompt after formatting:\n",
      "\u001b[32;1m\u001b[1;3m \n",
      "text=Data science is an interdisciplinary academic field[1] that uses statistics, scientific computing, scientific methods, processes, algorithms and systems to extract or extrapolate knowledge and insights from noisy, structured, and unstructured data.[2]\n",
      "\n",
      "Data science also integrates domain knowledge from the underlying application domain (e.g., natural sciences, information technology, and medicine).[3] Data science is multifaceted and can be described as a science, a research paradigm, a research method, a discipline, a workflow, and a profession.[4]\n",
      "\n",
      "Data science is a \"concept to unify statistics, data analysis, informatics, and their related methods\" to \"understand and analyze actual phenomena\" with data.[5] It uses techniques and theories drawn from many fields within the context of mathematics, statistics, computer science, information science, and domain knowledge.[6] However, data science is different from computer science and information science. Turing Award winner Jim Gray imagined data science as a \"fourth paradigm\" of science (empirical, theoretical, computational, and now data-driven) and asserted that \"everything about science is changing because of the impact of information technology\" and the data deluge.[7][8]\n",
      "\n",
      "A data scientist is a professional who creates programming code and combines it with statistical knowledge to create insights from data.[9]\n",
      "\n",
      "Foundations\n",
      "Data science is an interdisciplinary field[10] focused on extracting knowledge from typically large data sets and applying the knowledge and insights from that data to solve problems in a wide range of application domains. The field encompasses preparing data for analysis, formulating data science problems, analyzing data, developing data-driven solutions, and presenting findings to inform high-level decisions in a broad range of application domains. As such, it incorporates skills from computer science, statistics, information science, mathematics, data visualization, information visualization, data sonification, data integration, graphic design, complex systems, communication and business.[11][12] Statistician Nathan Yau, drawing on Ben Fry, also links data science to human–computer interaction: users should be able to intuitively control and explore data.[13][14] In 2015, the American Statistical Association identified database management, statistics and machine learning, and distributed and parallel systems as the three emerging foundational professional communities.[15]\n",
      "subject=Data science\n",
      "tone=Hard\n",
      "number=5\n",
      "\n",
      "Instructios:\n",
      "You are to generate a quiz in a Hard tone based on the subject \"Data science\".\n",
      "the quiz should contain 5 multiple-choice question.\n",
      "Each question should have:\n",
      "- a clear and concise question text\n",
      "- four option lebeled A, B, C, D\n",
      "- a correct answer key\n",
      "\n",
      "output must be in the following JSON format:\n",
      "{\"1\": {\"mcq\": \"multiple question\", \"options\": {\"a\": \"choice answer\", \"b\": \"choice answer\", \"c\": \"choice answer\", \"d\": \"choice answer\"}, \"correct_answer\": \"correct answer\"}}\n",
      "\n",
      "\u001b[0m\n",
      "\n",
      "\u001b[1m> Finished chain.\u001b[0m\n",
      "\n",
      "\n",
      "\u001b[1m> Entering new LLMChain chain...\u001b[0m\n",
      "Prompt after formatting:\n",
      "\u001b[32;1m\u001b[1;3m\n",
      "You are an expert English grammarian and writer. Given a multiple-choice quiz for Data science students,\n",
      "you need to evaluate the complexity of the questions and provide a complete analysis of the quiz.\n",
      "\n",
      "- Use **no more than 50 words** for the complexity analysis.\n",
      "- If any question does not align with the cognitive and analytical abilities of the students,\n",
      "  revise only those questions and adjust the tone to better suit the appropriate difficulty level.\n",
      "\n",
      "Quiz MCQs:\n",
      "```json\n",
      "{\n",
      "  \"1\": {\n",
      "    \"mcq\": \"What is the primary purpose of data science?\",\n",
      "    \"options\": {\n",
      "      \"a\": \"To create programming languages\",\n",
      "      \"b\": \"To extract knowledge and insights from data\",\n",
      "      \"c\": \"To develop hardware solutions\",\n",
      "      \"d\": \"To manage databases\"\n",
      "    },\n",
      "    \"correct_answer\": \"b\"\n",
      "  },\n",
      "  \"2\": {\n",
      "    \"mcq\": \"Which of the following fields does NOT directly contribute to data science?\",\n",
      "    \"options\": {\n",
      "      \"a\": \"Statistics\",\n",
      "      \"b\": \"Philosophy\",\n",
      "      \"c\": \"Computer Science\",\n",
      "      \"d\": \"Information Science\"\n",
      "    },\n",
      "    \"correct_answer\": \"b\"\n",
      "  },\n",
      "  \"3\": {\n",
      "    \"mcq\": \"According to Jim Gray, how is data science characterized in relation to traditional paradigms of science?\",\n",
      "    \"options\": {\n",
      "      \"a\": \"As a purely theoretical field\",\n",
      "      \"b\": \"As the first paradigm of science\",\n",
      "      \"c\": \"As a fourth paradigm that is data-driven\",\n",
      "      \"d\": \"As a subset of empirical science\"\n",
      "    },\n",
      "    \"correct_answer\": \"c\"\n",
      "  },\n",
      "  \"4\": {\n",
      "    \"mcq\": \"Which of the following skills is essential for a data scientist?\",\n",
      "    \"options\": {\n",
      "      \"a\": \"Creative writing\",\n",
      "      \"b\": \"Statistical knowledge\",\n",
      "      \"c\": \"Artistic design\",\n",
      "      \"d\": \"Mechanical engineering\"\n",
      "    },\n",
      "    \"correct_answer\": \"b\"\n",
      "  },\n",
      "  \"5\": {\n",
      "    \"mcq\": \"What role does human-computer interaction play in data science, according to Nathan Yau?\",\n",
      "    \"options\": {\n",
      "      \"a\": \"It is irrelevant to data analysis\",\n",
      "      \"b\": \"It enhances user control and exploration of data\",\n",
      "      \"c\": \"It complicates the data science process\",\n",
      "      \"d\": \"It is only necessary in software development\"\n",
      "    },\n",
      "    \"correct_answer\": \"b\"\n",
      "  }\n",
      "}\n",
      "```\n",
      "\n",
      "Please provide your evaluation and the updated quiz (if needed) from the perspective of an expert English writer:\n",
      "\u001b[0m\n",
      "\n",
      "\u001b[1m> Finished chain.\u001b[0m\n",
      "\n",
      "\u001b[1m> Finished chain.\u001b[0m\n"
     ]
    }
   ],
   "source": [
    "with get_openai_callback() as cb:\n",
    "    response = gen_evaluate_chain(\n",
    "        {\n",
    "            \"text\":TEXT,\n",
    "            \"number\":NUMBER,\n",
    "            \"subject\":SUBJECT,\n",
    "            \"tone\":TONE,\n",
    "            \"response_json\":json.dumps(RESPONSE_JSON)\n",
    "        }\n",
    "    )"
   ]
  },
  {
   "cell_type": "code",
   "execution_count": 27,
   "metadata": {},
   "outputs": [
    {
     "name": "stdout",
     "output_type": "stream",
     "text": [
      "Tokens used: 2101\n",
      "Prompt Tokens: 1151\n",
      "Completion Tokens: 950\n",
      "Total cose: $0.00074265\n"
     ]
    }
   ],
   "source": [
    "print(f\"Tokens used: {cb.total_tokens}\")\n",
    "print(f\"Prompt Tokens: {cb.prompt_tokens}\")\n",
    "print(f\"Completion Tokens: {cb.completion_tokens}\")\n",
    "print(f\"Total cose: ${cb.total_cost}\")"
   ]
  },
  {
   "cell_type": "code",
   "execution_count": 28,
   "metadata": {},
   "outputs": [],
   "source": [
    "quiz_str = response[\"quiz\"].strip(\"`\").replace(\"json\", \"\").strip()"
   ]
  },
  {
   "cell_type": "code",
   "execution_count": 29,
   "metadata": {},
   "outputs": [
    {
     "data": {
      "text/plain": [
       "{'1': {'mcq': 'What is the primary purpose of data science?',\n",
       "  'options': {'a': 'To create programming languages',\n",
       "   'b': 'To extract knowledge and insights from data',\n",
       "   'c': 'To develop hardware solutions',\n",
       "   'd': 'To manage databases'},\n",
       "  'correct_answer': 'b'},\n",
       " '2': {'mcq': 'Which of the following fields does NOT directly contribute to data science?',\n",
       "  'options': {'a': 'Statistics',\n",
       "   'b': 'Philosophy',\n",
       "   'c': 'Computer Science',\n",
       "   'd': 'Information Science'},\n",
       "  'correct_answer': 'b'},\n",
       " '3': {'mcq': 'According to Jim Gray, how is data science characterized in relation to traditional paradigms of science?',\n",
       "  'options': {'a': 'As a purely theoretical field',\n",
       "   'b': 'As the first paradigm of science',\n",
       "   'c': 'As a fourth paradigm that is data-driven',\n",
       "   'd': 'As a subset of empirical science'},\n",
       "  'correct_answer': 'c'},\n",
       " '4': {'mcq': 'Which of the following skills is essential for a data scientist?',\n",
       "  'options': {'a': 'Creative writing',\n",
       "   'b': 'Statistical knowledge',\n",
       "   'c': 'Artistic design',\n",
       "   'd': 'Mechanical engineering'},\n",
       "  'correct_answer': 'b'},\n",
       " '5': {'mcq': 'What role does human-computer interaction play in data science, according to Nathan Yau?',\n",
       "  'options': {'a': 'It is irrelevant to data analysis',\n",
       "   'b': 'It enhances user control and exploration of data',\n",
       "   'c': 'It complicates the data science process',\n",
       "   'd': 'It is only necessary in software development'},\n",
       "  'correct_answer': 'b'}}"
      ]
     },
     "execution_count": 29,
     "metadata": {},
     "output_type": "execute_result"
    }
   ],
   "source": [
    "quiz_dict= json.loads(quiz_str)\n",
    "quiz_dict"
   ]
  },
  {
   "cell_type": "code",
   "execution_count": 30,
   "metadata": {},
   "outputs": [],
   "source": [
    "quiz_table = []\n",
    "for key, value in quiz_dict.items():\n",
    "    mcq = value['mcq']\n",
    "    options = \" || \".join(\n",
    "        [\n",
    "            f\"{option} : {option_value} \"\n",
    "            for option, option_value in value[\"options\"].items()\n",
    "        ]\n",
    "    )\n",
    "    correct_answer = value[\"correct_answer\"]\n",
    "    quiz_table.append({\"MCQ\":mcq, \"Choices\":options, \"Correct_Answer\":correct_answer})"
   ]
  },
  {
   "cell_type": "code",
   "execution_count": 31,
   "metadata": {},
   "outputs": [
    {
     "data": {
      "text/html": [
       "<div>\n",
       "<style scoped>\n",
       "    .dataframe tbody tr th:only-of-type {\n",
       "        vertical-align: middle;\n",
       "    }\n",
       "\n",
       "    .dataframe tbody tr th {\n",
       "        vertical-align: top;\n",
       "    }\n",
       "\n",
       "    .dataframe thead th {\n",
       "        text-align: right;\n",
       "    }\n",
       "</style>\n",
       "<table border=\"1\" class=\"dataframe\">\n",
       "  <thead>\n",
       "    <tr style=\"text-align: right;\">\n",
       "      <th></th>\n",
       "      <th>MCQ</th>\n",
       "      <th>Choices</th>\n",
       "      <th>Correct_Answer</th>\n",
       "    </tr>\n",
       "  </thead>\n",
       "  <tbody>\n",
       "    <tr>\n",
       "      <th>0</th>\n",
       "      <td>What is the primary purpose of data science?</td>\n",
       "      <td>a : To create programming languages  || b : To...</td>\n",
       "      <td>b</td>\n",
       "    </tr>\n",
       "    <tr>\n",
       "      <th>1</th>\n",
       "      <td>Which of the following fields does NOT directl...</td>\n",
       "      <td>a : Statistics  || b : Philosophy  || c : Comp...</td>\n",
       "      <td>b</td>\n",
       "    </tr>\n",
       "    <tr>\n",
       "      <th>2</th>\n",
       "      <td>According to Jim Gray, how is data science cha...</td>\n",
       "      <td>a : As a purely theoretical field  || b : As t...</td>\n",
       "      <td>c</td>\n",
       "    </tr>\n",
       "    <tr>\n",
       "      <th>3</th>\n",
       "      <td>Which of the following skills is essential for...</td>\n",
       "      <td>a : Creative writing  || b : Statistical knowl...</td>\n",
       "      <td>b</td>\n",
       "    </tr>\n",
       "    <tr>\n",
       "      <th>4</th>\n",
       "      <td>What role does human-computer interaction play...</td>\n",
       "      <td>a : It is irrelevant to data analysis  || b : ...</td>\n",
       "      <td>b</td>\n",
       "    </tr>\n",
       "  </tbody>\n",
       "</table>\n",
       "</div>"
      ],
      "text/plain": [
       "                                                 MCQ  \\\n",
       "0       What is the primary purpose of data science?   \n",
       "1  Which of the following fields does NOT directl...   \n",
       "2  According to Jim Gray, how is data science cha...   \n",
       "3  Which of the following skills is essential for...   \n",
       "4  What role does human-computer interaction play...   \n",
       "\n",
       "                                             Choices Correct_Answer  \n",
       "0  a : To create programming languages  || b : To...              b  \n",
       "1  a : Statistics  || b : Philosophy  || c : Comp...              b  \n",
       "2  a : As a purely theoretical field  || b : As t...              c  \n",
       "3  a : Creative writing  || b : Statistical knowl...              b  \n",
       "4  a : It is irrelevant to data analysis  || b : ...              b  "
      ]
     },
     "execution_count": 31,
     "metadata": {},
     "output_type": "execute_result"
    }
   ],
   "source": [
    "df = pd.DataFrame(quiz_table)\n",
    "df"
   ]
  },
  {
   "cell_type": "code",
   "execution_count": 32,
   "metadata": {},
   "outputs": [],
   "source": [
    "df.to_csv(\"data_science.csv\", index=False)"
   ]
  },
  {
   "cell_type": "code",
   "execution_count": null,
   "metadata": {},
   "outputs": [],
   "source": []
  }
 ],
 "metadata": {
  "kernelspec": {
   "display_name": "Python 3",
   "language": "python",
   "name": "python3"
  },
  "language_info": {
   "codemirror_mode": {
    "name": "ipython",
    "version": 3
   },
   "file_extension": ".py",
   "mimetype": "text/x-python",
   "name": "python",
   "nbconvert_exporter": "python",
   "pygments_lexer": "ipython3",
   "version": "3.12.5"
  }
 },
 "nbformat": 4,
 "nbformat_minor": 2
}
