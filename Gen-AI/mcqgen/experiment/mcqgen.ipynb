{
 "cells": [
  {
   "cell_type": "code",
   "execution_count": 59,
   "metadata": {},
   "outputs": [],
   "source": [
    "from dotenv import load_dotenv\n",
    "from langchain import PromptTemplate\n",
    "from langchain.chains import SequentialChain, LLMChain\n",
    "from langchain.callbacks import get_openai_callback\n",
    "from langchain.chat_models import ChatOpenAI\n",
    "import os\n",
    "import json\n",
    "import pandas as pd"
   ]
  },
  {
   "cell_type": "code",
   "execution_count": 60,
   "metadata": {},
   "outputs": [
    {
     "data": {
      "text/plain": [
       "True"
      ]
     },
     "execution_count": 60,
     "metadata": {},
     "output_type": "execute_result"
    }
   ],
   "source": [
    "load_dotenv()"
   ]
  },
  {
   "cell_type": "code",
   "execution_count": 61,
   "metadata": {},
   "outputs": [],
   "source": [
    "OPENAI_API_KEY=os.getenv(\"OPENAI_API_KEY2\")"
   ]
  },
  {
   "cell_type": "code",
   "execution_count": 62,
   "metadata": {},
   "outputs": [],
   "source": [
    "llm = ChatOpenAI(\n",
    "    openai_api_key=OPENAI_API_KEY,\n",
    "    model=\"gpt-4o-mini\",\n",
    "    temperature=0.8,\n",
    ")"
   ]
  },
  {
   "cell_type": "code",
   "execution_count": 63,
   "metadata": {},
   "outputs": [],
   "source": [
    "RESPONSE_JSON={\n",
    "    \"1\":{\n",
    "        \"mcq\":\"multiple question\",\n",
    "        \"options\":{\n",
    "            \"a\":\"choice answer\",\n",
    "            \"b\":\"choice answer\",\n",
    "            \"c\":\"choice answer\",\n",
    "            \"d\":\"choice answer\",\n",
    "        },\n",
    "        \"correct_answer\":\"correct answer\"\n",
    "    }\n",
    "}"
   ]
  },
  {
   "cell_type": "code",
   "execution_count": 64,
   "metadata": {},
   "outputs": [],
   "source": [
    "TEMPLATE=\"\"\" \n",
    "subject={subject}\n",
    "tone={tone}\n",
    "number={number}\n",
    "\n",
    "Instructios:\n",
    "You are to generate a quiz in a {tone} tone based on the subject \"{subject}\".\n",
    "the quiz should contain {number} multiple-choice question.\n",
    "Each question should have:\n",
    "- a clear and concise question text\n",
    "- four option lebeled A, B, C, D\n",
    "- a correct answer key\n",
    "\n",
    "output must be in the following JSON format:\n",
    "{response_json}\n",
    "\n",
    "\"\"\""
   ]
  },
  {
   "cell_type": "code",
   "execution_count": 65,
   "metadata": {},
   "outputs": [],
   "source": [
    "quiz_prompt = PromptTemplate(\n",
    "    input_variables=[\"text\", \"subject\", \"number\", \"tone\", \"response_json\"],\n",
    "    template=TEMPLATE\n",
    ")"
   ]
  },
  {
   "cell_type": "code",
   "execution_count": 66,
   "metadata": {},
   "outputs": [],
   "source": [
    "quiz_chain = LLMChain(\n",
    "    llm=llm,\n",
    "    prompt=quiz_prompt,\n",
    "    output_key=\"quiz\",\n",
    "    verbose=True\n",
    ")"
   ]
  },
  {
   "cell_type": "code",
   "execution_count": 67,
   "metadata": {},
   "outputs": [],
   "source": [
    "TEMPLATE = \"\"\"\n",
    "You are an expert English grammarian and writer. Given a multiple-choice quiz for {subject} students,\n",
    "you need to evaluate the complexity of the questions and provide a complete analysis of the quiz.\n",
    "\n",
    "- Use **no more than 50 words** for the complexity analysis.\n",
    "- If any question does not align with the cognitive and analytical abilities of the students,\n",
    "  revise only those questions and adjust the tone to better suit the appropriate difficulty level.\n",
    "\n",
    "Quiz MCQs:\n",
    "{quiz}\n",
    "\n",
    "Please provide your evaluation and the updated quiz (if needed) from the perspective of an expert English writer:\n",
    "\"\"\"\n"
   ]
  },
  {
   "cell_type": "code",
   "execution_count": 68,
   "metadata": {},
   "outputs": [],
   "source": [
    "quiz_evalution_prompt = PromptTemplate(\n",
    "    input_variables=[\"subject\", \"quiz\"],\n",
    "    template=TEMPLATE,\n",
    ")"
   ]
  },
  {
   "cell_type": "code",
   "execution_count": 69,
   "metadata": {},
   "outputs": [],
   "source": [
    "review_chain = LLMChain(\n",
    "    llm=llm,\n",
    "    prompt=quiz_evalution_prompt,\n",
    "    output_key=\"review\",\n",
    "    verbose=True\n",
    ")"
   ]
  },
  {
   "cell_type": "code",
   "execution_count": 70,
   "metadata": {},
   "outputs": [],
   "source": [
    "gen_evaluate_chain = SequentialChain(\n",
    "    chains=[quiz_chain, review_chain],\n",
    "    input_variables=[\"text\", \"subject\", \"number\", \"tone\", \"response_json\"],\n",
    "    output_variables=[\"quiz\", 'review'],\n",
    "    verbose=True\n",
    ")"
   ]
  },
  {
   "cell_type": "code",
   "execution_count": 71,
   "metadata": {},
   "outputs": [],
   "source": [
    "from pathlib import Path\n",
    "file_path = r'E:\\learning\\Gen-AI\\mcqgen\\data.txt'"
   ]
  },
  {
   "cell_type": "code",
   "execution_count": 72,
   "metadata": {},
   "outputs": [],
   "source": [
    "with open(file_path, 'r') as file:\n",
    "    TEXT = file.read()"
   ]
  },
  {
   "cell_type": "code",
   "execution_count": 73,
   "metadata": {},
   "outputs": [],
   "source": [
    "NUMBER=5\n",
    "SUBJECT=\"Data science\"\n",
    "TONE=\"Hard\""
   ]
  },
  {
   "cell_type": "code",
   "execution_count": 74,
   "metadata": {},
   "outputs": [
    {
     "name": "stdout",
     "output_type": "stream",
     "text": [
      "\n",
      "\n",
      "\u001b[1m> Entering new SequentialChain chain...\u001b[0m\n",
      "\n",
      "\n",
      "\u001b[1m> Entering new LLMChain chain...\u001b[0m\n",
      "Prompt after formatting:\n",
      "\u001b[32;1m\u001b[1;3m \n",
      "subject=Data science\n",
      "tone=Hard\n",
      "number=5\n",
      "\n",
      "Instructios:\n",
      "You are to generate a quiz in a Hard tone based on the subject \"Data science\".\n",
      "the quiz should contain 5 multiple-choice question.\n",
      "Each question should have:\n",
      "- a clear and concise question text\n",
      "- four option lebeled A, B, C, D\n",
      "- a correct answer key\n",
      "\n",
      "output must be in the following JSON format:\n",
      "{\"1\": {\"mcq\": \"multiple question\", \"options\": {\"a\": \"choice answer\", \"b\": \"choice answer\", \"c\": \"choice answer\", \"d\": \"choice answer\"}, \"correct_answer\": \"correct answer\"}}\n",
      "\n",
      "\u001b[0m\n",
      "\n",
      "\u001b[1m> Finished chain.\u001b[0m\n",
      "\n",
      "\n",
      "\u001b[1m> Entering new LLMChain chain...\u001b[0m\n",
      "Prompt after formatting:\n",
      "\u001b[32;1m\u001b[1;3m\n",
      "You are an expert English grammarian and writer. Given a multiple-choice quiz for Data science students,\n",
      "you need to evaluate the complexity of the questions and provide a complete analysis of the quiz.\n",
      "\n",
      "- Use **no more than 50 words** for the complexity analysis.\n",
      "- If any question does not align with the cognitive and analytical abilities of the students,\n",
      "  revise only those questions and adjust the tone to better suit the appropriate difficulty level.\n",
      "\n",
      "Quiz MCQs:\n",
      "```json\n",
      "{\n",
      "  \"1\": {\n",
      "    \"mcq\": \"What is the primary purpose of feature scaling in data preprocessing?\",\n",
      "    \"options\": {\n",
      "      \"a\": \"To increase the number of features\",\n",
      "      \"b\": \"To ensure all features contribute equally to model training\",\n",
      "      \"c\": \"To reduce the dimensionality of the dataset\",\n",
      "      \"d\": \"To eliminate outliers from the dataset\"\n",
      "    },\n",
      "    \"correct_answer\": \"b\"\n",
      "  },\n",
      "  \"2\": {\n",
      "    \"mcq\": \"Which of the following techniques is NOT typically used for regression analysis?\",\n",
      "    \"options\": {\n",
      "      \"a\": \"Linear Regression\",\n",
      "      \"b\": \"Logistic Regression\",\n",
      "      \"c\": \"Ridge Regression\",\n",
      "      \"d\": \"K-Means Clustering\"\n",
      "    },\n",
      "    \"correct_answer\": \"d\"\n",
      "  },\n",
      "  \"3\": {\n",
      "    \"mcq\": \"In a decision tree, what metric is commonly used to determine the best split at each node?\",\n",
      "    \"options\": {\n",
      "      \"a\": \"Mean Squared Error\",\n",
      "      \"b\": \"Entropy\",\n",
      "      \"c\": \"Cosine Similarity\",\n",
      "      \"d\": \"F1 Score\"\n",
      "    },\n",
      "    \"correct_answer\": \"b\"\n",
      "  },\n",
      "  \"4\": {\n",
      "    \"mcq\": \"Which of the following is a key characteristic of overfitting in machine learning models?\",\n",
      "    \"options\": {\n",
      "      \"a\": \"High accuracy on training data and low accuracy on test data\",\n",
      "      \"b\": \"Low variance and low bias\",\n",
      "      \"c\": \"High bias and low variance\",\n",
      "      \"d\": \"Balanced performance across training and test data\"\n",
      "    },\n",
      "    \"correct_answer\": \"a\"\n",
      "  },\n",
      "  \"5\": {\n",
      "    \"mcq\": \"What does the term 'curse of dimensionality' refer to in data science?\",\n",
      "    \"options\": {\n",
      "      \"a\": \"The difficulty of visualizing high-dimensional data\",\n",
      "      \"b\": \"The exponential increase in volume associated with adding more dimensions to a dataset\",\n",
      "      \"c\": \"The ineffectiveness of algorithms in high dimensions\",\n",
      "      \"d\": \"The computational cost of processing large datasets\"\n",
      "    },\n",
      "    \"correct_answer\": \"b\"\n",
      "  }\n",
      "}\n",
      "```\n",
      "\n",
      "Please provide your evaluation and the updated quiz (if needed) from the perspective of an expert English writer:\n",
      "\u001b[0m\n",
      "\n",
      "\u001b[1m> Finished chain.\u001b[0m\n",
      "\n",
      "\u001b[1m> Finished chain.\u001b[0m\n"
     ]
    }
   ],
   "source": [
    "with get_openai_callback() as cb:\n",
    "    response = gen_evaluate_chain(\n",
    "        {\n",
    "            \"text\":TEXT,\n",
    "            \"number\":NUMBER,\n",
    "            \"subject\":SUBJECT,\n",
    "            \"tone\":TONE,\n",
    "            \"response_json\":json.dumps(RESPONSE_JSON)\n",
    "        }\n",
    "    )"
   ]
  },
  {
   "cell_type": "code",
   "execution_count": 75,
   "metadata": {},
   "outputs": [
    {
     "name": "stdout",
     "output_type": "stream",
     "text": [
      "Tokens used: 1755\n",
      "Prompt Tokens: 730\n",
      "Completion Tokens: 1025\n",
      "Total cose: $0.0007245\n"
     ]
    }
   ],
   "source": [
    "print(f\"Tokens used: {cb.total_tokens}\")\n",
    "print(f\"Prompt Tokens: {cb.prompt_tokens}\")\n",
    "print(f\"Completion Tokens: {cb.completion_tokens}\")\n",
    "print(f\"Total cose: ${cb.total_cost}\")"
   ]
  },
  {
   "cell_type": "code",
   "execution_count": 78,
   "metadata": {},
   "outputs": [],
   "source": [
    "quiz_str = response[\"quiz\"].strip(\"`\").replace(\"json\", \"\").strip()"
   ]
  },
  {
   "cell_type": "code",
   "execution_count": 85,
   "metadata": {},
   "outputs": [
    {
     "data": {
      "text/plain": [
       "{'1': {'mcq': 'What is the primary purpose of feature scaling in data preprocessing?',\n",
       "  'options': {'a': 'To increase the number of features',\n",
       "   'b': 'To ensure all features contribute equally to model training',\n",
       "   'c': 'To reduce the dimensionality of the dataset',\n",
       "   'd': 'To eliminate outliers from the dataset'},\n",
       "  'correct_answer': 'b'},\n",
       " '2': {'mcq': 'Which of the following techniques is NOT typically used for regression analysis?',\n",
       "  'options': {'a': 'Linear Regression',\n",
       "   'b': 'Logistic Regression',\n",
       "   'c': 'Ridge Regression',\n",
       "   'd': 'K-Means Clustering'},\n",
       "  'correct_answer': 'd'},\n",
       " '3': {'mcq': 'In a decision tree, what metric is commonly used to determine the best split at each node?',\n",
       "  'options': {'a': 'Mean Squared Error',\n",
       "   'b': 'Entropy',\n",
       "   'c': 'Cosine Similarity',\n",
       "   'd': 'F1 Score'},\n",
       "  'correct_answer': 'b'},\n",
       " '4': {'mcq': 'Which of the following is a key characteristic of overfitting in machine learning models?',\n",
       "  'options': {'a': 'High accuracy on training data and low accuracy on test data',\n",
       "   'b': 'Low variance and low bias',\n",
       "   'c': 'High bias and low variance',\n",
       "   'd': 'Balanced performance across training and test data'},\n",
       "  'correct_answer': 'a'},\n",
       " '5': {'mcq': \"What does the term 'curse of dimensionality' refer to in data science?\",\n",
       "  'options': {'a': 'The difficulty of visualizing high-dimensional data',\n",
       "   'b': 'The exponential increase in volume associated with adding more dimensions to a dataset',\n",
       "   'c': 'The ineffectiveness of algorithms in high dimensions',\n",
       "   'd': 'The computational cost of processing large datasets'},\n",
       "  'correct_answer': 'b'}}"
      ]
     },
     "execution_count": 85,
     "metadata": {},
     "output_type": "execute_result"
    }
   ],
   "source": [
    "quiz_dict= json.loads(quiz_str)\n",
    "quiz_dict"
   ]
  },
  {
   "cell_type": "code",
   "execution_count": 91,
   "metadata": {},
   "outputs": [],
   "source": [
    "quiz_table = []\n",
    "for key, value in quiz_dict.items():\n",
    "    mcq = value['mcq']\n",
    "    options = \" || \".join(\n",
    "        [\n",
    "            f\"{option} : {option_value} \"\n",
    "            for option, option_value in value[\"options\"].items()\n",
    "        ]\n",
    "    )\n",
    "    correct_answer = value[\"correct_answer\"]\n",
    "    quiz_table.append({\"MCQ\":mcq, \"Choices\":options, \"Correct_Answer\":correct_answer})"
   ]
  },
  {
   "cell_type": "code",
   "execution_count": 94,
   "metadata": {},
   "outputs": [
    {
     "data": {
      "text/html": [
       "<div>\n",
       "<style scoped>\n",
       "    .dataframe tbody tr th:only-of-type {\n",
       "        vertical-align: middle;\n",
       "    }\n",
       "\n",
       "    .dataframe tbody tr th {\n",
       "        vertical-align: top;\n",
       "    }\n",
       "\n",
       "    .dataframe thead th {\n",
       "        text-align: right;\n",
       "    }\n",
       "</style>\n",
       "<table border=\"1\" class=\"dataframe\">\n",
       "  <thead>\n",
       "    <tr style=\"text-align: right;\">\n",
       "      <th></th>\n",
       "      <th>MCQ</th>\n",
       "      <th>Choices</th>\n",
       "      <th>Correct_Answer</th>\n",
       "    </tr>\n",
       "  </thead>\n",
       "  <tbody>\n",
       "    <tr>\n",
       "      <th>0</th>\n",
       "      <td>What is the primary purpose of feature scaling...</td>\n",
       "      <td>a : To increase the number of features  || b :...</td>\n",
       "      <td>b</td>\n",
       "    </tr>\n",
       "    <tr>\n",
       "      <th>1</th>\n",
       "      <td>Which of the following techniques is NOT typic...</td>\n",
       "      <td>a : Linear Regression  || b : Logistic Regress...</td>\n",
       "      <td>d</td>\n",
       "    </tr>\n",
       "    <tr>\n",
       "      <th>2</th>\n",
       "      <td>In a decision tree, what metric is commonly us...</td>\n",
       "      <td>a : Mean Squared Error  || b : Entropy  || c :...</td>\n",
       "      <td>b</td>\n",
       "    </tr>\n",
       "    <tr>\n",
       "      <th>3</th>\n",
       "      <td>Which of the following is a key characteristic...</td>\n",
       "      <td>a : High accuracy on training data and low acc...</td>\n",
       "      <td>a</td>\n",
       "    </tr>\n",
       "    <tr>\n",
       "      <th>4</th>\n",
       "      <td>What does the term 'curse of dimensionality' r...</td>\n",
       "      <td>a : The difficulty of visualizing high-dimensi...</td>\n",
       "      <td>b</td>\n",
       "    </tr>\n",
       "  </tbody>\n",
       "</table>\n",
       "</div>"
      ],
      "text/plain": [
       "                                                 MCQ  \\\n",
       "0  What is the primary purpose of feature scaling...   \n",
       "1  Which of the following techniques is NOT typic...   \n",
       "2  In a decision tree, what metric is commonly us...   \n",
       "3  Which of the following is a key characteristic...   \n",
       "4  What does the term 'curse of dimensionality' r...   \n",
       "\n",
       "                                             Choices Correct_Answer  \n",
       "0  a : To increase the number of features  || b :...              b  \n",
       "1  a : Linear Regression  || b : Logistic Regress...              d  \n",
       "2  a : Mean Squared Error  || b : Entropy  || c :...              b  \n",
       "3  a : High accuracy on training data and low acc...              a  \n",
       "4  a : The difficulty of visualizing high-dimensi...              b  "
      ]
     },
     "execution_count": 94,
     "metadata": {},
     "output_type": "execute_result"
    }
   ],
   "source": [
    "df = pd.DataFrame(quiz_table)\n",
    "df"
   ]
  },
  {
   "cell_type": "code",
   "execution_count": 95,
   "metadata": {},
   "outputs": [],
   "source": [
    "df.to_csv(\"data_science.csv\", index=False)"
   ]
  },
  {
   "cell_type": "code",
   "execution_count": null,
   "metadata": {},
   "outputs": [],
   "source": []
  }
 ],
 "metadata": {
  "kernelspec": {
   "display_name": "Python 3",
   "language": "python",
   "name": "python3"
  },
  "language_info": {
   "codemirror_mode": {
    "name": "ipython",
    "version": 3
   },
   "file_extension": ".py",
   "mimetype": "text/x-python",
   "name": "python",
   "nbconvert_exporter": "python",
   "pygments_lexer": "ipython3",
   "version": "3.12.5"
  }
 },
 "nbformat": 4,
 "nbformat_minor": 2
}
