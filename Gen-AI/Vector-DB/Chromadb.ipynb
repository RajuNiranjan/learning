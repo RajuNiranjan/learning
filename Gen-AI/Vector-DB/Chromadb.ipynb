{
 "cells": [
  {
   "cell_type": "markdown",
   "metadata": {},
   "source": [
    "# CHROMA DATABASE\n"
   ]
  },
  {
   "cell_type": "code",
   "execution_count": 155,
   "metadata": {},
   "outputs": [],
   "source": [
    "from langchain.document_loaders import PyPDFLoader, PyPDFDirectoryLoader\n",
    "from langchain_text_splitters import RecursiveCharacterTextSplitter\n",
    "from langchain_chroma import Chroma\n",
    "from langchain_openai import OpenAI, OpenAIEmbeddings\n",
    "from langchain.chains import RetrievalQA\n",
    "import os"
   ]
  },
  {
   "cell_type": "code",
   "execution_count": 156,
   "metadata": {},
   "outputs": [],
   "source": [
    "OPENAI_API_KEY=os.getenv(\"OPENAI_API_KEY\")"
   ]
  },
  {
   "cell_type": "code",
   "execution_count": 157,
   "metadata": {},
   "outputs": [],
   "source": [
    "# doc_loader=PyPDFLoader(\"pdfs/JS.pdf\")\n",
    "doc_loader=PyPDFDirectoryLoader(\"pdfs\")\n",
    "doc_data=doc_loader.load()"
   ]
  },
  {
   "cell_type": "code",
   "execution_count": 158,
   "metadata": {},
   "outputs": [],
   "source": [
    "text_splitter=RecursiveCharacterTextSplitter(\n",
    "    chunk_size=1000,\n",
    "    chunk_overlap=100\n",
    ")\n",
    "text_chunk=text_splitter.split_documents(doc_data)"
   ]
  },
  {
   "cell_type": "code",
   "execution_count": 159,
   "metadata": {},
   "outputs": [],
   "source": [
    "llm=OpenAI(\n",
    "    temperature=0.7,\n",
    "    openai_api_key=OPENAI_API_KEY\n",
    ")\n",
    "embeddings=OpenAIEmbeddings()"
   ]
  },
  {
   "cell_type": "code",
   "execution_count": 160,
   "metadata": {},
   "outputs": [],
   "source": [
    "persist_directory='./chromedb'"
   ]
  },
  {
   "cell_type": "code",
   "execution_count": 161,
   "metadata": {},
   "outputs": [],
   "source": [
    "vectordb=Chroma.from_documents(\n",
    "    documents=text_chunk,\n",
    "    embedding=embeddings,\n",
    "    persist_directory=persist_directory\n",
    ")"
   ]
  },
  {
   "cell_type": "code",
   "execution_count": 162,
   "metadata": {},
   "outputs": [],
   "source": [
    "retriever  = vectordb.as_retriever(search_kwargs={\"k\": 4})"
   ]
  },
  {
   "cell_type": "code",
   "execution_count": 163,
   "metadata": {},
   "outputs": [],
   "source": [
    "qa=RetrievalQA.from_chain_type(\n",
    "    llm=llm,\n",
    "    chain_type='stuff',\n",
    "    retriever=retriever \n",
    ")"
   ]
  },
  {
   "cell_type": "code",
   "execution_count": 164,
   "metadata": {},
   "outputs": [
    {
     "name": "stdout",
     "output_type": "stream",
     "text": [
      "=== Q&A System ===\n",
      "Type 'exit' to quit\n",
      "\n",
      "\n",
      "Q: what is python?\n",
      "A:  Python is a widely used general-purpose, high level programming language that was created by Guido van Rossum in 1991 and further developed by the Python Software Foundation. It was designed with an emphasis on code readability and its syntax allows programmers to express their concepts in fewer lines of code. It is available and can run on various operating systems, making it a cross-platform and portable language. It is also an open source programming language with a large standard library and is free to download and use. Some features of Python include being simple and easy to learn, supporting exception handling, and having advanced features like generators and list comprehensions. However, it also has limitations in terms of performance and may not be suitable for mobile applications. There are also different \"flavors\" of Python, such as Cpython and Jython, that have slight variations in their implementation.\n",
      "----------------------------------------\n",
      "\n",
      "\n",
      "Q: what is the difference between python and JavaScript?\n",
      "A:  The main difference between Python and JavaScript is that Python is a high-level, general-purpose programming language, while JavaScript is a scripting language used for web development and adding interactivity to web pages. Python is also a more complex language, while JavaScript has a simpler syntax that allows HTML designers to easily incorporate it into their web pages. Additionally, Python requires a license to use, while JavaScript is free for anyone to use without purchasing a license.\n",
      "----------------------------------------\n",
      "\n",
      "EXITING....\n"
     ]
    },
    {
     "ename": "SystemExit",
     "evalue": "",
     "output_type": "error",
     "traceback": [
      "An exception has occurred, use %tb to see the full traceback.\n",
      "\u001b[1;31mSystemExit\u001b[0m\n"
     ]
    },
    {
     "name": "stderr",
     "output_type": "stream",
     "text": [
      "C:\\Users\\rajun\\AppData\\Roaming\\Python\\Python312\\site-packages\\IPython\\core\\interactiveshell.py:3585: UserWarning: To exit: use 'exit', 'quit', or Ctrl-D.\n",
      "  warn(\"To exit: use 'exit', 'quit', or Ctrl-D.\", stacklevel=1)\n"
     ]
    }
   ],
   "source": [
    "import sys\n",
    "\n",
    "print(\"=== Q&A System ===\")\n",
    "print(\"Type 'exit' to quit\\n\")\n",
    "\n",
    "while True:\n",
    "    try:\n",
    "        user_input = input(\"Enter Query: \").strip()\n",
    "        \n",
    "        if user_input.lower() in [\"exit\", \"quit\"]:\n",
    "            print(\"EXITING....\")\n",
    "            sys.exit()\n",
    "        \n",
    "        # Skip empty input\n",
    "        if not user_input:\n",
    "            continue\n",
    "            \n",
    "        # Process query\n",
    "        result = qa({\"query\": user_input})\n",
    "        print(f\"\\nQ: {user_input}\")\n",
    "        print(f\"A: {result['result']}\")\n",
    "        print(\"-\" * 40 + \"\\n\")\n",
    "        \n",
    "    except KeyboardInterrupt:\n",
    "        print(\"\\nExiting...\")\n",
    "        sys.exit()\n",
    "    except Exception as e:\n",
    "        print(f\"Error: {e}\\n\")"
   ]
  },
  {
   "cell_type": "code",
   "execution_count": null,
   "metadata": {},
   "outputs": [],
   "source": []
  }
 ],
 "metadata": {
  "kernelspec": {
   "display_name": "Python 3",
   "language": "python",
   "name": "python3"
  },
  "language_info": {
   "codemirror_mode": {
    "name": "ipython",
    "version": 3
   },
   "file_extension": ".py",
   "mimetype": "text/x-python",
   "name": "python",
   "nbconvert_exporter": "python",
   "pygments_lexer": "ipython3",
   "version": "3.12.5"
  }
 },
 "nbformat": 4,
 "nbformat_minor": 2
}
