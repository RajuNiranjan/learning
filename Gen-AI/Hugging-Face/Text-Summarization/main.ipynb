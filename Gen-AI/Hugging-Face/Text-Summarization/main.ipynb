{
 "cells": [
  {
   "cell_type": "code",
   "execution_count": 1,
   "id": "2bfe7436",
   "metadata": {},
   "outputs": [],
   "source": [
    "from langchain_huggingface import HuggingFacePipeline\n",
    "from transformers import pipeline"
   ]
  },
  {
   "cell_type": "code",
   "execution_count": 2,
   "id": "2cf9e1f5",
   "metadata": {},
   "outputs": [],
   "source": [
    "summarization_model_path='../MODELS/Text-Summerization/facebook_bart-large-cnn'"
   ]
  },
  {
   "cell_type": "code",
   "execution_count": 3,
   "id": "cfc645ed",
   "metadata": {},
   "outputs": [
    {
     "name": "stderr",
     "output_type": "stream",
     "text": [
      "Device set to use cpu\n"
     ]
    }
   ],
   "source": [
    "pipeline=pipeline(\n",
    "    'summarization',\n",
    "    model=summarization_model_path\n",
    ")"
   ]
  },
  {
   "cell_type": "code",
   "execution_count": 4,
   "id": "ef4b3db5",
   "metadata": {},
   "outputs": [],
   "source": [
    "llm=HuggingFacePipeline(\n",
    "    pipeline=pipeline\n",
    ")"
   ]
  },
  {
   "cell_type": "code",
   "execution_count": 5,
   "id": "4f8c1fd9",
   "metadata": {},
   "outputs": [],
   "source": [
    "text = \"\"\"\n",
    "LangChain is a framework for developing applications powered by language models. \n",
    "It enables applications that are context-aware, reason over documents, \n",
    "and chain together multiple LLM calls. LangChain has integrations with OpenAI, \n",
    "HuggingFace, Cohere, and other model providers.\n",
    "\"\"\""
   ]
  },
  {
   "cell_type": "code",
   "execution_count": 8,
   "id": "97ca2a55",
   "metadata": {},
   "outputs": [],
   "source": [
    "pdf_file_path='../Documents/JS.pdf'"
   ]
  },
  {
   "cell_type": "code",
   "execution_count": 9,
   "id": "08f8714a",
   "metadata": {},
   "outputs": [],
   "source": [
    "from langchain_community.document_loaders import PyPDFLoader"
   ]
  },
  {
   "cell_type": "code",
   "execution_count": 10,
   "id": "c9639433",
   "metadata": {},
   "outputs": [],
   "source": [
    "def load_pdf(pdf):\n",
    "    loader=PyPDFLoader(pdf)\n",
    "    pages=loader.load()\n",
    "    return \" \".join([p.page_content for p in pages])"
   ]
  },
  {
   "cell_type": "code",
   "execution_count": 11,
   "id": "b06519f7",
   "metadata": {},
   "outputs": [],
   "source": [
    "pdf_text=load_pdf(pdf_file_path)"
   ]
  },
  {
   "cell_type": "code",
   "execution_count": null,
   "id": "ed8e4509",
   "metadata": {},
   "outputs": [],
   "source": []
  }
 ],
 "metadata": {
  "kernelspec": {
   "display_name": "Python 3",
   "language": "python",
   "name": "python3"
  },
  "language_info": {
   "codemirror_mode": {
    "name": "ipython",
    "version": 3
   },
   "file_extension": ".py",
   "mimetype": "text/x-python",
   "name": "python",
   "nbconvert_exporter": "python",
   "pygments_lexer": "ipython3",
   "version": "3.12.5"
  }
 },
 "nbformat": 4,
 "nbformat_minor": 5
}
