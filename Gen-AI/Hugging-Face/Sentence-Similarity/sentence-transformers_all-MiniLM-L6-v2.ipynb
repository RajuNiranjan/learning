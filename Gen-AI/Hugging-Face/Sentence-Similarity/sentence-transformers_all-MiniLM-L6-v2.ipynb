{
 "cells": [
  {
   "cell_type": "markdown",
   "id": "f6853496",
   "metadata": {},
   "source": [
    "# sentence-transformers/all-MiniLM-L6-v2\n"
   ]
  },
  {
   "cell_type": "markdown",
   "id": "4a323b1a",
   "metadata": {},
   "source": [
    "# sentence-transformers/all-MiniLM-L6-v2\n"
   ]
  },
  {
   "cell_type": "code",
   "execution_count": 1,
   "id": "b4deda76",
   "metadata": {},
   "outputs": [],
   "source": [
    "model_path=\"../MODELS/Sentence-Similarity/sentence-transformers_all-MiniLM-L6-v2\""
   ]
  },
  {
   "cell_type": "code",
   "execution_count": 16,
   "id": "cca75642",
   "metadata": {},
   "outputs": [],
   "source": [
    "from sentence_transformers import SentenceTransformer "
   ]
  },
  {
   "cell_type": "code",
   "execution_count": 17,
   "id": "53286a2d",
   "metadata": {},
   "outputs": [],
   "source": [
    "sentence = [\"This is an Example Sentence\", \"Each sentence is converted\"]"
   ]
  },
  {
   "cell_type": "code",
   "execution_count": 18,
   "id": "aa463451",
   "metadata": {},
   "outputs": [],
   "source": [
    "model=SentenceTransformer(model_path)"
   ]
  },
  {
   "cell_type": "code",
   "execution_count": 19,
   "id": "14cd533a",
   "metadata": {},
   "outputs": [],
   "source": [
    "embeddings=model.encode(sentence)"
   ]
  },
  {
   "cell_type": "code",
   "execution_count": null,
   "id": "4e13c4e8",
   "metadata": {},
   "outputs": [],
   "source": [
    "embeddings"
   ]
  },
  {
   "cell_type": "code",
   "execution_count": null,
   "id": "49b32c65",
   "metadata": {},
   "outputs": [],
   "source": []
  }
 ],
 "metadata": {
  "kernelspec": {
   "display_name": "Python 3",
   "language": "python",
   "name": "python3"
  },
  "language_info": {
   "codemirror_mode": {
    "name": "ipython",
    "version": 3
   },
   "file_extension": ".py",
   "mimetype": "text/x-python",
   "name": "python",
   "nbconvert_exporter": "python",
   "pygments_lexer": "ipython3",
   "version": "3.12.5"
  }
 },
 "nbformat": 4,
 "nbformat_minor": 5
}
