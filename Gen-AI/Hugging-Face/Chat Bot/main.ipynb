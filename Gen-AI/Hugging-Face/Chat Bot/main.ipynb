{
 "cells": [
  {
   "cell_type": "code",
   "execution_count": 1,
   "id": "fcd6825b",
   "metadata": {},
   "outputs": [],
   "source": [
    "model_path='../MODELS/Others/Qwen_Qwen1.5-1.8B-Chat'"
   ]
  },
  {
   "cell_type": "code",
   "execution_count": 10,
   "id": "b5272f9b",
   "metadata": {},
   "outputs": [],
   "source": [
    "from langchain_huggingface import HuggingFacePipeline\n",
    "from langchain.chains import ConversationChain\n",
    "from langchain.memory import ConversationBufferMemory\n",
    "from transformers import pipeline"
   ]
  },
  {
   "cell_type": "code",
   "execution_count": 11,
   "id": "b18d17e6",
   "metadata": {},
   "outputs": [
    {
     "name": "stderr",
     "output_type": "stream",
     "text": [
      "Device set to use cpu\n"
     ]
    }
   ],
   "source": [
    "pipe=pipeline(\n",
    "    \"text-generation\",\n",
    "    model=model_path,\n",
    "    max_new_tokens=200\n",
    ")"
   ]
  },
  {
   "cell_type": "code",
   "execution_count": 13,
   "id": "c473658c",
   "metadata": {},
   "outputs": [],
   "source": [
    "llm=HuggingFacePipeline(pipeline=pipe)"
   ]
  },
  {
   "cell_type": "code",
   "execution_count": 14,
   "id": "1be3ca87",
   "metadata": {},
   "outputs": [],
   "source": [
    "memory=ConversationBufferMemory()"
   ]
  },
  {
   "cell_type": "code",
   "execution_count": null,
   "id": "7994f729",
   "metadata": {},
   "outputs": [
    {
     "name": "stderr",
     "output_type": "stream",
     "text": [
      "C:\\Users\\rajun\\AppData\\Local\\Temp\\ipykernel_25716\\2160584561.py:1: LangChainDeprecationWarning: The class `ConversationChain` was deprecated in LangChain 0.2.7 and will be removed in 1.0. Use :class:`~langchain_core.runnables.history.RunnableWithMessageHistory` instead.\n",
      "  chatbot=ConversationChain(\n"
     ]
    }
   ],
   "source": [
    "chatbot=ConversationChain(\n",
    "    llm=llm,\n",
    "    memory=memory,\n",
    "    verbose=False\n",
    ")"
   ]
  },
  {
   "cell_type": "code",
   "execution_count": null,
   "id": "dedd357b",
   "metadata": {},
   "outputs": [],
   "source": [
    "while True:\n",
    "    user_input=input(\"You: \")\n",
    "    if user_input.lower() in [\"exit\", 'quit']:\n",
    "        print(\"Good bye!!\")\n",
    "        break\n",
    "    res=chatbot.invoke(user_input)\n",
    "    print(f\"Bot: {res} \\n \")"
   ]
  },
  {
   "cell_type": "code",
   "execution_count": 17,
   "id": "7efb22f0",
   "metadata": {},
   "outputs": [],
   "source": [
    "from transformers import AutoTokenizer, AutoModelForCausalLM, pipeline\n",
    "from langchain_huggingface import HuggingFacePipeline\n",
    "from langchain.memory import ConversationBufferMemory\n",
    "from langchain.chains import ConversationChain"
   ]
  },
  {
   "cell_type": "code",
   "execution_count": 18,
   "id": "369065d2",
   "metadata": {},
   "outputs": [],
   "source": [
    "model=AutoModelForCausalLM.from_pretrained(\n",
    "    model_path, trust_remote_code=True\n",
    ")\n",
    "tokenizer=AutoTokenizer.from_pretrained(\n",
    "    model_path,\n",
    "    trust_remote_code=True\n",
    ")"
   ]
  },
  {
   "cell_type": "code",
   "execution_count": 19,
   "id": "d554b7c3",
   "metadata": {},
   "outputs": [],
   "source": [
    "def build_chat_prompt(history, user_message):\n",
    "    prompt = \"<|im_start|>system\\nYou are a helpful assistant.<|im_end|>\\n\"\n",
    "    for i, turn in enumerate(history):\n",
    "        prompt += f\"<|im_start|>user\\n{turn['user']}<|im_end|>\\n\"\n",
    "        prompt += f\"<|im_start|>assistant\\n{turn['bot']}<|im_end|>\\n\"\n",
    "    prompt += f\"<|im_start|>user\\n{user_message}<|im_end|>\\n<|im_start|>assistant\\n\"\n",
    "    return prompt"
   ]
  },
  {
   "cell_type": "code",
   "execution_count": 20,
   "id": "b1988b25",
   "metadata": {},
   "outputs": [
    {
     "name": "stderr",
     "output_type": "stream",
     "text": [
      "Device set to use cpu\n"
     ]
    }
   ],
   "source": [
    "hf_pipeline = pipeline(\n",
    "    \"text-generation\",\n",
    "    model=model,\n",
    "    tokenizer=tokenizer,\n",
    "    max_new_tokens=512,\n",
    "    return_full_text=False,\n",
    ")"
   ]
  },
  {
   "cell_type": "code",
   "execution_count": 21,
   "id": "cacc7547",
   "metadata": {},
   "outputs": [],
   "source": [
    "llm = HuggingFacePipeline(pipeline=hf_pipeline)\n"
   ]
  },
  {
   "cell_type": "code",
   "execution_count": 22,
   "id": "58fe6671",
   "metadata": {},
   "outputs": [],
   "source": [
    "chat_history = []"
   ]
  },
  {
   "cell_type": "code",
   "execution_count": null,
   "id": "d88e20bc",
   "metadata": {},
   "outputs": [],
   "source": [
    "print(\"🤖 Qwen Chatbot is ready! Type 'exit' to quit.\\n\")\n",
    "while True:\n",
    "    user_input = input(\"You: \")\n",
    "    if user_input.lower() == \"exit\":\n",
    "        print(\"👋 Exiting.\")\n",
    "        break\n",
    "\n",
    "    # Build prompt\n",
    "    prompt = build_chat_prompt(chat_history, user_input)\n",
    "    response = llm.invoke(prompt)\n",
    "\n",
    "    # Clean and display\n",
    "    response = response.strip().split(\"<|im_end|>\")[0].strip()\n",
    "    print(\"Bot:\", response, \"\\n\")\n",
    "\n",
    "    # Store history\n",
    "    chat_history.append({\"user\": user_input, \"bot\": response})"
   ]
  },
  {
   "cell_type": "code",
   "execution_count": null,
   "id": "d09467e9",
   "metadata": {},
   "outputs": [
    {
     "data": {
      "text/plain": [
       "[{'user': 'What is 3 + 2',\n",
       "  'bot': '3 + 2 = 5\\n\\nTherefore, the sum of 3 and 2 is 5.'},\n",
       " {'user': 'What is JavaScript',\n",
       "  'bot': 'JavaScript is a programming language that is primarily used for building dynamic web applications, but it can also be used to create server-side code and other types of software. It was first developed by Brendan Eich in 1995 while he worked at Netscape Communications Corporation.\\n\\nHere\\'s an overview of some key features of JavaScript:\\n\\n1. Variables: JavaScript supports variables, which allow you to store data within your code. You can declare a variable using the `var`, `let`, or `const` keyword followed by the variable name and a type (e.g., `var x;` declares a variable named `x` with a type of `number`). For example:\\n```javascript\\nvar x = 5;\\n```\\n\\n2. Data Types: JavaScript has several built-in data types, including numbers (`Number`), strings (`String`), booleans (`Boolean`), arrays (`Array`), objects (`Object`), and null/undefined (`null` or `undefined`).\\n\\n- Numbers: JavaScript numbers can be represented as floating-point values or integers. For example:\\n```javascript\\nconsole.log(5); // Output: 5\\nconsole.log(-5); // Output: -5\\nconsole.log(true); // Output: true\\nconsole.log(false); // Output: false\\nconsole.log([1, 2, 3]); // Output: [1, 2, 3]\\nconsole.log({ name: \"John\", age: 30 }); // Output: { name: \"John\", age: 30 }\\n```\\n\\n3. Functions: Functions are reusable blocks of code that perform a specific task. They can take arguments, return values, and have their own scope. Here\\'s an example of a simple function in JavaScript:\\n```javascript\\nfunction addNumbers(a, b) {\\n  return a + b;\\n}\\n\\nconsole.log(addNumbers(3, 4)); // Output: 7\\n```\\n\\n4. Objects: Objects are collections of properties and methods that share common values. You can create an object using curly braces `{}` and assign properties to it using dot notation (e.g., `myObject.name = \"John\";`) or bracket notation (e.g., `myObject[\"name\"] = \"John\";`). Additionally, you can define methods on an object using the `Symbol()` constructor to create custom symbols and access them using dot notation.\\n```javascript\\nconst myObject = {\\n  name: \"John\",\\n  age: 30,\\n  sayHello: function() {\\n    console'},\n",
       " {'user': 'what is 4 * 4',\n",
       "  'bot': 'The expression `4 * 4` evaluates to 16.\\n\\nIn JavaScript, multiplication is performed using the `*` operator, so `4 * 4` means multiplying the value of `4` by itself four times. When you multiply two numbers together, each number multiplies its corresponding component, and the result is stored in the resulting array or object.\\n\\nFor example, when you multiply `4` by itself four times, the result would be `[4, 4, 4, 4]`. The `*` operator works element-wise, meaning it performs the operation on each individual element of the input array or object.\\n\\nSo, in this case, `4 * 4` equals `4 * 4 * 4 * 4`, which results in the value `16`.'},\n",
       " {'user': 'what is Hoisting?',\n",
       "  'bot': 'Hoisting is a behavior in JavaScript where variable declarations and function declarations are moved to the top of their respective scopes during the compilation phase, before the code is executed. This means that even if a variable or function is declared later in the code, it will be available to use in the current scope.\\n\\nWhen a variable or function is declared before it is defined, its value is hoisted to the global scope or the nearest enclosing block. This allows the declaration to be evaluated without creating an actual reference to the variable or function in memory, allowing the code to proceed with other statements.\\n\\nHowever, only certain types of variable and function declarations are hoisted. In general, the following types of declarations are hoisted:\\n\\n1. Variable declarations: `var`, `let`, and `const` are all hoisted, regardless of their location in the code. These keywords define new variables in the global scope or in the nearest enclosing block.\\n\\nExample:\\n```javascript\\nvar x = 5;\\nlet y = 10;\\nconst z = 15;\\n```\\n2. Function declarations: `function` is hoisted, meaning that you can call a function before it is defined in the code. However, the function body must be provided after the function definition.\\n\\nExample:\\n```javascript\\nfunction greet(name) {\\n  console.log(\"Hello, \" + name);\\n}\\ngreet(\"World\"); // Output: Hello, World\\n```\\n3. Global variables: Global variables are not hoisted because they are shared between all functions in the program. If a global variable is defined before any function in the code, its value remains unchanged throughout the execution of the script.\\n\\nExample:\\n```javascript\\nvar x = 5;\\nconsole.log(x); // Output: 5\\ngreet(); // Output: ReferenceError: greet is not defined\\n```\\nIt\\'s important to note that hoisting does not affect the order in which variables and functions are executed in a program. It simply moves the declaration and evaluation of these elements to the top of their respective scopes, making it possible to write more efficient and readable code by avoiding redundant assignments and function calls.\\n\\nIn summary, hoisting in JavaScript allows variable and function declarations to be moved to the top of their scopes during compilation, providing a way to declare and use variables and functions without having to explicitly define them at runtime. However, it\\'s crucial to understand when and how hoisting occurs, as it can lead to unexpected behavior in your code.'}]"
      ]
     },
     "execution_count": 24,
     "metadata": {},
     "output_type": "execute_result"
    }
   ],
   "source": []
  },
  {
   "cell_type": "code",
   "execution_count": null,
   "id": "9a0b6f32",
   "metadata": {},
   "outputs": [],
   "source": []
  }
 ],
 "metadata": {
  "kernelspec": {
   "display_name": "Python 3",
   "language": "python",
   "name": "python3"
  },
  "language_info": {
   "codemirror_mode": {
    "name": "ipython",
    "version": 3
   },
   "file_extension": ".py",
   "mimetype": "text/x-python",
   "name": "python",
   "nbconvert_exporter": "python",
   "pygments_lexer": "ipython3",
   "version": "3.12.5"
  }
 },
 "nbformat": 4,
 "nbformat_minor": 5
}
