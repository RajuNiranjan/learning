{
 "cells": [
  {
   "cell_type": "code",
   "execution_count": 3,
   "id": "b2c46865",
   "metadata": {},
   "outputs": [],
   "source": [
    "from langchain_community.document_loaders import PyPDFLoader\n",
    "from langchain_text_splitters import RecursiveCharacterTextSplitter"
   ]
  },
  {
   "cell_type": "code",
   "execution_count": 2,
   "id": "42a0bcab",
   "metadata": {},
   "outputs": [],
   "source": [
    "resume_path='../Documents/resume_shakila_shaik.pdf'"
   ]
  },
  {
   "cell_type": "code",
   "execution_count": 4,
   "id": "16173dfa",
   "metadata": {},
   "outputs": [],
   "source": [
    "def load_pdf_text(pdf):\n",
    "    loader=PyPDFLoader(pdf)\n",
    "    pages=loader.load()\n",
    "    return \" \".join([p.page_content for p in pages])"
   ]
  },
  {
   "cell_type": "code",
   "execution_count": 9,
   "id": "0f8a78c1",
   "metadata": {},
   "outputs": [],
   "source": [
    "resume_text=load_pdf_text(resume_path)"
   ]
  },
  {
   "cell_type": "code",
   "execution_count": 10,
   "id": "733be4d2",
   "metadata": {},
   "outputs": [],
   "source": [
    "def pdf_chunks(text):\n",
    "    splitter=RecursiveCharacterTextSplitter(\n",
    "        chunk_size=500,\n",
    "        chunk_overlap=50\n",
    "    )\n",
    "    return splitter.split_text(text)"
   ]
  },
  {
   "cell_type": "code",
   "execution_count": 11,
   "id": "99d7f765",
   "metadata": {},
   "outputs": [],
   "source": [
    "resume_chunks=pdf_chunks(resume_text)"
   ]
  },
  {
   "cell_type": "code",
   "execution_count": 20,
   "id": "2aeb350d",
   "metadata": {},
   "outputs": [],
   "source": [
    "text_gen_model_path='../MODELS/Sentence-Similarity/sentence-transformers_all-MiniLM-L6-v2/'"
   ]
  },
  {
   "cell_type": "code",
   "execution_count": 28,
   "id": "2de0c1ff",
   "metadata": {},
   "outputs": [],
   "source": [
    "from langchain_huggingface import HuggingFaceEmbeddings\n",
    "from sentence_transformers import SentenceTransformer"
   ]
  },
  {
   "cell_type": "code",
   "execution_count": 26,
   "id": "24e56e38",
   "metadata": {},
   "outputs": [],
   "source": [
    "embedding_model_path='../MODELS/Sentence-Similarity/sentence-transformers_all-MiniLM-L6-v2'"
   ]
  },
  {
   "cell_type": "code",
   "execution_count": 29,
   "id": "97e43d2e",
   "metadata": {},
   "outputs": [],
   "source": [
    "model=SentenceTransformer(embedding_model_path)"
   ]
  },
  {
   "cell_type": "code",
   "execution_count": 30,
   "id": "8e565167",
   "metadata": {},
   "outputs": [],
   "source": [
    "resume_embeddings=model.encode(resume_text)"
   ]
  },
  {
   "cell_type": "code",
   "execution_count": 32,
   "id": "37a884df",
   "metadata": {},
   "outputs": [],
   "source": [
    "\n",
    "jd_text=\"\"\"\n",
    "Job Title: Full Stack Developer\n",
    "\n",
    "Location: Hyderabad\n",
    "Position Type: Full-Time (Work from Office Only)\n",
    "Experience: 1 to 2  Years\n",
    "\n",
    "Role Overview:\n",
    "We are looking for a proactive and skilled Full Stack Developer with 8 to 18 months of experience to join our engineering team. This role is perfect for developers who are excited to work across the stack, contribute to building scalable systems, and experiment with AI and automation technologies.\n",
    "\n",
    "Key Responsibilities:\n",
    "\n",
    "Develop and maintain scalable web applications using React.js and Node.js\n",
    "Write clean, maintainable code with a focus on performance and security\n",
    "Support integration of Python-based AI/ML modules (bonus)\n",
    "Required Skills & Qualifications:\n",
    "\n",
    "Strong foundation in JavaScript/TypeScript for both frontend and backend\n",
    "Experience with React.js and Node.js\n",
    "Familiarity with relational and NoSQL databases (e.g., PostgreSQL, DynamoDB)\n",
    "Understanding of cloud services and serverless architecture (AWS Lambda, Kinesis)\n",
    "Basic exposure to Python for automation or ML is a plus\n",
    "A growth mindset, team player attitude, and willingness to learn new technologies\n",
    "Good to Have\n",
    "\n",
    "Exposure to CI/CD workflows\n",
    "Knowledge of RESTful API design and microservices\n",
    "Understanding of basic AI/ML concepts or pipelines\n",
    "\"\"\""
   ]
  },
  {
   "cell_type": "code",
   "execution_count": 33,
   "id": "7658c3a7",
   "metadata": {},
   "outputs": [],
   "source": [
    "jd_embeddings=model.encode(jd_text)"
   ]
  },
  {
   "cell_type": "code",
   "execution_count": 35,
   "id": "526e0c63",
   "metadata": {},
   "outputs": [],
   "source": [
    "import numpy as np"
   ]
  },
  {
   "cell_type": "code",
   "execution_count": 37,
   "id": "e0ad370d",
   "metadata": {},
   "outputs": [
    {
     "name": "stdout",
     "output_type": "stream",
     "text": [
      "Similarity Score: 51.83\n"
     ]
    }
   ],
   "source": [
    "def cosine_similarity(a, b):\n",
    "    return np.dot(a, b) / (np.linalg.norm(a) * np.linalg.norm(b)) * 100\n",
    "\n",
    "score = cosine_similarity(resume_embeddings, jd_embeddings)\n",
    "print(f\"Similarity Score: {score:.2f}\")"
   ]
  },
  {
   "cell_type": "code",
   "execution_count": 38,
   "id": "e9a5949a",
   "metadata": {},
   "outputs": [
    {
     "name": "stderr",
     "output_type": "stream",
     "text": [
      "Device set to use cpu\n",
      "C:\\Users\\rajun\\AppData\\Local\\Temp\\ipykernel_2776\\83782184.py:9: LangChainDeprecationWarning: The class `HuggingFacePipeline` was deprecated in LangChain 0.0.37 and will be removed in 1.0. An updated version of the class exists in the :class:`~langchain-huggingface package and should be used instead. To use it run `pip install -U :class:`~langchain-huggingface` and import as `from :class:`~langchain_huggingface import HuggingFacePipeline``.\n",
      "  llm = HuggingFacePipeline(pipeline=pipe)\n"
     ]
    }
   ],
   "source": [
    "from langchain.llms import HuggingFacePipeline\n",
    "from transformers import AutoTokenizer, pipeline, AutoModelForCausalLM\n",
    "\n",
    "model_id = '../MODELS/Text-Generation/Qwen_Qwen2.5-1.5B-Instruct'\n",
    "tokenizer = AutoTokenizer.from_pretrained(model_id)\n",
    "model = AutoModelForCausalLM.from_pretrained(model_id)\n",
    "pipe = pipeline(\"text-generation\", model=model, tokenizer=tokenizer)\n",
    "\n",
    "llm = HuggingFacePipeline(pipeline=pipe)\n"
   ]
  },
  {
   "cell_type": "code",
   "execution_count": null,
   "id": "0980a99d",
   "metadata": {},
   "outputs": [
    {
     "name": "stderr",
     "output_type": "stream",
     "text": [
      "C:\\Users\\rajun\\AppData\\Local\\Temp\\ipykernel_2776\\3770364163.py:18: LangChainDeprecationWarning: The class `LLMChain` was deprecated in LangChain 0.1.17 and will be removed in 1.0. Use :meth:`~RunnableSequence, e.g., `prompt | llm`` instead.\n",
      "  chain = LLMChain(llm=llm, prompt=prompt)\n",
      "C:\\Users\\rajun\\AppData\\Local\\Temp\\ipykernel_2776\\3770364163.py:20: LangChainDeprecationWarning: The method `Chain.run` was deprecated in langchain 0.1.0 and will be removed in 1.0. Use :meth:`~invoke` instead.\n",
      "  result = chain.run({\"job\": jd_text, \"resume\": resume_text})\n"
     ]
    },
    {
     "name": "stdout",
     "output_type": "stream",
     "text": [
      "\n",
      "You are a resume evaluator. Given the following job description and resume,\n",
      "analyze how well the resume matches the job and give a score out of 10 along with justification.\n",
      "\n",
      "Job Description:\n",
      "\n",
      "Job Title: Full Stack Developer\n",
      "\n",
      "Location: Hyderabad\n",
      "Position Type: Full-Time (Work from Office Only)\n",
      "Experience: 1 to 2  Years\n",
      "\n",
      "Role Overview:\n",
      "We are looking for a proactive and skilled Full Stack Developer with 8 to 18 months of experience to join our engineering team. This role is perfect for developers who are excited to work across the stack, contribute to building scalable systems, and experiment with AI and automation technologies.\n",
      "\n",
      "Key Responsibilities:\n",
      "\n",
      "Develop and maintain scalable web applications using React.js and Node.js\n",
      "Write clean, maintainable code with a focus on performance and security\n",
      "Support integration of Python-based AI/ML modules (bonus)\n",
      "Required Skills & Qualifications:\n",
      "\n",
      "Strong foundation in JavaScript/TypeScript for both frontend and backend\n",
      "Experience with React.js and Node.js\n",
      "Familiarity with relational and NoSQL databases (e.g., PostgreSQL, DynamoDB)\n",
      "Understanding of cloud services and serverless architecture (AWS Lambda, Kinesis)\n",
      "Basic exposure to Python for automation or ML is a plus\n",
      "A growth mindset, team player attitude, and willingness to learn new technologies\n",
      "Good to Have\n",
      "\n",
      "Exposure to CI/CD workflows\n",
      "Knowledge of RESTful API design and microservices\n",
      "Understanding of basic AI/ML concepts or pipelines\n",
      "\n",
      "\n",
      "Resume:\n",
      "SHAKILA SHAIK\n",
      "8790824053|shakilaaask@gmail.com|LinkedIn|GitHub\n",
      "SUMMARY\n",
      "Software Engineer with 1 year of experience in developing web applications, enhancing performance, and optimizing\n",
      "backend systems for efficiency.\n",
      "TECHNOLOGIES\n",
      "Programming Languages::JavaScript, Type Script, Python\n",
      "Front End Technologies: :ReactJS, Next.js, React Redux, tailwind css\n",
      "Back End Technologies: :Node.JS, Express.js, FastAPI\n",
      "Database: :MongoDB, PostgreSQL, SQL\n",
      "Others :Git, Docker, Chrome Dev Tools, React Developer Tools, Redux DevTools, Postman\n",
      "EXPERIENCE\n",
      "Software Engineer, FlyingFox Labs Pvt Ltd, Hyderabad Jul 2024 — Present\n",
      "Customized Keycloak themes and integrated custom SSO providers to enhance the authentication infrastructure,\n",
      "improving authentication setup efficiency by 40% and streamlining user onboarding by 30%.\n",
      "Engineered a responsive meeting scheduling application enabling real-time patient-doctor appointment booking\n",
      "with dynamic slot availability, improving booking efficiency by 30%\n",
      "Designed and developed a real-time multiplayer game, \"Who Am I,\" featuring real-time user interactivity, dynamic\n",
      "updates, and seamless gameplay.\n",
      "Developed a Token Launchpad platform that dynamically interacts with Ethereum smart contracts by fetching\n",
      "contract ABI and methods based on user-provided addresses, enabling seamless token creation and launch\n",
      "workflows.\n",
      "Integrated Web3.js and MetaMask to support real-time Ethereum wallet authentication and blockchain transactions,\n",
      "enhancing user trust and enabling decentralized token deployment.\n",
      "EDUCATION\n",
      "KKR & KSR Institute of Technology and Sciences - B.Tech , ECE - GPA: 7.05 Aug 2019 — May 2023\n",
      "PROJECTS\n",
      "Blinkit, Link Mar 2025 — May 2025\n",
      "Developed a full-stack e-commerce platform using the MERN stack (MongoDB, Express.js, React.js, Node.js) with\n",
      "real-time product management and category-based navigation.\n",
      "Implemented secure authentication using access and refresh tokens, including OTP-based email verification and\n",
      "password recovery workflows.\n",
      "Built a dynamic admin dashboard for managing product uploads, categories, subcategories, and user roles with full\n",
      "CRUD functionality\n",
      "Engineered a responsive UI inspired by Blinkit, optimizing for user experience (UX) and mobile-first design using\n",
      "React and modern CSS frameworks.\n",
      "Integrated backend security features such as token validation, middleware-based route protection, and secure\n",
      "session handling\n",
      "Tech Stack: React, JavaScript, TailwindCSS, Redux Toolkit, Axios, Node.js, Express.js, MongoDB, Resend, Email.js,\n",
      "Cloudinay, JWT, Stripe\n",
      "To-Do Web App\n",
      "Developed a To-Do application using React.js and JavaScript, featuring real-time task management, status tracking,\n",
      "and intuitive user interface.\n",
      "Implemented state management using React Hooks (useState, useEffect) to dynamically render task lists and support\n",
      "CRUD operations (Create, Read, Update, Delete).\n",
      "Designed a responsive UI with modular components, enhancing user experience (UX) across mobile and desktop\n",
      "devices.\n",
      "Integrated local storage for persistent task saving, ensuring data is retained across browser sessions without backend\n",
      "dependency.\n",
      "\n",
      "Evaluation:\n",
      "The resume appears relevant to the position, but it lacks details about specific skills required for the role, particularly those related to Python, AWS, and other advanced technologies mentioned in the job description. The candidate's educational background suggests they have some technical knowledge in areas like React, Node.js, and TypeScript, which aligns with the job requirements. However, there is no mention of their proficiency in Python, AWS, or any other advanced technologies, which are crucial for the role. The projects listed do not provide detailed information about the use of these technologies, making it challenging to assess their expertise. \n",
      "\n",
      "Overall, while the resume demonstrates foundational skills in programming languages, front-end and back-end technologies, and project experience, it does not fully match the job requirements in terms of specialized skill sets. Therefore, my evaluation score would be **6** out of 10. Justification: Although the resume indicates potential strengths in core technologies, it falls short in demonstrating proficiency in key technologies like Python, AWS, and others required for the role, especially given the emphasis on these topics in the job description. The lack of concrete evidence of hands-on experience or projects utilizing these advanced technologies further reduces its alignment with the job requirements. A more comprehensive portfolio showcasing these skills might strengthen the candidate's candidacy\n"
     ]
    }
   ],
   "source": [
    "from langchain.prompts import PromptTemplate\n",
    "from langchain.chains import LLMChain\n",
    "\n",
    "template = \"\"\"\n",
    "You are a resume evaluator. Given the following job description and resume,\n",
    "analyze how well the resume matches the job and give a score out of 10 along with justification.\n",
    "\n",
    "Job Description:\n",
    "{job}\n",
    "\n",
    "Resume:\n",
    "{resume}\n",
    "\n",
    "Evaluation:\n",
    "\"\"\"\n",
    "\n",
    "prompt = PromptTemplate(input_variables=[\"job\", \"resume\"], template=template)\n",
    "chain = LLMChain(llm=llm, prompt=prompt)\n",
    "\n",
    "result = chain.run({\"job\": jd_text, \"resume\": resume_text})\n",
    "print(result)\n"
   ]
  },
  {
   "cell_type": "code",
   "execution_count": null,
   "id": "36a35c3b",
   "metadata": {},
   "outputs": [],
   "source": []
  }
 ],
 "metadata": {
  "kernelspec": {
   "display_name": "Python 3",
   "language": "python",
   "name": "python3"
  },
  "language_info": {
   "codemirror_mode": {
    "name": "ipython",
    "version": 3
   },
   "file_extension": ".py",
   "mimetype": "text/x-python",
   "name": "python",
   "nbconvert_exporter": "python",
   "pygments_lexer": "ipython3",
   "version": "3.12.5"
  }
 },
 "nbformat": 4,
 "nbformat_minor": 5
}
