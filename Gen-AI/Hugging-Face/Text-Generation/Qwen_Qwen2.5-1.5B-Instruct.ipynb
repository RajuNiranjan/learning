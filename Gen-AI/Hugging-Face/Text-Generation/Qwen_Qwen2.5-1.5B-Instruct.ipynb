{
 "cells": [
  {
   "cell_type": "markdown",
   "id": "533a24b2",
   "metadata": {},
   "source": [
    "# Qwen/Qwen2.5-1.5B-Instruct\n"
   ]
  },
  {
   "cell_type": "code",
   "execution_count": 1,
   "id": "0105dc68",
   "metadata": {},
   "outputs": [],
   "source": [
    "model_path='../MODELS/Text-Generation/Qwen_Qwen2.5-1.5B-Instruct'"
   ]
  },
  {
   "cell_type": "code",
   "execution_count": 3,
   "id": "d09688e3",
   "metadata": {},
   "outputs": [],
   "source": [
    "from transformers import pipeline"
   ]
  },
  {
   "cell_type": "code",
   "execution_count": 4,
   "id": "f9b0e93a",
   "metadata": {},
   "outputs": [
    {
     "name": "stderr",
     "output_type": "stream",
     "text": [
      "Device set to use cpu\n"
     ]
    }
   ],
   "source": [
    "pipeline=pipeline(\n",
    "    'text-generation',\n",
    "    model=model_path,\n",
    ")"
   ]
  },
  {
   "cell_type": "code",
   "execution_count": 5,
   "id": "3ade01b9",
   "metadata": {},
   "outputs": [
    {
     "data": {
      "text/plain": [
       "[{'generated_text': \"What is 2 + 4?\\n\\nThe sum of 2 and 4 is 6. \\n\\nTo solve this, you simply add the two numbers together:\\n\\n2 + 4 = 6\\n\\nThis is a basic arithmetic operation that many people are familiar with from their early education in mathematics. It's also an important building block for more complex calculations that students will encounter as they progress through their studies. Understanding how to perform simple operations like addition is crucial for developing a strong foundation in math.\"}]"
      ]
     },
     "execution_count": 5,
     "metadata": {},
     "output_type": "execute_result"
    }
   ],
   "source": [
    "pipeline(\"What is 2 + 4\")"
   ]
  },
  {
   "cell_type": "code",
   "execution_count": 6,
   "id": "d9537262",
   "metadata": {},
   "outputs": [],
   "source": [
    "from transformers import AutoTokenizer, AutoModelForCausalLM"
   ]
  },
  {
   "cell_type": "code",
   "execution_count": 7,
   "id": "8c480155",
   "metadata": {},
   "outputs": [],
   "source": [
    "model=AutoModelForCausalLM.from_pretrained(model_path)\n",
    "tokenizer=AutoTokenizer.from_pretrained(model_path)"
   ]
  },
  {
   "cell_type": "code",
   "execution_count": 8,
   "id": "7d900eb4",
   "metadata": {},
   "outputs": [],
   "source": [
    "from langchain_huggingface import HuggingFacePipeline"
   ]
  },
  {
   "cell_type": "code",
   "execution_count": 9,
   "id": "7a8bc325",
   "metadata": {},
   "outputs": [],
   "source": [
    "llm=HuggingFacePipeline(\n",
    "    pipeline=pipeline\n",
    ")"
   ]
  },
  {
   "cell_type": "code",
   "execution_count": 11,
   "id": "1e7169ef",
   "metadata": {},
   "outputs": [],
   "source": [
    "res=llm(\"What is JavaScript?\")"
   ]
  },
  {
   "cell_type": "code",
   "execution_count": 12,
   "id": "d8e80886",
   "metadata": {},
   "outputs": [
    {
     "name": "stdout",
     "output_type": "stream",
     "text": [
      "What is JavaScript? It's a programming language that allows you to create dynamic, interactive web pages. You can use it to add interactivity and functionality to your websites.\n",
      "JavaScript was created by Netscape in 1995 as an alternative to Java for adding scripting capabilities to web pages. It has since become one of the most widely used programming languages on the internet.\n",
      "Here are some key things to know about JavaScript:\n",
      "- It runs in a browser\n",
      "- It can be used to manipulate HTML elements\n",
      "- It supports event handling\n",
      "- It has a rich set of built-in functions and libraries\n",
      "- It has powerful debugging tools available\n",
      "- It is object-oriented\n",
      "- It has strong support from the browser vendors\n",
      "If you're interested in learning more about JavaScript, there are many resources available online. Some popular ones include MDN Web Docs, Codecademy, and W3Schools. With practice, you'll be able to write efficient, effective code in no time!\n"
     ]
    }
   ],
   "source": [
    "print(res)"
   ]
  },
  {
   "cell_type": "code",
   "execution_count": null,
   "id": "711c6bcb",
   "metadata": {},
   "outputs": [],
   "source": []
  }
 ],
 "metadata": {
  "kernelspec": {
   "display_name": "Python 3",
   "language": "python",
   "name": "python3"
  },
  "language_info": {
   "codemirror_mode": {
    "name": "ipython",
    "version": 3
   },
   "file_extension": ".py",
   "mimetype": "text/x-python",
   "name": "python",
   "nbconvert_exporter": "python",
   "pygments_lexer": "ipython3",
   "version": "3.12.5"
  }
 },
 "nbformat": 4,
 "nbformat_minor": 5
}
