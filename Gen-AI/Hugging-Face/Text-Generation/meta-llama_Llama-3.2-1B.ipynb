{
 "cells": [
  {
   "cell_type": "markdown",
   "id": "856ba8aa",
   "metadata": {},
   "source": [
    "# meta-llama/Llama-3.2-1B\n"
   ]
  },
  {
   "cell_type": "code",
   "execution_count": 1,
   "id": "c28d823b",
   "metadata": {},
   "outputs": [],
   "source": [
    "model_path=\"../MODELS/Text-Generation/meta-llama_Llama-3.2-1B\""
   ]
  },
  {
   "cell_type": "code",
   "execution_count": 3,
   "id": "31efb346",
   "metadata": {},
   "outputs": [],
   "source": [
    "from transformers import pipeline"
   ]
  },
  {
   "cell_type": "code",
   "execution_count": 4,
   "id": "b87df5a3",
   "metadata": {},
   "outputs": [
    {
     "name": "stderr",
     "output_type": "stream",
     "text": [
      "Device set to use cpu\n"
     ]
    }
   ],
   "source": [
    "pipe=pipeline(\n",
    "    'text-generation',\n",
    "    model=model_path,\n",
    ")"
   ]
  },
  {
   "cell_type": "code",
   "execution_count": 5,
   "id": "d40cc797",
   "metadata": {},
   "outputs": [
    {
     "name": "stderr",
     "output_type": "stream",
     "text": [
      "Setting `pad_token_id` to `eos_token_id`:128001 for open-end generation.\n"
     ]
    },
    {
     "data": {
      "text/plain": [
       "[{'generated_text': 'The key to life is balance. Balance is the key to happiness, health and success. The key to happiness is balance. The key to health is balance. The key to success is balance.\\nBalance is the key to living a successful life. The key to a successful life is balance. Balance is the key to a happy life. The key to a happy life is balance. Balance is the key to being successful. The key to being successful is balance.\\nBalance is the key to a happy life. The key to a happy life is balance. Balance is the key to a healthy life. The key to a healthy life is balance. Balance is the key to a successful life. The key to a successful life is balance.\\nBalance is the key to a happy life. The key to a happy life is balance. Balance is the key to a healthy life. The key to a healthy life is balance. Balance is the key to a successful life. The key to a successful life is balance.\\nBalance is the key to a happy life. The key to a happy life is balance. Balance is the key to a healthy life. The key to a healthy life is balance. Balance is the key to a successful life. The key to a successful life is balance.\\nBalance is the key to a happy'}]"
      ]
     },
     "execution_count": 5,
     "metadata": {},
     "output_type": "execute_result"
    }
   ],
   "source": [
    "pipe(\"The key to life is\")"
   ]
  },
  {
   "cell_type": "code",
   "execution_count": 6,
   "id": "a7b4d890",
   "metadata": {},
   "outputs": [],
   "source": [
    "from transformers import AutoTokenizer, AutoModelForCausalLM"
   ]
  },
  {
   "cell_type": "code",
   "execution_count": 7,
   "id": "01c399cd",
   "metadata": {},
   "outputs": [],
   "source": [
    "model=AutoModelForCausalLM.from_pretrained(model_path)\n",
    "tokenizer=AutoTokenizer.from_pretrained(model_path)"
   ]
  },
  {
   "cell_type": "code",
   "execution_count": 17,
   "id": "d630db02",
   "metadata": {},
   "outputs": [
    {
     "name": "stderr",
     "output_type": "stream",
     "text": [
      "Device set to use cpu\n"
     ]
    }
   ],
   "source": [
    "pipeline=pipeline(\n",
    "    'text-generation',\n",
    "    model=model,\n",
    "    tokenizer=tokenizer\n",
    ")"
   ]
  },
  {
   "cell_type": "code",
   "execution_count": 11,
   "id": "45f62168",
   "metadata": {},
   "outputs": [],
   "source": [
    "input=tokenizer(\n",
    "    \"hello\",\n",
    "    return_tensors=\"pt\",\n",
    "     truncation=True,\n",
    "    max_length=128\n",
    ")"
   ]
  },
  {
   "cell_type": "code",
   "execution_count": 12,
   "id": "ed69fe82",
   "metadata": {},
   "outputs": [],
   "source": [
    "output=model.generate(\n",
    "    **input,\n",
    "    max_new_tokens=256,\n",
    "    pad_token_id=tokenizer.eos_token_id\n",
    ")"
   ]
  },
  {
   "cell_type": "code",
   "execution_count": 14,
   "id": "67af8d56",
   "metadata": {},
   "outputs": [],
   "source": [
    "res=tokenizer.decode(output[0])"
   ]
  },
  {
   "cell_type": "code",
   "execution_count": 15,
   "id": "ca9612c7",
   "metadata": {},
   "outputs": [
    {
     "data": {
      "text/plain": [
       "'<|begin_of_text|>hello! i am a 15 year old girl and i am a very big fan of the book series the infernal devices. i have read all of the books and i am really excited to read the series again. i am also a big fan of the movies and the tv shows. i have been a fan of the movies and the tv shows since i was a little girl and i am so excited to see them again. i love the books and the movies and i am so excited to see them again. i am also a big fan of the tv show and i am so excited to see it again.\\nThe Infernal Devices is a series of books written by author Sarah Rees Brennan. It is a spinoff of the popular book series The Infernal Devices and is the first book in the series. The Infernal Devices is a series of books written by author Sarah Rees Brennan. It is a spinoff of the popular book series The Infernal Devices and is the first book in the series.\\nThe Infernal Devices is a series of books written by author Sarah Rees Brennan. It is a spinoff of the popular book series The Infernal Devices and is the first book in the series. The Infernal Devices is a series of books written by author Sarah Re'"
      ]
     },
     "execution_count": 15,
     "metadata": {},
     "output_type": "execute_result"
    }
   ],
   "source": [
    "res"
   ]
  },
  {
   "cell_type": "code",
   "execution_count": 16,
   "id": "10eb7c2a",
   "metadata": {},
   "outputs": [],
   "source": [
    "from langchain_huggingface import HuggingFacePipeline"
   ]
  },
  {
   "cell_type": "code",
   "execution_count": 18,
   "id": "b318f55a",
   "metadata": {},
   "outputs": [],
   "source": [
    "llm=HuggingFacePipeline(\n",
    "    pipeline=pipeline\n",
    ")"
   ]
  },
  {
   "cell_type": "code",
   "execution_count": 22,
   "id": "86ffefea",
   "metadata": {},
   "outputs": [
    {
     "name": "stderr",
     "output_type": "stream",
     "text": [
      "Setting `pad_token_id` to `eos_token_id`:128001 for open-end generation.\n"
     ]
    }
   ],
   "source": [
    "res=llm.invoke(\"Explain about NLP\")"
   ]
  },
  {
   "cell_type": "code",
   "execution_count": 24,
   "id": "85e91c3b",
   "metadata": {},
   "outputs": [
    {
     "name": "stdout",
     "output_type": "stream",
     "text": [
      "Explain about NLP and its importance.\n",
      "Explain about NLP and its importance. NLP is a powerful tool for communication and interaction. It is a system of communication that can be used to enhance and improve communication with others. NLP is based on the principle of modelling and it uses a variety of techniques to help people understand and communicate better. It is a tool that can be used to improve communication, problem solving, and decision making. It can also be used to improve performance in a variety of areas, including sales, customer service, and education. NLP is a powerful tool for communication and interaction. It can be used to enhance and improve communication with others, as well as to solve problems and make decisions. NLP is a system of communication that can be used to improve and enhance communication with others. It is a tool that can be used to improve communication, problem solving, and decision making. NLP is a powerful tool for communication and interaction. It is a system of communication that can be used to enhance and improve communication with others. It is a tool that can be used to improve communication, problem solving, and decision making. NLP is a powerful tool for communication and interaction. It is a system of communication that can be used to improve and enhance communication with others.\n"
     ]
    }
   ],
   "source": [
    "print(res)"
   ]
  },
  {
   "cell_type": "code",
   "execution_count": null,
   "id": "ea2ddab9",
   "metadata": {},
   "outputs": [],
   "source": []
  }
 ],
 "metadata": {
  "kernelspec": {
   "display_name": "Python 3",
   "language": "python",
   "name": "python3"
  },
  "language_info": {
   "codemirror_mode": {
    "name": "ipython",
    "version": 3
   },
   "file_extension": ".py",
   "mimetype": "text/x-python",
   "name": "python",
   "nbconvert_exporter": "python",
   "pygments_lexer": "ipython3",
   "version": "3.12.5"
  }
 },
 "nbformat": 4,
 "nbformat_minor": 5
}
