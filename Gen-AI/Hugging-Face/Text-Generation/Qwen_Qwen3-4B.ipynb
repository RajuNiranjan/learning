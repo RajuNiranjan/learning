{
 "cells": [
  {
   "cell_type": "markdown",
   "id": "f935f0d6",
   "metadata": {},
   "source": [
    "# Qwen/Qwen3-4B\n"
   ]
  },
  {
   "cell_type": "code",
   "execution_count": 1,
   "id": "b65dc1aa",
   "metadata": {},
   "outputs": [],
   "source": [
    "model_path='../MODELS/Text-Generation/Qwen_Qwen3-4B/'"
   ]
  },
  {
   "cell_type": "code",
   "execution_count": null,
   "id": "096c801b",
   "metadata": {},
   "outputs": [],
   "source": [
    "from transformers import  pipeline"
   ]
  },
  {
   "cell_type": "code",
   "execution_count": 3,
   "id": "98357cca",
   "metadata": {},
   "outputs": [
    {
     "data": {
      "application/vnd.jupyter.widget-view+json": {
       "model_id": "7b616b7e1af84df4b0e6f1a647d62bf2",
       "version_major": 2,
       "version_minor": 0
      },
      "text/plain": [
       "Loading checkpoint shards:   0%|          | 0/3 [00:00<?, ?it/s]"
      ]
     },
     "metadata": {},
     "output_type": "display_data"
    },
    {
     "name": "stderr",
     "output_type": "stream",
     "text": [
      "Device set to use cpu\n"
     ]
    }
   ],
   "source": [
    "pipeline=pipeline(\n",
    "    \"text-generation\",\n",
    "    model=model_path\n",
    ")"
   ]
  },
  {
   "cell_type": "code",
   "execution_count": 6,
   "id": "ba9de36d",
   "metadata": {},
   "outputs": [
    {
     "data": {
      "text/plain": [
       "[{'generated_text': \"What is Python? What are its key features, and what are some of its major applications in different fields? Can you also explain the concept of a Python list and how it is used in programs? Additionally, can you provide an example of how to use a list in Python, including a simple program that demonstrates its functionality?\\n\\nPython is a high-level, interpreted programming language known for its simplicity, readability, and versatility. It was created by Guido van Rossum in the late 1980s and early 1990s. Python's design philosophy emphasizes code readability and a clean, uniform syntax, which makes it an excellent choice for both beginners and experienced developers.\\n\\nKey features of Python include:\\n1. **Simplicity and Readability**: Python's syntax is straightforward, making it easy to learn and use.\\n2. **Cross-Platform Compatibility**: Python runs on various operating systems, including Windows, macOS, and Linux.\\n3. **Open Source**: Python is free to use and has a large community that contributes to its development and support.\\n4. **Extensive Libraries and Frameworks**: Python has a vast ecosystem of libraries for various purposes, such as data analysis, machine learning, web development, and more.\\n5. **Object-Oriented Programming (O\"}]"
      ]
     },
     "execution_count": 6,
     "metadata": {},
     "output_type": "execute_result"
    }
   ],
   "source": [
    "pipeline(\"What is Python?\")"
   ]
  },
  {
   "cell_type": "code",
   "execution_count": null,
   "id": "5fda73e2",
   "metadata": {},
   "outputs": [],
   "source": []
  }
 ],
 "metadata": {
  "kernelspec": {
   "display_name": "Python 3",
   "language": "python",
   "name": "python3"
  },
  "language_info": {
   "codemirror_mode": {
    "name": "ipython",
    "version": 3
   },
   "file_extension": ".py",
   "mimetype": "text/x-python",
   "name": "python",
   "nbconvert_exporter": "python",
   "pygments_lexer": "ipython3",
   "version": "3.12.5"
  }
 },
 "nbformat": 4,
 "nbformat_minor": 5
}
