{
 "cells": [
  {
   "cell_type": "markdown",
   "id": "3b201f46",
   "metadata": {},
   "source": [
    "# openai-community/gpt2\n"
   ]
  },
  {
   "cell_type": "code",
   "execution_count": 47,
   "id": "9ccbba22",
   "metadata": {},
   "outputs": [],
   "source": [
    "model_path='../MODELS/Text-Generation/openai-community_gpt2'"
   ]
  },
  {
   "cell_type": "markdown",
   "id": "7cd8c8dc",
   "metadata": {},
   "source": [
    "### Using pipeline\n"
   ]
  },
  {
   "cell_type": "code",
   "execution_count": 48,
   "id": "9fd75f59",
   "metadata": {},
   "outputs": [],
   "source": [
    "from transformers import pipeline, set_seed"
   ]
  },
  {
   "cell_type": "code",
   "execution_count": 49,
   "id": "c5bb89c7",
   "metadata": {},
   "outputs": [
    {
     "name": "stderr",
     "output_type": "stream",
     "text": [
      "Device set to use cpu\n"
     ]
    }
   ],
   "source": [
    "generator= pipeline(\n",
    "    'text-generation',\n",
    "    model=model_path\n",
    ")"
   ]
  },
  {
   "cell_type": "code",
   "execution_count": 50,
   "id": "ec44d300",
   "metadata": {},
   "outputs": [],
   "source": [
    "set_seed(42)"
   ]
  },
  {
   "cell_type": "code",
   "execution_count": 51,
   "id": "c1ffde25",
   "metadata": {},
   "outputs": [
    {
     "name": "stderr",
     "output_type": "stream",
     "text": [
      "Setting `pad_token_id` to `eos_token_id`:50256 for open-end generation.\n"
     ]
    }
   ],
   "source": [
    "res=generator(\n",
    "    \"Hello, I'm Wilson, I am a Full Stack Developer,\",\n",
    "    max_new_tokens=128,\n",
    "    num_return_sequences=1\n",
    ")"
   ]
  },
  {
   "cell_type": "code",
   "execution_count": 52,
   "id": "70cf6261",
   "metadata": {},
   "outputs": [
    {
     "data": {
      "text/plain": [
       "[{'generated_text': \"Hello, I'm Wilson, I am a Full Stack Developer, I'm currently a Senior Product Manager, I'm a Software Engineer, and I'm a Developer for a Fortune 500 company. I'm also a CTO and I'm currently working as a senior partner at Serenity.com.\\n\\nIf you're interested in learning more about what I'm doing here, check out the full article here or follow me on Twitter @GutSerenity.\"}]"
      ]
     },
     "execution_count": 52,
     "metadata": {},
     "output_type": "execute_result"
    }
   ],
   "source": [
    "res"
   ]
  },
  {
   "cell_type": "code",
   "execution_count": 53,
   "id": "739f1f08",
   "metadata": {},
   "outputs": [],
   "source": [
    "from transformers import AutoTokenizer, AutoModelForCausalLM"
   ]
  },
  {
   "cell_type": "code",
   "execution_count": 54,
   "id": "4d4f6cff",
   "metadata": {},
   "outputs": [],
   "source": [
    "model=AutoModelForCausalLM.from_pretrained(model_path)\n",
    "tokenizer=AutoTokenizer.from_pretrained(model_path)"
   ]
  },
  {
   "cell_type": "code",
   "execution_count": 55,
   "id": "e38695db",
   "metadata": {},
   "outputs": [],
   "source": [
    "input=tokenizer(\n",
    "    \"Hello, I am John Wick\",\n",
    "    return_tensors='pt',\n",
    "    truncation=True,\n",
    "    max_length=128\n",
    ")"
   ]
  },
  {
   "cell_type": "code",
   "execution_count": 56,
   "id": "174a14c4",
   "metadata": {},
   "outputs": [],
   "source": [
    "output=model.generate(\n",
    "    **input,\n",
    "    max_new_tokens=256,\n",
    "    pad_token_id=tokenizer.eos_token_id\n",
    ")"
   ]
  },
  {
   "cell_type": "code",
   "execution_count": 57,
   "id": "fc265a0c",
   "metadata": {},
   "outputs": [
    {
     "data": {
      "text/plain": [
       "'Hello, I am John Wick. I am a writer, a filmmaker, a musician, a musician, a musician, a musician, a musician, a musician, a musician, a musician, a musician, a musician, a musician, a musician, a musician, a musician, a musician, a musician, a musician, a musician, a musician, a musician, a musician, a musician, a musician, a musician, a musician, a musician, a musician, a musician, a musician, a musician, a musician, a musician, a musician, a musician, a musician, a musician, a musician, a musician, a musician, a musician, a musician, a musician, a musician, a musician, a musician, a musician, a musician, a musician, a musician, a musician, a musician, a musician, a musician, a musician, a musician, a musician, a musician, a musician, a musician, a musician, a musician, a musician, a musician, a musician, a musician, a musician, a musician, a musician, a musician, a musician, a musician, a musician, a musician, a musician, a musician, a musician, a musician, a musician, a musician, a musician, a musician, a musician, a'"
      ]
     },
     "execution_count": 57,
     "metadata": {},
     "output_type": "execute_result"
    }
   ],
   "source": [
    "tokenizer.decode(output[0])"
   ]
  },
  {
   "cell_type": "markdown",
   "id": "d4742f7c",
   "metadata": {},
   "source": [
    "### Using with Langchain\n"
   ]
  },
  {
   "cell_type": "code",
   "execution_count": 58,
   "id": "7996c407",
   "metadata": {},
   "outputs": [],
   "source": [
    "from langchain_huggingface import HuggingFacePipeline"
   ]
  },
  {
   "cell_type": "code",
   "execution_count": 59,
   "id": "0f5b2e7e",
   "metadata": {},
   "outputs": [
    {
     "name": "stderr",
     "output_type": "stream",
     "text": [
      "Device set to use cpu\n"
     ]
    }
   ],
   "source": [
    "hf_pipeline=pipeline(\n",
    "    \"text-generation\",\n",
    "    model=model,\n",
    "    tokenizer=tokenizer,\n",
    "    max_new_tokens=100,\n",
    "    temperature=0.2,\n",
    "    pad_token_id=tokenizer.eos_token_id\n",
    ")"
   ]
  },
  {
   "cell_type": "code",
   "execution_count": 60,
   "id": "f26b85d9",
   "metadata": {},
   "outputs": [],
   "source": [
    "llm=HuggingFacePipeline(pipeline=hf_pipeline)"
   ]
  },
  {
   "cell_type": "code",
   "execution_count": 61,
   "id": "3140a65a",
   "metadata": {},
   "outputs": [
    {
     "data": {
      "text/plain": [
       "'Hello, I am John Wick. I am a man who has been in the business for over twenty years. I am a man who has been in the business for over twenty years. And I have been in the business for over twenty years. And I have been in the business for over twenty years. And I have been in the business for over twenty years. And I have been in the business for over twenty years. And I have been in the business for over twenty years. And I have been in the business for over'"
      ]
     },
     "execution_count": 61,
     "metadata": {},
     "output_type": "execute_result"
    }
   ],
   "source": [
    "llm.invoke(\"Hello, I am John Wick\")"
   ]
  },
  {
   "cell_type": "code",
   "execution_count": null,
   "id": "73425a77",
   "metadata": {},
   "outputs": [],
   "source": []
  }
 ],
 "metadata": {
  "kernelspec": {
   "display_name": "Python 3",
   "language": "python",
   "name": "python3"
  },
  "language_info": {
   "codemirror_mode": {
    "name": "ipython",
    "version": 3
   },
   "file_extension": ".py",
   "mimetype": "text/x-python",
   "name": "python",
   "nbconvert_exporter": "python",
   "pygments_lexer": "ipython3",
   "version": "3.12.5"
  }
 },
 "nbformat": 4,
 "nbformat_minor": 5
}
