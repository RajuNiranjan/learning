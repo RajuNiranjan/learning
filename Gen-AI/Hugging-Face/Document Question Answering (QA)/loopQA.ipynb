{
 "cells": [
  {
   "cell_type": "code",
   "execution_count": 17,
   "id": "e5a9e375",
   "metadata": {},
   "outputs": [],
   "source": [
    "pdf_file_path='../Documents/py.pdf'"
   ]
  },
  {
   "cell_type": "code",
   "execution_count": 18,
   "id": "8b161651",
   "metadata": {},
   "outputs": [],
   "source": [
    "embedding_model_path='../MODELS/Sentence-Similarity/sentence-transformers_all-MiniLM-L6-v2'\n",
    "text_gen_model_path='../MODELS/Text-Generation/Qwen_Qwen2.5-1.5B-Instruct/'"
   ]
  },
  {
   "cell_type": "code",
   "execution_count": 19,
   "id": "5caae1a2",
   "metadata": {},
   "outputs": [],
   "source": [
    "from langchain_community.document_loaders import PyPDFLoader\n",
    "from langchain_text_splitters import RecursiveCharacterTextSplitter\n",
    "from langchain_community.vectorstores import FAISS\n",
    "from langchain_huggingface import HuggingFaceEmbeddings, HuggingFacePipeline\n",
    "from langchain.chains import RetrievalQA\n",
    "from transformers import pipeline"
   ]
  },
  {
   "cell_type": "code",
   "execution_count": 20,
   "id": "b7312010",
   "metadata": {},
   "outputs": [],
   "source": [
    "def load_pdf_text(pdf):\n",
    "    loader=PyPDFLoader(pdf)\n",
    "    pages=loader.load()\n",
    "    return \" \".join([p.page_content for p in pages])"
   ]
  },
  {
   "cell_type": "code",
   "execution_count": 21,
   "id": "08d7edd7",
   "metadata": {},
   "outputs": [],
   "source": [
    "def text_chunks(text):\n",
    "    chunks=RecursiveCharacterTextSplitter(\n",
    "        chunk_size=500,\n",
    "        chunk_overlap=50\n",
    "    )\n",
    "    return chunks.split_text(text)"
   ]
  },
  {
   "cell_type": "code",
   "execution_count": 22,
   "id": "4d4a20ad",
   "metadata": {},
   "outputs": [],
   "source": [
    "pdf_loader=load_pdf_text(pdf_file_path)\n",
    "pdf_text_chunks=text_chunks(pdf_loader)"
   ]
  },
  {
   "cell_type": "code",
   "execution_count": 23,
   "id": "d1d18b6e",
   "metadata": {},
   "outputs": [],
   "source": [
    "embeddings=HuggingFaceEmbeddings(\n",
    "    model_name=embedding_model_path\n",
    ")"
   ]
  },
  {
   "cell_type": "code",
   "execution_count": 24,
   "id": "f272b9d3",
   "metadata": {},
   "outputs": [],
   "source": [
    "vectorStore=FAISS.from_texts(pdf_text_chunks, embeddings)"
   ]
  },
  {
   "cell_type": "code",
   "execution_count": 25,
   "id": "19cc38c8",
   "metadata": {},
   "outputs": [],
   "source": [
    "retriever=vectorStore.as_retriever()"
   ]
  },
  {
   "cell_type": "code",
   "execution_count": 26,
   "id": "7b0b9fd3",
   "metadata": {},
   "outputs": [
    {
     "name": "stderr",
     "output_type": "stream",
     "text": [
      "Device set to use cpu\n"
     ]
    }
   ],
   "source": [
    "hf_pipeline=pipeline(\n",
    "    'text-generation',\n",
    "    model=text_gen_model_path\n",
    ")"
   ]
  },
  {
   "cell_type": "code",
   "execution_count": 27,
   "id": "fdbeadc7",
   "metadata": {},
   "outputs": [],
   "source": [
    "llm=HuggingFacePipeline(\n",
    "    pipeline=hf_pipeline\n",
    ")"
   ]
  },
  {
   "cell_type": "code",
   "execution_count": 28,
   "id": "749bce82",
   "metadata": {},
   "outputs": [],
   "source": [
    "qa_chain=RetrievalQA.from_chain_type(\n",
    "    llm=llm,\n",
    "    retriever=retriever,\n",
    "    chain_type=\"stuff\"\n",
    ")"
   ]
  },
  {
   "cell_type": "code",
   "execution_count": 29,
   "id": "23bc48b6",
   "metadata": {},
   "outputs": [
    {
     "name": "stdout",
     "output_type": "stream",
     "text": [
      "📄 Document QA Ready! Type your question. Type 'exit' to quit.\n",
      "\n",
      "Answer: {'query': 'What is python?', 'result': \"Use the following pieces of context to answer the question at the end. If you don't know the answer, just say that you don't know, don't try to make up an answer.\\n\\nIntroduction to Python: \\nPython is a widely used general -purpose, high level programming language. It was created by Guido \\nvan Rossum in 1991 and further developed by the Python Software Foundation. It was designed with \\nan emphasis on code readability, and its syntax allows programmers to express their concepts in \\nfewer lines of code. \\nPython is a programming language that lets you work quickly and integrate systems more efficiently.\\n\\nThere are two major Python versions: Python 2 and Python 3. Both are quite different.  \\nBeginning with Python programming: \\n1) Finding an Interpreter:\\nBefore we start Python programming, we need to have an interpreter to interpret and run our \\nprograms. http://ideone.com/ or http://codepad.org/ that can be used to run Python programs \\nwithout installing an interpreter. \\nWindows: There are many interpreters available freely to run Python scripts like IDLE (Integrated\\n\\nNote: C:\\\\Python is the path of the Python directory. \\nRunning Code in the Interactive Shell \\nPython is an interpreted language, and you can run simple Python expressions and statements in an \\ninteractive programming environment called the shell. The easiest way to open a Python shell is to \\nlaunch the IDLE(Integrated Development and Learning Environment) comes with the Python \\ninstallation. When you do this, a window named Python Shell opens. Figure 1.6 shows a shell window\\n\\n6) Microsoft\\n7) Cisco\\n8) Spotify\\n9) Quora\\nFeatures of Python: \\n1. Simple and easy to learn.\\n2. Free ware and Open source.\\n3. High level programming language.\\n4. Python id platform independent.\\n5. Portability.\\n6. Dynamically typed.\\n7. Both procedure oriented and object oriented.\\n8. Interpreted programming language.\\n9. Extensible.\\n10. Embedded.\\n11. Extensive library.\\nwww.Jntufastupdates.com\\n3 Unit-1  Python Programming \\n    2020-2021 \\n1. Readable: Python is a very readable language.\\n\\nQuestion: What is python?\\nHelpful Answer: Python is a widely used general-purpose, high-level programming language. It was created by Guido van Rossum in 1991 and further developed by the Python Software Foundation. It was designed with an emphasis on code readability, and its syntax allows programmers to express their concepts in fewer lines of code. It is a programming language that lets you work quickly and integrate systems more efficiently.\"}\n",
      "Answer: {'query': 'what are the data types in python?', 'result': \"Use the following pieces of context to answer the question at the end. If you don't know the answer, just say that you don't know, don't try to make up an answer.\\n\\nAssignment, and Comment, Numeric Data Types and Character Sets, Using functions and Modules. Decision Structures \\nand Boolean Logic: if, if -else, if-elif-else Statements, Nested Decision Structures, Comparing Strings, Logical Operators, \\nBoolean Variables.  Repetition Structures: Introduction, while loop, for loop, Calculating a Running Total, Input \\nValidation Loops, Nested Loops. \\nIntroduction to Python:\\n\\n• For example, print() and input() for I/O.\\n• Number conversion functions int(), float(), complex(), data type conversions\\nlist(), tuple(), set(), etc.\\n• In addition to built-in functions, a large number of pre-defined functions are also available as a\\npart of libraries bundled with Python distributions. These functions are defined as modules.\\n• A module is a file containing definitions of functions, classes, variables, constants or any other\\n\\nUnit-1  Python Programming    P.N.Varalakshmi.K  \\nAssoc., Prof., CSE\\n    2020-2021 \\nUNIT-1 Introduction: Introduction to Python, Program Development Cycle , Input, Processing, and Output, \\nDisplaying Output with the Print Function, Comments, Variables, Reading Input from the Keyboard, Performing \\nCalculations, Operators. Type conversions, Expressions,  More about Data Output. Data Types, and Expression: String s\\n\\n• declared within brasses { }\\nDictionaries \\n• dict : type\\n• it stores the data in key value pairs format.\\n• Keys must be unique & value\\n• It is mutable modifications are allowed.\\n• Declared within the curly brasses {key:value}\\nwww.Jntufastupdates.com\\n26 Unit-1  Python Programming \\n2020-21 \\nBoolean data type : (bool) \\n• true& false are result values of comparison operation or logical operation in python.\\n• true & false in python is same as 1 & 0 1=true  0=false\\n• except zero it is always True.\\n\\nQuestion: what are the data types in python?\\nHelpful Answer: The Python programming language supports several basic data types including integers, floating-point numbers, booleans, strings, lists, tuples, sets, and dictionaries. Each data type has its own specific characteristics and use cases. Integers represent whole numbers without decimal points, floats include both integer and fractional parts, booleans can only have two states—true or false—and they correspond to the binary representations of 1 and 0 respectively. Strings consist of sequences of characters, allowing for text manipulation. Lists store collections of items, which can be accessed by their index. Tuples are similar to lists but are immutable; once created, their elements cannot be changed. Sets contain unique elements, making them useful for membership checking and removing duplicates. Dictionaries allow for mapping keys to values, enabling quick lookups based on key-value pairs. Understanding these data types is crucial for writing efficient and effective programs in Python.\"}\n",
      "Existing QA.\n"
     ]
    }
   ],
   "source": [
    "print(\"📄 Document QA Ready! Type your question. Type 'exit' to quit.\\n\")\n",
    "\n",
    "while True:\n",
    "    question= input(\"You: \")\n",
    "    if question.lower() in ['exit', 'quit']:\n",
    "        print(\"Existing QA.\")\n",
    "        break\n",
    "    answer=qa_chain.invoke(question)\n",
    "    print(f'Answer: {answer}')"
   ]
  }
 ],
 "metadata": {
  "kernelspec": {
   "display_name": "Python 3",
   "language": "python",
   "name": "python3"
  },
  "language_info": {
   "codemirror_mode": {
    "name": "ipython",
    "version": 3
   },
   "file_extension": ".py",
   "mimetype": "text/x-python",
   "name": "python",
   "nbconvert_exporter": "python",
   "pygments_lexer": "ipython3",
   "version": "3.12.5"
  }
 },
 "nbformat": 4,
 "nbformat_minor": 5
}
