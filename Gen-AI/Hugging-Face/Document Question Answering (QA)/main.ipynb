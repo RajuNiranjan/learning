{
 "cells": [
  {
   "cell_type": "code",
   "execution_count": 6,
   "id": "2ff663a0",
   "metadata": {},
   "outputs": [],
   "source": [
    "pdf_file_path='../Documents/JS.pdf'"
   ]
  },
  {
   "cell_type": "code",
   "execution_count": 7,
   "id": "c35d51c5",
   "metadata": {},
   "outputs": [],
   "source": [
    "from langchain_community.document_loaders import PyPDFLoader"
   ]
  },
  {
   "cell_type": "code",
   "execution_count": 17,
   "id": "01a54835",
   "metadata": {},
   "outputs": [],
   "source": [
    "def load_pdf_text(pdf_path):\n",
    "    loader=PyPDFLoader(pdf_path)\n",
    "    page=loader.load()\n",
    "    return \" \".join([p.page_content for p in page])"
   ]
  },
  {
   "cell_type": "code",
   "execution_count": 18,
   "id": "be5145ba",
   "metadata": {},
   "outputs": [],
   "source": [
    "loader=load_pdf_text(pdf_file_path)"
   ]
  },
  {
   "cell_type": "code",
   "execution_count": 20,
   "id": "d7344f53",
   "metadata": {},
   "outputs": [],
   "source": [
    "from langchain_text_splitters import RecursiveCharacterTextSplitter"
   ]
  },
  {
   "cell_type": "code",
   "execution_count": 21,
   "id": "08469825",
   "metadata": {},
   "outputs": [],
   "source": [
    "def text_chunks(text):\n",
    "    chunks=RecursiveCharacterTextSplitter(\n",
    "        chunk_size=500,\n",
    "        chunk_overlap=50\n",
    "    )\n",
    "    return chunks.split_text(text)"
   ]
  },
  {
   "cell_type": "code",
   "execution_count": 22,
   "id": "e335ebb4",
   "metadata": {},
   "outputs": [],
   "source": [
    "pdf_chunks=text_chunks(loader)"
   ]
  },
  {
   "cell_type": "code",
   "execution_count": 42,
   "id": "cf2f1673",
   "metadata": {},
   "outputs": [],
   "source": [
    "from langchain_huggingface import HuggingFaceEmbeddings"
   ]
  },
  {
   "cell_type": "code",
   "execution_count": 43,
   "id": "7eec4e5a",
   "metadata": {},
   "outputs": [],
   "source": [
    "embedding_model_path='../MODELS/Sentence-Similarity/sentence-transformers_all-MiniLM-L6-v2/'"
   ]
  },
  {
   "cell_type": "code",
   "execution_count": 44,
   "id": "d3bc6f52",
   "metadata": {},
   "outputs": [],
   "source": [
    "embeddings=HuggingFaceEmbeddings(\n",
    "    model_name=embedding_model_path\n",
    ")"
   ]
  },
  {
   "cell_type": "code",
   "execution_count": 45,
   "id": "4a859642",
   "metadata": {},
   "outputs": [],
   "source": [
    "from langchain_community.vectorstores import FAISS"
   ]
  },
  {
   "cell_type": "code",
   "execution_count": 46,
   "id": "ed7be293",
   "metadata": {},
   "outputs": [],
   "source": [
    "db=FAISS.from_texts(pdf_chunks, embeddings)"
   ]
  },
  {
   "cell_type": "code",
   "execution_count": 54,
   "id": "185578dc",
   "metadata": {},
   "outputs": [],
   "source": [
    "retriever=db.as_retriever()"
   ]
  },
  {
   "cell_type": "code",
   "execution_count": 48,
   "id": "2101041d",
   "metadata": {},
   "outputs": [],
   "source": [
    "from langchain_huggingface import HuggingFacePipeline\n",
    "from transformers import pipeline"
   ]
  },
  {
   "cell_type": "code",
   "execution_count": 49,
   "id": "ede837f5",
   "metadata": {},
   "outputs": [],
   "source": [
    "text_gen_model_path='../MODELS/Text-Generation/meta-llama_Llama-3.2-1B'"
   ]
  },
  {
   "cell_type": "code",
   "execution_count": 50,
   "id": "9a391dd9",
   "metadata": {},
   "outputs": [
    {
     "name": "stderr",
     "output_type": "stream",
     "text": [
      "Device set to use cpu\n"
     ]
    }
   ],
   "source": [
    "qa_pipeline=pipeline(\n",
    "    'text-generation',\n",
    "    model=text_gen_model_path\n",
    ")"
   ]
  },
  {
   "cell_type": "code",
   "execution_count": 51,
   "id": "afa684ce",
   "metadata": {},
   "outputs": [],
   "source": [
    "llm=HuggingFacePipeline(pipeline=qa_pipeline)"
   ]
  },
  {
   "cell_type": "code",
   "execution_count": 52,
   "id": "2a35b17f",
   "metadata": {},
   "outputs": [],
   "source": [
    "from langchain.chains import RetrievalQA"
   ]
  },
  {
   "cell_type": "code",
   "execution_count": 55,
   "id": "b7b8effa",
   "metadata": {},
   "outputs": [],
   "source": [
    "rag_chain=RetrievalQA.from_chain_type(\n",
    "    llm=llm,\n",
    "    retriever=retriever,\n",
    "    chain_type=\"stuff\"\n",
    ")"
   ]
  },
  {
   "cell_type": "code",
   "execution_count": 56,
   "id": "2733aa29",
   "metadata": {},
   "outputs": [],
   "source": [
    "query=\"What is JavaScript?\""
   ]
  },
  {
   "cell_type": "code",
   "execution_count": 57,
   "id": "8f9c37fc",
   "metadata": {},
   "outputs": [
    {
     "name": "stderr",
     "output_type": "stream",
     "text": [
      "Setting `pad_token_id` to `eos_token_id`:128001 for open-end generation.\n"
     ]
    }
   ],
   "source": [
    "res=rag_chain.invoke(query)"
   ]
  },
  {
   "cell_type": "code",
   "execution_count": 61,
   "id": "bab2ed88",
   "metadata": {},
   "outputs": [
    {
     "name": "stdout",
     "output_type": "stream",
     "text": [
      "Use the following pieces of context to answer the question at the end. If you don't know the answer, just say that you don't know, don't try to make up an answer.\n",
      "\n",
      "JAVASCRIPT Notes \n",
      " \n",
      "By – Prof Harshal V Patil Page 1 \n",
      " \n",
      "JAVASCRIPT \n",
      "JavaScript is the scripting language of the Web. \n",
      "JavaScript is used in millions of Web pages to add functionality, validate forms, detect browsers, and \n",
      "much more. \n",
      "Introduction to JavaScript \n",
      "JavaScript is used in millions of Web pages to improve the design, validate forms, detect browsers, create \n",
      "cookies, and much more.\n",
      "\n",
      " JavaScript is an interpreted language (means that scripts execute without preliminary compilation)  \n",
      " Everyone can use JavaScript without purchasing a license  \n",
      "Java and JavaScript are two completely different languages in both concept and design! \n",
      "Java (developed by Sun Microsystems) is a powerful and much more complex programming language - in \n",
      "the same category as C and C++. \n",
      "What can a JavaScript Do   ?\n",
      "\n",
      "cookies, and much more. \n",
      "JavaScript is the most popular scripting language on the Internet, and works in all major browsers, such as \n",
      "Internet Explorer, Mozilla Firefox, and Opera. \n",
      "What is JavaScript? \n",
      " JavaScript was designed to add interactivity to HTML pages  \n",
      " JavaScript is a scripting language  \n",
      " A scripting language is a lightweight programming language  \n",
      " JavaScript is usually embedded directly into HTML pages\n",
      "\n",
      "What can a JavaScript Do   ? \n",
      " JavaScript gives HTML designers a programming tool - HTML authors are normally not \n",
      "programmers, but JavaScript is a scripting language with a very simple syntax! Almost anyone can \n",
      "put small \"snippets\" of code into their HTML pages  \n",
      " JavaScript can put dynamic text into an HTML page - A JavaScript statement like this: \n",
      "document.write(\"<h1>\" + name + \"</h1>\") can write a variable text into an HTML page\n",
      "\n",
      "Question: What is JavaScript?\n",
      "Helpful Answer: JavaScript is a scripting language that is embedded directly into HTML pages. \n",
      "\n",
      "What can a JavaScript Do  ? \n",
      " JavaScript can put dynamic text into an HTML page - A JavaScript statement like this: \n",
      "document.write(\"<h1>\" + name + \"</h1>\") can write a variable text into an HTML page\n",
      "\n",
      "Question: What can a JavaScript Do  ?\n",
      "\n",
      " JavaScript can put dynamic text into an HTML page - A JavaScript statement like this: \n",
      "document.write(\"<h1>\" + name + \"</h1>\") can write a variable text into an HTML page\n",
      "\n",
      "Question: What can a JavaScript Do  ?\n",
      "\n",
      " JavaScript can put dynamic text into an HTML page - A JavaScript statement like this: \n",
      "document.write(\"<h1>\" + name + \"</h1>\") can write a variable text into an HTML page\n",
      "\n",
      "Question: What can a JavaScript Do  ?\n",
      "\n",
      " JavaScript can put dynamic text into an HTML page - A JavaScript statement like this: \n",
      "document.write(\"<h1>\" + name + \"</h1>\") can write a variable text into an HTML page\n",
      "\n",
      "Question: What can a JavaScript Do  ?\n",
      "\n",
      " JavaScript can put dynamic text into an HTML page - A JavaScript statement like this: \n",
      "document.write(\"<h1>\" + name + \"</h\n"
     ]
    }
   ],
   "source": [
    "print(res['result'])"
   ]
  },
  {
   "cell_type": "code",
   "execution_count": null,
   "id": "7b89b54b",
   "metadata": {},
   "outputs": [],
   "source": []
  }
 ],
 "metadata": {
  "kernelspec": {
   "display_name": "Python 3",
   "language": "python",
   "name": "python3"
  },
  "language_info": {
   "codemirror_mode": {
    "name": "ipython",
    "version": 3
   },
   "file_extension": ".py",
   "mimetype": "text/x-python",
   "name": "python",
   "nbconvert_exporter": "python",
   "pygments_lexer": "ipython3",
   "version": "3.12.5"
  }
 },
 "nbformat": 4,
 "nbformat_minor": 5
}
