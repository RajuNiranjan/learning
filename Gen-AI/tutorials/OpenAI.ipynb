{
 "cells": [
  {
   "cell_type": "markdown",
   "id": "2aa65f4f-0620-4032-ae72-38c8be298e9f",
   "metadata": {},
   "source": [
    "OPENA AI COMPLETIONS\n"
   ]
  },
  {
   "cell_type": "code",
   "execution_count": 53,
   "id": "1b63ec72-47a8-4aad-b12a-434f5a4073bc",
   "metadata": {},
   "outputs": [],
   "source": [
    "import openai"
   ]
  },
  {
   "cell_type": "code",
   "execution_count": 54,
   "id": "aa59699b-9112-4d85-afe3-2f6c39ccfccc",
   "metadata": {},
   "outputs": [],
   "source": [
    "import json"
   ]
  },
  {
   "cell_type": "code",
   "execution_count": 55,
   "id": "772c531a-3a87-4fa2-b9c4-0485cd303dcd",
   "metadata": {},
   "outputs": [],
   "source": [
    "import os"
   ]
  },
  {
   "cell_type": "code",
   "execution_count": 56,
   "id": "905ab3ec-9cba-4fef-922c-0dc99e772f4f",
   "metadata": {},
   "outputs": [],
   "source": [
    "from dotenv import load_dotenv"
   ]
  },
  {
   "cell_type": "code",
   "execution_count": 39,
   "id": "0d0bc52e-e642-40f1-941d-fb6f2cfda7ae",
   "metadata": {},
   "outputs": [
    {
     "data": {
      "text/plain": [
       "True"
      ]
     },
     "execution_count": 39,
     "metadata": {},
     "output_type": "execute_result"
    }
   ],
   "source": [
    "load_dotenv()"
   ]
  },
  {
   "cell_type": "code",
   "execution_count": 40,
   "id": "99e9e1da-d3ec-4976-a503-20071e1b642c",
   "metadata": {},
   "outputs": [],
   "source": [
    "OPENAI_API_KEY=os.getenv(\"OPENAI_API_KEY\")"
   ]
  },
  {
   "cell_type": "code",
   "execution_count": 41,
   "id": "6bea77ae-4291-48fd-8489-ab42a2441e8b",
   "metadata": {},
   "outputs": [],
   "source": [
    "from openai import OpenAI"
   ]
  },
  {
   "cell_type": "code",
   "execution_count": 42,
   "id": "fbfb5820-af9c-48a6-8afe-b484f7bd457b",
   "metadata": {},
   "outputs": [],
   "source": [
    "client = OpenAI(api_key=OPENAI_API_KEY)"
   ]
  },
  {
   "cell_type": "code",
   "execution_count": 43,
   "id": "8d4b9b14-6ab0-46fc-a089-ad80dd426abf",
   "metadata": {},
   "outputs": [],
   "source": [
    "person1 = \"Hello, I'm John, I am from Andhra Pradesh, and I am 23 Years Old, currently i am working as Software Developer Engineer -1\""
   ]
  },
  {
   "cell_type": "code",
   "execution_count": 10,
   "id": "51801a83-ebf3-4e3c-bd76-3a1b885bac9e",
   "metadata": {},
   "outputs": [],
   "source": [
    "promt1 = f'''\n",
    "Please Extract the information from the given text and return JSON Object:\n",
    "\n",
    "name\n",
    "place,\n",
    "age\n",
    "role\n",
    "\n",
    "This is the Body of the text to extract the information from:\n",
    "{person1}\n",
    "\n",
    "\n",
    "'''"
   ]
  },
  {
   "cell_type": "code",
   "execution_count": 12,
   "id": "67aef1ca-b06d-4c01-846a-43626e4445c1",
   "metadata": {},
   "outputs": [],
   "source": [
    "res1 = client.chat.completions.create(\n",
    "    model='gpt-4o-mini',\n",
    "    messages=[\n",
    "        {\n",
    "            \"role\":\"user\",\n",
    "            \"content\":promt1\n",
    "        }\n",
    "    ],\n",
    "    max_tokens=50,\n",
    "    extra_headers={\"OpenAI-Beta\":\"assistants=v1\"}\n",
    "    \n",
    ")"
   ]
  },
  {
   "cell_type": "code",
   "execution_count": 13,
   "id": "10c57c3b-0be4-4469-b2f3-41d5d90b701e",
   "metadata": {},
   "outputs": [
    {
     "data": {
      "text/plain": [
       "'Here is the extracted information in a JSON object format:\\n\\n```json\\n{\\n  \"name\": \"John\",\\n  \"place\": \"Andhra Pradesh\",\\n  \"age\": 23,\\n  \"role\": \"Software Developer Engineer -1\"\\n}\\n'"
      ]
     },
     "execution_count": 13,
     "metadata": {},
     "output_type": "execute_result"
    }
   ],
   "source": [
    "res1.choices[0].message.content\n"
   ]
  },
  {
   "cell_type": "code",
   "execution_count": null,
   "id": "ecc17dad-9d6d-4876-9064-ce9b483b1b9b",
   "metadata": {},
   "outputs": [],
   "source": []
  },
  {
   "cell_type": "code",
   "execution_count": null,
   "id": "ec6e6685-78e0-4d41-9ea7-e30c5e519fd1",
   "metadata": {},
   "outputs": [],
   "source": []
  },
  {
   "cell_type": "markdown",
   "id": "72e109e0-442c-49a1-9234-5cb366212411",
   "metadata": {},
   "source": [
    "OPENAI FUNCTION CALLINGS\n"
   ]
  },
  {
   "cell_type": "code",
   "execution_count": 61,
   "id": "e2ad48d9-f734-4ad0-9cd6-1ad63b50b8bd",
   "metadata": {},
   "outputs": [],
   "source": [
    "person_custom_promt = [\n",
    "    {\n",
    "        \"type\": \"function\", \n",
    "        \"function\": {\n",
    "            \"name\": \"extract_person_info\",\n",
    "            \"description\": \"Getting the person's information from the body of the input text\",\n",
    "            \"parameters\": {\n",
    "                \"type\": \"object\",\n",
    "                \"properties\": {\n",
    "                    \"name\": {\n",
    "                        \"type\": \"string\",\n",
    "                        \"description\": \"Name of the Person\"\n",
    "                    },\n",
    "                    \"place\": {\n",
    "                        \"type\": \"string\",\n",
    "                        \"description\": \"From place of the Person\"\n",
    "                    },\n",
    "                    \"age\": {\n",
    "                        \"type\": \"integer\",\n",
    "                        \"description\": \"Age of the Person\"\n",
    "                    },\n",
    "                    \"role\": {\n",
    "                        \"type\": \"string\",\n",
    "                        \"description\": \"Designation of the Person\"\n",
    "                    }\n",
    "                },\n",
    "                \"required\": [\"name\", \"place\", \"age\", \"role\"]\n",
    "            }\n",
    "        }\n",
    "    }\n",
    "]\n"
   ]
  },
  {
   "cell_type": "code",
   "execution_count": 70,
   "id": "fd73cd1b-2bc9-4989-8e9d-cdf2d468135e",
   "metadata": {},
   "outputs": [],
   "source": [
    "res2 = client.chat.completions.create(\n",
    "    model=\"gpt-4o-mini\",\n",
    "    messages=[\n",
    "        {\n",
    "            \"role\":\"user\",\n",
    "            \"content\":person1\n",
    "        }\n",
    "    ],\n",
    "    tools=person_custom_promt,\n",
    "    tool_choice=\"auto\",\n",
    "    max_tokens=100\n",
    ")"
   ]
  },
  {
   "cell_type": "code",
   "execution_count": 71,
   "id": "adbec7b9-140b-4b44-ac4c-1c33b54fb5ab",
   "metadata": {},
   "outputs": [
    {
     "data": {
      "text/plain": [
       "{'name': 'John',\n",
       " 'place': 'Andhra Pradesh',\n",
       " 'age': 23,\n",
       " 'role': 'Software Developer Engineer -1'}"
      ]
     },
     "execution_count": 71,
     "metadata": {},
     "output_type": "execute_result"
    }
   ],
   "source": [
    "op1=res2.choices[0].message.tool_calls[0].function.arguments\n",
    "json.loads(op1)"
   ]
  },
  {
   "cell_type": "code",
   "execution_count": 72,
   "id": "f247b4e3-0e40-4f15-891d-1da98252cb30",
   "metadata": {},
   "outputs": [],
   "source": [
    "person2 = \"Hello, I'm Deo, I am from Madya Pradesh, and I am 25 Years Old, currently i am working as Front End Developer\"\n",
    "person3 = \"Hello, I'm Dhevasena, I am from Chennai, and I am 21 Years Old, currently i am working as SAP Developer\"\n"
   ]
  },
  {
   "cell_type": "code",
   "execution_count": null,
   "id": "3d14eaa9-a875-4ebd-8a66-780cb9a40f12",
   "metadata": {},
   "outputs": [],
   "source": []
  },
  {
   "cell_type": "code",
   "execution_count": 73,
   "id": "fbbb4edd-d8e0-49eb-8980-a69f6acd1e46",
   "metadata": {},
   "outputs": [
    {
     "name": "stdout",
     "output_type": "stream",
     "text": [
      "{'name': 'John', 'place': 'Andhra Pradesh', 'age': 23, 'role': 'Software Developer Engineer -1'}\n",
      "{'name': 'Deo', 'place': 'Madya Pradesh', 'age': 25, 'role': 'Front End Developer'}\n",
      "{'name': 'Dhevasena', 'place': 'Chennai', 'age': 21, 'role': 'SAP Developer'}\n"
     ]
    }
   ],
   "source": [
    "users = [person1, person2, person3,]\n",
    "\n",
    "for user in users:\n",
    "    res3=client.chat.completions.create(\n",
    "        model='gpt-4o-mini',\n",
    "        messages=[{\"role\":\"user\", \"content\":user}],\n",
    "        tools=person_custom_promt,\n",
    "        tool_choice=\"auto\",\n",
    "        max_tokens=100\n",
    "    )\n",
    "    argumens=json.loads(res3.choices[0].message.tool_calls[0].function.arguments)\n",
    "    print(argumens)\n",
    "    "
   ]
  },
  {
   "cell_type": "code",
   "execution_count": null,
   "id": "5677acf4-6636-476c-844b-31a5bfb1a5ff",
   "metadata": {},
   "outputs": [],
   "source": []
  }
 ],
 "metadata": {
  "kernelspec": {
   "display_name": "Python 3 (ipykernel)",
   "language": "python",
   "name": "python3"
  },
  "language_info": {
   "codemirror_mode": {
    "name": "ipython",
    "version": 3
   },
   "file_extension": ".py",
   "mimetype": "text/x-python",
   "name": "python",
   "nbconvert_exporter": "python",
   "pygments_lexer": "ipython3",
   "version": "3.12.5"
  }
 },
 "nbformat": 4,
 "nbformat_minor": 5
}
