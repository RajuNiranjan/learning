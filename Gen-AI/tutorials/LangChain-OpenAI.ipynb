{
 "cells": [
  {
   "cell_type": "code",
   "execution_count": 1,
   "id": "ebf6bd15-1dff-4ddf-8da9-53eb3cf68bfa",
   "metadata": {},
   "outputs": [],
   "source": [
    "import os"
   ]
  },
  {
   "cell_type": "code",
   "execution_count": 2,
   "id": "5c8cfe69-8d0b-4e61-be99-f466fe30693f",
   "metadata": {},
   "outputs": [],
   "source": [
    "from dotenv import load_dotenv"
   ]
  },
  {
   "cell_type": "code",
   "execution_count": 3,
   "id": "b337ec37-2d37-4f18-8222-5dd08562c9ea",
   "metadata": {},
   "outputs": [
    {
     "data": {
      "text/plain": [
       "True"
      ]
     },
     "execution_count": 3,
     "metadata": {},
     "output_type": "execute_result"
    }
   ],
   "source": [
    "load_dotenv()"
   ]
  },
  {
   "cell_type": "code",
   "execution_count": 4,
   "id": "ba4ab551-48e5-41f9-a9b2-cdff8f0eb7fa",
   "metadata": {},
   "outputs": [],
   "source": [
    "import langchain"
   ]
  },
  {
   "cell_type": "code",
   "execution_count": 5,
   "id": "650edbcc-7621-41f7-b92b-c957f4333645",
   "metadata": {},
   "outputs": [],
   "source": [
    "from langchain_openai import OpenAI"
   ]
  },
  {
   "cell_type": "code",
   "execution_count": 6,
   "id": "5c886c54-3855-4bed-b00e-7317399ea2ae",
   "metadata": {},
   "outputs": [],
   "source": [
    "OPENAI_API_KEY=os.getenv(\"OPENAI_API_KEY\")"
   ]
  },
  {
   "cell_type": "code",
   "execution_count": 7,
   "id": "15531b4f-a760-49d9-b2d3-93354b08e528",
   "metadata": {},
   "outputs": [],
   "source": [
    "client = OpenAI(openai_api_key=OPENAI_API_KEY, model=\"gpt-4o-mini\")"
   ]
  },
  {
   "cell_type": "code",
   "execution_count": 23,
   "id": "51940bd3-b32e-41d9-ac7b-4aa8c4ce6324",
   "metadata": {},
   "outputs": [],
   "source": [
    "promt1 = \"what is the capital of karnataka\""
   ]
  },
  {
   "cell_type": "code",
   "execution_count": 24,
   "id": "826be29e-de8e-4fc7-b045-80b680d0ddf6",
   "metadata": {},
   "outputs": [],
   "source": [
    "res1 = client.invoke(promt1).strip()"
   ]
  },
  {
   "cell_type": "code",
   "execution_count": 25,
   "id": "91604e83-5798-4594-91fc-b1041221ce1c",
   "metadata": {},
   "outputs": [
    {
     "data": {
      "text/plain": [
       "'The capital of Karnataka is Bengaluru (formerly known as Bangalore). It is the largest city in the state and serves as a major economic and cultural hub in India.'"
      ]
     },
     "execution_count": 25,
     "metadata": {},
     "output_type": "execute_result"
    }
   ],
   "source": [
    "res1"
   ]
  },
  {
   "cell_type": "code",
   "execution_count": 30,
   "id": "44bf5893-fa8d-47b2-8d44-2e6691837bdf",
   "metadata": {},
   "outputs": [],
   "source": [
    "promt2=\"what is LLM\""
   ]
  },
  {
   "cell_type": "code",
   "execution_count": 31,
   "id": "53c23d46-c275-407d-bc11-d02aae204f27",
   "metadata": {},
   "outputs": [
    {
     "data": {
      "text/plain": [
       "'again?\".\\n\\nLLM stands for \"Large Language Model.\" It refers to a type of artificial intelligence model trained on vast amounts of text data to understand and generate human language. These models, like GPT-3, can perform various language-related tasks, such as answering questions, summarizing texts, translating languages, and more, by using patterns learned from the training data. The \"large\" in LLM indicates that these models typically have millions or even billions of parameters, allowing them to capture complex language nuances.'"
      ]
     },
     "execution_count": 31,
     "metadata": {},
     "output_type": "execute_result"
    }
   ],
   "source": [
    "res2 = client.invoke(promt2).strip()\n",
    "res2"
   ]
  },
  {
   "cell_type": "code",
   "execution_count": null,
   "id": "16be3bfd-d803-4305-848d-947ca53a697c",
   "metadata": {},
   "outputs": [],
   "source": []
  }
 ],
 "metadata": {
  "kernelspec": {
   "display_name": "Python 3 (ipykernel)",
   "language": "python",
   "name": "python3"
  },
  "language_info": {
   "codemirror_mode": {
    "name": "ipython",
    "version": 3
   },
   "file_extension": ".py",
   "mimetype": "text/x-python",
   "name": "python",
   "nbconvert_exporter": "python",
   "pygments_lexer": "ipython3",
   "version": "3.12.5"
  }
 },
 "nbformat": 4,
 "nbformat_minor": 5
}
