{
 "cells": [
  {
   "cell_type": "markdown",
   "id": "f6cc149f-ffaf-47a4-b145-1636895de628",
   "metadata": {},
   "source": [
    "# DOCUMENT LOADER"
   ]
  },
  {
   "cell_type": "code",
   "execution_count": 27,
   "id": "c54b8a6c-badc-43af-af53-3695d6bf0091",
   "metadata": {},
   "outputs": [],
   "source": [
    "from langchain.document_loaders import PyPDFLoader"
   ]
  },
  {
   "cell_type": "code",
   "execution_count": 28,
   "id": "cccfb57f-cc35-43b8-b0f9-f85b683cc786",
   "metadata": {},
   "outputs": [],
   "source": [
    "loader = PyPDFLoader(r\"E:\\resume_niranjan_raju.pdf\")"
   ]
  },
  {
   "cell_type": "code",
   "execution_count": 29,
   "id": "125f092b-29bf-4007-8202-839b372abcf9",
   "metadata": {},
   "outputs": [],
   "source": [
    "pages = loader.load_and_split()"
   ]
  },
  {
   "cell_type": "code",
   "execution_count": 30,
   "id": "e13fa333-98f4-4d21-b22f-206566328414",
   "metadata": {},
   "outputs": [
    {
     "data": {
      "text/plain": [
       "[Document(metadata={'producer': 'Skia/PDF m131', 'creator': 'Mozilla/5.0 (X11; Linux x86_64) AppleWebKit/537.36 (KHTML, like Gecko) HeadlessChrome/131.0.0.0 Safari/537.36', 'creationdate': '2025-01-29T17:04:16+00:00', 'title': 'about:blank', 'moddate': '2025-01-29T17:04:16+00:00', 'source': 'E:\\\\resume_niranjan_raju.pdf', 'total_pages': 1, 'page': 0, 'page_label': '1'}, page_content='Niranjan Raju\\nFull Stack Engineer\\n9849592791 | rajuniranjan1910@gmail.com | LinkedIn | GitHub | Portfolio\\nSUMMARY\\nSoftware Engineer with 1 year of experience in developing web applications, enhancing performance, and optimizing\\nbackend systems for efficiency.\\nSKILLS\\nProgramming Languages : JavaScript, TypeScript\\nFront End Technologies : ReactJS, Next.js, Redux Toolkit, Zustand, Tailwind CSS, Material-UI, shadcn/ui\\nBack End Technologies : Node.js, Express.js, Nest.js\\nDatabase : MongoDB\\nOthers : React Developer Tools, Redux DevTools, Git, VS Code, RESTful APIs, JWT, axios\\nWORK EXPERIENCE\\nSoftware Developer, FlyingFox Labs Pvt Ltd, Hyderabd, India Apr 2024 - Present\\nCustomized Keycloak themes, integrated custom SSO providers to improve authentication setup efficiency by 40% and\\nstreamline onboarding by 30%.\\nBuilt a responsive meeting scheduling app that facilitates patient-doctor appointments with real-time slot availability,\\nenhancing the efficiency of bookings 30%.\\nDeveloped the landing page for showing the feature of the multiplatform.one framework, utilizing data from GraphQL\\nqueries.\\n Tech Stack: React.js, Next.js, TypeScript, Zustand, Tamagui, socket.io, Nest.js, MongoDB\\nFull Stack Developer Intern, ThubmStack Technologies, Mumbai, India Jan 2024 - Apr 2024\\nDeveloped a scalable e-commerce platform, boosting system performance by 35% and increasing user engagement by\\n30% with features like cart, Wishlist, and order management.\\nImplemented secure JWT authentication, reducing unauthorized access by 40% and enhancing session management for\\na seamless user experience.\\nOptimized UI/UX design, achieving a 50% reduction in page load times and a 25% improvement in user satisfaction.\\nTech Stack: Next.js, TypeScript, Tailwind CSS, Redux Toolkit, Material-UI, Cloudinary, Nest.js, MongoDB.\\nFront End Developer Intern, KLUB STACk, Chennai, India Oct 2023 - Jan 2024\\nDesigned a responsive user interface for an email automation platform, increasing prospecting efficiency by 40%.\\nIntegrated GPT-3 for personalized email generation, increasing user engagement by 35% and lead conversions by 25%.\\nBuilt a real-time dashboard to track email performance metrics, enabling faster campaign optimization 30%.\\nTech Stack: React.js, Next.js, JavaScript, Tailwind CSS, Redux Toolkit, Material-UI, shadcn/ui, ApexCharts.js\\nEDUCATION\\nKKR & KSR Institute of Technology and Sciences, Guntur, India - B.Tech, EEE - GPA: 7.01 Aug 2019 - May 2023\\nPROJECTS\\nMentorsKlub web app, L i n k \\nDeveloped a meeting scheduling application with role-based access control (RBAC) for Mentors and Mentees,\\nenabling personalized user experiences and secure authorization. Integrated JWT authentication, ensuring secure access\\nmanagement and session persistence.\\nEnhanced scheduling efficiency by 30% and improved accessibility by 40% by implementing an intuitive UI and\\noptimizing database queries for real-time availability.\\nTech Stack: React, Nest.js, MongoDB, Tailwind CSS, Material-UI, Redux Toolkit.\\nTrendSet – A Full-Stack E-Commerce Platform, L i n k \\nDesigned, developed, and deployed a full-stack e-commerce application using the MERN stack, featuring JWT\\nauthentication, user profiles, cart, and wishlist functionalities for a seamless shopping experience.\\nOptimized performance, achieving a 40% speed improvement and boosted user engagement by 35% through\\nefficient state management.\\nTech Stack: Next.js, JavaScript, Express.js, MongoDB, Tailwind CSS, Redux Toolkit, Shadcn/ui, cloudinary.')]"
      ]
     },
     "execution_count": 30,
     "metadata": {},
     "output_type": "execute_result"
    }
   ],
   "source": [
    "pages"
   ]
  },
  {
   "cell_type": "code",
   "execution_count": null,
   "id": "0ca9ba0a-b3df-4a6b-bd87-fee9f225802d",
   "metadata": {},
   "outputs": [],
   "source": []
  }
 ],
 "metadata": {
  "kernelspec": {
   "display_name": "Python 3 (ipykernel)",
   "language": "python",
   "name": "python3"
  },
  "language_info": {
   "codemirror_mode": {
    "name": "ipython",
    "version": 3
   },
   "file_extension": ".py",
   "mimetype": "text/x-python",
   "name": "python",
   "nbconvert_exporter": "python",
   "pygments_lexer": "ipython3",
   "version": "3.12.5"
  }
 },
 "nbformat": 4,
 "nbformat_minor": 5
}
