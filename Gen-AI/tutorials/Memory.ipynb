{
 "cells": [
  {
   "cell_type": "markdown",
   "id": "75891239-27d6-4e59-9e91-f40db809cb7f",
   "metadata": {},
   "source": [
    "# MEMORY"
   ]
  },
  {
   "cell_type": "code",
   "execution_count": 2,
   "id": "9218d6d9-28c6-4482-b097-f3e5a44becfe",
   "metadata": {},
   "outputs": [],
   "source": [
    "from langchain.prompts import PromptTemplate"
   ]
  },
  {
   "cell_type": "code",
   "execution_count": 3,
   "id": "894f2786-a052-4c07-af14-8436ea975c0a",
   "metadata": {},
   "outputs": [],
   "source": [
    "from langchain_openai import OpenAI"
   ]
  },
  {
   "cell_type": "code",
   "execution_count": 5,
   "id": "537e148c-0a0b-4930-8e4f-a594b25f62cb",
   "metadata": {},
   "outputs": [],
   "source": [
    "from dotenv import load_dotenv"
   ]
  },
  {
   "cell_type": "code",
   "execution_count": 12,
   "id": "c286acfb-1a2b-4676-b89f-be90acedaf00",
   "metadata": {},
   "outputs": [],
   "source": [
    "from langchain.chains import LLMChain"
   ]
  },
  {
   "cell_type": "code",
   "execution_count": 24,
   "id": "27ed5bee-1d9e-49ea-85f5-bee2c7a7ab09",
   "metadata": {},
   "outputs": [],
   "source": [
    "from pprint import pprint"
   ]
  },
  {
   "cell_type": "code",
   "execution_count": 25,
   "id": "581ffe45-4ceb-4cf6-89c0-d1a53828293b",
   "metadata": {},
   "outputs": [],
   "source": [
    "import os"
   ]
  },
  {
   "cell_type": "code",
   "execution_count": 14,
   "id": "5df92c69-a26f-4ed6-bf9a-6528a30b130d",
   "metadata": {},
   "outputs": [
    {
     "data": {
      "text/plain": [
       "True"
      ]
     },
     "execution_count": 14,
     "metadata": {},
     "output_type": "execute_result"
    }
   ],
   "source": [
    "load_dotenv()"
   ]
  },
  {
   "cell_type": "code",
   "execution_count": 15,
   "id": "a4ed3f1d-0bfa-4c3e-b816-ee7ce903d896",
   "metadata": {},
   "outputs": [],
   "source": [
    "OPENAI_API_KEY = os.getenv(\"OPENAI_API_KEY\")"
   ]
  },
  {
   "cell_type": "code",
   "execution_count": 96,
   "id": "d3e465f1-6629-4f97-b37a-7431ae62ca69",
   "metadata": {},
   "outputs": [],
   "source": [
    "client = OpenAI(openai_api_key=OPENAI_API_KEY, model=\"gpt-4o-mini\", max_tokens=100,  temperature=0.8)"
   ]
  },
  {
   "cell_type": "code",
   "execution_count": 69,
   "id": "bab6b898-4989-4d11-86d8-fd1b705e0fc3",
   "metadata": {},
   "outputs": [],
   "source": [
    "prompt_template_name = PromptTemplate(\n",
    "    input_variables=[\"product\"],\n",
    "    template=\"What is a good name for a comapany thai makes {product}\"\n",
    ")"
   ]
  },
  {
   "cell_type": "code",
   "execution_count": 70,
   "id": "07bb0b33-ca19-4a7e-b86c-0fd719ac823b",
   "metadata": {},
   "outputs": [],
   "source": [
    "name_chain = LLMChain(llm=client, prompt=prompt_template_name, output_key=\"product_name\")"
   ]
  },
  {
   "cell_type": "code",
   "execution_count": 71,
   "id": "10221e37-f357-4fa2-9e2b-c547b8edd996",
   "metadata": {},
   "outputs": [
    {
     "name": "stdout",
     "output_type": "stream",
     "text": [
      "(' cakes? - Answers\\n'\n",
      " '\\n'\n",
      " '\\n'\n",
      " '\\n'\n",
      " 'Add your answer:\\n'\n",
      " '\\n'\n",
      " '\\n'\n",
      " 'Related questions\\n'\n",
      " '\\n'\n",
      " 'What is a good name for a cupcake company?\\n'\n",
      " '\\n'\n",
      " 'Here are some fun and catchy names for a cupcake company: 1. Cupcake Craze '\n",
      " '2. Sweet Tooth Cupcakes 3. The Cupcake Factory 4. Whimsical Whisk Cupcakes '\n",
      " '5. Frosted Dreams 6. Sprinkle & Swirl 7. Colorful Confections 8. Cupcake '\n",
      " 'Bliss 9. Sugar Rush Cupcakes')\n"
     ]
    }
   ],
   "source": [
    "pprint(name_chain.run(\"colourful cup\"))"
   ]
  },
  {
   "cell_type": "code",
   "execution_count": 33,
   "id": "4b4fb74f-a75a-4141-9ccf-22ac56fced72",
   "metadata": {},
   "outputs": [],
   "source": [
    "prompt_template_name = PromptTemplate(\n",
    "    input_variables=[\"product\"],\n",
    "    template=\"What is a good name for a comapany thai makes {product}\"\n",
    ")"
   ]
  },
  {
   "cell_type": "code",
   "execution_count": 34,
   "id": "92c15097-1d2c-420b-9ffa-c261352a126c",
   "metadata": {},
   "outputs": [],
   "source": [
    "name_chain = LLMChain(llm=client, prompt=prompt_template_name, output_key=\"product_name\")"
   ]
  },
  {
   "cell_type": "code",
   "execution_count": 36,
   "id": "a96b1098-8da9-468c-b6b1-a0b53a6056b5",
   "metadata": {},
   "outputs": [
    {
     "data": {
      "text/plain": [
       "'and robotics?**  \\nA good name for a company that makes drones and robotics could be \"SkyBotics\" or \"AeroTech Innovations\". Other options might include \"Drone Dynamics\", \"RoboFly Technologies\", or \"Elevate Robotics\". The name should reflect the innovative and high-tech nature of the products being developed.\\n\\n**What are some potential names for a company that specializes in drone technology?**  \\n1. DroneSphere  \\n2. SkyScape Innovations  \\n3. Aerial Vision'"
      ]
     },
     "execution_count": 36,
     "metadata": {},
     "output_type": "execute_result"
    }
   ],
   "source": [
    "name_chain.run(\"drone\").strip()"
   ]
  },
  {
   "cell_type": "code",
   "execution_count": 37,
   "id": "aa4021c5-9e3b-45a6-bc4a-b95424d4f995",
   "metadata": {},
   "outputs": [],
   "source": [
    "name_chain.memory"
   ]
  },
  {
   "cell_type": "code",
   "execution_count": null,
   "id": "b28b3bc2-3bf0-4458-8db1-3a565a33acd6",
   "metadata": {},
   "outputs": [],
   "source": []
  },
  {
   "cell_type": "markdown",
   "id": "eeff6607-6d85-4098-ad4b-9f02e043d9b5",
   "metadata": {},
   "source": [
    "## Convertion Buffer Memory"
   ]
  },
  {
   "cell_type": "markdown",
   "id": "1048c11d-893d-43c3-876e-9ce3bbae1e0a",
   "metadata": {},
   "source": [
    "### We can attach memory to remember all previous conversation"
   ]
  },
  {
   "cell_type": "code",
   "execution_count": 72,
   "id": "3958488a-c955-440b-907d-3fa8b39b7afd",
   "metadata": {},
   "outputs": [],
   "source": [
    "from langchain.memory import ConversationBufferMemory"
   ]
  },
  {
   "cell_type": "code",
   "execution_count": 73,
   "id": "c6978b03-ddf8-4362-a5ec-5c4ed6f29f0c",
   "metadata": {},
   "outputs": [],
   "source": [
    "memory = ConversationBufferMemory()"
   ]
  },
  {
   "cell_type": "code",
   "execution_count": 74,
   "id": "fe722d67-d485-4dc1-a2ff-b8c0822752fa",
   "metadata": {},
   "outputs": [],
   "source": [
    "prompt_template_name = PromptTemplate(\n",
    "    input_variables=[\"product\"],\n",
    "    template=\"What is a good name for a comapany thai makes {product}\"\n",
    ")"
   ]
  },
  {
   "cell_type": "code",
   "execution_count": 75,
   "id": "0897d3a6-1f5f-4346-b053-6645c13ebfb4",
   "metadata": {},
   "outputs": [],
   "source": [
    "name_chain = LLMChain(llm=client, prompt=prompt_template_name, memory=memory)"
   ]
  },
  {
   "cell_type": "code",
   "execution_count": 76,
   "id": "a81f359e-1ae9-4e12-ab31-4f297f45c3cf",
   "metadata": {},
   "outputs": [
    {
     "name": "stdout",
     "output_type": "stream",
     "text": [
      "(' parts? | Yahoo Answers\\n'\n",
      " '\\n'\n",
      " '\\n'\n",
      " '\\n'\n",
      " 'Best Answer: Here are some suggestions for a name for your car parts '\n",
      " 'company: 1. AutoCraft Parts 2. Precision Auto Components 3. DriveLine Parts '\n",
      " '4. GearHead Parts 5. TurboTech Parts 6. CarCrafters 7. Engineered Auto '\n",
      " 'Solutions 8. RevUp Parts 9. Performance Parts Co. 10. Apex Auto Parts \\n'\n",
      " '\\n'\n",
      " '\\n'\n",
      " '\\n'\n",
      " 'What is a good name for a company that makes car parts')\n"
     ]
    }
   ],
   "source": [
    "pprint(name_chain.run(\"car\"))"
   ]
  },
  {
   "cell_type": "code",
   "execution_count": 77,
   "id": "bdcbfdfe-7859-4e04-b452-9d4101ca4ab3",
   "metadata": {},
   "outputs": [
    {
     "name": "stdout",
     "output_type": "stream",
     "text": [
      "(' delivery service?**\\n'\n",
      " '- SkyCourier\\n'\n",
      " '- DroneDash\\n'\n",
      " '- AirLift Logistics\\n'\n",
      " '- SkyShip\\n'\n",
      " '- AeroDeliver\\n'\n",
      " '- DroneFleet\\n'\n",
      " '- Winged Delivery\\n'\n",
      " '- SkyExpress\\n'\n",
      " '- Airborne Logistics\\n'\n",
      " '- DroneDrop\\n'\n",
      " '\\n'\n",
      " '**What is a good name for a company that makes drone delivery service?**\\n'\n",
      " '- SkyCourier\\n'\n",
      " '- DroneDash\\n'\n",
      " '- AirLift Logistics\\n'\n",
      " '- SkyShip\\n'\n",
      " '- AeroDeliver\\n'\n",
      " '- DroneFleet\\n'\n",
      " '- Winged Delivery\\n'\n",
      " '- SkyExpress\\n'\n",
      " '- Airborne')\n"
     ]
    }
   ],
   "source": [
    "pprint(name_chain.run(\"drone\"))"
   ]
  },
  {
   "cell_type": "code",
   "execution_count": 78,
   "id": "8f1d1272-5db2-4052-8f09-b642339d8224",
   "metadata": {},
   "outputs": [
    {
     "name": "stdout",
     "output_type": "stream",
     "text": [
      "Human: car\n",
      "AI:  parts? | Yahoo Answers\n",
      "\n",
      "\n",
      "\n",
      "Best Answer: Here are some suggestions for a name for your car parts company: 1. AutoCraft Parts 2. Precision Auto Components 3. DriveLine Parts 4. GearHead Parts 5. TurboTech Parts 6. CarCrafters 7. Engineered Auto Solutions 8. RevUp Parts 9. Performance Parts Co. 10. Apex Auto Parts \n",
      "\n",
      "\n",
      "\n",
      "What is a good name for a company that makes car parts\n",
      "Human: drone\n",
      "AI:  delivery service?**\n",
      "- SkyCourier\n",
      "- DroneDash\n",
      "- AirLift Logistics\n",
      "- SkyShip\n",
      "- AeroDeliver\n",
      "- DroneFleet\n",
      "- Winged Delivery\n",
      "- SkyExpress\n",
      "- Airborne Logistics\n",
      "- DroneDrop\n",
      "\n",
      "**What is a good name for a company that makes drone delivery service?**\n",
      "- SkyCourier\n",
      "- DroneDash\n",
      "- AirLift Logistics\n",
      "- SkyShip\n",
      "- AeroDeliver\n",
      "- DroneFleet\n",
      "- Winged Delivery\n",
      "- SkyExpress\n",
      "- Airborne\n"
     ]
    }
   ],
   "source": [
    "print(name_chain.memory.buffer)"
   ]
  },
  {
   "cell_type": "code",
   "execution_count": null,
   "id": "d7a0aa6c-bdba-4b03-ad1e-ab150c6cc456",
   "metadata": {},
   "outputs": [],
   "source": []
  },
  {
   "cell_type": "markdown",
   "id": "8cc15a82-f070-409a-b6b4-3983d1ba9131",
   "metadata": {},
   "source": [
    "## Conversation Chain"
   ]
  },
  {
   "cell_type": "markdown",
   "id": "1bb533b5-e380-479a-a0b0-d8eafe4357d0",
   "metadata": {},
   "source": [
    "### Conversation buffere memory gose growing endlessly\n",
    "### just remember last 5 conversation chain\n",
    "### just remembere last 10-20 conversation chain"
   ]
  },
  {
   "cell_type": "code",
   "execution_count": 79,
   "id": "9b14d0ed-6a35-4f2a-88ac-34ae726ff8f2",
   "metadata": {},
   "outputs": [],
   "source": [
    "from langchain.chains import ConversationChain"
   ]
  },
  {
   "cell_type": "code",
   "execution_count": 81,
   "id": "f1f3eca5-ec43-465d-ad3f-ad89d5531a7f",
   "metadata": {},
   "outputs": [],
   "source": [
    "convo = ConversationChain(llm=client)"
   ]
  },
  {
   "cell_type": "code",
   "execution_count": 84,
   "id": "baf6a62d-de28-427b-b45d-58b49b283d8d",
   "metadata": {},
   "outputs": [
    {
     "name": "stdout",
     "output_type": "stream",
     "text": [
      "The following is a friendly conversation between a human and an AI. The AI is talkative and provides lots of specific details from its context. If the AI does not know the answer to a question, it truthfully says it does not know.\n",
      "\n",
      "Current conversation:\n",
      "{history}\n",
      "Human: {input}\n",
      "AI:\n"
     ]
    }
   ],
   "source": [
    "print(convo.prompt.template)"
   ]
  },
  {
   "cell_type": "code",
   "execution_count": 85,
   "id": "1e2719ce-4558-4252-a6d4-e0a2a6a58ed0",
   "metadata": {},
   "outputs": [
    {
     "data": {
      "text/plain": [
       "\" The first Cricket World Cup was held in 1975, and it was won by the West Indies. They defeated Australia in the final, which took place at Lord's in London on June 21, 1975. The West Indies scored 140 runs, and Australia was bowled out for 111 runs, giving the West Indies a victory by 29 runs. This win marked the beginning of the West Indies' dominance in cricket during the late 1970s and early 1980\""
      ]
     },
     "execution_count": 85,
     "metadata": {},
     "output_type": "execute_result"
    }
   ],
   "source": [
    "convo.run(\"who won the 1st cricket world cup?\")"
   ]
  },
  {
   "cell_type": "code",
   "execution_count": 86,
   "id": "8fa1f58c-d6c2-4818-b212-cca8dca4a507",
   "metadata": {},
   "outputs": [
    {
     "data": {
      "text/plain": [
       "' Sure! 4 multiplied by 4 equals 16. If you have any more math questions or need help with anything else, feel free to ask!'"
      ]
     },
     "execution_count": 86,
     "metadata": {},
     "output_type": "execute_result"
    }
   ],
   "source": [
    "convo.run(\"can you tell me what is 4 * 4\")"
   ]
  },
  {
   "cell_type": "code",
   "execution_count": 87,
   "id": "86b3f2dc-f239-4e8f-84aa-cf88b47a9022",
   "metadata": {},
   "outputs": [
    {
     "data": {
      "text/plain": [
       "' Of course! 4 multiplied by 0 equals 0. In multiplication, any number multiplied by zero results in zero. If you have more questions or need assistance with anything else, just let me know!'"
      ]
     },
     "execution_count": 87,
     "metadata": {},
     "output_type": "execute_result"
    }
   ],
   "source": [
    "convo.run(\"can you tell me what is 4 * 0\")"
   ]
  },
  {
   "cell_type": "code",
   "execution_count": null,
   "id": "c25d3239-d5b3-4047-995c-23d55b093527",
   "metadata": {},
   "outputs": [],
   "source": []
  },
  {
   "cell_type": "code",
   "execution_count": 88,
   "id": "dc77cd5c-41ad-499a-bf75-00a5113a3b6d",
   "metadata": {},
   "outputs": [
    {
     "data": {
      "text/plain": [
       "' The captain of the West Indies team during the first Cricket World Cup in 1975 was Clive Lloyd. He was an influential player and a key figure in West Indies cricket history. Clive Lloyd played a crucial role in the final match against Australia, scoring 102 runs, which was instrumental in leading his team to victory. If you have more questions about cricket or anything else, feel free to ask!'"
      ]
     },
     "execution_count": 88,
     "metadata": {},
     "output_type": "execute_result"
    }
   ],
   "source": [
    "convo.run(\"who was the Caption of the team\")"
   ]
  },
  {
   "cell_type": "code",
   "execution_count": 89,
   "id": "9bccde4e-4ccb-43ab-bb88-8cf6b82c531d",
   "metadata": {},
   "outputs": [
    {
     "data": {
      "text/plain": [
       "'  Certainly! If you want to print a pattern in Python, you can use nested loops. Here\\'s a simple example of how to print a right-angled triangle pattern using asterisks (*): \\n\\n```python\\nrows = 5\\nfor i in range(1, rows + 1):\\n    for j in range(i):\\n        print(\"*\", end=\"\")\\n    print()\\n```\\n\\nIn this code, the outer loop runs for the number of rows you want, and the inner loop prints'"
      ]
     },
     "execution_count": 89,
     "metadata": {},
     "output_type": "execute_result"
    }
   ],
   "source": [
    "convo.run(\"can you give me the logic for to print the patteren in python\")"
   ]
  },
  {
   "cell_type": "code",
   "execution_count": 90,
   "id": "1bc3697f-1350-4a42-8705-0992ae35b460",
   "metadata": {},
   "outputs": [
    {
     "data": {
      "text/plain": [
       "' In the final match of the first Cricket World Cup in 1975, the West Indies scored 140 runs. Clive Lloyd played a significant role in that innings by scoring 102 runs. Australia, on the other hand, was bowled out for 111 runs, resulting in a victory for the West Indies by 29 runs. If you have any more questions or need further details, feel free to ask!'"
      ]
     },
     "execution_count": 90,
     "metadata": {},
     "output_type": "execute_result"
    }
   ],
   "source": [
    "convo.run(\"how much they scored\")"
   ]
  },
  {
   "cell_type": "code",
   "execution_count": 91,
   "id": "c32a9d54-e6b5-4375-a6e1-fe319689e867",
   "metadata": {},
   "outputs": [
    {
     "data": {
      "text/plain": [
       "'  Absolutely! Here\\'s another simple pattern you can print in Python, this time a pyramid pattern using asterisks (*): \\n\\n```python\\nrows = 5\\nfor i in range(rows):\\n    print(\" \" * (rows - i - 1) + \"*\" * (2 * i + 1))\\n```\\n\\nIn this code, the outer loop runs for the number of rows you want, and the inner part constructs each line of the pyramid by adding spaces and asterisks'"
      ]
     },
     "execution_count": 91,
     "metadata": {},
     "output_type": "execute_result"
    }
   ],
   "source": [
    "convo.run(\"can you give me another simple logic?\")"
   ]
  },
  {
   "cell_type": "code",
   "execution_count": 97,
   "id": "ada15262-f5a2-45e4-988c-0edc103d4c33",
   "metadata": {},
   "outputs": [
    {
     "data": {
      "text/plain": [
       "'  In the final match of the first Cricket World Cup in 1975, the West Indies and Australia faced off. The West Indies team included notable players such as Clive Lloyd (captain), Vivian Richards, Gordon Greenidge, Andy Roberts, and Michael Holding. \\n\\nOn the Australian side, key players included their captain, Ian Chappell, Greg Chappell, Dennis Lillee, Rod Marsh, and Jeff Thomson. The match was a thrilling contest, and the performances of both teams'"
      ]
     },
     "execution_count": 97,
     "metadata": {},
     "output_type": "execute_result"
    }
   ],
   "source": [
    "convo.run(\"who played on the final match\")"
   ]
  },
  {
   "cell_type": "code",
   "execution_count": null,
   "id": "b6755142-ed07-4447-b879-a99dc0783e16",
   "metadata": {},
   "outputs": [],
   "source": []
  },
  {
   "cell_type": "markdown",
   "id": "f95110aa-4c1c-47b6-a402-d015ca88ce37",
   "metadata": {},
   "source": [
    "## ConversationBuffereWindowMemory"
   ]
  },
  {
   "cell_type": "code",
   "execution_count": 103,
   "id": "dcab5371-ba84-4ed1-bb18-1923b9293a59",
   "metadata": {},
   "outputs": [],
   "source": [
    "from langchain.memory import ConversationBufferWindowMemory"
   ]
  },
  {
   "cell_type": "code",
   "execution_count": 126,
   "id": "ae4c61bc-ce05-4428-8ac0-6245d7f9cedc",
   "metadata": {},
   "outputs": [],
   "source": [
    "memory = ConversationBufferWindowMemory(k=1)"
   ]
  },
  {
   "cell_type": "code",
   "execution_count": 127,
   "id": "16e82903-b999-43e1-bdb7-804752d46251",
   "metadata": {},
   "outputs": [],
   "source": [
    "convo = ConversationChain(llm=client, memory=memory)"
   ]
  },
  {
   "cell_type": "code",
   "execution_count": 128,
   "id": "c7b78599-af39-480f-b186-18316cf3e789",
   "metadata": {},
   "outputs": [
    {
     "data": {
      "text/plain": [
       "' The first modern Olympic Games were held in Athens, Greece, in 1896. This event marked the revival of the ancient Olympic Games, which originated in Olympia, Greece, in 776 BC. The modern Olympics have since become a major international sporting event, occurring every four years, with the exception of the years during World War I and World War II. The next Olympics after 1896 were held in Paris in 1900. Would you like to know more about the history of the Olympics'"
      ]
     },
     "execution_count": 128,
     "metadata": {},
     "output_type": "execute_result"
    }
   ],
   "source": [
    "convo.run(\"when is the 1st olypic happen\")"
   ]
  },
  {
   "cell_type": "code",
   "execution_count": 129,
   "id": "87892cc2-455e-449f-88c3-d8ff901ff13f",
   "metadata": {},
   "outputs": [
    {
     "data": {
      "text/plain": [
       "\" The first Prime Minister of India was Jawaharlal Nehru. He served from August 15, 1947, when India gained independence from British rule, until his death on May 27, 1964. Nehru was a central figure in Indian politics both before and after independence and was a key architect of modern India. He was also known for his policies of non-alignment during the Cold War and for promoting science and technology in India. If you'd like to learn more\""
      ]
     },
     "execution_count": 129,
     "metadata": {},
     "output_type": "execute_result"
    }
   ],
   "source": [
    "convo.run('who is the 1st PM of india')"
   ]
  },
  {
   "cell_type": "code",
   "execution_count": 130,
   "id": "c156edd4-5b4d-4c56-88d0-3772f8e8d6fb",
   "metadata": {},
   "outputs": [
    {
     "data": {
      "text/plain": [
       "' The second Prime Minister of India was Lal Bahadur Shastri. He took office on June 9, 1964, following Nehru\\'s death. Shastri served until his own death on January 11, 1966. He is best known for his leadership during the Indo-Pakistani War of 1965 and for his famous slogan \"Jai Jawan Jai Kisan,\" which translates to \"Hail the Soldier, Hail the Farmer.\" Shastri\\'s'"
      ]
     },
     "execution_count": 130,
     "metadata": {},
     "output_type": "execute_result"
    }
   ],
   "source": [
    "convo.run(\"when the 2ed happen?\")"
   ]
  },
  {
   "cell_type": "code",
   "execution_count": 131,
   "id": "12943b12-8afd-49f4-ba07-4c059e6b6827",
   "metadata": {},
   "outputs": [
    {
     "data": {
      "text/plain": [
       "\" The second Prime Minister of India, as I mentioned earlier, was Lal Bahadur Shastri. He was the successor to Jawaharlal Nehru, who was the first Prime Minister of India. Shastri's term was marked by significant events, such as the Indo-Pakistani War of 1965, which resulted in the Tashkent Agreement, signed in January 1966. Shastri's tenure was relatively short, but he left a lasting legacy in Indian politics\""
      ]
     },
     "execution_count": 131,
     "metadata": {},
     "output_type": "execute_result"
    }
   ],
   "source": [
    "convo.run(\"then who is the 2ed?\")"
   ]
  },
  {
   "cell_type": "code",
   "execution_count": 132,
   "id": "f549c849-505e-4c7c-bdc9-b8ac575b4ee9",
   "metadata": {},
   "outputs": [
    {
     "data": {
      "text/plain": [
       "\" The third Prime Minister of India was Indira Gandhi, who took office after Lal Bahadur Shastri's death in 1966. Her first term lasted from January 1966 until March 1977. Indira Gandhi was the first and, to date, the only female Prime Minister of India. She played a crucial role in shaping India's political landscape, including the Green Revolution, which transformed India into a self-sufficient nation in food production. Her tenure also saw significant controversies, such as\""
      ]
     },
     "execution_count": 132,
     "metadata": {},
     "output_type": "execute_result"
    }
   ],
   "source": [
    "convo.run('when the 3rd happen')"
   ]
  },
  {
   "cell_type": "code",
   "execution_count": null,
   "id": "8fb99d93-6d99-44c3-8c39-66c57cae0117",
   "metadata": {},
   "outputs": [],
   "source": []
  }
 ],
 "metadata": {
  "kernelspec": {
   "display_name": "Python 3 (ipykernel)",
   "language": "python",
   "name": "python3"
  },
  "language_info": {
   "codemirror_mode": {
    "name": "ipython",
    "version": 3
   },
   "file_extension": ".py",
   "mimetype": "text/x-python",
   "name": "python",
   "nbconvert_exporter": "python",
   "pygments_lexer": "ipython3",
   "version": "3.12.5"
  }
 },
 "nbformat": 4,
 "nbformat_minor": 5
}
