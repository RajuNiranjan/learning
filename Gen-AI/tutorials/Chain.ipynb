{
 "cells": [
  {
   "cell_type": "markdown",
   "id": "83cdbc8f-9a07-4a68-9432-a52dd0666d65",
   "metadata": {},
   "source": [
    "# Chain"
   ]
  },
  {
   "cell_type": "markdown",
   "id": "9c3d7eea-38e5-4bec-9e77-36c42c53ed63",
   "metadata": {},
   "source": [
    "### Central to LangChain is vital component known as LangChain chains, forming the core connection mong one or serveral Large Language Models LLMs. In certain sophisticated applications, it becomes necessary to chain LLM together, either with another elements"
   ]
  },
  {
   "cell_type": "code",
   "execution_count": 1,
   "id": "eb550b85-e837-48ae-b22a-157dcf912786",
   "metadata": {},
   "outputs": [],
   "source": [
    "from langchain_openai import OpenAI"
   ]
  },
  {
   "cell_type": "code",
   "execution_count": 2,
   "id": "c0f0d014-8b26-4cd0-9b43-fe72a4660099",
   "metadata": {},
   "outputs": [],
   "source": [
    "from dotenv import load_dotenv"
   ]
  },
  {
   "cell_type": "code",
   "execution_count": 3,
   "id": "5e1f52b1-336f-438a-8a47-7db0df49ea91",
   "metadata": {},
   "outputs": [],
   "source": [
    "from langchain.prompts import PromptTemplate"
   ]
  },
  {
   "cell_type": "code",
   "execution_count": 4,
   "id": "f497e5fd-0b80-4d46-a3ee-8ad8c76fd73c",
   "metadata": {},
   "outputs": [],
   "source": [
    "import os"
   ]
  },
  {
   "cell_type": "code",
   "execution_count": 5,
   "id": "b6222379-dfe0-42b7-a1d3-d4343d6a6e44",
   "metadata": {},
   "outputs": [
    {
     "data": {
      "text/plain": [
       "True"
      ]
     },
     "execution_count": 5,
     "metadata": {},
     "output_type": "execute_result"
    }
   ],
   "source": [
    "load_dotenv()"
   ]
  },
  {
   "cell_type": "code",
   "execution_count": 6,
   "id": "05596552-3ab0-44cf-a2f3-05cadd04bbdb",
   "metadata": {},
   "outputs": [],
   "source": [
    "OPENAI_API_KEY = os.getenv(\"OPENAI_API_KEY\")"
   ]
  },
  {
   "cell_type": "code",
   "execution_count": 7,
   "id": "65cacdac-3d2d-4355-a174-67a29678fb74",
   "metadata": {},
   "outputs": [],
   "source": [
    "client = OpenAI(openai_api_key=OPENAI_API_KEY, model=\"gpt-4o-mini\", max_tokens=100)"
   ]
  },
  {
   "cell_type": "code",
   "execution_count": 8,
   "id": "49fb7f49-3533-4396-8983-da6778ed06ac",
   "metadata": {},
   "outputs": [],
   "source": [
    "prompt = PromptTemplate.from_template(\"so i am thinking to Start a {platform} Youtube channel so can you suggest me the best and noted channel Name for me\")"
   ]
  },
  {
   "cell_type": "code",
   "execution_count": 12,
   "id": "81f05397-7da5-41d0-87af-10e07d75e7b4",
   "metadata": {},
   "outputs": [],
   "source": [
    "from langchain.chains import LLMChain"
   ]
  },
  {
   "cell_type": "code",
   "execution_count": 13,
   "id": "9d5e86f7-6eaf-487d-a320-5e6dab96f9ec",
   "metadata": {},
   "outputs": [],
   "source": [
    "chain = LLMChain(llm=client, prompt=prompt)"
   ]
  },
  {
   "cell_type": "code",
   "execution_count": 14,
   "id": "adb455f5-179b-4fc9-b75e-bcc87a807d93",
   "metadata": {},
   "outputs": [
    {
     "data": {
      "text/plain": [
       "'?\\n\\nSure! Here are some suggestions for a MERN Stack development YouTube channel name:\\n\\n1. MERN Mastery\\n2. FullStack Fusion\\n3. CodeCraft MERN\\n4. Stack Savvy\\n5. MERN Magic\\n6. DevDive: MERN Edition\\n7. The MERN Mentor\\n8. Code with MERN\\n9. MERNify Your Skills\\n10. FullStack Frontier\\n\\nFeel free to mix and match or modify these suggestions to find'"
      ]
     },
     "execution_count": 14,
     "metadata": {},
     "output_type": "execute_result"
    }
   ],
   "source": [
    "chain.run(\"Development like MERN Stack\")"
   ]
  },
  {
   "cell_type": "code",
   "execution_count": null,
   "id": "a661fa03-bfa7-4d03-a15b-59bec401f85b",
   "metadata": {},
   "outputs": [],
   "source": []
  },
  {
   "cell_type": "markdown",
   "id": "539da00a-5918-4299-a9be-3118baf745ad",
   "metadata": {},
   "source": [
    "## Example 2"
   ]
  },
  {
   "cell_type": "code",
   "execution_count": 112,
   "id": "768fab16-7409-4154-bab2-971fee73b9be",
   "metadata": {},
   "outputs": [],
   "source": [
    "prompt_template = PromptTemplate(\n",
    "    input_variables =['platform'],\n",
    "    template = 'I am thinking to create a {platform} in youtube so for that can you suggest me the Channel names for me top 3 and users can notice easily'\n",
    ")"
   ]
  },
  {
   "cell_type": "code",
   "execution_count": 113,
   "id": "e5be87ea-329e-4e1f-aca8-ef7a5bae75bb",
   "metadata": {},
   "outputs": [],
   "source": [
    "chain = LLMChain(llm=client, prompt=prompt_template, verbose=True)"
   ]
  },
  {
   "cell_type": "code",
   "execution_count": 114,
   "id": "a29bb06c-47e0-440e-a216-d03cfe0b3952",
   "metadata": {},
   "outputs": [
    {
     "name": "stdout",
     "output_type": "stream",
     "text": [
      "\n",
      "\n",
      "\u001b[1m> Entering new LLMChain chain...\u001b[0m\n",
      "Prompt after formatting:\n",
      "\u001b[32;1m\u001b[1;3mI am thinking to create a Next Gen Dev in youtube so for that can you suggest me the Channel names for me top 3 and users can notice easily\u001b[0m\n",
      "\n",
      "\u001b[1m> Finished chain.\u001b[0m\n"
     ]
    },
    {
     "data": {
      "text/plain": [
       "' and remember:\\n\\n1. CodeCrafted\\n2. DevDynasty\\n3. CodeCrusade\\n\\nHere are three unique channel names that are easy to remember and reflect the theme of next-gen development:\\n\\n1. FutureCodeLab\\n2. NextGenDevHub\\n3. InnovateWithCode\\n\\nThese names emphasize innovation and forward-thinking in the development space. Let me know if you need more suggestions!'"
      ]
     },
     "execution_count": 114,
     "metadata": {},
     "output_type": "execute_result"
    }
   ],
   "source": [
    "chain.run(platform=\"Next Gen Dev\")"
   ]
  },
  {
   "cell_type": "code",
   "execution_count": null,
   "id": "b2a456a1-a36b-43d7-9d9e-c6577b6845fa",
   "metadata": {},
   "outputs": [],
   "source": []
  },
  {
   "cell_type": "markdown",
   "id": "1d956f4d-f8a0-47bc-bba7-e8b2fbedddde",
   "metadata": {},
   "source": [
    "## If we want to combine multiple chain and set a seqence for that we use simple seqential chain"
   ]
  },
  {
   "cell_type": "code",
   "execution_count": 37,
   "id": "b1066af3-a5ff-4192-b74e-01b8a52c61e0",
   "metadata": {},
   "outputs": [],
   "source": [
    "prompt_template = PromptTemplate(\n",
    "    input_veriables = [\"startup_name\"],\n",
    "    template=\"I want to start a startup for {startup_name}, suggest me a good name for this...\"\n",
    ")\n",
    "\n",
    "name_chain = LLMChain(llm=client, prompt=prompt_template)\n",
    "\n",
    "prompt_template_name = PromptTemplate(\n",
    "    input_variables=[\"name\"],\n",
    "    template=\"suggest some strategies for {name}\"\n",
    ")\n",
    "\n",
    "strategies_chain = LLMChain(llm=client, prompt=prompt_template_name)\n"
   ]
  },
  {
   "cell_type": "code",
   "execution_count": 38,
   "id": "b7cfb655-a757-4d09-b3d8-9f99d656d9cf",
   "metadata": {},
   "outputs": [],
   "source": [
    "from langchain.chains import SimpleSequentialChain"
   ]
  },
  {
   "cell_type": "code",
   "execution_count": 39,
   "id": "01fe601e-8813-45b6-ae33-c0429b5914aa",
   "metadata": {},
   "outputs": [],
   "source": [
    "chain = SimpleSequentialChain(chains=[name_chain, strategies_chain])"
   ]
  },
  {
   "cell_type": "code",
   "execution_count": 15,
   "id": "028d96f8-e19b-44c2-a84e-de1aeb7a9541",
   "metadata": {},
   "outputs": [
    {
     "name": "stdout",
     "output_type": "stream",
     "text": [
      ". Here are some ideas:\n",
      "\n",
      "1. AI Insights\n",
      "2. The AI Chronicle\n",
      "3. AI Odyssey\n",
      "4. Mind Machines\n",
      "5. AI Unleashed\n",
      "6. The AI Sphere\n",
      "7. Neural Network Nuggets\n",
      "8. Machine Learning Marvels\n",
      "9. The AI Frontier\n",
      "10. AI Explorers\n",
      "\n",
      "Feel free to mix and match or use these as inspiration to come up with your own unique name! Good luck with your channel!\n"
     ]
    }
   ],
   "source": [
    "print(chain.run(\"Artificial Inteligence\"))"
   ]
  },
  {
   "cell_type": "code",
   "execution_count": null,
   "id": "0a932f05-bab2-4a3e-b192-d671b1d0dc9a",
   "metadata": {},
   "outputs": [],
   "source": []
  },
  {
   "cell_type": "markdown",
   "id": "b03c33b6-2897-484e-af98-fe5bf6204c27",
   "metadata": {},
   "source": [
    "## Now lets try to Understand the Sequential Chain"
   ]
  },
  {
   "cell_type": "code",
   "execution_count": 40,
   "id": "1d584559-8a4a-4712-a653-4c27eb01c0f9",
   "metadata": {},
   "outputs": [],
   "source": [
    "from langchain.chains import SequentialChain"
   ]
  },
  {
   "cell_type": "code",
   "execution_count": 56,
   "id": "64a20e68-120d-4883-b58b-455c251da1d7",
   "metadata": {},
   "outputs": [],
   "source": [
    "promt_template_platform_name = PromptTemplate(\n",
    "    input_variables=[\"platform\"],\n",
    "    template='So, I am thinking to start a new YouTube Channel, for that suggest me a good name for this platform name which should be unique {platform}'\n",
    ")"
   ]
  },
  {
   "cell_type": "code",
   "execution_count": 57,
   "id": "bbc4af21-70ae-43d8-9f15-a3d263d854b4",
   "metadata": {},
   "outputs": [],
   "source": [
    "prompt_template_platform_content = PromptTemplate(\n",
    "    input_variables=[\"platform_name\"],\n",
    "    template=\"So suggest me what kind of content i need to upload in {platform_name} \"\n",
    ")"
   ]
  },
  {
   "cell_type": "code",
   "execution_count": 58,
   "id": "6d5b504d-8d01-4aeb-bfcc-546b893e68ee",
   "metadata": {},
   "outputs": [],
   "source": [
    "name_chain = LLMChain(llm=client, prompt=promt_template_platform_name, output_key=\"platform_name\")"
   ]
  },
  {
   "cell_type": "code",
   "execution_count": 59,
   "id": "e1827c22-a9bf-44c8-a51c-c43180a843f2",
   "metadata": {},
   "outputs": [],
   "source": [
    "content_chain = LLMChain(llm=client, prompt=prompt_template_platform_content, output_key=\"platform_content\")"
   ]
  },
  {
   "cell_type": "code",
   "execution_count": 60,
   "id": "4fad9f78-be07-45ec-924f-867a783acb41",
   "metadata": {},
   "outputs": [],
   "source": [
    "chain = SequentialChain(\n",
    "    chains=[name_chain, content_chain],\n",
    "    input_variables=[\"platform\"],\n",
    "    output_variables=[\"platform_name\",\"platform_content\"]\n",
    ")"
   ]
  },
  {
   "cell_type": "code",
   "execution_count": 61,
   "id": "cfbd4d91-0178-4f4a-92b8-bfb9bdbfdeba",
   "metadata": {},
   "outputs": [],
   "source": [
    "from pprint import pprint"
   ]
  },
  {
   "cell_type": "code",
   "execution_count": 62,
   "id": "eecf5bbe-2dcc-490b-b685-a86b7fb89a60",
   "metadata": {},
   "outputs": [
    {
     "name": "stdout",
     "output_type": "stream",
     "text": [
      "{'platform': 'React.js',\n",
      " 'platform_content': ' mix and match or modify these names to find one that '\n",
      "                     'resonates with you! \\n'\n",
      "                     '\\n'\n",
      "                     'As for content ideas, here are some suggestions for your '\n",
      "                     'channel:\\n'\n",
      "                     '\\n'\n",
      "                     '1. **Tutorials**:\\n'\n",
      "                     '   - Beginner-friendly tutorials on JavaScript basics.\\n'\n",
      "                     '   - Deep dives into advanced JavaScript concepts (e.g., '\n",
      "                     'closures, promises, async/await).\\n'\n",
      "                     '   - Step-by-step React.js tutorials, building a project '\n",
      "                     'from scratch.\\n'\n",
      "                     '   - How to integrate APIs with React.js.\\n'\n",
      "                     '\\n'\n",
      "                     '2. **Project Walkthroughs**',\n",
      " 'platform_name': ', JavaScript, and Frontend Development.\\n'\n",
      "                  '\\n'\n",
      "                  'Sure! Here are some unique name suggestions for your '\n",
      "                  'YouTube channel focused on React.js, JavaScript, and '\n",
      "                  'Frontend Development:\\n'\n",
      "                  '\\n'\n",
      "                  '1. CodeCrafters\\n'\n",
      "                  '2. Reactify Yourself\\n'\n",
      "                  '3. Frontend Fusion\\n'\n",
      "                  '4. JavaScript Journey\\n'\n",
      "                  '5. React Rumble\\n'\n",
      "                  '6. The JavaScript Junction\\n'\n",
      "                  '7. Frontend Flow\\n'\n",
      "                  '8. React & Roll\\n'\n",
      "                  '9. Scripted Success\\n'\n",
      "                  '10. DevDive\\n'\n",
      "                  '\\n'\n",
      "                  'Feel free to'}\n"
     ]
    }
   ],
   "source": [
    "pprint(chain({\"platform\":\"React.js\"}))"
   ]
  },
  {
   "cell_type": "code",
   "execution_count": null,
   "id": "9840861c-1ef4-42a7-b28a-b134f93d4305",
   "metadata": {},
   "outputs": [],
   "source": []
  }
 ],
 "metadata": {
  "kernelspec": {
   "display_name": "Python 3 (ipykernel)",
   "language": "python",
   "name": "python3"
  },
  "language_info": {
   "codemirror_mode": {
    "name": "ipython",
    "version": 3
   },
   "file_extension": ".py",
   "mimetype": "text/x-python",
   "name": "python",
   "nbconvert_exporter": "python",
   "pygments_lexer": "ipython3",
   "version": "3.12.5"
  }
 },
 "nbformat": 4,
 "nbformat_minor": 5
}
