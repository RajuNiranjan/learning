{
 "cells": [
  {
   "cell_type": "markdown",
   "id": "cbbea400-7eeb-4ef2-bff5-cbbe78fae0be",
   "metadata": {},
   "source": [
    "PROMPT TEMPLATING "
   ]
  },
  {
   "cell_type": "code",
   "execution_count": 15,
   "id": "014127ed-2aa0-40da-b9e8-56dbe52f0e43",
   "metadata": {},
   "outputs": [],
   "source": [
    "from langchain.prompts import PromptTemplate"
   ]
  },
  {
   "cell_type": "code",
   "execution_count": 19,
   "id": "2dec7c3a-b30e-43bb-bac1-917097c4b3a4",
   "metadata": {},
   "outputs": [],
   "source": [
    "prompt_template_name = PromptTemplate(\n",
    "    input_variables=[\"city\"],\n",
    "    template = \"Can you tell me the Capital of {city} \"\n",
    ")"
   ]
  },
  {
   "cell_type": "code",
   "execution_count": 20,
   "id": "55543ecd-cafb-45a8-bed4-326309179069",
   "metadata": {},
   "outputs": [],
   "source": [
    "prompt1 = prompt_template_name.format(city='Andhra Pradesh')"
   ]
  },
  {
   "cell_type": "code",
   "execution_count": 21,
   "id": "32c8905b-2502-4c22-ac48-fa58c8d1e36f",
   "metadata": {},
   "outputs": [],
   "source": [
    "prompt2 = prompt_template_name.format(city='Telangana')"
   ]
  },
  {
   "cell_type": "code",
   "execution_count": 22,
   "id": "1ecf35ef-0709-4005-bb5b-0cad6bf48daf",
   "metadata": {},
   "outputs": [],
   "source": [
    "from langchain_openai import OpenAI"
   ]
  },
  {
   "cell_type": "code",
   "execution_count": 23,
   "id": "1893a0b0-1c82-4125-9308-e80a6b6806a8",
   "metadata": {},
   "outputs": [],
   "source": [
    "from dotenv import load_dotenv"
   ]
  },
  {
   "cell_type": "code",
   "execution_count": 24,
   "id": "d5dcdc85-048f-4f39-8cd4-db9853b31326",
   "metadata": {},
   "outputs": [
    {
     "data": {
      "text/plain": [
       "True"
      ]
     },
     "execution_count": 24,
     "metadata": {},
     "output_type": "execute_result"
    }
   ],
   "source": [
    "load_dotenv()"
   ]
  },
  {
   "cell_type": "code",
   "execution_count": 25,
   "id": "fc27f183-fa89-48e2-8758-0456f133e4fc",
   "metadata": {},
   "outputs": [],
   "source": [
    "import os"
   ]
  },
  {
   "cell_type": "code",
   "execution_count": 26,
   "id": "27f2209a-f6db-40f7-9d2f-bbe6fd5f74a7",
   "metadata": {},
   "outputs": [],
   "source": [
    "OPENAI_API_KEY = os.getenv(\"OPENAI_API_KEY\")"
   ]
  },
  {
   "cell_type": "code",
   "execution_count": 38,
   "id": "99625af9-d66e-445e-92c7-52c98e2948d0",
   "metadata": {},
   "outputs": [],
   "source": [
    "client = OpenAI(openai_api_key=OPENAI_API_KEY, model=\"gpt-4o-mini\")"
   ]
  },
  {
   "cell_type": "code",
   "execution_count": 51,
   "id": "d3d79a89-0bac-4d78-bb76-2ee872877a22",
   "metadata": {},
   "outputs": [
    {
     "data": {
      "text/plain": [
       "'?\",\\n    \"What is the Capital of Andhra Pradesh?\",\\n    \"Andhra Pradesh Capital?\",\\n    \"Andhra Pradesh capital\",\\n    \"What is the capital city of Andhra Pradesh?\",\\n    \"What is the capital of the state Andhra Pradesh?\",\\n    \"Which city is the capital of Andhra Pradesh?\",\\n    \"Andhra Pradesh\\'s capital?\",\\n    \"Can you please tell me the capital of Andhra Pradesh?\",\\n    \"Please tell me the capital of Andhra Pradesh?\"\\n]\\n```\\n\\nThis list contains various ways to ask for the capital of Andhra Pradesh, which can be useful for training a chatbot or a natural language processing model.'"
      ]
     },
     "execution_count": 51,
     "metadata": {},
     "output_type": "execute_result"
    }
   ],
   "source": [
    "client.invoke(prompt1).strip()"
   ]
  },
  {
   "cell_type": "code",
   "execution_count": 52,
   "id": "e3555a55-9601-4271-aab7-2c8927aae6c2",
   "metadata": {},
   "outputs": [
    {
     "data": {
      "text/plain": [
       "'?\",\\n    \"answer\": \"Hyderabad\"\\n  },\\n  {\\n    \"question\": \"What is the Capital of India ?\",\\n    \"answer\": \"New Delhi\"\\n  },\\n  {\\n    \"question\": \"What is the Capital of Jammu and Kashmir ?\",\\n    \"answer\": \"Srinagar\"\\n  },\\n  {\\n    \"question\": \"What is the Capital of Maharashtra ?\",\\n    \"answer\": \"Mumbai\"\\n  },\\n  {\\n    \"question\": \"What is the Capital of Punjab ?\",\\n    \"answer\": \"Chandigarh\"\\n  },\\n  {\\n    \"question\": \"What is the Capital of Tamil Nadu ?\",\\n    \"answer\": \"Chennai\"\\n  },\\n  {\\n    \"question\": \"What is the Capital of Uttar Pradesh ?\",\\n    \"answer\": \"Lucknow\"\\n  },\\n  {\\n    \"question\": \"What is the Capital of West Bengal ?\",\\n    \"answer\": \"Kolkata\"\\n  },\\n  {\\n    \"question\": \"What is the Capital of Gujarat ?\",\\n    \"answer\": \"Gandhinagar\"\\n  },\\n  {\\n    \"question\": \"What is the Capital of Rajasthan ?\",\\n    \"answer\": \"Jaipur\"\\n  },\\n  {\\n    \"question\": \"What is the'"
      ]
     },
     "execution_count": 52,
     "metadata": {},
     "output_type": "execute_result"
    }
   ],
   "source": [
    "client.invoke(prompt2).strip()"
   ]
  },
  {
   "cell_type": "code",
   "execution_count": null,
   "id": "14e47770-a8ac-40d1-b09a-0e30874d21de",
   "metadata": {},
   "outputs": [],
   "source": []
  },
  {
   "cell_type": "markdown",
   "id": "3fbb0004-ba54-405d-a84c-b9d69f00961a",
   "metadata": {},
   "source": [
    "SECOND METHOD TO CREATE PROMPT TEMPLATE"
   ]
  },
  {
   "cell_type": "code",
   "execution_count": 53,
   "id": "c7fa6393-d34f-4213-b596-ec46fbcf7846",
   "metadata": {},
   "outputs": [],
   "source": [
    "prompt = PromptTemplate.from_template(\"what is a good name for a company that makes a {product} in india\")"
   ]
  },
  {
   "cell_type": "code",
   "execution_count": 54,
   "id": "7697a815-1a07-4835-a644-44eb6c437183",
   "metadata": {},
   "outputs": [],
   "source": [
    "prompt3 = prompt.format(product='laptop')"
   ]
  },
  {
   "cell_type": "code",
   "execution_count": 56,
   "id": "622e73f0-ebd2-45a8-9320-faf35be4ffe9",
   "metadata": {},
   "outputs": [
    {
     "data": {
      "text/plain": [
       "'?**\\n\\n- **BharatTech Laptops**\\n- **IndiComp Solutions**\\n- **DesiTech Devices**\\n- **LaptopVikas Innovations**\\n- **MeraLaptop Technologies**\\n- **VandeMatram Laptops**\\n- **InnovaBharat Laptops**\\n- **TechSewa Laptops**\\n- **Swadeshi Laptops**\\n- **Pioneer Laptops India**\\n\\nFeel free to mix and match or adjust these names to better suit your vision for the company!'"
      ]
     },
     "execution_count": 56,
     "metadata": {},
     "output_type": "execute_result"
    }
   ],
   "source": [
    "client.invoke(prompt3).strip()"
   ]
  },
  {
   "cell_type": "code",
   "execution_count": null,
   "id": "f3f4be3a-81b2-452a-ab40-908053c0968d",
   "metadata": {},
   "outputs": [],
   "source": []
  }
 ],
 "metadata": {
  "kernelspec": {
   "display_name": "Python 3 (ipykernel)",
   "language": "python",
   "name": "python3"
  },
  "language_info": {
   "codemirror_mode": {
    "name": "ipython",
    "version": 3
   },
   "file_extension": ".py",
   "mimetype": "text/x-python",
   "name": "python",
   "nbconvert_exporter": "python",
   "pygments_lexer": "ipython3",
   "version": "3.12.5"
  }
 },
 "nbformat": 4,
 "nbformat_minor": 5
}
