{
 "cells": [
  {
   "cell_type": "markdown",
   "id": "a01e2f59-aef1-4b5b-a943-bb55becb4242",
   "metadata": {},
   "source": [
    "# AGENT"
   ]
  },
  {
   "cell_type": "code",
   "execution_count": 74,
   "id": "aad62541-5a94-4a70-ab06-7943acb654ed",
   "metadata": {},
   "outputs": [],
   "source": [
    "from langchain_openai import OpenAI"
   ]
  },
  {
   "cell_type": "code",
   "execution_count": 75,
   "id": "f6b79e55-7822-481c-8713-7f140ed904f5",
   "metadata": {},
   "outputs": [],
   "source": [
    "from dotenv import load_dotenv"
   ]
  },
  {
   "cell_type": "code",
   "execution_count": 76,
   "id": "7b5c52a4-4452-4424-a949-a0f8f2e040da",
   "metadata": {},
   "outputs": [],
   "source": [
    "import os"
   ]
  },
  {
   "cell_type": "code",
   "execution_count": 77,
   "id": "26f7bc02-2614-4801-ba29-d5877a42b1a2",
   "metadata": {},
   "outputs": [
    {
     "data": {
      "text/plain": [
       "True"
      ]
     },
     "execution_count": 77,
     "metadata": {},
     "output_type": "execute_result"
    }
   ],
   "source": [
    "load_dotenv()"
   ]
  },
  {
   "cell_type": "code",
   "execution_count": 78,
   "id": "e0a5622d-d984-4480-b732-ab4f76875cf0",
   "metadata": {},
   "outputs": [],
   "source": [
    "OPENAI_API_KEY = os.getenv(\"OPENAI_API_KEY\")"
   ]
  },
  {
   "cell_type": "code",
   "execution_count": 79,
   "id": "310b1a8d-322d-4316-a701-81973c29b993",
   "metadata": {},
   "outputs": [],
   "source": [
    "client = OpenAI(openai_api_key=OPENAI_API_KEY, model=\"gpt-4o-mini\")"
   ]
  },
  {
   "cell_type": "code",
   "execution_count": 80,
   "id": "205fb78b-4f46-41b2-83ef-f961a32f8dab",
   "metadata": {},
   "outputs": [],
   "source": [
    "prompt1 = \"can you tell me what is the current GDP of indai? \""
   ]
  },
  {
   "cell_type": "code",
   "execution_count": 81,
   "id": "5ce672c3-6e45-43d4-8876-456aa9075fa5",
   "metadata": {},
   "outputs": [
    {
     "data": {
      "text/plain": [
       "\"2021\\nGDP of India (current US$) 2021 is 2.87 Trillion US Dollars. 2.87 Trillion US Dollars. 2021 GDP is estimated by the World Bank. 2021 GDP of India is 1.5% more than 2020 GDP of 2.83 Trillion US Dollars. 2021 GDP is estimated by the World Bank. 2021 GDP of India is 1.5% more than 2020 GDP of 2.83 Trillion US Dollars.\\nIndia's GDP is projected to grow at 7.5% in 2022, according to the World Bank. 2021 GDP is estimated by the World Bank. . \\n\\nPlease note that these figures are subject to change as new data becomes available. For the most accurate and up-to-date information, always refer to official sources or databases.\""
      ]
     },
     "execution_count": 81,
     "metadata": {},
     "output_type": "execute_result"
    }
   ],
   "source": [
    "client.invoke(prompt1).strip()"
   ]
  },
  {
   "cell_type": "code",
   "execution_count": null,
   "id": "10fdd214-c232-44c4-9ec9-f3eb49c94437",
   "metadata": {},
   "outputs": [],
   "source": []
  },
  {
   "cell_type": "markdown",
   "id": "77dbed50-f3dd-41ce-ab24-1f1ad428db51",
   "metadata": {},
   "source": [
    "### - For extracting a real time info i am going to use serp api\n",
    "\n",
    "### - Now by using this serp api i will call google-search-engin\n",
    "\n",
    "### - And i will extract the information in a real time"
   ]
  },
  {
   "cell_type": "code",
   "execution_count": 82,
   "id": "b02c2620-362a-4c9d-bff6-fbd90995516b",
   "metadata": {},
   "outputs": [],
   "source": [
    "SERP_API_KEY = os.getenv(\"SERP_API_KEY\")"
   ]
  },
  {
   "cell_type": "code",
   "execution_count": 99,
   "id": "42853e44-86a8-439f-8f61-e00f8f56b78b",
   "metadata": {},
   "outputs": [],
   "source": [
    "from langchain.agents import initialize_agent, load_tools\n",
    "from langchain.agents.agent_types import AgentType\n",
    "from langchain_openai import OpenAI"
   ]
  },
  {
   "cell_type": "code",
   "execution_count": 100,
   "id": "59c8036d-aef7-4b5f-9cde-8e16d9e6facb",
   "metadata": {},
   "outputs": [],
   "source": [
    "llm = OpenAI(openai_api_key=OPENAI_API_KEY, model=\"gpt-4o-mini\")"
   ]
  },
  {
   "cell_type": "code",
   "execution_count": 101,
   "id": "e45b1692-7240-4f7e-9287-25a4a0bbc4ac",
   "metadata": {},
   "outputs": [],
   "source": [
    "tools = load_tools(['serpapi'], serpapi_api_key=SERP_API_KEY, llm=llm)"
   ]
  },
  {
   "cell_type": "code",
   "execution_count": 102,
   "id": "bdfdeddd-353c-436a-a6a9-25b62f1b3f76",
   "metadata": {},
   "outputs": [],
   "source": [
    "agent = initialize_agent(\n",
    "    tools=tools,\n",
    "    llm=llm,\n",
    "    agent=AgentType.ZERO_SHOT_REACT_DESCRIPTION,\n",
    "    verbose=True\n",
    ")"
   ]
  },
  {
   "cell_type": "code",
   "execution_count": 90,
   "id": "129e646a-99ec-4d0f-b434-6e837d43d05e",
   "metadata": {},
   "outputs": [
    {
     "name": "stdout",
     "output_type": "stream",
     "text": [
      "\n",
      "\n",
      "\u001b[1m> Entering new AgentExecutor chain...\u001b[0m\n",
      "\u001b[32;1m\u001b[1;3m I need to find the latest information about the IPL cup winner.\n",
      "Action: Search\n",
      "Action Input: IPL 2023 winner\u001b[0m\n",
      "Observation: \u001b[36;1m\u001b[1;3m{'title': 'Indian Premier League', 'thumbnail': 'https://serpapi.com/searches/6843cf6fbca7e5ba88bbf713/images/86d5f2222dea1b17f9f261d5f30631466e071a81c6e6ed40777a9774158ef3c0.png', 'games': [{'tournament': 'Indian Premier League', 'venue': 'Narendra Modi Stadium', 'venue_kgmid': '/m/06m73y', 'date': 'May 28, 23', 'teams': [{'name': 'GT', 'score': '214/4 (20)', 'kgmid': '/g/11rp_syjrq', 'thumbnail': 'https://serpapi.com/searches/6843cf6fbca7e5ba88bbf713/images/86d5f2222dea1b178865e6f68e479cdd3063cd05afff259dd7adb4e991b0ba3844588b7da688163d6b9507d2c36fc66c.png'}, {'name': 'CSK', 'score': '171/5 (15)Target 171', 'kgmid': '/m/03nwvqm', 'thumbnail': 'https://serpapi.com/searches/6843cf6fbca7e5ba88bbf713/images/86d5f2222dea1b178865e6f68e479cdd3063cd05afff259db8b287f4f8ecfd469ae5be985765ede5d47ebe6888ca429b.png'}], 'status': 'CSK won by 5 wickets (0 balls left) (DLS method)'}, {'tournament': 'Indian Premier League', 'venue': 'Narendra Modi Stadium', 'venue_kgmid': '/m/06m73y', 'date': 'May 26, 23', 'teams': [{'name': 'GT', 'score': '233/3 (20)', 'kgmid': '/g/11rp_syjrq', 'thumbnail': 'https://serpapi.com/searches/6843cf6fbca7e5ba88bbf713/images/86d5f2222dea1b178865e6f68e479cddf55e811ccd66d7d191fad8b9abdc049ab8284d903e58e951054cba24de0180d6.png'}, {'name': 'MI', 'score': '171 (18.2)', 'kgmid': '/m/03nxlj5', 'thumbnail': 'https://serpapi.com/searches/6843cf6fbca7e5ba88bbf713/images/86d5f2222dea1b178865e6f68e479cddf55e811ccd66d7d1d29db7b41898c749cdf7d01da66979475067438ed64242d5.png'}], 'status': 'GT won by 62 runs'}, {'tournament': 'Indian Premier League', 'venue': 'MA Chidambaram Stadium', 'venue_kgmid': '/m/06m6d5', 'date': 'May 24, 23', 'teams': [{'name': 'MI', 'score': '182/8 (20)', 'kgmid': '/m/03nxlj5', 'thumbnail': 'https://serpapi.com/searches/6843cf6fbca7e5ba88bbf713/images/86d5f2222dea1b178865e6f68e479cddeec0dc1c6792680969c25ca92c3e66fdc626907a1df03dc074f29faebf7f28ef.png'}, {'name': 'LSG', 'score': '101 (16.3)', 'kgmid': '/g/11rnpbm01m', 'thumbnail': 'https://serpapi.com/searches/6843cf6fbca7e5ba88bbf713/images/86d5f2222dea1b178865e6f68e479cddeec0dc1c67926809f685ba5eedb683f7d040db5c17cc2326dc3c88388737dcac.png'}], 'status': 'MI won by 81 runs'}, {'tournament': 'Indian Premier League', 'venue': 'MA Chidambaram Stadium', 'venue_kgmid': '/m/06m6d5', 'date': 'May 23, 23', 'teams': [{'name': 'CSK', 'score': '172/7 (20)', 'kgmid': '/m/03nwvqm', 'thumbnail': 'https://serpapi.com/searches/6843cf6fbca7e5ba88bbf713/images/86d5f2222dea1b178865e6f68e479cddd09a579239fcb813f7eea0762af44a9937033a6bb1b7f0be2d10efa90edf9ee5.png'}, {'name': 'GT', 'score': '157 (20)', 'kgmid': '/g/11rp_syjrq', 'thumbnail': 'https://serpapi.com/searches/6843cf6fbca7e5ba88bbf713/images/86d5f2222dea1b178865e6f68e479cddd09a579239fcb8137a15b9869a00d36c7fa66dde9e1e68e37b08b8921bf77aa9.png'}], 'status': 'CSK won by 15 runs'}, {'tournament': 'Indian Premier League', 'venue': 'M. Chinnaswamy Stadium', 'venue_kgmid': '/m/06m6yw', 'date': 'May 21, 23', 'teams': [{'name': 'RCB', 'score': '197/5 (20)', 'kgmid': '/m/03nxc_0', 'thumbnail': 'https://serpapi.com/searches/6843cf6fbca7e5ba88bbf713/images/86d5f2222dea1b178865e6f68e479cdd7ddb0609a9091215b5e6f9e8d7b99295ca5156602a34ec770c5812973c5a5977.png'}, {'name': 'GT', 'score': '198/4 (19.1)', 'kgmid': '/g/11rp_syjrq', 'thumbnail': 'https://serpapi.com/searches/6843cf6fbca7e5ba88bbf713/images/86d5f2222dea1b178865e6f68e479cdd7ddb0609a90912157671e3e811b92f2522484b0b200f34844c0766168d0401ec.png'}], 'status': 'GT won by 6 wickets (5 balls left)'}, {'tournament': 'Indian Premier League', 'venue': 'Wankhede Stadium', 'venue_kgmid': '/m/05f74n', 'date': 'May 21, 23', 'teams': [{'name': 'SRH', 'score': '200/5 (20)', 'kgmid': '/m/0pb5c_p', 'thumbnail': 'https://serpapi.com/searches/6843cf6fbca7e5ba88bbf713/images/86d5f2222dea1b178865e6f68e479cdd4990ab093a8892f729bc2a9b1ec89e4f1c0fc5c319a39177455ba84aadd192e2.png'}, {'name': 'MI', 'score': '201/2 (18)', 'kgmid': '/m/03nxlj5', 'thumbnail': 'https://serpapi.com/searches/6843cf6fbca7e5ba88bbf713/images/86d5f2222dea1b178865e6f68e479cdd4990ab093a8892f74b65b7df6f6c08eb5775919ff48064b435ffef651ebd0f47.png'}], 'status': 'MI won by 8 wickets (12 balls left)'}]}\u001b[0m\n",
      "Thought:\u001b[32;1m\u001b[1;3m I now know the final answer\n",
      "Final Answer: Chennai Super Kings (CSK) won the IPL 2023 cup.\u001b[0m\n",
      "\n",
      "\u001b[1m> Finished chain.\u001b[0m\n"
     ]
    },
    {
     "data": {
      "text/plain": [
       "'Chennai Super Kings (CSK) won the IPL 2023 cup.'"
      ]
     },
     "execution_count": 90,
     "metadata": {},
     "output_type": "execute_result"
    }
   ],
   "source": [
    "agent.run(\"can you tell me who won the circket IPL cup recently\")"
   ]
  },
  {
   "cell_type": "code",
   "execution_count": 91,
   "id": "e622585c-4e85-4e68-84fe-d5df352084e5",
   "metadata": {},
   "outputs": [
    {
     "name": "stdout",
     "output_type": "stream",
     "text": [
      "\n",
      "\n",
      "\u001b[1m> Entering new AgentExecutor chain...\u001b[0m\n",
      "\u001b[32;1m\u001b[1;3m I need to find the current GDP of India. I'll search for the latest information available.\n",
      "Action: Search\n",
      "Action Input: current GDP of India 2023\u001b[0m\n",
      "Observation: \u001b[36;1m\u001b[1;3m['In 2024, GDP in India was at around 3.91 trillion U.S. dollars, and it is expected to reach six trillion by the end of the decade. See figures ...', 'Economy of India ; Increase $692.72 billion (4th) (as of 23 May 2025) · –6.4% of GDP (2022–23) · ₹34.96 trillion (US$410 billion); (2025–26) · ₹50.65 trillion (US ...', 'GDP (current US$) - India. World Bank national accounts data, and OECD ... 2023, 2022, 2021, 2020, 2019, 2018, 2017, 2016, 2015, 2014, 2013, 2012, 2011, 2010 ...', 'Real GDP growth. Annual percent change. 6.2 ; GDP, current prices. Billions of U.S. dollars. 4.19 ; GDP per capita, current prices. U.S. dollars per capita. 2.88.', \"India's GDP grew by 8.2 percent, ₹47.24 lakh crore, according to the data released by the Ministry of Statistics and Programme Implementation and the National ...\", 'With an estimated real GDP of Rs. 187.95 lakh crore in 2024-25, against the real GDP of Rs. 176.51 in 2023-24 generated by a population of over ...', 'India GDP for 2023 was 3.550 trillion US dollars, a 5.86% increase from 2022. · India GDP for 2022 was 3.353 trillion US dollars, a 5.88% increase from 2021.', 'Nominal (current) Gross Domestic Product (GDP) of India is $3,567,550,000,000 (USD) as of 2023. · Real GDP (constant, inflation adjusted) of India reached ...', 'GDP, 3567.55, USD Billion, Dec 2023. GDP Growth Rate YoY, 7.40, percent, Mar 2025. GDP Constant Prices, 51351.63, INR Billion, Mar 2025. GDP from Agriculture ...', 'India 2.88 thousand. Indonesia 5.03 thousand. Iran 3.9 thousand. Iraq 5.67 thousand. Ireland 108.92 thousand. Isle of Man no data. Israel 57.76 thousand. Italy ...']\u001b[0m\n",
      "Thought:\u001b[32;1m\u001b[1;3m I can see multiple sources indicating that India's GDP for 2023 is approximately 3.55 trillion US dollars.\n",
      "Final Answer: The current GDP of India for 2023 is approximately 3.55 trillion US dollars.\u001b[0m\n",
      "\n",
      "\u001b[1m> Finished chain.\u001b[0m\n"
     ]
    },
    {
     "data": {
      "text/plain": [
       "'The current GDP of India for 2023 is approximately 3.55 trillion US dollars.'"
      ]
     },
     "execution_count": 91,
     "metadata": {},
     "output_type": "execute_result"
    }
   ],
   "source": [
    "agent.run(\"what is the current GDP of Indai\")"
   ]
  },
  {
   "cell_type": "code",
   "execution_count": 94,
   "id": "b6a48259-4304-4ecc-87a7-4cd8c659ea2c",
   "metadata": {},
   "outputs": [
    {
     "name": "stdout",
     "output_type": "stream",
     "text": [
      "\n",
      "\n",
      "\u001b[1m> Entering new AgentExecutor chain...\u001b[0m\n",
      "\u001b[32;1m\u001b[1;3m I need to find out who the current Chief Minister of Andhra Pradesh is in 2025.\n",
      "Action: Search\n",
      "Action Input: current Chief Minister of Andhra Pradesh 2025\u001b[0m\n",
      "Observation: \u001b[36;1m\u001b[1;3m['Nara Chandrababu Naidu, commonly known as CBN, is an Indian politician who is currently serving as the 13th Chief Minister of Andhra Pradesh. He holds the record of longest-serving Chief Minister in the political history of Telugu states. He is the national president of the Telugu Desam Party.', 'N. Chandrababu Naidu type: Chief Minister of Andhra Pradesh.', 'N. Chandrababu Naidu entity_type: people.', 'N. Chandrababu Naidu kgmid: /m/01pk61.', 'N. Chandrababu Naidu born: April 20, 1950 (age 75 years), Naravaripalli, India.', 'N. Chandrababu Naidu organizations_founded: Kutami, Heritage Foods, Anna Canteen, NTR Trust.', 'N. Chandrababu Naidu previous_campaign: 2024 Andhra Pradesh Legislative Assembly Election-Kuppam.', 'N. Chandrababu Naidu office: Chief Minister of Andhra Pradesh.', 'N. Chandrababu Naidu party: Telugu Desam Party.', 'N. Chandrababu Naidu children: Nara Lokesh.', 'N. Chandrababu Naidu education: SRI VENKATESWARA UNIVERSITY.', 'The current incumbent N. Chandrababu Naidu has been from the Telugu Desam Party since 12 June 2024.', 'Nara Chandrababu Naidu commonly known as CBN, is an Indian politician who is currently serving as the 13th Chief Minister of Andhra Pradesh.', 'State, Chief Minister. Andhra Pradesh, Sri Nara Chandrababu Naidu. Arunachal Pradesh, Shri Pema Khandu ... Last reviewed and updated on 21 Feb, 2025 NPI 2.', 'Chief Minister , Govt. of Andhra Pradesh. Name, Sri Nara Chandra Babu Naidu. Spouse Name, Smt.N. Bhuvaneshwari. Qualification, M.A.. Profession, Politics.', 'The State government on Monday issued a revised order announcing that Chief Minister N. Chandrababu Naidu and Ministers Nara Lokesh (IT ...', \"Shri N. Chandrababu Naidu, Hon'ble Chief Minister of Andhra Pradesh, addresses Research Scholars Summit at IIT Madras. 28th Mar 2025. Press Release.\", \"Andhra CM Chandrababu Naidu to attend strategic meetings at WEF 2025 · The Chief Minister's packed agenda underscores his commitment to driving ...\", \"The current Chief Minister of Andhra Pradesh is Nara Chanadra Babu Naidu. Who was Andhra Pradesh's first chief minister? During the independence fight ...\", \"India's southern state Andhra Pradesh's Chief Minister Chandrababu Naidu sat down with Bloomberg's Menaka Doshi to speak about global ...\", 'Chief Minister N. Chandrababu Naidu reviewed the annual budget at his residence in Undavalli. Finance Minister P. Keshav and other senior ...']\u001b[0m\n",
      "Thought:\u001b[32;1m\u001b[1;3m I now know the final answer\n",
      "Final Answer: The current Chief Minister of Andhra Pradesh in 2025 is Nara Chandrababu Naidu.\u001b[0m\n",
      "\n",
      "\u001b[1m> Finished chain.\u001b[0m\n"
     ]
    },
    {
     "data": {
      "text/plain": [
       "'The current Chief Minister of Andhra Pradesh in 2025 is Nara Chandrababu Naidu.'"
      ]
     },
     "execution_count": 94,
     "metadata": {},
     "output_type": "execute_result"
    }
   ],
   "source": [
    "agent.run(\"who is current Chef Minister of Andhra Pradesh 2025\")"
   ]
  },
  {
   "cell_type": "code",
   "execution_count": 103,
   "id": "6ebba4d0-6854-46f0-94ad-cb9d67c57fa3",
   "metadata": {},
   "outputs": [],
   "source": [
    "tools = load_tools([\"wikipedia\"], llm=llm)"
   ]
  },
  {
   "cell_type": "code",
   "execution_count": 106,
   "id": "46232de8-fc01-445f-b987-e5d0d7d76248",
   "metadata": {},
   "outputs": [],
   "source": [
    "agent = initialize_agent(\n",
    "    tools=tools,\n",
    "    llm=llm,\n",
    "    agent=AgentType.ZERO_SHOT_REACT_DESCRIPTION,\n",
    "    verbose=True\n",
    ")"
   ]
  },
  {
   "cell_type": "code",
   "execution_count": 108,
   "id": "04f718f3-71f5-49f9-a79c-9abfe0043aac",
   "metadata": {},
   "outputs": [
    {
     "name": "stdout",
     "output_type": "stream",
     "text": [
      "\n",
      "\n",
      "\u001b[1m> Entering new AgentExecutor chain...\u001b[0m\n",
      "\u001b[32;1m\u001b[1;3m I need to find recent information about the IPL Cup 2025.\n",
      "Action: wikipedia\n",
      "Action Input: IPL 2025\u001b[0m\n",
      "Observation: \u001b[36;1m\u001b[1;3mPage: 2025 Indian Premier League\n",
      "Summary: The 2025 Indian Premier League, also known as IPL 18 and branded as TATA IPL 2025, was the 18th edition of the Indian Premier League. The tournament featured 10 teams competing in 74 matches. It began on 22 March and was held across 13 venues before being suspended on 9 May due to the 2025 India–Pakistan crisis. The matches resumed from 17 May across six venues, with the final rescheduled from 25 May to 3 June.\n",
      "The defending champions Kolkata Knight Riders were eliminated in the league stage. In the final, Royal Challengers Bengaluru defeated Punjab Kings by 6 runs to win their maiden title after 18 years. Sai Sudharsan and Prasidh Krishna of Gujarat Titans scored the most runs (759) and took the most wickets (25) respectively. Suryakumar Yadav of Mumbai Indians was awarded as the most valuable player of the tournament.\n",
      "\n",
      "Page: Indian Premier League\n",
      "Summary: The Indian Premier League (IPL) is a professional Twenty20 cricket league in India organised by the Board of Control for Cricket in India. Founded in 2007, it features ten city-based franchise teams. The IPL is the most popular and richest cricket league and second-richest sports league in the world and is held annually between March and May. It has an exclusive window in the Future Tours Programme of the International Cricket Council, resulting in fewer international tours occurring during the seasons. It is also the most viewed Indian sports event, per the Broadcast Audience Research Council.\n",
      "In 2010, the IPL became the first sporting event to be broadcast live on YouTube. In 2014, it ranked sixth in attendance among all sports leagues. Inspired by the success of the IPL, other Indian sports leagues have been established. The IPL is the second-richest sports league in the world by per-match value, after the National Football League (NFL). In 2023, the league sold its media rights for the next four seasons for US$6.4 billion to Viacom18 and Star Sports, which meant that each IPL match was valued at $13.4 million. As of 2025, there have been 18 seasons of the tournament. The current champions are the Royal Challengers Bengaluru, who won the 2025 season after defeating the Punjab Kings in the final.\n",
      "\n",
      "\n",
      "\n",
      "Page: 2025 Chennai Super Kings season\n",
      "Summary: The 2025 season was the 16th season for the Indian Premier League franchise Chennai Super Kings. The Super Kings were one of the ten teams that competed in the 2025 Indian Premier League. The team finished in fifth place in the previous season. During the middle of the season, MS Dhoni took over as the captain after Ruturaj Gaikwad was ruled out due to injury. The team was coached by Stephen Fleming.\n",
      "The Super Kings had a poor season, and was the first team to be eliminated from contention for the playoffs. The team lost five matches at home in a season for the first time, and finished the season in last place (10th) with four wins from 14 matches.\u001b[0m\n",
      "Thought:\u001b[32;1m\u001b[1;3m I now know the final answer\n",
      "Final Answer: The 2025 Indian Premier League (IPL) was the 18th edition of the tournament, featuring 10 teams and 74 matches. It started on March 22 and was suspended on May 9 due to the India-Pakistan crisis, resuming on May 17. Royal Challengers Bengaluru won their first title by defeating Punjab Kings in the final, with Sai Sudharsan and Prasidh Krishna being standout players in terms of runs and wickets respectively. The tournament concluded on June 3, 2025.\u001b[0m\n",
      "\n",
      "\u001b[1m> Finished chain.\u001b[0m\n"
     ]
    },
    {
     "data": {
      "text/plain": [
       "'The 2025 Indian Premier League (IPL) was the 18th edition of the tournament, featuring 10 teams and 74 matches. It started on March 22 and was suspended on May 9 due to the India-Pakistan crisis, resuming on May 17. Royal Challengers Bengaluru won their first title by defeating Punjab Kings in the final, with Sai Sudharsan and Prasidh Krishna being standout players in terms of runs and wickets respectively. The tournament concluded on June 3, 2025.'"
      ]
     },
     "execution_count": 108,
     "metadata": {},
     "output_type": "execute_result"
    }
   ],
   "source": [
    "agent.run(\"can you tell me about this recent cricket IPL cup 2025\")"
   ]
  },
  {
   "cell_type": "code",
   "execution_count": 115,
   "id": "ab0767cb-60da-4a85-9e03-da02cd1bccff",
   "metadata": {},
   "outputs": [
    {
     "name": "stdout",
     "output_type": "stream",
     "text": [
      "\n",
      "\n",
      "\u001b[1m> Entering new AgentExecutor chain...\u001b[0m\n",
      "\u001b[32;1m\u001b[1;3m I need to find out who the Chief Minister of Andhra Pradesh is in 2025. This might not be available on Wikipedia as it is a future event, but I will check for recent updates or predictions.\n",
      "Action: wikipedia\n",
      "Action Input: Chief Minister of Andhra Pradesh\u001b[0m\n",
      "Observation: \u001b[36;1m\u001b[1;3mPage: Chief Minister of Andhra Pradesh\n",
      "Summary: The chief minister of Andhra Pradesh is the chief executive of the Indian state of Andhra Pradesh. In accordance with the Constitution of India, the governor is a state's de jure head, but de facto executive authority rests with the chief minister. Following elections to the Andhra Pradesh Legislative Assembly, the state's governor usually invites the party (or coalition) with a majority of seats to form the government. The governor appoints the chief minister, whose council of ministers are collectively responsible to the assembly. Given that he has the confidence of the assembly, the chief minister's term is for five years and is subject to no term limits.\n",
      "Since 1953, there have been 19 chief ministers with the majority of them belonging to the Indian National Congress (INC). In 1953, Tanguturi Prakasam from the INC became the first chief minister of the Andhra State. In 1956, Neelam Sanjeeva Reddy from the INC became the first chief minister of Andhra Pradesh post the reorganisation of Indian states. The longest-serving chief minister was N. Chandrababu Naidu from the Telugu Desam Party (TDP), who held the office for over thirteen years across multiple terms, while N. Bhaskara Rao from the TDP had the shortest tenure of 31 days. N. Chandrababu Naidu was also the first chief minister of the state post the bifurcation of Telangana in 2014. Later Neelam Sanjeeva Reddy went on to become the President of India, while P. V. Narasimha Rao, also from the INC and previously the fourth chief minister of Andhra Pradesh went on to serve as the Prime Minister of India. Notably, N. T. Rama Rao from the TDP was the first non-INC chief minister of the state. There have been three instances of President's rule in Andhra Pradesh, most recently in 2014.\n",
      "The current incumbent N. Chandrababu Naidu has been from the Telugu Desam Party since 12 June 2024.\n",
      "\n",
      "\n",
      "\n",
      "Page: Andhra Pradesh Council of Ministers\n",
      "Summary: The Andhra Pradesh Council of Ministers are elected legislative members, who are appointed as ministers by the Governor of Andhra Pradesh to form the executive branch of the Government of Andhra Pradesh. They hold various portfolios as decided by the Chief minister of Andhra Pradesh. The most recent state council of ministers is headed by N. Chandrababu Naidu after the 2024 Andhra Pradesh Legislative Assembly election. The term of every executive wing is five years.\n",
      "The council of ministers are assisted by department secretaries attached to each ministry who are from IAS cadre. The chief executive officer responsible for issuing orders on behalf of Government is Chief Secretary to the State Government.\n",
      "\n",
      "\n",
      "\n",
      "Page: List of deputy chief ministers of Andhra Pradesh\n",
      "Summary: The deputy chief minister of Andhra Pradesh is the deputy to the chief minister of Andhra Pradesh, who is the head of the government of Andhra Pradesh. The deputy chief minister is the second-highest-ranking member of the Andhra Pradesh Council of Ministers. A deputy chief minister also holds a cabinet portfolio in the state ministry. On multiple occasions, proposals have arisen to make the post permanent, but without result. The same goes for the post of deputy prime minister at the national level.\n",
      "In 1953, Andhra State consisted of Coastal Andhra and Rayalaseema regions. This state was carved out of the erstwhile Madras State. Later, the Andhra state was merged with Telangana province of Hyderabad to form Andhra Pradesh in November 1956. On 1 November 1956, Hyderabad State ceased to exist; its Gulbarga and Aurangabad divisions were merged into Mysore State and Bombay State respectively. Its remaining Telugu-speaking portion, Telangana, was added to Andhra State. Andhra state formed from Madras state on 1953 oct 1. After 58 years, Telangana was carved out to form as a separate state on 2 June 2014 by Andhra Pradesh Reorganisation Act, 2014.\n",
      "Konda Venkata Ranga Reddy was first deputy chief minister since the state's formation in No\u001b[0m\n",
      "Thought:\u001b[32;1m\u001b[1;3m I now know the final answer\n",
      "Final Answer: The Chief Minister of Andhra Pradesh in 2025 is N. Chandrababu Naidu.\u001b[0m\n",
      "\n",
      "\u001b[1m> Finished chain.\u001b[0m\n"
     ]
    },
    {
     "data": {
      "text/plain": [
       "'The Chief Minister of Andhra Pradesh in 2025 is N. Chandrababu Naidu.'"
      ]
     },
     "execution_count": 115,
     "metadata": {},
     "output_type": "execute_result"
    }
   ],
   "source": [
    "agent.run(\"who is the CM of Andhrapradesh of 2025\")"
   ]
  },
  {
   "cell_type": "code",
   "execution_count": 116,
   "id": "e0a76b81-7084-4ad5-a087-b7b1da35cfd0",
   "metadata": {},
   "outputs": [
    {
     "name": "stdout",
     "output_type": "stream",
     "text": [
      "\n",
      "\n",
      "\u001b[1m> Entering new AgentExecutor chain...\u001b[0m\n",
      "\u001b[32;1m\u001b[1;3m I need to gather information about FastAPI to provide a complete answer.\n",
      "Action: wikipedia\n",
      "Action Input: FastAPI\u001b[0m\n",
      "Observation: \u001b[36;1m\u001b[1;3mPage: FastAPI\n",
      "Summary: FastAPI is a high-performance web framework for building HTTP-based service APIs in Python 3.8+.  It uses Pydantic and type hints to validate, serialize and deserialize data. FastAPI also automatically generates OpenAPI documentation for APIs built with it. It was first released in 2018.\n",
      "\n",
      "\n",
      "\n",
      "Page: PyCharm\n",
      "Summary: PyCharm is an integrated development environment (IDE) used for programming in Python. It provides code analysis, a graphical debugger, an integrated unit tester, integration with version control systems, and supports web development with Django. PyCharm is developed by the Czech company JetBrains and built on their IntelliJ platform.\n",
      "It is cross-platform, working on Microsoft Windows, macOS, and Linux. PyCharm has a Professional Edition, released under a proprietary license and a Community Edition released under the Apache License. PyCharm Community Edition is less extensive than the Professional Edition.\n",
      "\n",
      "\n",
      "\n",
      "Page: \"Hello, World!\" program\n",
      "Summary: A \"Hello, World!\" program is usually a simple computer program that emits (or displays) to the screen (often the console) a message similar to \"Hello, World!\". A small piece of code in most general-purpose programming languages, this program is used to illustrate a language's basic syntax. Such a program is often the first written by a student of a new programming language, but it can also be used as a sanity check to ensure that the computer software intended to compile or run source code is correctly installed, and that its operator understands how to use it.\n",
      "\n",
      "\u001b[0m\n",
      "Thought:\u001b[32;1m\u001b[1;3m I now know the final answer\n",
      "Final Answer: FastAPI is a high-performance web framework for building HTTP-based service APIs in Python 3.8+. It uses Pydantic and type hints for data validation and serialization, and automatically generates OpenAPI documentation for APIs. It was first released in 2018.\u001b[0m\n",
      "\n",
      "\u001b[1m> Finished chain.\u001b[0m\n"
     ]
    },
    {
     "data": {
      "text/plain": [
       "'FastAPI is a high-performance web framework for building HTTP-based service APIs in Python 3.8+. It uses Pydantic and type hints for data validation and serialization, and automatically generates OpenAPI documentation for APIs. It was first released in 2018.'"
      ]
     },
     "execution_count": 116,
     "metadata": {},
     "output_type": "execute_result"
    }
   ],
   "source": [
    "agent.run(\"what is FastAPI\")"
   ]
  },
  {
   "cell_type": "code",
   "execution_count": null,
   "id": "8ed0db8e-9511-43e5-a4ed-f681f8b87e3b",
   "metadata": {},
   "outputs": [],
   "source": []
  }
 ],
 "metadata": {
  "kernelspec": {
   "display_name": "Python 3 (ipykernel)",
   "language": "python",
   "name": "python3"
  },
  "language_info": {
   "codemirror_mode": {
    "name": "ipython",
    "version": 3
   },
   "file_extension": ".py",
   "mimetype": "text/x-python",
   "name": "python",
   "nbconvert_exporter": "python",
   "pygments_lexer": "ipython3",
   "version": "3.12.5"
  }
 },
 "nbformat": 4,
 "nbformat_minor": 5
}
