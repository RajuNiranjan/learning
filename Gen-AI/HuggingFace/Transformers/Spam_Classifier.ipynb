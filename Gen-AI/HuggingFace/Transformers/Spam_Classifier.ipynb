{
 "cells": [
  {
   "cell_type": "markdown",
   "metadata": {},
   "source": [
    "# SPAM CLASSIFIER\n"
   ]
  },
  {
   "cell_type": "code",
   "execution_count": 14,
   "metadata": {},
   "outputs": [],
   "source": [
    "from transformers import pipeline, AutoTokenizer,AutoModelForSequenceClassification"
   ]
  },
  {
   "cell_type": "code",
   "execution_count": 11,
   "metadata": {},
   "outputs": [],
   "source": [
    "model_name=\"philschmid/distilbert-base-multilingual-cased-sentiment\"\n"
   ]
  },
  {
   "cell_type": "code",
   "execution_count": 17,
   "metadata": {},
   "outputs": [],
   "source": [
    "model=AutoModelForSequenceClassification.from_pretrained(model_name)\n",
    "tokenizer=AutoTokenizer.from_pretrained(model_name)"
   ]
  },
  {
   "cell_type": "code",
   "execution_count": 18,
   "metadata": {},
   "outputs": [
    {
     "name": "stderr",
     "output_type": "stream",
     "text": [
      "Device set to use cpu\n"
     ]
    }
   ],
   "source": [
    "spam_classifier=pipeline(\n",
    "    \"text-classification\",\n",
    "    model=model,\n",
    "    tokenizer=tokenizer\n",
    ")"
   ]
  },
  {
   "cell_type": "code",
   "execution_count": 19,
   "metadata": {},
   "outputs": [],
   "source": [
    "texts = [\n",
    "    \"🎉 You've been selected for a free cruise! Call now to claim your reward.\",\n",
    "    \"Your loan is approved! No credit check needed. Apply now!\",\n",
    "    \"Click here to download the antivirus update before your system crashes!\",\n",
    "    \"Earn $500/day working from home. Limited spots available. Register now!\",\n",
    "    \"Exclusive offer: Get 70% off on all electronics. Visit our site today!\",\n",
    "]\n"
   ]
  },
  {
   "cell_type": "code",
   "execution_count": 20,
   "metadata": {},
   "outputs": [],
   "source": [
    "label_mapping = {\n",
    "    \"negative\": \"SPAM\",\n",
    "    \"neutral\": \"NOT SPAM\",\n",
    "    \"positive\": \"NOT SPAM\"\n",
    "}\n"
   ]
  },
  {
   "cell_type": "code",
   "execution_count": 21,
   "metadata": {},
   "outputs": [],
   "source": [
    "results=spam_classifier(texts)"
   ]
  },
  {
   "cell_type": "code",
   "execution_count": 22,
   "metadata": {},
   "outputs": [
    {
     "name": "stdout",
     "output_type": "stream",
     "text": [
      "Label: SPAM, Confidence: 0.6601765155792236\n",
      "Label: NOT SPAM, Confidence: 0.966903030872345\n",
      "Label: NOT SPAM, Confidence: 0.7510939836502075\n",
      "Label: SPAM, Confidence: 0.5395314693450928\n",
      "Label: SPAM, Confidence: 0.6896630525588989\n"
     ]
    }
   ],
   "source": [
    "for result in results:\n",
    "    label=label_mapping[result[\"label\"]]\n",
    "    score=result[\"score\"]\n",
    "    print(f\"Label: {label}, Confidence: {score}\")"
   ]
  },
  {
   "cell_type": "code",
   "execution_count": null,
   "metadata": {},
   "outputs": [],
   "source": []
  }
 ],
 "metadata": {
  "kernelspec": {
   "display_name": "Python 3",
   "language": "python",
   "name": "python3"
  },
  "language_info": {
   "codemirror_mode": {
    "name": "ipython",
    "version": 3
   },
   "file_extension": ".py",
   "mimetype": "text/x-python",
   "name": "python",
   "nbconvert_exporter": "python",
   "pygments_lexer": "ipython3",
   "version": "3.12.5"
  }
 },
 "nbformat": 4,
 "nbformat_minor": 2
}
