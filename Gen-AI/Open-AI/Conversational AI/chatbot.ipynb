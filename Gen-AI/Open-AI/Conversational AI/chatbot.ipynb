{
 "cells": [
  {
   "cell_type": "markdown",
   "metadata": {},
   "source": [
    "# Conversational AI\n"
   ]
  },
  {
   "cell_type": "code",
   "execution_count": 2,
   "metadata": {},
   "outputs": [],
   "source": [
    "from langchain_openai import ChatOpenAI\n",
    "from langchain.chains import ConversationChain\n",
    "from langchain.memory import ConversationBufferMemory"
   ]
  },
  {
   "cell_type": "markdown",
   "metadata": {},
   "source": [
    "### Basic Context-Aware Chatbot with Memory\n"
   ]
  },
  {
   "cell_type": "code",
   "execution_count": 3,
   "metadata": {},
   "outputs": [],
   "source": [
    "llm=ChatOpenAI(\n",
    "    model=\"gpt-4o\",\n",
    "    temperature=0.2\n",
    ")"
   ]
  },
  {
   "cell_type": "code",
   "execution_count": 4,
   "metadata": {},
   "outputs": [
    {
     "name": "stderr",
     "output_type": "stream",
     "text": [
      "C:\\Users\\rajun\\AppData\\Local\\Temp\\ipykernel_18548\\2290902444.py:1: LangChainDeprecationWarning: Please see the migration guide at: https://python.langchain.com/docs/versions/migrating_memory/\n",
      "  memory=ConversationBufferMemory()\n"
     ]
    }
   ],
   "source": [
    "memory=ConversationBufferMemory()"
   ]
  },
  {
   "cell_type": "code",
   "execution_count": 5,
   "metadata": {},
   "outputs": [
    {
     "name": "stderr",
     "output_type": "stream",
     "text": [
      "C:\\Users\\rajun\\AppData\\Local\\Temp\\ipykernel_18548\\4253536042.py:1: LangChainDeprecationWarning: The class `ConversationChain` was deprecated in LangChain 0.2.7 and will be removed in 1.0. Use :class:`~langchain_core.runnables.history.RunnableWithMessageHistory` instead.\n",
      "  chatbot=ConversationChain(\n"
     ]
    }
   ],
   "source": [
    "chatbot=ConversationChain(\n",
    "    llm=llm,\n",
    "    memory=memory,\n",
    "    verbose=True\n",
    ")"
   ]
  },
  {
   "cell_type": "code",
   "execution_count": 6,
   "metadata": {},
   "outputs": [
    {
     "name": "stderr",
     "output_type": "stream",
     "text": [
      "C:\\Users\\rajun\\AppData\\Local\\Temp\\ipykernel_18548\\4215256622.py:1: LangChainDeprecationWarning: The method `Chain.run` was deprecated in langchain 0.1.0 and will be removed in 1.0. Use :meth:`~invoke` instead.\n",
      "  chatbot.run(\"Hi, I'm Plannig a vacation.\")\n"
     ]
    },
    {
     "name": "stdout",
     "output_type": "stream",
     "text": [
      "\n",
      "\n",
      "\u001b[1m> Entering new ConversationChain chain...\u001b[0m\n",
      "Prompt after formatting:\n",
      "\u001b[32;1m\u001b[1;3mThe following is a friendly conversation between a human and an AI. The AI is talkative and provides lots of specific details from its context. If the AI does not know the answer to a question, it truthfully says it does not know.\n",
      "\n",
      "Current conversation:\n",
      "\n",
      "Human: Hi, I'm Plannig a vacation.\n",
      "AI:\u001b[0m\n",
      "\n",
      "\u001b[1m> Finished chain.\u001b[0m\n"
     ]
    },
    {
     "data": {
      "text/plain": [
       "'That sounds exciting! Planning a vacation can be a lot of fun. Do you have a destination in mind, or are you still exploring options? I can help with suggestions, travel tips, or information about specific places if you need it.'"
      ]
     },
     "execution_count": 6,
     "metadata": {},
     "output_type": "execute_result"
    }
   ],
   "source": [
    "chatbot.run(\"Hi, I'm Plannig a vacation.\")"
   ]
  },
  {
   "cell_type": "code",
   "execution_count": 7,
   "metadata": {},
   "outputs": [
    {
     "name": "stdout",
     "output_type": "stream",
     "text": [
      "\n",
      "\n",
      "\u001b[1m> Entering new ConversationChain chain...\u001b[0m\n",
      "Prompt after formatting:\n",
      "\u001b[32;1m\u001b[1;3mThe following is a friendly conversation between a human and an AI. The AI is talkative and provides lots of specific details from its context. If the AI does not know the answer to a question, it truthfully says it does not know.\n",
      "\n",
      "Current conversation:\n",
      "Human: Hi, I'm Plannig a vacation.\n",
      "AI: That sounds exciting! Planning a vacation can be a lot of fun. Do you have a destination in mind, or are you still exploring options? I can help with suggestions, travel tips, or information about specific places if you need it.\n",
      "Human: can you suggenst me places to visit in bangalore\n",
      "AI:\u001b[0m\n",
      "\n",
      "\u001b[1m> Finished chain.\u001b[0m\n"
     ]
    },
    {
     "data": {
      "text/plain": [
       "\"Absolutely! Bangalore, also known as Bengaluru, is a vibrant city in India with a mix of modernity and rich cultural heritage. Here are some places you might want to visit:\\n\\n1. **Lalbagh Botanical Garden**: This is a beautiful garden spread over 240 acres, famous for its glasshouse inspired by the Crystal Palace in London. It's a great place for nature lovers and those interested in botany.\\n\\n2. **Bangalore Palace**: Built in the Tudor style, this palace gives you a glimpse into the royal history of the city. It’s known for its beautiful architecture and sprawling grounds.\\n\\n3. **Cubbon Park**: Located in the heart of the city, this park is perfect for a leisurely stroll or a picnic. It’s also home to several significant buildings like the State Central Library and the High Court of Karnataka.\\n\\n4. **Vidhana Soudha**: This is the seat of the state legislature of Karnataka and is an impressive example of neo-Dravidian architecture. While you can't go inside, the building is stunning to view from the outside, especially when lit up at night.\\n\\n5. **Bannerghatta National Park**: If you're interested in wildlife, this national park offers a safari experience where you can see animals like tigers, lions, and elephants in their natural habitat.\\n\\n6. **ISKCON Temple**: This is one of the largest ISKCON temples in the world. It’s a peaceful place with beautiful architecture and offers a spiritual experience.\\n\\n7. **Commercial Street**: For shopping enthusiasts, this bustling street is perfect for picking up everything from clothes to jewelry to handicrafts.\\n\\n8. **UB City**: If you're looking for a more upscale experience, UB City is a luxury shopping and dining destination with high-end brands and gourmet restaurants.\\n\\n9. **National Gallery of Modern Art**: Art lovers will enjoy this gallery, which houses a vast collection of modern Indian art.\\n\\n10. **Innovative Film City**: Located a bit outside the city, this is a fun place for families with attractions like a wax museum, dinosaur park, and various entertainment zones.\\n\\nThese are just a few highlights, and there’s plenty more to explore depending on your interests!\""
      ]
     },
     "execution_count": 7,
     "metadata": {},
     "output_type": "execute_result"
    }
   ],
   "source": [
    "chatbot.run(\"can you suggenst me places to visit in bangalore\")"
   ]
  },
  {
   "cell_type": "markdown",
   "metadata": {},
   "source": [
    "### Conversational Retrieval QA Bot\n"
   ]
  },
  {
   "cell_type": "code",
   "execution_count": 8,
   "metadata": {},
   "outputs": [],
   "source": [
    "from langchain.chains import ConversationalRetrievalChain\n",
    "from langchain.memory import ConversationBufferMemory\n",
    "from langchain_community.document_loaders import PyPDFDirectoryLoader\n",
    "from langchain_text_splitters import RecursiveCharacterTextSplitter\n",
    "from langchain_community.embeddings import OpenAIEmbeddings\n",
    "from langchain.vectorstores import FAISS"
   ]
  },
  {
   "cell_type": "code",
   "execution_count": 9,
   "metadata": {},
   "outputs": [],
   "source": [
    "pdf_paths='../pdfs'"
   ]
  },
  {
   "cell_type": "code",
   "execution_count": 10,
   "metadata": {},
   "outputs": [],
   "source": [
    "loader=PyPDFDirectoryLoader(pdf_paths)"
   ]
  },
  {
   "cell_type": "code",
   "execution_count": 11,
   "metadata": {},
   "outputs": [],
   "source": [
    "docs=loader.load()"
   ]
  },
  {
   "cell_type": "code",
   "execution_count": 12,
   "metadata": {},
   "outputs": [],
   "source": [
    "splitter=RecursiveCharacterTextSplitter(\n",
    "    chunk_size=500,\n",
    "    chunk_overlap=50\n",
    ")"
   ]
  },
  {
   "cell_type": "code",
   "execution_count": 13,
   "metadata": {},
   "outputs": [],
   "source": [
    "chunk=splitter.split_documents(docs)"
   ]
  },
  {
   "cell_type": "code",
   "execution_count": 14,
   "metadata": {},
   "outputs": [
    {
     "name": "stderr",
     "output_type": "stream",
     "text": [
      "C:\\Users\\rajun\\AppData\\Local\\Temp\\ipykernel_18548\\2276573386.py:1: LangChainDeprecationWarning: The class `OpenAIEmbeddings` was deprecated in LangChain 0.0.9 and will be removed in 1.0. An updated version of the class exists in the :class:`~langchain-openai package and should be used instead. To use it run `pip install -U :class:`~langchain-openai` and import as `from :class:`~langchain_openai import OpenAIEmbeddings``.\n",
      "  embeddings=OpenAIEmbeddings()\n"
     ]
    }
   ],
   "source": [
    "embeddings=OpenAIEmbeddings()"
   ]
  },
  {
   "cell_type": "code",
   "execution_count": 15,
   "metadata": {},
   "outputs": [],
   "source": [
    "vectorStore=FAISS.from_documents(chunk,embeddings)"
   ]
  },
  {
   "cell_type": "code",
   "execution_count": 17,
   "metadata": {},
   "outputs": [],
   "source": [
    "retriever=vectorStore.as_retriever()"
   ]
  },
  {
   "cell_type": "code",
   "execution_count": 18,
   "metadata": {},
   "outputs": [],
   "source": [
    "llm=ChatOpenAI(\n",
    "    model='gpt-4o',\n",
    "    temperature=0.2\n",
    ")"
   ]
  },
  {
   "cell_type": "code",
   "execution_count": 19,
   "metadata": {},
   "outputs": [],
   "source": [
    "memory=ConversationBufferMemory(\n",
    "    memory_key=\"chat_history\",\n",
    "    return_messages=True\n",
    ")"
   ]
  },
  {
   "cell_type": "code",
   "execution_count": 20,
   "metadata": {},
   "outputs": [],
   "source": [
    "qa_chain=ConversationalRetrievalChain.from_llm(\n",
    "    llm=llm,\n",
    "    retriever=retriever,\n",
    "    memory=memory\n",
    ")"
   ]
  },
  {
   "cell_type": "code",
   "execution_count": 24,
   "metadata": {},
   "outputs": [
    {
     "data": {
      "text/plain": [
       "'Python is used for a variety of applications, including:\\n\\n1. Machine Learning: Python is commonly used for developing machine learning models.\\n2. Data Analysis: It is used for data analysis and data visualization in the form of charts.\\n3. Scripting: Python is used for writing small programs to automate simple tasks, such as sending automated response emails.\\n4. Game Development: Python can be used to develop games.\\n5. Embedded Applications: Python is used in the development of embedded applications.\\n\\nAdditionally, Python is used by organizations like Google, Yahoo, YouTube, Mozilla, Dropbox, Microsoft, Cisco, Spotify, and Quora for various components and applications.'"
      ]
     },
     "execution_count": 24,
     "metadata": {},
     "output_type": "execute_result"
    }
   ],
   "source": [
    "qa_chain(\n",
    "    {\"question\":\"What is Python\",\n",
    "    }\n",
    ")['answer']"
   ]
  },
  {
   "cell_type": "code",
   "execution_count": null,
   "metadata": {},
   "outputs": [],
   "source": []
  }
 ],
 "metadata": {
  "kernelspec": {
   "display_name": "Python 3",
   "language": "python",
   "name": "python3"
  },
  "language_info": {
   "codemirror_mode": {
    "name": "ipython",
    "version": 3
   },
   "file_extension": ".py",
   "mimetype": "text/x-python",
   "name": "python",
   "nbconvert_exporter": "python",
   "pygments_lexer": "ipython3",
   "version": "3.12.5"
  }
 },
 "nbformat": 4,
 "nbformat_minor": 2
}
