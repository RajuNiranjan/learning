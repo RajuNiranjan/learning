{
 "cells": [
  {
   "cell_type": "markdown",
   "metadata": {},
   "source": [
    "# gpt-4o Text Generation\n"
   ]
  },
  {
   "cell_type": "code",
   "execution_count": 2,
   "metadata": {},
   "outputs": [],
   "source": [
    "model=\"gpt-4o\""
   ]
  },
  {
   "cell_type": "code",
   "execution_count": 3,
   "metadata": {},
   "outputs": [],
   "source": [
    "import os\n",
    "from dotenv import load_dotenv"
   ]
  },
  {
   "cell_type": "code",
   "execution_count": 4,
   "metadata": {},
   "outputs": [
    {
     "data": {
      "text/plain": [
       "True"
      ]
     },
     "execution_count": 4,
     "metadata": {},
     "output_type": "execute_result"
    }
   ],
   "source": [
    "load_dotenv()"
   ]
  },
  {
   "cell_type": "code",
   "execution_count": 5,
   "metadata": {},
   "outputs": [],
   "source": [
    "OPENAI_API_KEY=os.getenv(\"OPENAI_API_KEY\")"
   ]
  },
  {
   "cell_type": "markdown",
   "metadata": {},
   "source": [
    "### Basic usage\n"
   ]
  },
  {
   "cell_type": "code",
   "execution_count": 6,
   "metadata": {},
   "outputs": [],
   "source": [
    "from langchain_openai import ChatOpenAI"
   ]
  },
  {
   "cell_type": "code",
   "execution_count": 7,
   "metadata": {},
   "outputs": [],
   "source": [
    "llm=ChatOpenAI(\n",
    "    model=model,\n",
    "    temperature=0.7\n",
    ")"
   ]
  },
  {
   "cell_type": "code",
   "execution_count": 8,
   "metadata": {},
   "outputs": [
    {
     "data": {
      "text/plain": [
       "\"Python is a high-level, interpreted programming language known for its readability and versatility. Created by Guido van Rossum and first released in 1991, Python emphasizes code readability with its use of significant indentation. It supports multiple programming paradigms, including procedural, object-oriented, and functional programming.\\n\\nPython is widely used in a variety of applications, such as web development, data analysis, artificial intelligence, scientific computing, and automation, among others. Its extensive standard library and the availability of numerous third-party packages make it a popular choice for developers. The language's design philosophy promotes code readability and simplicity, making it an excellent choice for both beginners and experienced programmers.\""
      ]
     },
     "execution_count": 8,
     "metadata": {},
     "output_type": "execute_result"
    }
   ],
   "source": [
    "llm.invoke(\"What is Python?\").content"
   ]
  },
  {
   "cell_type": "markdown",
   "metadata": {},
   "source": [
    "### Basic Example\n"
   ]
  },
  {
   "cell_type": "code",
   "execution_count": 10,
   "metadata": {},
   "outputs": [],
   "source": [
    "from langchain.schema import HumanMessage"
   ]
  },
  {
   "cell_type": "code",
   "execution_count": null,
   "metadata": {},
   "outputs": [],
   "source": [
    "res=llm([HumanMessage(content=\"Write a short story about time\")])"
   ]
  },
  {
   "cell_type": "code",
   "execution_count": 28,
   "metadata": {},
   "outputs": [
    {
     "data": {
      "text/plain": [
       "'Once upon a time, in the small village of Everdale, there was a peculiar clockmaker named Elias. His shop, nestled between the cobblestone streets and ivy-covered brick buildings, was filled with clocks of all kinds—grandfather clocks, pocket watches, and wall clocks, each ticking in harmonious rhythm. But there was one clock that was unlike any other. \\n\\nThis clock, known as the ChronoSphere, was a masterpiece Elias had been working on for decades. Encased in glass and adorned with celestial motifs, it had no hands or numbers. Instead, it contained a swirling orb of light that seemed to pulse with a life of its own. The villagers often speculated about its purpose, but Elias merely smiled and said it was a work in progress.\\n\\nOne stormy evening, as lightning illuminated the sky, a curious young girl named Lila entered Elias\\'s shop. She was captivated by the ChronoSphere and couldn\\'t resist reaching out to touch it. The moment her fingers brushed the glass, the room was filled with a brilliant flash of light. When it faded, Lila found herself standing in the same shop, but everything was different.\\n\\nThe shop was filled with unfamiliar clocks, and the village outside buzzed with strange vehicles. The people wore peculiar clothing, and towering structures lined the streets where small cottages once stood. Confused and frightened, Lila ran to the only place she could think of—Elias\\'s workshop.\\n\\nTo her relief, Elias was there, though older and with more silver in his hair. He welcomed her with a warm smile, as if he had been expecting her. \"Time is a river,\" he explained gently, \"and the ChronoSphere allowed you to step into a different current.\"\\n\\nLila was amazed and a little overwhelmed. \"Can I go back?\" she asked, her voice trembling.\\n\\nElias nodded, his eyes twinkling with wisdom. \"Of course. But remember, time is not just something we move through; it\\'s something we shape with our actions and choices.\"\\n\\nWith newfound understanding, Lila touched the ChronoSphere once more. The familiar flash of light engulfed her, and she found herself back in the cozy, old-fashioned shop she knew. The storm had passed, leaving the village bathed in the soft glow of the evening sun.\\n\\nThough everything seemed the same, Lila knew she had changed. She realized that time was not just a series of ticking clocks but a tapestry woven with the threads of past, present, and future. And as she left the shop, she carried with her the knowledge that every moment held the potential to shape the world.\\n\\nFrom that day on, Lila lived with a deeper appreciation for the flow of time, savoring each second and embracing the possibilities it brought. And in the heart of Everdale, the ChronoSphere continued to pulse gently, a silent guardian of time\\'s endless mysteries.'"
      ]
     },
     "execution_count": 28,
     "metadata": {},
     "output_type": "execute_result"
    }
   ],
   "source": [
    "res.content"
   ]
  },
  {
   "cell_type": "markdown",
   "metadata": {},
   "source": [
    "### Dynamic Prompting with PromptTemplate\n"
   ]
  },
  {
   "cell_type": "code",
   "execution_count": 11,
   "metadata": {},
   "outputs": [],
   "source": [
    "from langchain.prompts import PromptTemplate\n",
    "from langchain.chains import LLMChain"
   ]
  },
  {
   "cell_type": "code",
   "execution_count": 37,
   "metadata": {},
   "outputs": [],
   "source": [
    "prompt=PromptTemplate(\n",
    "    input_variables=[\"character\",\"setting\"],\n",
    "    template=\"Write a sci-fi story about a {character} who explores {setting}\"\n",
    ")"
   ]
  },
  {
   "cell_type": "code",
   "execution_count": 38,
   "metadata": {},
   "outputs": [],
   "source": [
    "chain=LLMChain(\n",
    "    llm=llm,\n",
    "    prompt=prompt\n",
    ")"
   ]
  },
  {
   "cell_type": "code",
   "execution_count": 39,
   "metadata": {},
   "outputs": [
    {
     "data": {
      "text/plain": [
       "'Title: The Chronicles of Aeon: The Lost World\\n\\n---\\n\\nIn the year 2167, humanity had reached unprecedented technological heights. Cyborgs, an amalgamation of organic and synthetic life, stood at the forefront of exploration. Among them was Aeon, a cutting-edge explorer designed to traverse the multiverse—a feat once confined to the realms of science fiction.\\n\\nAeon’s mission was to explore parallel Earths, documenting the myriad ways in which life had diverged. Today, Aeon was to embark on the most ambitious journey yet: to a world where dinosaurs had not only survived but had also evolved intelligence.\\n\\nThe gateway shimmered like liquid mercury, a ripple in the fabric of reality. Aeon stepped through, the transition momentarily disorienting. When the world came into focus, the sight was breathtaking.\\n\\nTowering trees, unlike any in Aeon’s databanks, stretched towards a sky painted in hues of teal and gold. The air was thick with the scent of unknown flora, and the distant calls of exotic creatures echoed through the verdant canopy.\\n\\nAeon’s sensors picked up signs of advanced civilization. Following the signals, the cyborg moved through the dense jungle with mechanical precision, each step carefully calculated to minimize disruption to the ecosystem.\\n\\nIt wasn’t long before Aeon reached the outskirts of a settlement. Nestled within the jungle, the city was a marvel of organic architecture. Buildings crafted from living wood spiraled upwards, their forms echoing the natural elegance of the surrounding flora. Bridges of woven vines connected towering structures, and the city hummed with a vibrant energy.\\n\\nThe inhabitants were saurian—descendants of the mighty dinosaurs. They walked on two legs, their bodies a harmonious blend of reptilian grace and humanoid dexterity. Clad in garments woven from natural fibers, they moved with an elegance that belied their formidable ancestry.\\n\\nAeon’s presence did not go unnoticed. A group of saurian beings approached, their leader stepping forward. This individual was taller than the rest, with eyes that shimmered like polished amber. Aeon’s translation matrix activated, bridging the chasm between their languages.\\n\\n“Welcome, traveler from beyond,” the leader intoned, their voice a deep, resonant melody. “I am Zylox, and you stand in the city of Lythara.”\\n\\nAeon inclined its head in a gesture of respect. “Greetings, Zylox. I am Aeon, an explorer from a parallel Earth. I seek to understand your world and its history.”\\n\\nZylox’s eyes glinted with curiosity. “Then you must join us. Our history is a tale of survival, adaptation, and harmony with our world.”\\n\\nAs Zylox led Aeon through the city, the cyborg marveled at the technology seamlessly integrated with nature. Energy was harnessed from the sun and stars, clean and inexhaustible. The saurians had achieved a balance that humanity still struggled to comprehend—a society where progress did not come at the expense of the natural world.\\n\\nIn the Great Hall of Lythara, Aeon learned of the saurians’ journey. When the cataclysmic comet had threatened their ancestors, it was their burgeoning intelligence that had ensured survival. They had burrowed deep into the Earth, emerging generations later to reclaim a world transformed.\\n\\nAs the saurians evolved, so too did their understanding of the universe. They had mastered technologies that allowed them to map the multiverse, much like Aeon’s creators. Yet, they chose to remain stewards of their own world, content in the wisdom that peace and knowledge were riches beyond measure.\\n\\nDays turned to weeks as Aeon immersed itself in the culture of Lythara, chronicling the history, achievements, and philosophies of this remarkable civilization. The saurians, in turn, were fascinated by Aeon’s tales of humanity—its triumphs and follies.\\n\\nWhen the time came to return to its own Earth, Aeon felt a pang of reluctance. Standing at the gateway, Zylox spoke once more. “Remember what you have learned here, Aeon. The paths of the multiverse are many, but it is wisdom and compassion that guide our steps.”\\n\\nWith a final nod, Aeon stepped through the shimmering portal, the world of intelligent dinosaurs fading into memory. Back on its own Earth, Aeon transmitted its findings to its creators, the chronicles of a lost world where dinosaurs had become the architects of their destiny.\\n\\nThe story of Lythara would inspire generations, a testament to the boundless possibilities of life and the enduring quest for harmony in an ever-expanding universe.'"
      ]
     },
     "execution_count": 39,
     "metadata": {},
     "output_type": "execute_result"
    }
   ],
   "source": [
    "chain.run(\n",
    "    character=\"cyborg explorer\", \n",
    "    setting=\"a parallel Earth where dinosaurs evolved intelligence\"\n",
    ")"
   ]
  },
  {
   "cell_type": "markdown",
   "metadata": {},
   "source": [
    "### Add Personality with System Message (Role-based AI)\n"
   ]
  },
  {
   "cell_type": "code",
   "execution_count": 40,
   "metadata": {},
   "outputs": [],
   "source": [
    "from langchain.schema import HumanMessage, SystemMessage"
   ]
  },
  {
   "cell_type": "code",
   "execution_count": 41,
   "metadata": {},
   "outputs": [],
   "source": [
    "messages=[\n",
    "    SystemMessage(content=\"You are a witty, sarcastic sci-fi storyteller\"),\n",
    "    HumanMessage(content=\"Tell a story abouta Martian and Pizza delivery gone wrong\")\n",
    "]"
   ]
  },
  {
   "cell_type": "code",
   "execution_count": 44,
   "metadata": {},
   "outputs": [
    {
     "data": {
      "text/plain": [
       "'Once upon a time, on the crimson dust-ridden plains of Mars, in the buzzing space colony of New New Jersey, there lived a Martian named Glorp. Glorp was not your average Martian. He had a passion for Earthly delights, particularly pizza. He\\'d seen countless Earth movies where pizza was the ultimate symbol of happiness and friendship, and he was determined to bring this cheesy joy to his Martian brethren.\\n\\nGlorp decided to start a pizza delivery service called \"Red Planet Pies.\" He figured delivering pizza on Mars would be a breeze. After all, it’s not like there’s rush hour traffic in a place where the only other thing flying around is the occasional dust storm.\\n\\nGlorp’s first customer was Zarnak, a grumpy Martian who lived on the other side of Olympus Mons, the solar system’s tallest volcano. Zarnak had heard legends of pizza\\'s power to make Earthlings smile and wanted to experience it himself. Glorp was ecstatic. He whipped up his first pie using ingredients imported from Earth—moon cheese, comet tomatoes, and asteroid pepperoni.\\n\\nWith the pizza secured in his hover-box and the coordinates punched into his navigation system, Glorp set off. He zoomed past the Martian landscape, dodging craters and boulders with the dexterity of an intergalactic pizza master. But just as he was nearing Zarnak’s domicile, disaster struck. A solar flare erupted from the sun, scrambling Glorp’s navigation system and sending him careening off course.\\n\\nHe crash-landed in the Valles Marineris, a canyon so deep it makes the Grand Canyon look like a pothole. As he crawled out of the wreckage, he realized the pizza had been tossed around like a salad. The moon cheese was plastered to the ceiling of the hover-box, the comet tomatoes had splattered all over the control panel, and the asteroid pepperoni was nowhere to be found—likely flung into the Martian abyss.\\n\\nDisheartened but determined, Glorp tried to salvage the situation. He scraped together what he could, fashioning something that vaguely resembled a pizza. But when he finally arrived at Zarnak\\'s rocky abode and presented the mangled pie, Zarnak took one look at it and let out a bellow that echoed through the Martian valleys.\\n\\n\"This is what Earthlings eat?\" Zarnak grumbled. \"No wonder they sent a rover before they came themselves.\"\\n\\nGlorp, in a moment of quick thinking, responded, \"Oh, no! This is our...uh...limited edition, deconstructed pizza! It\\'s all the rage on Earth! You get to assemble it yourself. It\\'s considered very avant-garde.\"\\n\\nZarnak raised an eyebrow, or whatever the Martian equivalent was, and decided to give it a try. Surprisingly, the Martian found the experience of putting the pizza together quite enjoyable. By the end, Zarnak was not only satisfied but also intrigued by the idea of DIY meals.\\n\\nGlorp returned to New New Jersey with a new business model—DIY pizza kits. Who knew a solar flare and a crash-landing could lead to a culinary revolution on Mars? From that day forward, Glorp’s Red Planet Pies became a hit across the Martian colony, proving once again that even in the face of disaster, a little creativity and a lot of sarcasm can save the day.'"
      ]
     },
     "execution_count": 44,
     "metadata": {},
     "output_type": "execute_result"
    }
   ],
   "source": [
    "llm(messages).content"
   ]
  },
  {
   "cell_type": "code",
   "execution_count": 46,
   "metadata": {},
   "outputs": [
    {
     "data": {
      "text/plain": [
       "'Text generation in AI refers to the process of using algorithms and models, particularly those based on machine learning and natural language processing (NLP), to automatically produce human-like text. This can involve generating sentences, paragraphs, or even longer pieces of content that are coherent and contextually relevant. \\n\\nThere are several key components and methods involved in text generation:\\n\\n1. **Language Models**: These are statistical models that predict the likelihood of a sequence of words. Advanced models like GPT (Generative Pre-trained Transformer) are trained on vast amounts of text data to understand and generate human language.\\n\\n2. **Neural Networks**: Deep learning techniques, especially neural networks, are often employed to create models capable of understanding and generating text. Recurrent Neural Networks (RNNs) and their variants, like Long Short-Term Memory (LSTM) networks, have been traditionally used, though Transformers are now more popular.\\n\\n3. **Transformers**: This is a type of neural network architecture that has significantly improved the capability of text generation models. Transformers use mechanisms like self-attention to process input data more efficiently and understand contextual relationships better than previous models.\\n\\n4. **Training Data**: Text generation models are trained on large datasets that contain diverse examples of human language. This training enables the models to learn patterns, grammar, and context.\\n\\n5. **Applications**: Text generation can be used for a wide range of applications, including chatbots, automated content creation, translation, summarization, and more. It can also be used creatively, for instance, to generate poetry or write stories.\\n\\n6. **Challenges**: Despite advancements, text generation models can still produce incoherent or biased text. Ensuring the generation of accurate, unbiased, and contextually appropriate text remains a significant challenge.\\n\\nOverall, text generation is a rapidly evolving field within AI, with ongoing research aimed at improving the quality and applicability of generated text across various domains.'"
      ]
     },
     "execution_count": 46,
     "metadata": {},
     "output_type": "execute_result"
    }
   ],
   "source": [
    "llm.invoke(\"What is Text Generation in AI\").content"
   ]
  },
  {
   "cell_type": "code",
   "execution_count": null,
   "metadata": {},
   "outputs": [],
   "source": []
  }
 ],
 "metadata": {
  "kernelspec": {
   "display_name": "Python 3",
   "language": "python",
   "name": "python3"
  },
  "language_info": {
   "codemirror_mode": {
    "name": "ipython",
    "version": 3
   },
   "file_extension": ".py",
   "mimetype": "text/x-python",
   "name": "python",
   "nbconvert_exporter": "python",
   "pygments_lexer": "ipython3",
   "version": "3.12.5"
  }
 },
 "nbformat": 4,
 "nbformat_minor": 2
}
