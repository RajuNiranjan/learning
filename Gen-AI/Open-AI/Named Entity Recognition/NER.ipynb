{
 "cells": [
  {
   "cell_type": "markdown",
   "metadata": {},
   "source": [
    "# Named Entity Recognition\n"
   ]
  },
  {
   "cell_type": "code",
   "execution_count": 1,
   "metadata": {},
   "outputs": [],
   "source": [
    "from langchain_openai import ChatOpenAI\n",
    "from langchain.prompts import PromptTemplate\n",
    "from langchain.chains import LLMChain"
   ]
  },
  {
   "cell_type": "code",
   "execution_count": 2,
   "metadata": {},
   "outputs": [],
   "source": [
    "llm = ChatOpenAI(\n",
    "    model='gpt-4o',\n",
    "    temperature=0.2\n",
    ")"
   ]
  },
  {
   "cell_type": "code",
   "execution_count": 12,
   "metadata": {},
   "outputs": [],
   "source": [
    "prompt = PromptTemplate(\n",
    "    input_variables=[\"text\"],\n",
    "    template=\"\"\"\n",
    "Extract the named entities from the text and return them as a JSON object with the keys: person, organization, location, date, and event.\n",
    "\n",
    "Text: \"{text}\"\n",
    "\n",
    "JSON:\n",
    "\"\"\"\n",
    ")\n",
    "\n",
    "# Output example\n",
    "# {\n",
    "#   \"person\": [\"Barack Obama\"],\n",
    "#   \"organization\": [\"Stanford University\"],\n",
    "#   \"location\": [\"Stanford University\"],\n",
    "#   \"date\": [\"April 15th, 2023\"],\n",
    "#   \"event\": [\"speech on cybersecurity threats\"]\n",
    "# }\n"
   ]
  },
  {
   "cell_type": "code",
   "execution_count": 13,
   "metadata": {},
   "outputs": [],
   "source": [
    "from langchain_community.document_loaders import PyPDFLoader"
   ]
  },
  {
   "cell_type": "code",
   "execution_count": 14,
   "metadata": {},
   "outputs": [],
   "source": [
    "loader=PyPDFLoader('../pdfs/Niranjan_Raju_Resume.pdf')"
   ]
  },
  {
   "cell_type": "code",
   "execution_count": 15,
   "metadata": {},
   "outputs": [],
   "source": [
    "text=loader.load()"
   ]
  },
  {
   "cell_type": "code",
   "execution_count": 16,
   "metadata": {},
   "outputs": [],
   "source": [
    "chain=LLMChain(\n",
    "    llm=llm,\n",
    "    prompt=prompt\n",
    ")"
   ]
  },
  {
   "cell_type": "code",
   "execution_count": 17,
   "metadata": {},
   "outputs": [
    {
     "data": {
      "text/plain": [
       "'```json\\n{\\n  \"person\": [\"John Doe\", \"Niranjan Raju\"],\\n  \"organization\": [\"FlyingFox Labs Pvt Ltd\", \"ThubmStack Technologies\", \"KLUB STACK\", \"KKR & KSR Institute of Technology and Sciences\"],\\n  \"location\": [],\\n  \"date\": [\"2025-01-23\", \"Apr 2024\", \"Jan 2024\", \"Oct 2023\", \"May 2023\", \"Aug 2019\"],\\n  \"event\": [\"Who Am I\"]\\n}\\n```'"
      ]
     },
     "execution_count": 17,
     "metadata": {},
     "output_type": "execute_result"
    }
   ],
   "source": [
    "chain.run(text)"
   ]
  },
  {
   "cell_type": "code",
   "execution_count": 18,
   "metadata": {},
   "outputs": [],
   "source": [
    "text = \"Barack Obama gave a speech at Stanford University on April 15th, 2023, about cybersecurity threats.\"\n"
   ]
  },
  {
   "cell_type": "code",
   "execution_count": 19,
   "metadata": {},
   "outputs": [
    {
     "data": {
      "text/plain": [
       "'```json\\n{\\n  \"person\": [\"Barack Obama\"],\\n  \"organization\": [\"Stanford University\"],\\n  \"location\": [],\\n  \"date\": [\"April 15th, 2023\"],\\n  \"event\": []\\n}\\n```'"
      ]
     },
     "execution_count": 19,
     "metadata": {},
     "output_type": "execute_result"
    }
   ],
   "source": [
    "chain.run(text)"
   ]
  },
  {
   "cell_type": "code",
   "execution_count": null,
   "metadata": {},
   "outputs": [],
   "source": []
  }
 ],
 "metadata": {
  "kernelspec": {
   "display_name": "Python 3",
   "language": "python",
   "name": "python3"
  },
  "language_info": {
   "codemirror_mode": {
    "name": "ipython",
    "version": 3
   },
   "file_extension": ".py",
   "mimetype": "text/x-python",
   "name": "python",
   "nbconvert_exporter": "python",
   "pygments_lexer": "ipython3",
   "version": "3.12.5"
  }
 },
 "nbformat": 4,
 "nbformat_minor": 2
}
