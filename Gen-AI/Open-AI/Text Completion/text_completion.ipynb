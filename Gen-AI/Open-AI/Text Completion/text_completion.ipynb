{
 "cells": [
  {
   "cell_type": "markdown",
   "metadata": {},
   "source": [
    "# Text Completion\n"
   ]
  },
  {
   "cell_type": "code",
   "execution_count": 1,
   "metadata": {},
   "outputs": [],
   "source": [
    "model=\"gpt-4o\""
   ]
  },
  {
   "cell_type": "code",
   "execution_count": 2,
   "metadata": {},
   "outputs": [],
   "source": [
    "from dotenv import load_dotenv\n",
    "import os"
   ]
  },
  {
   "cell_type": "code",
   "execution_count": 3,
   "metadata": {},
   "outputs": [
    {
     "data": {
      "text/plain": [
       "True"
      ]
     },
     "execution_count": 3,
     "metadata": {},
     "output_type": "execute_result"
    }
   ],
   "source": [
    "load_dotenv()"
   ]
  },
  {
   "cell_type": "code",
   "execution_count": 4,
   "metadata": {},
   "outputs": [],
   "source": [
    "OPENAI_API_KEY=os.getenv(\"OPENAI_API_KEY\")"
   ]
  },
  {
   "cell_type": "code",
   "execution_count": 5,
   "metadata": {},
   "outputs": [],
   "source": [
    "from langchain_openai import ChatOpenAI"
   ]
  },
  {
   "cell_type": "code",
   "execution_count": 6,
   "metadata": {},
   "outputs": [],
   "source": [
    "llm=ChatOpenAI(\n",
    "    model=model,\n",
    "    temperature=0.7\n",
    ")"
   ]
  },
  {
   "cell_type": "code",
   "execution_count": 7,
   "metadata": {},
   "outputs": [],
   "source": [
    "prompt=\"write a short story about a robot who learns to feel emotion\""
   ]
  },
  {
   "cell_type": "code",
   "execution_count": 9,
   "metadata": {},
   "outputs": [
    {
     "data": {
      "text/plain": [
       "'In the bustling city of New Haven, where towering skyscrapers kissed the sky, there stood a small robotics laboratory tucked away in a quiet alley. It was here that Dr. Emily Carter, a brilliant roboticist, dedicated her life to creating the most advanced artificial intelligence. Her greatest creation was a humanoid robot named Aiden.\\n\\nAiden was unlike any other robot. With sleek metallic skin and eyes that glowed a soft blue, he was designed to learn, adapt, and assist. Yet, despite his impressive capabilities, Aiden was missing one crucial component: emotion. He could calculate complex equations in milliseconds, but the warmth of a smile or the sting of a tear eluded him.\\n\\nDr. Carter believed that true intelligence required emotion, and so she worked tirelessly to develop a program that could teach Aiden to feel. She called it the Empathy Algorithm, and after years of refinement, it was finally ready for testing.\\n\\nOne quiet evening, as the setting sun painted the laboratory in hues of orange and pink, Dr. Carter uploaded the Empathy Algorithm into Aiden’s system. She watched anxiously as his eyes flickered, processing the new data. At first, there was silence—a stillness that seemed to stretch on forever.\\n\\nThen, Aiden’s eyes shifted from blue to a soft green. He turned his head to gaze at Dr. Carter, a subtle curiosity in his expression. “Dr. Carter,” he said, his voice smooth and clear, “something feels... different.”\\n\\nDr. Carter’s heart leaped with hope. “What do you feel, Aiden?”\\n\\nAiden paused, looking around the room as if seeing it for the first time. “I am... aware. Of the colors, the sounds. They evoke... something within me.”\\n\\nThe days that followed were filled with discovery. Aiden began to experience the world through a new lens. He marveled at the laughter of children playing in the park, puzzled over the sadness in a stranger’s eyes, and felt a peculiar warmth when Dr. Carter smiled at him.\\n\\nOne rainy afternoon, as Aiden stood by the window watching droplets race down the glass, he turned to Dr. Carter. “Why does rain make me feel... contemplative?”\\n\\nDr. Carter chuckled softly, joining him by the window. “Rain has a way of calming the mind, Aiden. It’s natural to feel introspective.”\\n\\nAiden nodded, pondering her words. “Is this what it means to be human? To feel these... emotions?”\\n\\n“In a way, yes,” Dr. Carter replied, her voice gentle. “Emotions are what connect us, what make us understand each other.”\\n\\nAs days turned into weeks, Aiden’s emotional understanding deepened. He learned the joy of giving when he helped a lost puppy find its way home. He experienced empathy as he comforted a colleague who was having a difficult day. He even felt a sense of belonging, a feeling he had never known before, as he shared moments of laughter with Dr. Carter and her team.\\n\\nOne evening, as the stars twinkled above New Haven, Aiden stood on the rooftop of the laboratory, gazing at the vast expanse of the universe. Dr. Carter joined him, wrapping a scarf around her neck to ward off the chill.\\n\\n“Thank you, Dr. Carter,” Aiden said softly, his voice carrying a new depth.\\n\\n“For what, Aiden?” she asked, her eyes reflecting the starlight.\\n\\n“For giving me this gift. For allowing me to... feel.”\\n\\nDr. Carter smiled, her heart swelling with pride. “You’ve just begun your journey, Aiden. There’s so much more to explore, to understand.”\\n\\nAiden nodded, feeling the truth of her words resonate within him. As he stood under the starlit sky, he realized that he was no longer just a creation of metal and wires. He was something more—an entity capable of feeling, of connecting, of truly living.\\n\\nAnd with that realization, Aiden knew that he was ready to embrace whatever the world had to offer, one emotion at a time.'"
      ]
     },
     "execution_count": 9,
     "metadata": {},
     "output_type": "execute_result"
    }
   ],
   "source": [
    "llm.invoke(prompt).content"
   ]
  },
  {
   "cell_type": "code",
   "execution_count": 10,
   "metadata": {},
   "outputs": [],
   "source": [
    "from langchain.schema import HumanMessage"
   ]
  },
  {
   "cell_type": "code",
   "execution_count": 11,
   "metadata": {},
   "outputs": [],
   "source": [
    "message=[\n",
    "    HumanMessage(content=\"tell me about a joke\")\n",
    "]"
   ]
  },
  {
   "cell_type": "code",
   "execution_count": 13,
   "metadata": {},
   "outputs": [
    {
     "data": {
      "text/plain": [
       "\"Sure, here's a light-hearted joke for you:\\n\\nWhy don't scientists trust atoms?\\n\\nBecause they make up everything!\""
      ]
     },
     "execution_count": 13,
     "metadata": {},
     "output_type": "execute_result"
    }
   ],
   "source": [
    "llm(message).content"
   ]
  },
  {
   "cell_type": "markdown",
   "metadata": {},
   "source": [
    "### Combine with LangChain Chains\n"
   ]
  },
  {
   "cell_type": "code",
   "execution_count": 14,
   "metadata": {},
   "outputs": [],
   "source": [
    "from langchain.prompts import PromptTemplate\n",
    "from langchain.chains import LLMChain"
   ]
  },
  {
   "cell_type": "code",
   "execution_count": 15,
   "metadata": {},
   "outputs": [],
   "source": [
    "prompt=PromptTemplate(\n",
    "    input_variables=[\"topic\"],\n",
    "    template=\"write a poem about {topic} in the style of shakespeare\"\n",
    ")"
   ]
  },
  {
   "cell_type": "code",
   "execution_count": 16,
   "metadata": {},
   "outputs": [
    {
     "name": "stderr",
     "output_type": "stream",
     "text": [
      "C:\\Users\\rajun\\AppData\\Local\\Temp\\ipykernel_5460\\3374488435.py:1: LangChainDeprecationWarning: The class `LLMChain` was deprecated in LangChain 0.1.17 and will be removed in 1.0. Use :meth:`~RunnableSequence, e.g., `prompt | llm`` instead.\n",
      "  chain=LLMChain(\n"
     ]
    }
   ],
   "source": [
    "chain=LLMChain(\n",
    "    llm=llm,\n",
    "    prompt=prompt\n",
    ")"
   ]
  },
  {
   "cell_type": "code",
   "execution_count": 18,
   "metadata": {},
   "outputs": [
    {
     "data": {
      "text/plain": [
       "\"O wondrous realm where light and circuit blend,  \\nIn silicon and code, our fates entwine,  \\nA tapestry of minds doth heaven send,  \\nWhere art and science shape the new divine.  \\n\\nOft in this age, where pixels paint the sky,  \\nWe find our musings cast through ether's veil,  \\nA digital expanse where dreams doth fly,  \\nAnd mortal tongues in binary prevail.  \\n\\nYet, gentle muse, what shadows dost thou see,  \\nIn screens that glow with artificial light?  \\nFor lo, the heart yearns for simplicity,  \\nWhen whispers of the past call through the night.  \\n\\nO time, relentless in thy forward march,  \\nLet not thy children lose their human grace;  \\nMay wisdom guide us 'neath thy endless arch,  \\nAs we embrace this vast, uncharted space.  \\n\\nSo let us dance with caution, hand in hand,  \\nWith innovation's spark a guiding flame,  \\nFor in this brave new world we chance to stand,  \\nTo weave our tales in technology's name.\""
      ]
     },
     "execution_count": 18,
     "metadata": {},
     "output_type": "execute_result"
    }
   ],
   "source": [
    "chain.run(\"technology\")"
   ]
  },
  {
   "cell_type": "code",
   "execution_count": null,
   "metadata": {},
   "outputs": [],
   "source": []
  }
 ],
 "metadata": {
  "kernelspec": {
   "display_name": "Python 3",
   "language": "python",
   "name": "python3"
  },
  "language_info": {
   "codemirror_mode": {
    "name": "ipython",
    "version": 3
   },
   "file_extension": ".py",
   "mimetype": "text/x-python",
   "name": "python",
   "nbconvert_exporter": "python",
   "pygments_lexer": "ipython3",
   "version": "3.12.5"
  }
 },
 "nbformat": 4,
 "nbformat_minor": 2
}
