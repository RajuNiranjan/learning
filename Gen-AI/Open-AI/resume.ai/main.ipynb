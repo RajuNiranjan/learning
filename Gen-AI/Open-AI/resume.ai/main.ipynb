{
 "cells": [
  {
   "cell_type": "code",
   "execution_count": null,
   "id": "bdcc2870",
   "metadata": {},
   "outputs": [],
   "source": [
    "\"\"\" \n",
    "so by using openai and langchain can i make an ats friendly application for that whay packages do i need to install guide me step by step\n",
    "Features\n",
    "- by using pypdfreader read the pdf\n",
    "- and devide that in to small chunks\n",
    "- and convert that into vectors either job description or resume chunks\n",
    "- compare the  with the job description with resume chunks viseversa\n",
    "- fillnally results the resume score, with suggestions to improve that needs in the resume\n",
    "    and gramitical mistake fixing if any other things needs to achive please do that\n",
    "\n",
    "if i miss any other content or any other implementation please explain that and implement the process\n",
    "\n",
    "list the packages what do i need to install\n",
    "i am using the conda notebook\n",
    "so must the code for notebook with langchain and openai\n",
    "use the all the openai features and must need the good accurated output from the openai\n",
    "\n",
    "\n",
    "\"\"\""
   ]
  },
  {
   "cell_type": "code",
   "execution_count": 2,
   "id": "a8e483d5",
   "metadata": {},
   "outputs": [],
   "source": [
    "from langchain_community.document_loaders import PyPDFLoader\n",
    "from langchain_text_splitters import RecursiveCharacterTextSplitter\n",
    "from langchain.vectorstores import FAISS\n",
    "from langchain_openai import ChatOpenAI, OpenAIEmbeddings\n",
    "from langchain.prompts import PromptTemplate\n",
    "from dotenv import load_dotenv\n",
    "import os\n",
    "import language_tool_python"
   ]
  },
  {
   "cell_type": "code",
   "execution_count": 3,
   "id": "40da47ed",
   "metadata": {},
   "outputs": [
    {
     "data": {
      "text/plain": [
       "True"
      ]
     },
     "execution_count": 3,
     "metadata": {},
     "output_type": "execute_result"
    }
   ],
   "source": [
    "load_dotenv()"
   ]
  },
  {
   "cell_type": "code",
   "execution_count": 4,
   "id": "988e2969",
   "metadata": {},
   "outputs": [],
   "source": [
    "OPENAI_API_KEY=os.getenv(\"OPENAI_API_KEY\")"
   ]
  },
  {
   "cell_type": "code",
   "execution_count": 5,
   "id": "499dcf0f",
   "metadata": {},
   "outputs": [],
   "source": [
    "def load_pdf_text(pdf_path):\n",
    "    loader=PyPDFLoader(pdf_path)\n",
    "    page=loader.load()\n",
    "    return \" \".join([p.page_content for p in page])"
   ]
  },
  {
   "cell_type": "code",
   "execution_count": 6,
   "id": "2edfcc59",
   "metadata": {},
   "outputs": [],
   "source": [
    "pdf_path='./pdfs/Niranjan_Raju_Resume.pdf'"
   ]
  },
  {
   "cell_type": "code",
   "execution_count": 7,
   "id": "0a291965",
   "metadata": {},
   "outputs": [],
   "source": [
    "resume_text=load_pdf_text(pdf_path)"
   ]
  },
  {
   "cell_type": "code",
   "execution_count": 8,
   "id": "c038999f",
   "metadata": {},
   "outputs": [],
   "source": [
    "jd_text=\"\"\"\n",
    "Job Title: Full Stack Developer\n",
    "\n",
    "Location: Hyderabad\n",
    "Position Type: Full-Time (Work from Office Only)\n",
    "Experience: 1 to 2  Years\n",
    "\n",
    "Role Overview:\n",
    "We are looking for a proactive and skilled Full Stack Developer with 8 to 18 months of experience to join our engineering team. This role is perfect for developers who are excited to work across the stack, contribute to building scalable systems, and experiment with AI and automation technologies.\n",
    "\n",
    "Key Responsibilities:\n",
    "\n",
    "Develop and maintain scalable web applications using React.js and Node.js\n",
    "Write clean, maintainable code with a focus on performance and security\n",
    "Support integration of Python-based AI/ML modules (bonus)\n",
    "Required Skills & Qualifications:\n",
    "\n",
    "Strong foundation in JavaScript/TypeScript for both frontend and backend\n",
    "Experience with React.js and Node.js\n",
    "Familiarity with relational and NoSQL databases (e.g., PostgreSQL, DynamoDB)\n",
    "Understanding of cloud services and serverless architecture (AWS Lambda, Kinesis)\n",
    "Basic exposure to Python for automation or ML is a plus\n",
    "A growth mindset, team player attitude, and willingness to learn new technologies\n",
    "Good to Have\n",
    "\n",
    "Exposure to CI/CD workflows\n",
    "Knowledge of RESTful API design and microservices\n",
    "Understanding of basic AI/ML concepts or pipelines\n",
    "\"\"\""
   ]
  },
  {
   "cell_type": "code",
   "execution_count": 9,
   "id": "12637e7c",
   "metadata": {},
   "outputs": [],
   "source": [
    "def text_splitter(text):\n",
    "    splitter=RecursiveCharacterTextSplitter(\n",
    "        chunk_size=500,\n",
    "        chunk_overlap=50\n",
    "    )\n",
    "    chunk=splitter.split_text(text)\n",
    "    return chunk "
   ]
  },
  {
   "cell_type": "code",
   "execution_count": 10,
   "id": "1190263f",
   "metadata": {},
   "outputs": [],
   "source": [
    "resume_chunk=text_splitter(resume_text)\n",
    "jd_chunk=text_splitter(jd_text)"
   ]
  },
  {
   "cell_type": "code",
   "execution_count": 11,
   "id": "ddc0759b",
   "metadata": {},
   "outputs": [],
   "source": [
    "embeddings=OpenAIEmbeddings()"
   ]
  },
  {
   "cell_type": "code",
   "execution_count": 12,
   "id": "c7f5a663",
   "metadata": {},
   "outputs": [],
   "source": [
    "resume_vectorStore=FAISS.from_texts(resume_chunk, embeddings)\n",
    "jd_vectorStore=FAISS.from_texts(jd_chunk, embeddings)"
   ]
  },
  {
   "cell_type": "code",
   "execution_count": 13,
   "id": "4fe50d0b",
   "metadata": {},
   "outputs": [],
   "source": [
    "def similarity_score(query, vectorStore):\n",
    "    docs_and_score=vectorStore.similarity_search_with_score(query, k=3)\n",
    "    avg_score=sum([score for _, score in docs_and_score]) / len(docs_and_score)\n",
    "    return 1 /(1 + avg_score)"
   ]
  },
  {
   "cell_type": "code",
   "execution_count": 14,
   "id": "c0194970",
   "metadata": {},
   "outputs": [],
   "source": [
    "jd_to_resume_score=sum(\n",
    "    similarity_score(chunk, resume_vectorStore) for chunk in jd_chunk ) / len(jd_chunk)"
   ]
  },
  {
   "cell_type": "code",
   "execution_count": 15,
   "id": "8821d6c8",
   "metadata": {},
   "outputs": [],
   "source": [
    "resume_to_jd_score = sum(\n",
    "    similarity_score(chunk, jd_vectorStore) for chunk in resume_chunk) / len(resume_chunk)"
   ]
  },
  {
   "cell_type": "code",
   "execution_count": 16,
   "id": "3bce6b3e",
   "metadata": {},
   "outputs": [],
   "source": [
    "final_score = round((jd_to_resume_score + resume_to_jd_score) / 2 * 100, 2)\n"
   ]
  },
  {
   "cell_type": "code",
   "execution_count": 17,
   "id": "52e9e0bf",
   "metadata": {},
   "outputs": [
    {
     "name": "stdout",
     "output_type": "stream",
     "text": [
      "Resume Match Score: 72.58000183105469%\n"
     ]
    }
   ],
   "source": [
    "print(f\"Resume Match Score: {final_score}%\")"
   ]
  },
  {
   "cell_type": "code",
   "execution_count": 18,
   "id": "f17b1482",
   "metadata": {},
   "outputs": [
    {
     "name": "stdout",
     "output_type": "stream",
     "text": [
      "Found 24 grammar issues.\n"
     ]
    }
   ],
   "source": [
    "tool = language_tool_python.LanguageTool('en-US')\n",
    "matches = tool.check(resume_text)\n",
    "print(f\"Found {len(matches)} grammar issues.\")"
   ]
  },
  {
   "cell_type": "code",
   "execution_count": 19,
   "id": "8a2e2d41",
   "metadata": {},
   "outputs": [],
   "source": [
    "llm=ChatOpenAI(\n",
    "    model=\"gpt-4o\",\n",
    "    temperature=0\n",
    ")"
   ]
  },
  {
   "cell_type": "code",
   "execution_count": 20,
   "id": "bdb13827",
   "metadata": {},
   "outputs": [],
   "source": [
    "template = \"\"\"\n",
    "You are an ATS (Applicant Tracking System) resume optimization expert.\n",
    "\n",
    "A user has uploaded the following resume:\n",
    "\n",
    "{resume}\n",
    "\n",
    "And the job description is:\n",
    "\n",
    "{jd}\n",
    "\n",
    "Based on a detailed comparison:\n",
    "\n",
    "- Suggest improvements to align the resume with the job description.\n",
    "- Identify missing keywords, skills, or relevant experiences.\n",
    "- Provide a resume optimization score out of 100.\n",
    "- Correct any grammar or formatting issues in the resume.\n",
    "\n",
    "Return the response in **markdown format**, organized into the following sections:\n",
    "\n",
    "### Resume Improvement Suggestions\n",
    "...\n",
    "\n",
    "### Missing Keywords or Experience\n",
    "...\n",
    "\n",
    "### Grammar and Formatting Corrections\n",
    "...\n",
    "\n",
    "### Resume Optimization Score\n",
    "...\n",
    "\n",
    "\"\"\"\n"
   ]
  },
  {
   "cell_type": "code",
   "execution_count": 21,
   "id": "f6618a7f",
   "metadata": {},
   "outputs": [],
   "source": [
    "prompt=PromptTemplate.from_template(template)"
   ]
  },
  {
   "cell_type": "code",
   "execution_count": 22,
   "id": "0ac5ac20",
   "metadata": {},
   "outputs": [],
   "source": [
    "chain = prompt | llm\n"
   ]
  },
  {
   "cell_type": "code",
   "execution_count": 23,
   "id": "f135c032",
   "metadata": {},
   "outputs": [],
   "source": [
    "res=chain.invoke({\"resume\":resume_text, \"jd\":jd_text})"
   ]
  },
  {
   "cell_type": "code",
   "execution_count": 24,
   "id": "2e8859a3",
   "metadata": {},
   "outputs": [
    {
     "name": "stdout",
     "output_type": "stream",
     "text": [
      "### Resume Improvement Suggestions\n",
      "\n",
      "1. **Highlight Relevant Experience**: Emphasize your experience with React.js and Node.js, as these are crucial for the job. Consider restructuring the work experience section to highlight these technologies prominently.\n",
      "\n",
      "2. **Include Python Exposure**: If you have any experience with Python, even if minimal, include it to align with the job's preference for Python exposure.\n",
      "\n",
      "3. **Cloud Services and Serverless Architecture**: If you have any experience or knowledge in cloud services like AWS or serverless architecture, mention it. This aligns with the job's requirements.\n",
      "\n",
      "4. **CI/CD Workflows**: If you have experience with CI/CD, include it in your resume. This is listed as a \"Good to Have\" skill in the job description.\n",
      "\n",
      "5. **AI/ML Concepts**: If you have any exposure to AI/ML, even if it's through personal projects or learning, mention it to align with the job's preferences.\n",
      "\n",
      "6. **Reorder Sections**: Consider placing the \"Technologies\" section after the \"Summary\" to immediately showcase your technical skills.\n",
      "\n",
      "### Missing Keywords or Experience\n",
      "\n",
      "- **Python**: Mention any exposure to Python, as it's a bonus skill in the job description.\n",
      "- **Relational Databases**: Include any experience with relational databases like PostgreSQL.\n",
      "- **Cloud Services**: Mention any experience with AWS or similar cloud services.\n",
      "- **Serverless Architecture**: Highlight any knowledge or experience with serverless architecture.\n",
      "- **CI/CD**: Include any experience with CI/CD workflows.\n",
      "- **AI/ML**: Mention any understanding or experience with AI/ML concepts.\n",
      "\n",
      "### Grammar and Formatting Corrections\n",
      "\n",
      "1. **Contact Information**: Ensure that \"Portfolio\" is linked or described if it's a placeholder.\n",
      "2. **Consistent Formatting**: Ensure consistent use of bullet points and spacing throughout the resume.\n",
      "3. **Punctuation**: Add spaces after commas in the \"Technologies\" section for better readability.\n",
      "4. **Sentence Structure**: \n",
      "   - \"enhancing the efficiency of bookings30%.\" should be \"enhancing the efficiency of bookings by 30%.\"\n",
      "   - \"enabling faster campaign optimization 30%.\" should be \"enabling faster campaign optimization by 30%.\"\n",
      "5. **Consistency in Dates**: Use a consistent format for dates, e.g., \"Apr 2024 – Present\" should match \"Jan 2024 – Apr 2024\".\n",
      "\n",
      "### Resume Optimization Score\n",
      "\n",
      "**Score: 75/100**\n",
      "\n",
      "This score reflects the alignment of your resume with the job description. By incorporating the suggested improvements and missing keywords, you can increase this score and improve your chances of passing through an ATS.\n"
     ]
    }
   ],
   "source": [
    "print(res.content)"
   ]
  },
  {
   "cell_type": "code",
   "execution_count": null,
   "id": "5768ab13",
   "metadata": {},
   "outputs": [],
   "source": []
  }
 ],
 "metadata": {
  "kernelspec": {
   "display_name": "Python 3",
   "language": "python",
   "name": "python3"
  },
  "language_info": {
   "codemirror_mode": {
    "name": "ipython",
    "version": 3
   },
   "file_extension": ".py",
   "mimetype": "text/x-python",
   "name": "python",
   "nbconvert_exporter": "python",
   "pygments_lexer": "ipython3",
   "version": "3.12.5"
  }
 },
 "nbformat": 4,
 "nbformat_minor": 5
}
