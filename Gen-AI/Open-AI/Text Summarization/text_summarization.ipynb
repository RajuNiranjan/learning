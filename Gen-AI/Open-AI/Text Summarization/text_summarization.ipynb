{
 "cells": [
  {
   "cell_type": "markdown",
   "metadata": {},
   "source": [
    "### Text Summarization\n"
   ]
  },
  {
   "cell_type": "code",
   "execution_count": 9,
   "metadata": {},
   "outputs": [],
   "source": [
    "from langchain_openai import ChatOpenAI\n",
    "from langchain_community.document_loaders import PyPDFLoader\n",
    "from langchain.chains.summarize import load_summarize_chain\n"
   ]
  },
  {
   "cell_type": "code",
   "execution_count": 2,
   "metadata": {},
   "outputs": [],
   "source": [
    "pdf_path=\"../pdfs/Niranjan_Raju_Resume.pdf\""
   ]
  },
  {
   "cell_type": "code",
   "execution_count": 3,
   "metadata": {},
   "outputs": [],
   "source": [
    "loader=PyPDFLoader(pdf_path)"
   ]
  },
  {
   "cell_type": "code",
   "execution_count": 7,
   "metadata": {},
   "outputs": [],
   "source": [
    "text=loader.load()"
   ]
  },
  {
   "cell_type": "code",
   "execution_count": 8,
   "metadata": {},
   "outputs": [],
   "source": [
    "llm=ChatOpenAI(\n",
    "    model=\"gpt-4\",\n",
    "    temperature=0.2\n",
    ")"
   ]
  },
  {
   "cell_type": "code",
   "execution_count": 10,
   "metadata": {},
   "outputs": [],
   "source": [
    "chain=load_summarize_chain(\n",
    "    llm=llm,\n",
    "    chain_type=\"map_reduce\"\n",
    ")"
   ]
  },
  {
   "cell_type": "code",
   "execution_count": 11,
   "metadata": {},
   "outputs": [
    {
     "name": "stderr",
     "output_type": "stream",
     "text": [
      "C:\\Users\\rajun\\AppData\\Local\\Temp\\ipykernel_20804\\1744877001.py:1: LangChainDeprecationWarning: The method `Chain.run` was deprecated in langchain 0.1.0 and will be removed in 1.0. Use :meth:`~invoke` instead.\n",
      "  chain.run(text)\n"
     ]
    },
    {
     "data": {
      "text/plain": [
       "'Niranjan Raju is a software engineer with experience in web application development and backend system optimization. He is skilled in JavaScript and TypeScript, and has used technologies like React.js, Next.js, Node.js, and Express.js. Raju has worked at FlyingFox Labs Pvt Ltd and interned at ThubmStack Technologies and KLUB STACK. He holds a B.Tech in EEE from KKR & KSR Institute of Technology and Sciences and has developed personal projects such as a meeting scheduling app and an e-commerce app.'"
      ]
     },
     "execution_count": 11,
     "metadata": {},
     "output_type": "execute_result"
    }
   ],
   "source": [
    "chain.run(text)"
   ]
  },
  {
   "cell_type": "code",
   "execution_count": 12,
   "metadata": {},
   "outputs": [],
   "source": [
    "from langchain.prompts import PromptTemplate\n",
    "from langchain_openai import OpenAI\n",
    "from langchain.chains import LLMChain"
   ]
  },
  {
   "cell_type": "code",
   "execution_count": 13,
   "metadata": {},
   "outputs": [],
   "source": [
    "prompt=PromptTemplate(\n",
    "    input_variables=[\"text\"],\n",
    "    template=\"Extract 3 main important points from the following text {text} \"\n",
    ")"
   ]
  },
  {
   "cell_type": "code",
   "execution_count": 14,
   "metadata": {},
   "outputs": [
    {
     "name": "stderr",
     "output_type": "stream",
     "text": [
      "C:\\Users\\rajun\\AppData\\Local\\Temp\\ipykernel_20804\\3374488435.py:1: LangChainDeprecationWarning: The class `LLMChain` was deprecated in LangChain 0.1.17 and will be removed in 1.0. Use :meth:`~RunnableSequence, e.g., `prompt | llm`` instead.\n",
      "  chain=LLMChain(\n"
     ]
    }
   ],
   "source": [
    "chain=LLMChain(\n",
    "    llm=llm,\n",
    "    prompt=prompt\n",
    ")"
   ]
  },
  {
   "cell_type": "code",
   "execution_count": 15,
   "metadata": {},
   "outputs": [
    {
     "data": {
      "text/plain": [
       "'1. Niranjan Raju is a Software Engineer with one year of experience in developing web applications, enhancing performance, and optimizing backend systems for efficiency. He has worked with various technologies including JavaScript, TypeScript, React.js, Next.js, Redux Toolkit, Zustand, Tailwind CSS, Material-UI, Node.js, Nest.js, Express.js, MongoDB, and others.\\n\\n2. He has work experience as a Software Developer at FlyingFox Labs Pvt Ltd, a Full Stack Developer Intern at ThubmStack Technologies, and a Front End Developer Intern at KLUB STACK. In these roles, he has contributed to several projects, including developing a scalable e-commerce platform, building a real-time multiplayer game, and designing a responsive user interface for an email automation platform.\\n\\n3. Niranjan Raju has a B.Tech in EEE from KKR & KSR Institute of Technology and Sciences with a CGPA of 7.01. He has also worked on personal projects such as a meeting scheduling web app and an e-commerce web app, demonstrating his skills in various technologies and his ability to improve efficiency and user engagement.'"
      ]
     },
     "execution_count": 15,
     "metadata": {},
     "output_type": "execute_result"
    }
   ],
   "source": [
    "chain.run(text)"
   ]
  }
 ],
 "metadata": {
  "kernelspec": {
   "display_name": "Python 3",
   "language": "python",
   "name": "python3"
  },
  "language_info": {
   "codemirror_mode": {
    "name": "ipython",
    "version": 3
   },
   "file_extension": ".py",
   "mimetype": "text/x-python",
   "name": "python",
   "nbconvert_exporter": "python",
   "pygments_lexer": "ipython3",
   "version": "3.12.5"
  }
 },
 "nbformat": 4,
 "nbformat_minor": 2
}
