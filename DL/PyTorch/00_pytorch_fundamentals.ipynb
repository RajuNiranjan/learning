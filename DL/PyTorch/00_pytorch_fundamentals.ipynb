{
 "cells": [
  {
   "cell_type": "code",
   "execution_count": 420,
   "id": "42dd3d67",
   "metadata": {},
   "outputs": [
    {
     "name": "stdout",
     "output_type": "stream",
     "text": [
      "Hello I', excited to learn PyTorch!\n"
     ]
    }
   ],
   "source": [
    "print(\"Hello I', excited to learn PyTorch!\")"
   ]
  },
  {
   "cell_type": "code",
   "execution_count": 421,
   "id": "16241ab4",
   "metadata": {},
   "outputs": [],
   "source": [
    "import torch\n",
    "import pandas as pd\n",
    "import numpy as np\n",
    "import matplotlib.pyplot as plt"
   ]
  },
  {
   "cell_type": "code",
   "execution_count": 422,
   "id": "0c483abb",
   "metadata": {},
   "outputs": [
    {
     "name": "stdout",
     "output_type": "stream",
     "text": [
      "2.8.0+cpu\n"
     ]
    }
   ],
   "source": [
    "print(torch.__version__)"
   ]
  },
  {
   "cell_type": "markdown",
   "id": "a92fd5c0",
   "metadata": {},
   "source": [
    "# Introduction to Tensor\n"
   ]
  },
  {
   "cell_type": "code",
   "execution_count": 423,
   "id": "7bb31920",
   "metadata": {},
   "outputs": [
    {
     "data": {
      "text/plain": [
       "tensor(7)"
      ]
     },
     "execution_count": 423,
     "metadata": {},
     "output_type": "execute_result"
    }
   ],
   "source": [
    "# scalr\n",
    "\n",
    "scalar = torch.tensor(7)\n",
    "\n",
    "scalar"
   ]
  },
  {
   "cell_type": "code",
   "execution_count": 424,
   "id": "bc67ec1f",
   "metadata": {},
   "outputs": [
    {
     "data": {
      "text/plain": [
       "0"
      ]
     },
     "execution_count": 424,
     "metadata": {},
     "output_type": "execute_result"
    }
   ],
   "source": [
    "scalar.ndim"
   ]
  },
  {
   "cell_type": "code",
   "execution_count": 425,
   "id": "45933c90",
   "metadata": {},
   "outputs": [
    {
     "data": {
      "text/plain": [
       "7"
      ]
     },
     "execution_count": 425,
     "metadata": {},
     "output_type": "execute_result"
    }
   ],
   "source": [
    "# get tensor back as python int\n",
    "\n",
    "scalar.item()"
   ]
  },
  {
   "cell_type": "code",
   "execution_count": 426,
   "id": "85c43cc6",
   "metadata": {},
   "outputs": [
    {
     "data": {
      "text/plain": [
       "tensor([7, 7])"
      ]
     },
     "execution_count": 426,
     "metadata": {},
     "output_type": "execute_result"
    }
   ],
   "source": [
    "# Vecotr\n",
    "\n",
    "vector = torch.tensor([7, 7])\n",
    "\n",
    "vector"
   ]
  },
  {
   "cell_type": "code",
   "execution_count": 427,
   "id": "d64a6b42",
   "metadata": {},
   "outputs": [
    {
     "data": {
      "text/plain": [
       "torch.Size([2])"
      ]
     },
     "execution_count": 427,
     "metadata": {},
     "output_type": "execute_result"
    }
   ],
   "source": [
    "vector.shape"
   ]
  },
  {
   "cell_type": "code",
   "execution_count": 428,
   "id": "2c5a6a89",
   "metadata": {},
   "outputs": [
    {
     "data": {
      "text/plain": [
       "(tensor([[7, 8],\n",
       "         [9, 0]]),\n",
       " torch.Size([2, 2]))"
      ]
     },
     "execution_count": 428,
     "metadata": {},
     "output_type": "execute_result"
    }
   ],
   "source": [
    "# MATRIX\n",
    "\n",
    "MATRIX = torch.tensor(\n",
    "    [\n",
    "        [7, 8],\n",
    "        [9, 0]\n",
    "    ]\n",
    ")\n",
    "\n",
    "MATRIX, MATRIX.shape"
   ]
  },
  {
   "cell_type": "code",
   "execution_count": 429,
   "id": "4ddfd2fb",
   "metadata": {},
   "outputs": [
    {
     "data": {
      "text/plain": [
       "(tensor([7, 8]), tensor([9, 0]))"
      ]
     },
     "execution_count": 429,
     "metadata": {},
     "output_type": "execute_result"
    }
   ],
   "source": [
    "MATRIX[0],MATRIX[1]"
   ]
  },
  {
   "cell_type": "code",
   "execution_count": 430,
   "id": "84b621f1",
   "metadata": {},
   "outputs": [
    {
     "data": {
      "text/plain": [
       "torch.Size([2, 2])"
      ]
     },
     "execution_count": 430,
     "metadata": {},
     "output_type": "execute_result"
    }
   ],
   "source": [
    "MATRIX.shape"
   ]
  },
  {
   "cell_type": "code",
   "execution_count": 431,
   "id": "4e0899ab",
   "metadata": {},
   "outputs": [],
   "source": [
    "# Tensor\n",
    "\n",
    "TENSOR = torch.tensor(\n",
    "    [\n",
    "        [\n",
    "            [1, 2, 3],\n",
    "            [4, 5, 6],\n",
    "            [7, 8, 9],\n",
    "        ]\n",
    "    ]\n",
    ")\n"
   ]
  },
  {
   "cell_type": "code",
   "execution_count": 432,
   "id": "06f2e1a3",
   "metadata": {},
   "outputs": [
    {
     "data": {
      "text/plain": [
       "(tensor([[[1, 2, 3],\n",
       "          [4, 5, 6],\n",
       "          [7, 8, 9]]]),\n",
       " torch.Size([1, 3, 3]))"
      ]
     },
     "execution_count": 432,
     "metadata": {},
     "output_type": "execute_result"
    }
   ],
   "source": [
    "TENSOR, TENSOR.shape"
   ]
  },
  {
   "cell_type": "markdown",
   "id": "71897e78",
   "metadata": {},
   "source": [
    "# Random Tensors\n",
    "\n",
    "Why Random Tensors?\n",
    "\n",
    "Random tesnors are important because the way many neural networks learn is that they start with tensor full of random numbers and then adjust those random numbers to better represent the data\n",
    "\n",
    "start with random numbers -> look at data -> update random number -> look at data -> update random numbers\n"
   ]
  },
  {
   "cell_type": "code",
   "execution_count": 433,
   "id": "558f0c81",
   "metadata": {},
   "outputs": [
    {
     "data": {
      "text/plain": [
       "(tensor([[0.6966, 0.3841, 0.4445, 0.1954],\n",
       "         [0.8805, 0.3992, 0.0141, 0.6005],\n",
       "         [0.7880, 0.2932, 0.7712, 0.9671]]),\n",
       " 2)"
      ]
     },
     "execution_count": 433,
     "metadata": {},
     "output_type": "execute_result"
    }
   ],
   "source": [
    "# create random tensor of size or shape (3, 4)\n",
    "\n",
    "random_tensor = torch.rand(3, 4)\n",
    "\n",
    "random_tensor, random_tensor.ndim"
   ]
  },
  {
   "cell_type": "code",
   "execution_count": 434,
   "id": "413e244d",
   "metadata": {},
   "outputs": [
    {
     "data": {
      "text/plain": [
       "tensor([[[0.4279, 0.0948, 0.9496],\n",
       "         [0.1447, 0.3592, 0.9318],\n",
       "         [0.3349, 0.8821, 0.6003]]])"
      ]
     },
     "execution_count": 434,
     "metadata": {},
     "output_type": "execute_result"
    }
   ],
   "source": [
    "torch.rand(1, 3, 3)"
   ]
  },
  {
   "cell_type": "code",
   "execution_count": 435,
   "id": "d0398585",
   "metadata": {},
   "outputs": [
    {
     "data": {
      "text/plain": [
       "(tensor([[[0.0097, 0.9026, 0.4370],\n",
       "          [0.4270, 0.1202, 0.3085],\n",
       "          [0.2795, 0.6551, 0.7723],\n",
       "          ...,\n",
       "          [0.0841, 0.8550, 0.9611],\n",
       "          [0.0563, 0.7182, 0.8604],\n",
       "          [0.6871, 0.1176, 0.2111]],\n",
       " \n",
       "         [[0.2252, 0.5311, 0.9862],\n",
       "          [0.6242, 0.7637, 0.9941],\n",
       "          [0.9968, 0.9800, 0.5867],\n",
       "          ...,\n",
       "          [0.7107, 0.1317, 0.1389],\n",
       "          [0.1643, 0.0969, 0.8222],\n",
       "          [0.5481, 0.4639, 0.3090]],\n",
       " \n",
       "         [[0.1608, 0.9072, 0.1524],\n",
       "          [0.9778, 0.7592, 0.8214],\n",
       "          [0.9451, 0.6755, 0.8274],\n",
       "          ...,\n",
       "          [0.7066, 0.7569, 0.8882],\n",
       "          [0.0773, 0.5452, 0.9101],\n",
       "          [0.1746, 0.1636, 0.5698]],\n",
       " \n",
       "         ...,\n",
       " \n",
       "         [[0.2802, 0.3709, 0.3861],\n",
       "          [0.5787, 0.8887, 0.9858],\n",
       "          [0.8872, 0.5340, 0.7540],\n",
       "          ...,\n",
       "          [0.2245, 0.1156, 0.8764],\n",
       "          [0.6551, 0.2485, 0.9040],\n",
       "          [0.6965, 0.5740, 0.8185]],\n",
       " \n",
       "         [[0.4895, 0.1956, 0.0934],\n",
       "          [0.0485, 0.1941, 0.9451],\n",
       "          [0.4794, 0.9710, 0.9787],\n",
       "          ...,\n",
       "          [0.7476, 0.9017, 0.6752],\n",
       "          [0.5590, 0.8037, 0.8433],\n",
       "          [0.6140, 0.7262, 0.7578]],\n",
       " \n",
       "         [[0.4471, 0.4691, 0.1895],\n",
       "          [0.1247, 0.8289, 0.4243],\n",
       "          [0.6557, 0.9000, 0.0274],\n",
       "          ...,\n",
       "          [0.6688, 0.7309, 0.1355],\n",
       "          [0.6708, 0.0179, 0.0584],\n",
       "          [0.7809, 0.9862, 0.4079]]]),\n",
       " 3)"
      ]
     },
     "execution_count": 435,
     "metadata": {},
     "output_type": "execute_result"
    }
   ],
   "source": [
    "# create a random tensor with similar shape to an image tensor\n",
    "\n",
    "random_image_tensor = torch.rand(255, 255, 3)\n",
    "\n",
    "random_image_tensor, random_image_tensor.ndim"
   ]
  },
  {
   "cell_type": "markdown",
   "id": "65748b74",
   "metadata": {},
   "source": [
    "# Zeros and Ones\n"
   ]
  },
  {
   "cell_type": "code",
   "execution_count": 436,
   "id": "ff578b84",
   "metadata": {},
   "outputs": [
    {
     "data": {
      "text/plain": [
       "tensor([[0., 0., 0.],\n",
       "        [0., 0., 0.]])"
      ]
     },
     "execution_count": 436,
     "metadata": {},
     "output_type": "execute_result"
    }
   ],
   "source": [
    "zero = torch.zeros(2, 3)\n",
    "zero"
   ]
  },
  {
   "cell_type": "code",
   "execution_count": 437,
   "id": "92d77587",
   "metadata": {},
   "outputs": [
    {
     "data": {
      "text/plain": [
       "tensor([[1, 1, 1],\n",
       "        [1, 1, 1],\n",
       "        [1, 1, 1]])"
      ]
     },
     "execution_count": 437,
     "metadata": {},
     "output_type": "execute_result"
    }
   ],
   "source": [
    "from pickletools import int4\n",
    "\n",
    "\n",
    "ones = torch.ones(3, 3, dtype=int)\n",
    "\n",
    "ones"
   ]
  },
  {
   "cell_type": "markdown",
   "id": "a486876f",
   "metadata": {},
   "source": [
    "## Creating a range of tensor and tensor like\n"
   ]
  },
  {
   "cell_type": "code",
   "execution_count": 438,
   "id": "b91e7390",
   "metadata": {},
   "outputs": [
    {
     "data": {
      "text/plain": [
       "tensor([ 3,  4,  5,  6,  7,  8,  9, 10, 11, 12, 13, 14, 15, 16, 17, 18, 19, 20,\n",
       "        21, 22, 23, 24, 25, 26, 27, 28, 29, 30, 31, 32])"
      ]
     },
     "execution_count": 438,
     "metadata": {},
     "output_type": "execute_result"
    }
   ],
   "source": [
    "torch.arange(3, 33)"
   ]
  },
  {
   "cell_type": "code",
   "execution_count": 439,
   "id": "2dec270b",
   "metadata": {},
   "outputs": [],
   "source": [
    "range = torch.arange(1, 11, 2)"
   ]
  },
  {
   "cell_type": "code",
   "execution_count": 440,
   "id": "ba895126",
   "metadata": {},
   "outputs": [
    {
     "data": {
      "text/plain": [
       "(tensor([1, 3, 5, 7, 9]), torch.Size([5]))"
      ]
     },
     "execution_count": 440,
     "metadata": {},
     "output_type": "execute_result"
    }
   ],
   "source": [
    "range, range.shape"
   ]
  },
  {
   "cell_type": "code",
   "execution_count": 441,
   "id": "78b6e88f",
   "metadata": {},
   "outputs": [
    {
     "data": {
      "text/plain": [
       "(tensor([1, 1, 1, 1, 1]), tensor([0, 0, 0, 0, 0]))"
      ]
     },
     "execution_count": 441,
     "metadata": {},
     "output_type": "execute_result"
    }
   ],
   "source": [
    "# Create tensor like\n",
    "\n",
    "torch.ones_like(range), torch.zeros_like(range)\n"
   ]
  },
  {
   "cell_type": "markdown",
   "id": "04a79fd2",
   "metadata": {},
   "source": [
    "# Tensor datatype\n"
   ]
  },
  {
   "cell_type": "code",
   "execution_count": 442,
   "id": "42d09582",
   "metadata": {},
   "outputs": [
    {
     "data": {
      "text/plain": [
       "(torch.float32, tensor([3., 6., 9.]))"
      ]
     },
     "execution_count": 442,
     "metadata": {},
     "output_type": "execute_result"
    }
   ],
   "source": [
    "# Float 32 tensor\n",
    "\n",
    "float_32_tensor = torch.tensor( [3, 6, 9], dtype=torch.float32, device=None, requires_grad=False)\n",
    "\n",
    "float_32_tensor.dtype, float_32_tensor"
   ]
  },
  {
   "cell_type": "code",
   "execution_count": 443,
   "id": "267d2323",
   "metadata": {},
   "outputs": [
    {
     "name": "stderr",
     "output_type": "stream",
     "text": [
      "C:\\Users\\rajun\\AppData\\Local\\Temp\\ipykernel_16524\\3779483689.py:1: UserWarning: To copy construct from a tensor, it is recommended to use sourceTensor.detach().clone() or sourceTensor.detach().clone().requires_grad_(True), rather than torch.tensor(sourceTensor).\n",
      "  float_16_tensor = torch.tensor(float_32_tensor, dtype=torch.float16)\n"
     ]
    },
    {
     "data": {
      "text/plain": [
       "(torch.float16, tensor([3., 6., 9.], dtype=torch.float16))"
      ]
     },
     "execution_count": 443,
     "metadata": {},
     "output_type": "execute_result"
    }
   ],
   "source": [
    "float_16_tensor = torch.tensor(float_32_tensor, dtype=torch.float16)\n",
    "\n",
    "float_16_tensor.dtype, float_16_tensor"
   ]
  },
  {
   "cell_type": "code",
   "execution_count": 444,
   "id": "0a3362cb",
   "metadata": {},
   "outputs": [
    {
     "data": {
      "text/plain": [
       "tensor([[0.8674, 0.1984, 0.5297, 0.8565],\n",
       "        [0.5854, 0.7124, 0.3840, 0.2468],\n",
       "        [0.6206, 0.5973, 0.7637, 0.5740],\n",
       "        [0.5803, 0.1250, 0.4032, 0.4766]])"
      ]
     },
     "execution_count": 444,
     "metadata": {},
     "output_type": "execute_result"
    }
   ],
   "source": [
    "some_tensor = torch.rand(4, 4)\n",
    "some_tensor"
   ]
  },
  {
   "cell_type": "code",
   "execution_count": 445,
   "id": "af76059c",
   "metadata": {},
   "outputs": [
    {
     "name": "stdout",
     "output_type": "stream",
     "text": [
      "tensor([[0.8674, 0.1984, 0.5297, 0.8565],\n",
      "        [0.5854, 0.7124, 0.3840, 0.2468],\n",
      "        [0.6206, 0.5973, 0.7637, 0.5740],\n",
      "        [0.5803, 0.1250, 0.4032, 0.4766]])\n",
      "Datatye of tensor:  torch.float32\n",
      "shape of tensor:  torch.Size([4, 4])\n",
      "device of tensor:  cpu\n"
     ]
    }
   ],
   "source": [
    "print(some_tensor)\n",
    "print(f'Datatye of tensor:  {some_tensor.dtype}', )\n",
    "print(f'shape of tensor:  {some_tensor.shape}', )\n",
    "print(f'device of tensor:  {some_tensor.device}', )"
   ]
  },
  {
   "cell_type": "markdown",
   "id": "8e5363ca",
   "metadata": {},
   "source": [
    "### tensor manipulation\n"
   ]
  },
  {
   "cell_type": "code",
   "execution_count": 446,
   "id": "25d2d35f",
   "metadata": {},
   "outputs": [
    {
     "data": {
      "text/plain": [
       "tensor([1, 2, 3, 4, 5])"
      ]
     },
     "execution_count": 446,
     "metadata": {},
     "output_type": "execute_result"
    }
   ],
   "source": [
    "tensor = torch.tensor([1, 2, 3, 4, 5])\n",
    "\n",
    "tensor"
   ]
  },
  {
   "cell_type": "code",
   "execution_count": 447,
   "id": "036cbd36",
   "metadata": {},
   "outputs": [
    {
     "data": {
      "text/plain": [
       "(tensor([11, 12, 13, 14, 15]),)"
      ]
     },
     "execution_count": 447,
     "metadata": {},
     "output_type": "execute_result"
    }
   ],
   "source": [
    "tensor + 10,"
   ]
  },
  {
   "cell_type": "code",
   "execution_count": 448,
   "id": "0922432f",
   "metadata": {},
   "outputs": [
    {
     "data": {
      "text/plain": [
       "(tensor([-1,  0,  1,  2,  3]),)"
      ]
     },
     "execution_count": 448,
     "metadata": {},
     "output_type": "execute_result"
    }
   ],
   "source": [
    "\n",
    "tensor - 2,\n"
   ]
  },
  {
   "cell_type": "code",
   "execution_count": 449,
   "id": "03b104fc",
   "metadata": {},
   "outputs": [
    {
     "data": {
      "text/plain": [
       "(tensor([ 2,  4,  6,  8, 10]),)"
      ]
     },
     "execution_count": 449,
     "metadata": {},
     "output_type": "execute_result"
    }
   ],
   "source": [
    "\n",
    "tensor  * 2,"
   ]
  },
  {
   "cell_type": "markdown",
   "id": "4525cdd9",
   "metadata": {},
   "source": [
    "#### try out PyTorch in-build functions\n"
   ]
  },
  {
   "cell_type": "code",
   "execution_count": 450,
   "id": "f481d9f1",
   "metadata": {},
   "outputs": [
    {
     "data": {
      "text/plain": [
       "tensor([ 2,  4,  6,  8, 10])"
      ]
     },
     "execution_count": 450,
     "metadata": {},
     "output_type": "execute_result"
    }
   ],
   "source": [
    "torch.add(tensor, tensor)"
   ]
  },
  {
   "cell_type": "code",
   "execution_count": 451,
   "id": "613d35ee",
   "metadata": {},
   "outputs": [],
   "source": [
    "### Matrix Multiplicatino"
   ]
  },
  {
   "cell_type": "code",
   "execution_count": 452,
   "id": "a444395e",
   "metadata": {},
   "outputs": [
    {
     "data": {
      "text/plain": [
       "tensor([[0.0243, 0.2245, 0.2393],\n",
       "        [0.1838, 0.2899, 0.7056],\n",
       "        [0.2462, 0.7107, 0.1769]])"
      ]
     },
     "execution_count": 452,
     "metadata": {},
     "output_type": "execute_result"
    }
   ],
   "source": [
    "torch.rand(3, 3) * torch.rand(3, 3)"
   ]
  },
  {
   "cell_type": "code",
   "execution_count": 453,
   "id": "f98fcc09",
   "metadata": {},
   "outputs": [],
   "source": [
    "a = torch.rand(3, 3)\n",
    "b = torch.rand(3, 3)"
   ]
  },
  {
   "cell_type": "code",
   "execution_count": 454,
   "id": "f15f8150",
   "metadata": {},
   "outputs": [
    {
     "data": {
      "text/plain": [
       "tensor([[0.6629, 0.9969, 1.5770],\n",
       "        [0.3233, 0.6869, 1.1743],\n",
       "        [0.4272, 0.4907, 0.7709]])"
      ]
     },
     "execution_count": 454,
     "metadata": {},
     "output_type": "execute_result"
    }
   ],
   "source": [
    "torch.matmul(a, b)"
   ]
  },
  {
   "cell_type": "code",
   "execution_count": 455,
   "id": "70e44038",
   "metadata": {},
   "outputs": [
    {
     "data": {
      "text/plain": [
       "tensor([[0.6629, 0.9969, 1.5770],\n",
       "        [0.3233, 0.6869, 1.1743],\n",
       "        [0.4272, 0.4907, 0.7709]])"
      ]
     },
     "execution_count": 455,
     "metadata": {},
     "output_type": "execute_result"
    }
   ],
   "source": [
    "a @ b"
   ]
  },
  {
   "cell_type": "markdown",
   "id": "c9628cb0",
   "metadata": {},
   "source": [
    "### Finding the min, max, mean, sum etc (tensor aggregation)\n"
   ]
  },
  {
   "cell_type": "code",
   "execution_count": 456,
   "id": "da73247d",
   "metadata": {},
   "outputs": [],
   "source": [
    "\n",
    "x = torch.arange(0, 100, 10)"
   ]
  },
  {
   "cell_type": "code",
   "execution_count": 457,
   "id": "db45802f",
   "metadata": {},
   "outputs": [
    {
     "data": {
      "text/plain": [
       "torch.int64"
      ]
     },
     "execution_count": 457,
     "metadata": {},
     "output_type": "execute_result"
    }
   ],
   "source": [
    "x.dtype"
   ]
  },
  {
   "cell_type": "code",
   "execution_count": 458,
   "id": "53a08f00",
   "metadata": {},
   "outputs": [
    {
     "data": {
      "text/plain": [
       "tensor(0)"
      ]
     },
     "execution_count": 458,
     "metadata": {},
     "output_type": "execute_result"
    }
   ],
   "source": [
    "torch.min(x)"
   ]
  },
  {
   "cell_type": "code",
   "execution_count": 459,
   "id": "2f5f74bf",
   "metadata": {},
   "outputs": [
    {
     "data": {
      "text/plain": [
       "tensor(90)"
      ]
     },
     "execution_count": 459,
     "metadata": {},
     "output_type": "execute_result"
    }
   ],
   "source": [
    "torch.max(x)"
   ]
  },
  {
   "cell_type": "code",
   "execution_count": 460,
   "id": "5e24e70a",
   "metadata": {},
   "outputs": [
    {
     "data": {
      "text/plain": [
       "tensor(45.)"
      ]
     },
     "execution_count": 460,
     "metadata": {},
     "output_type": "execute_result"
    }
   ],
   "source": [
    "torch.mean(x.float())"
   ]
  },
  {
   "cell_type": "code",
   "execution_count": 461,
   "id": "fed90d5f",
   "metadata": {},
   "outputs": [
    {
     "data": {
      "text/plain": [
       "(tensor(450), tensor(450))"
      ]
     },
     "execution_count": 461,
     "metadata": {},
     "output_type": "execute_result"
    }
   ],
   "source": [
    "torch.sum(x), x.sum()"
   ]
  },
  {
   "cell_type": "markdown",
   "id": "0bff5b56",
   "metadata": {},
   "source": [
    "## Finding the positional min and max\n"
   ]
  },
  {
   "cell_type": "code",
   "execution_count": 462,
   "id": "71c75c48",
   "metadata": {},
   "outputs": [
    {
     "data": {
      "text/plain": [
       "tensor(0)"
      ]
     },
     "execution_count": 462,
     "metadata": {},
     "output_type": "execute_result"
    }
   ],
   "source": [
    "x.argmin()"
   ]
  },
  {
   "cell_type": "code",
   "execution_count": 463,
   "id": "09623cc8",
   "metadata": {},
   "outputs": [
    {
     "data": {
      "text/plain": [
       "tensor(9)"
      ]
     },
     "execution_count": 463,
     "metadata": {},
     "output_type": "execute_result"
    }
   ],
   "source": [
    "x.argmax()"
   ]
  },
  {
   "cell_type": "markdown",
   "id": "dd429e4d",
   "metadata": {},
   "source": [
    "## Reshaping, stacking, squeezing, and unsqueezing tensor\n"
   ]
  },
  {
   "cell_type": "code",
   "execution_count": 464,
   "id": "c5be77f3",
   "metadata": {},
   "outputs": [
    {
     "data": {
      "text/plain": [
       "(tensor([1, 2, 3, 4, 5, 6, 7, 8, 9]), torch.Size([9]))"
      ]
     },
     "execution_count": 464,
     "metadata": {},
     "output_type": "execute_result"
    }
   ],
   "source": [
    "x = torch.arange(1, 10)\n",
    "\n",
    "x, x.shape"
   ]
  },
  {
   "cell_type": "code",
   "execution_count": 465,
   "id": "72e6e041",
   "metadata": {},
   "outputs": [
    {
     "data": {
      "text/plain": [
       "(tensor([[1, 2, 3, 4, 5, 6, 7, 8, 9]]), torch.Size([1, 9]))"
      ]
     },
     "execution_count": 465,
     "metadata": {},
     "output_type": "execute_result"
    }
   ],
   "source": [
    "x_reshape = x.reshape(1, 9)\n",
    "\n",
    "x_reshape, x_reshape.shape"
   ]
  },
  {
   "cell_type": "code",
   "execution_count": 466,
   "id": "2f0e9e5a",
   "metadata": {},
   "outputs": [
    {
     "data": {
      "text/plain": [
       "(tensor([[1, 2, 3],\n",
       "         [4, 5, 6],\n",
       "         [7, 8, 9]]),\n",
       " torch.Size([3, 3]))"
      ]
     },
     "execution_count": 466,
     "metadata": {},
     "output_type": "execute_result"
    }
   ],
   "source": [
    "x_reshape = x.reshape(3, 3)\n",
    "\n",
    "x_reshape, x_reshape.shape"
   ]
  },
  {
   "cell_type": "code",
   "execution_count": 467,
   "id": "8f660217",
   "metadata": {},
   "outputs": [
    {
     "data": {
      "text/plain": [
       "(tensor([1, 2, 3, 4, 5]), torch.Size([5]))"
      ]
     },
     "execution_count": 467,
     "metadata": {},
     "output_type": "execute_result"
    }
   ],
   "source": [
    "x = torch.tensor([1, 2, 3, 4, 5])     \n",
    "\n",
    "x, x.shape"
   ]
  },
  {
   "cell_type": "code",
   "execution_count": 468,
   "id": "901a7b56",
   "metadata": {},
   "outputs": [
    {
     "data": {
      "text/plain": [
       "(tensor([[1, 2, 3, 4, 5]]), torch.Size([1, 5]))"
      ]
     },
     "execution_count": 468,
     "metadata": {},
     "output_type": "execute_result"
    }
   ],
   "source": [
    "y = x.unsqueeze(0)              \n",
    "\n",
    "y, y.shape\n"
   ]
  },
  {
   "cell_type": "code",
   "execution_count": 469,
   "id": "c3fb00ee",
   "metadata": {},
   "outputs": [
    {
     "data": {
      "text/plain": [
       "(tensor([[1],\n",
       "         [2],\n",
       "         [3],\n",
       "         [4],\n",
       "         [5]]),\n",
       " torch.Size([5, 1]))"
      ]
     },
     "execution_count": 469,
     "metadata": {},
     "output_type": "execute_result"
    }
   ],
   "source": [
    "z = x.unsqueeze(1)  \n",
    "\n",
    "z, z.shape"
   ]
  },
  {
   "cell_type": "code",
   "execution_count": 471,
   "id": "93f80490",
   "metadata": {},
   "outputs": [
    {
     "name": "stdout",
     "output_type": "stream",
     "text": [
      "Previours shape: torch.Size([224, 224, 3])\n",
      "New shape: torch.Size([3, 224, 224])\n"
     ]
    }
   ],
   "source": [
    "\n",
    "x_original = torch.rand(224, 224, 3)\n",
    "\n",
    "x_permuted = x_original.permute(2, 0, 1)\n",
    "\n",
    "print(f\"Previours shape: {x_original.shape}\")\n",
    "print(f\"New shape: {x_permuted.shape}\")"
   ]
  },
  {
   "cell_type": "code",
   "execution_count": null,
   "id": "6065d30a",
   "metadata": {},
   "outputs": [],
   "source": []
  }
 ],
 "metadata": {
  "kernelspec": {
   "display_name": ".venv",
   "language": "python",
   "name": "python3"
  },
  "language_info": {
   "codemirror_mode": {
    "name": "ipython",
    "version": 3
   },
   "file_extension": ".py",
   "mimetype": "text/x-python",
   "name": "python",
   "nbconvert_exporter": "python",
   "pygments_lexer": "ipython3",
   "version": "3.12.5"
  }
 },
 "nbformat": 4,
 "nbformat_minor": 5
}
