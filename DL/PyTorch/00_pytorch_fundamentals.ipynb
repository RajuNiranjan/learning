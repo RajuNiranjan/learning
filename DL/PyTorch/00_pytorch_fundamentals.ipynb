{
 "cells": [
  {
   "cell_type": "code",
   "execution_count": 87,
   "id": "42dd3d67",
   "metadata": {},
   "outputs": [
    {
     "name": "stdout",
     "output_type": "stream",
     "text": [
      "Hello I', excited to learn PyTorch!\n"
     ]
    }
   ],
   "source": [
    "print(\"Hello I', excited to learn PyTorch!\")"
   ]
  },
  {
   "cell_type": "code",
   "execution_count": 88,
   "id": "16241ab4",
   "metadata": {},
   "outputs": [],
   "source": [
    "import torch\n",
    "import pandas as pd\n",
    "import numpy as np\n",
    "import matplotlib.pyplot as plt"
   ]
  },
  {
   "cell_type": "code",
   "execution_count": 89,
   "id": "0c483abb",
   "metadata": {},
   "outputs": [
    {
     "name": "stdout",
     "output_type": "stream",
     "text": [
      "2.8.0+cpu\n"
     ]
    }
   ],
   "source": [
    "print(torch.__version__)"
   ]
  },
  {
   "cell_type": "markdown",
   "id": "a92fd5c0",
   "metadata": {},
   "source": [
    "# Introduction to Tensor\n"
   ]
  },
  {
   "cell_type": "code",
   "execution_count": 90,
   "id": "7bb31920",
   "metadata": {},
   "outputs": [
    {
     "data": {
      "text/plain": [
       "tensor(7)"
      ]
     },
     "execution_count": 90,
     "metadata": {},
     "output_type": "execute_result"
    }
   ],
   "source": [
    "# scalr\n",
    "\n",
    "scalar = torch.tensor(7)\n",
    "\n",
    "scalar"
   ]
  },
  {
   "cell_type": "code",
   "execution_count": 91,
   "id": "bc67ec1f",
   "metadata": {},
   "outputs": [
    {
     "data": {
      "text/plain": [
       "0"
      ]
     },
     "execution_count": 91,
     "metadata": {},
     "output_type": "execute_result"
    }
   ],
   "source": [
    "scalar.ndim"
   ]
  },
  {
   "cell_type": "code",
   "execution_count": 92,
   "id": "45933c90",
   "metadata": {},
   "outputs": [
    {
     "data": {
      "text/plain": [
       "7"
      ]
     },
     "execution_count": 92,
     "metadata": {},
     "output_type": "execute_result"
    }
   ],
   "source": [
    "# get tensor back as python int\n",
    "\n",
    "scalar.item()"
   ]
  },
  {
   "cell_type": "code",
   "execution_count": 93,
   "id": "85c43cc6",
   "metadata": {},
   "outputs": [
    {
     "data": {
      "text/plain": [
       "tensor([7, 7])"
      ]
     },
     "execution_count": 93,
     "metadata": {},
     "output_type": "execute_result"
    }
   ],
   "source": [
    "# Vecotr\n",
    "\n",
    "vector = torch.tensor([7, 7])\n",
    "\n",
    "vector"
   ]
  },
  {
   "cell_type": "code",
   "execution_count": 94,
   "id": "d64a6b42",
   "metadata": {},
   "outputs": [
    {
     "data": {
      "text/plain": [
       "torch.Size([2])"
      ]
     },
     "execution_count": 94,
     "metadata": {},
     "output_type": "execute_result"
    }
   ],
   "source": [
    "vector.shape"
   ]
  },
  {
   "cell_type": "code",
   "execution_count": 95,
   "id": "2c5a6a89",
   "metadata": {},
   "outputs": [
    {
     "data": {
      "text/plain": [
       "(tensor([[7, 8],\n",
       "         [9, 0]]),\n",
       " torch.Size([2, 2]))"
      ]
     },
     "execution_count": 95,
     "metadata": {},
     "output_type": "execute_result"
    }
   ],
   "source": [
    "# MATRIX\n",
    "\n",
    "MATRIX = torch.tensor(\n",
    "    [\n",
    "        [7, 8],\n",
    "        [9, 0]\n",
    "    ]\n",
    ")\n",
    "\n",
    "MATRIX, MATRIX.shape"
   ]
  },
  {
   "cell_type": "code",
   "execution_count": 96,
   "id": "4ddfd2fb",
   "metadata": {},
   "outputs": [
    {
     "data": {
      "text/plain": [
       "(tensor([7, 8]), tensor([9, 0]))"
      ]
     },
     "execution_count": 96,
     "metadata": {},
     "output_type": "execute_result"
    }
   ],
   "source": [
    "MATRIX[0],MATRIX[1]"
   ]
  },
  {
   "cell_type": "code",
   "execution_count": 97,
   "id": "84b621f1",
   "metadata": {},
   "outputs": [
    {
     "data": {
      "text/plain": [
       "torch.Size([2, 2])"
      ]
     },
     "execution_count": 97,
     "metadata": {},
     "output_type": "execute_result"
    }
   ],
   "source": [
    "MATRIX.shape"
   ]
  },
  {
   "cell_type": "code",
   "execution_count": 98,
   "id": "4e0899ab",
   "metadata": {},
   "outputs": [],
   "source": [
    "# Tensor\n",
    "\n",
    "TENSOR = torch.tensor(\n",
    "    [\n",
    "        [\n",
    "            [1, 2, 3],\n",
    "            [4, 5, 6],\n",
    "            [7, 8, 9],\n",
    "        ]\n",
    "    ]\n",
    ")\n"
   ]
  },
  {
   "cell_type": "code",
   "execution_count": 99,
   "id": "06f2e1a3",
   "metadata": {},
   "outputs": [
    {
     "data": {
      "text/plain": [
       "(tensor([[[1, 2, 3],\n",
       "          [4, 5, 6],\n",
       "          [7, 8, 9]]]),\n",
       " torch.Size([1, 3, 3]))"
      ]
     },
     "execution_count": 99,
     "metadata": {},
     "output_type": "execute_result"
    }
   ],
   "source": [
    "TENSOR, TENSOR.shape"
   ]
  },
  {
   "cell_type": "markdown",
   "id": "71897e78",
   "metadata": {},
   "source": [
    "# Random Tensors\n",
    "\n",
    "Why Random Tensors?\n",
    "\n",
    "Random tesnors are important because the way many neural networks learn is that they start with tensor full of random numbers and then adjust those random numbers to better represent the data\n",
    "\n",
    "start with random numbers -> look at data -> update random number -> look at data -> update random numbers\n"
   ]
  },
  {
   "cell_type": "code",
   "execution_count": 100,
   "id": "558f0c81",
   "metadata": {},
   "outputs": [
    {
     "data": {
      "text/plain": [
       "(tensor([[0.0810, 0.4113, 0.8175, 0.7612],\n",
       "         [0.7845, 0.6444, 0.0389, 0.9097],\n",
       "         [0.1989, 0.3331, 0.5486, 0.2792]]),\n",
       " 2)"
      ]
     },
     "execution_count": 100,
     "metadata": {},
     "output_type": "execute_result"
    }
   ],
   "source": [
    "# create random tensor of size or shape (3, 4)\n",
    "\n",
    "random_tensor = torch.rand(3, 4)\n",
    "\n",
    "random_tensor, random_tensor.ndim"
   ]
  },
  {
   "cell_type": "code",
   "execution_count": 101,
   "id": "413e244d",
   "metadata": {},
   "outputs": [
    {
     "data": {
      "text/plain": [
       "tensor([[[0.3532, 0.3864, 0.1531],\n",
       "         [0.4629, 0.0689, 0.7430],\n",
       "         [0.5012, 0.5518, 0.7588]]])"
      ]
     },
     "execution_count": 101,
     "metadata": {},
     "output_type": "execute_result"
    }
   ],
   "source": [
    "torch.rand(1, 3, 3)"
   ]
  },
  {
   "cell_type": "code",
   "execution_count": 102,
   "id": "d0398585",
   "metadata": {},
   "outputs": [
    {
     "data": {
      "text/plain": [
       "(tensor([[[0.8597, 0.3079, 0.1428],\n",
       "          [0.8554, 0.8824, 0.1418],\n",
       "          [0.5298, 0.4312, 0.5358],\n",
       "          ...,\n",
       "          [0.8946, 0.1866, 0.5667],\n",
       "          [0.2364, 0.8515, 0.5827],\n",
       "          [0.8690, 0.0717, 0.8205]],\n",
       " \n",
       "         [[0.3525, 0.0594, 0.5396],\n",
       "          [0.0257, 0.0255, 0.9309],\n",
       "          [0.4563, 0.0961, 0.7477],\n",
       "          ...,\n",
       "          [0.5709, 0.5016, 0.3908],\n",
       "          [0.6269, 0.2439, 0.3332],\n",
       "          [0.9241, 0.2701, 0.8637]],\n",
       " \n",
       "         [[0.3878, 0.9069, 0.8905],\n",
       "          [0.2770, 0.6868, 0.1229],\n",
       "          [0.3432, 0.9094, 0.0295],\n",
       "          ...,\n",
       "          [0.9538, 0.7570, 0.2656],\n",
       "          [0.0930, 0.1207, 0.6948],\n",
       "          [0.7217, 0.6113, 0.7265]],\n",
       " \n",
       "         ...,\n",
       " \n",
       "         [[0.2277, 0.7314, 0.9748],\n",
       "          [0.9463, 0.9520, 0.7035],\n",
       "          [0.0916, 0.2499, 0.2031],\n",
       "          ...,\n",
       "          [0.1729, 0.2202, 0.2556],\n",
       "          [0.3602, 0.9938, 0.3674],\n",
       "          [0.9842, 0.7034, 0.4973]],\n",
       " \n",
       "         [[0.4595, 0.4139, 0.5987],\n",
       "          [0.0586, 0.8264, 0.7456],\n",
       "          [0.4461, 0.5129, 0.5075],\n",
       "          ...,\n",
       "          [0.7170, 0.4095, 0.5654],\n",
       "          [0.1403, 0.5697, 0.2041],\n",
       "          [0.6949, 0.6242, 0.7385]],\n",
       " \n",
       "         [[0.0673, 0.3636, 0.2324],\n",
       "          [0.1593, 0.0875, 0.3198],\n",
       "          [0.2818, 0.9375, 0.4589],\n",
       "          ...,\n",
       "          [0.2983, 0.2960, 0.9955],\n",
       "          [0.9082, 0.0140, 0.7114],\n",
       "          [0.5348, 0.7929, 0.0208]]]),\n",
       " 3)"
      ]
     },
     "execution_count": 102,
     "metadata": {},
     "output_type": "execute_result"
    }
   ],
   "source": [
    "# create a random tensor with similar shape to an image tensor\n",
    "\n",
    "random_image_tensor = torch.rand(255, 255, 3)\n",
    "\n",
    "random_image_tensor, random_image_tensor.ndim"
   ]
  },
  {
   "cell_type": "markdown",
   "id": "65748b74",
   "metadata": {},
   "source": [
    "# Zeros and Ones\n"
   ]
  },
  {
   "cell_type": "code",
   "execution_count": 103,
   "id": "ff578b84",
   "metadata": {},
   "outputs": [
    {
     "data": {
      "text/plain": [
       "tensor([[0., 0., 0.],\n",
       "        [0., 0., 0.]])"
      ]
     },
     "execution_count": 103,
     "metadata": {},
     "output_type": "execute_result"
    }
   ],
   "source": [
    "zero = torch.zeros(2, 3)\n",
    "zero"
   ]
  },
  {
   "cell_type": "code",
   "execution_count": 104,
   "id": "92d77587",
   "metadata": {},
   "outputs": [
    {
     "data": {
      "text/plain": [
       "tensor([[1, 1, 1],\n",
       "        [1, 1, 1],\n",
       "        [1, 1, 1]])"
      ]
     },
     "execution_count": 104,
     "metadata": {},
     "output_type": "execute_result"
    }
   ],
   "source": [
    "from pickletools import int4\n",
    "\n",
    "\n",
    "ones = torch.ones(3, 3, dtype=int)\n",
    "\n",
    "ones"
   ]
  },
  {
   "cell_type": "markdown",
   "id": "a486876f",
   "metadata": {},
   "source": [
    "## Creating a range of tensor and tensor like\n"
   ]
  },
  {
   "cell_type": "code",
   "execution_count": 105,
   "id": "b91e7390",
   "metadata": {},
   "outputs": [
    {
     "data": {
      "text/plain": [
       "tensor([ 3,  4,  5,  6,  7,  8,  9, 10, 11, 12, 13, 14, 15, 16, 17, 18, 19, 20,\n",
       "        21, 22, 23, 24, 25, 26, 27, 28, 29, 30, 31, 32])"
      ]
     },
     "execution_count": 105,
     "metadata": {},
     "output_type": "execute_result"
    }
   ],
   "source": [
    "torch.arange(3, 33)"
   ]
  },
  {
   "cell_type": "code",
   "execution_count": 106,
   "id": "2dec270b",
   "metadata": {},
   "outputs": [],
   "source": [
    "range = torch.arange(1, 11, 2)"
   ]
  },
  {
   "cell_type": "code",
   "execution_count": 107,
   "id": "ba895126",
   "metadata": {},
   "outputs": [
    {
     "data": {
      "text/plain": [
       "(tensor([1, 3, 5, 7, 9]), torch.Size([5]))"
      ]
     },
     "execution_count": 107,
     "metadata": {},
     "output_type": "execute_result"
    }
   ],
   "source": [
    "range, range.shape"
   ]
  },
  {
   "cell_type": "code",
   "execution_count": 108,
   "id": "78b6e88f",
   "metadata": {},
   "outputs": [
    {
     "data": {
      "text/plain": [
       "(tensor([1, 1, 1, 1, 1]), tensor([0, 0, 0, 0, 0]))"
      ]
     },
     "execution_count": 108,
     "metadata": {},
     "output_type": "execute_result"
    }
   ],
   "source": [
    "# Create tensor like\n",
    "\n",
    "torch.ones_like(range), torch.zeros_like(range)\n"
   ]
  },
  {
   "cell_type": "markdown",
   "id": "04a79fd2",
   "metadata": {},
   "source": [
    "# Tensor datatype\n"
   ]
  },
  {
   "cell_type": "code",
   "execution_count": 113,
   "id": "42d09582",
   "metadata": {},
   "outputs": [
    {
     "data": {
      "text/plain": [
       "(torch.float32, tensor([3., 6., 9.]))"
      ]
     },
     "execution_count": 113,
     "metadata": {},
     "output_type": "execute_result"
    }
   ],
   "source": [
    "# Float 32 tensor\n",
    "\n",
    "float_32_tensor = torch.tensor( [3, 6, 9], dtype=torch.float32, device=None, requires_grad=False)\n",
    "\n",
    "float_32_tensor.dtype, float_32_tensor"
   ]
  },
  {
   "cell_type": "code",
   "execution_count": 115,
   "id": "267d2323",
   "metadata": {},
   "outputs": [
    {
     "name": "stderr",
     "output_type": "stream",
     "text": [
      "C:\\Users\\rajun\\AppData\\Local\\Temp\\ipykernel_16524\\3779483689.py:1: UserWarning: To copy construct from a tensor, it is recommended to use sourceTensor.detach().clone() or sourceTensor.detach().clone().requires_grad_(True), rather than torch.tensor(sourceTensor).\n",
      "  float_16_tensor = torch.tensor(float_32_tensor, dtype=torch.float16)\n"
     ]
    },
    {
     "data": {
      "text/plain": [
       "(torch.float16, tensor([3., 6., 9.], dtype=torch.float16))"
      ]
     },
     "execution_count": 115,
     "metadata": {},
     "output_type": "execute_result"
    }
   ],
   "source": [
    "float_16_tensor = torch.tensor(float_32_tensor, dtype=torch.float16)\n",
    "\n",
    "float_16_tensor.dtype, float_16_tensor"
   ]
  },
  {
   "cell_type": "code",
   "execution_count": null,
   "id": "0a3362cb",
   "metadata": {},
   "outputs": [],
   "source": []
  }
 ],
 "metadata": {
  "kernelspec": {
   "display_name": ".venv",
   "language": "python",
   "name": "python3"
  },
  "language_info": {
   "codemirror_mode": {
    "name": "ipython",
    "version": 3
   },
   "file_extension": ".py",
   "mimetype": "text/x-python",
   "name": "python",
   "nbconvert_exporter": "python",
   "pygments_lexer": "ipython3",
   "version": "3.12.5"
  }
 },
 "nbformat": 4,
 "nbformat_minor": 5
}
