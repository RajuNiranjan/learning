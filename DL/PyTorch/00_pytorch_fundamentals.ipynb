{
 "cells": [
  {
   "cell_type": "code",
   "execution_count": 139,
   "id": "42dd3d67",
   "metadata": {},
   "outputs": [
    {
     "name": "stdout",
     "output_type": "stream",
     "text": [
      "Hello I', excited to learn PyTorch!\n"
     ]
    }
   ],
   "source": [
    "print(\"Hello I', excited to learn PyTorch!\")"
   ]
  },
  {
   "cell_type": "code",
   "execution_count": 140,
   "id": "16241ab4",
   "metadata": {},
   "outputs": [],
   "source": [
    "import torch\n",
    "import pandas as pd\n",
    "import numpy as np\n",
    "import matplotlib.pyplot as plt"
   ]
  },
  {
   "cell_type": "code",
   "execution_count": 141,
   "id": "0c483abb",
   "metadata": {},
   "outputs": [
    {
     "name": "stdout",
     "output_type": "stream",
     "text": [
      "2.8.0+cpu\n"
     ]
    }
   ],
   "source": [
    "print(torch.__version__)"
   ]
  },
  {
   "cell_type": "markdown",
   "id": "a92fd5c0",
   "metadata": {},
   "source": [
    "# Introduction to Tensor\n"
   ]
  },
  {
   "cell_type": "code",
   "execution_count": 142,
   "id": "7bb31920",
   "metadata": {},
   "outputs": [
    {
     "data": {
      "text/plain": [
       "tensor(7)"
      ]
     },
     "execution_count": 142,
     "metadata": {},
     "output_type": "execute_result"
    }
   ],
   "source": [
    "# scalr\n",
    "\n",
    "scalar = torch.tensor(7)\n",
    "\n",
    "scalar"
   ]
  },
  {
   "cell_type": "code",
   "execution_count": 143,
   "id": "bc67ec1f",
   "metadata": {},
   "outputs": [
    {
     "data": {
      "text/plain": [
       "0"
      ]
     },
     "execution_count": 143,
     "metadata": {},
     "output_type": "execute_result"
    }
   ],
   "source": [
    "scalar.ndim"
   ]
  },
  {
   "cell_type": "code",
   "execution_count": 144,
   "id": "45933c90",
   "metadata": {},
   "outputs": [
    {
     "data": {
      "text/plain": [
       "7"
      ]
     },
     "execution_count": 144,
     "metadata": {},
     "output_type": "execute_result"
    }
   ],
   "source": [
    "# get tensor back as python int\n",
    "\n",
    "scalar.item()"
   ]
  },
  {
   "cell_type": "code",
   "execution_count": 145,
   "id": "85c43cc6",
   "metadata": {},
   "outputs": [
    {
     "data": {
      "text/plain": [
       "tensor([7, 7])"
      ]
     },
     "execution_count": 145,
     "metadata": {},
     "output_type": "execute_result"
    }
   ],
   "source": [
    "# Vecotr\n",
    "\n",
    "vector = torch.tensor([7, 7])\n",
    "\n",
    "vector"
   ]
  },
  {
   "cell_type": "code",
   "execution_count": 146,
   "id": "d64a6b42",
   "metadata": {},
   "outputs": [
    {
     "data": {
      "text/plain": [
       "torch.Size([2])"
      ]
     },
     "execution_count": 146,
     "metadata": {},
     "output_type": "execute_result"
    }
   ],
   "source": [
    "vector.shape"
   ]
  },
  {
   "cell_type": "code",
   "execution_count": 147,
   "id": "2c5a6a89",
   "metadata": {},
   "outputs": [
    {
     "data": {
      "text/plain": [
       "(tensor([[7, 8],\n",
       "         [9, 0]]),\n",
       " torch.Size([2, 2]))"
      ]
     },
     "execution_count": 147,
     "metadata": {},
     "output_type": "execute_result"
    }
   ],
   "source": [
    "# MATRIX\n",
    "\n",
    "MATRIX = torch.tensor(\n",
    "    [\n",
    "        [7, 8],\n",
    "        [9, 0]\n",
    "    ]\n",
    ")\n",
    "\n",
    "MATRIX, MATRIX.shape"
   ]
  },
  {
   "cell_type": "code",
   "execution_count": 148,
   "id": "4ddfd2fb",
   "metadata": {},
   "outputs": [
    {
     "data": {
      "text/plain": [
       "(tensor([7, 8]), tensor([9, 0]))"
      ]
     },
     "execution_count": 148,
     "metadata": {},
     "output_type": "execute_result"
    }
   ],
   "source": [
    "MATRIX[0],MATRIX[1]"
   ]
  },
  {
   "cell_type": "code",
   "execution_count": 149,
   "id": "84b621f1",
   "metadata": {},
   "outputs": [
    {
     "data": {
      "text/plain": [
       "torch.Size([2, 2])"
      ]
     },
     "execution_count": 149,
     "metadata": {},
     "output_type": "execute_result"
    }
   ],
   "source": [
    "MATRIX.shape"
   ]
  },
  {
   "cell_type": "code",
   "execution_count": 150,
   "id": "4e0899ab",
   "metadata": {},
   "outputs": [],
   "source": [
    "# Tensor\n",
    "\n",
    "TENSOR = torch.tensor(\n",
    "    [\n",
    "        [\n",
    "            [1, 2, 3],\n",
    "            [4, 5, 6],\n",
    "            [7, 8, 9],\n",
    "        ]\n",
    "    ]\n",
    ")\n"
   ]
  },
  {
   "cell_type": "code",
   "execution_count": 151,
   "id": "06f2e1a3",
   "metadata": {},
   "outputs": [
    {
     "data": {
      "text/plain": [
       "(tensor([[[1, 2, 3],\n",
       "          [4, 5, 6],\n",
       "          [7, 8, 9]]]),\n",
       " torch.Size([1, 3, 3]))"
      ]
     },
     "execution_count": 151,
     "metadata": {},
     "output_type": "execute_result"
    }
   ],
   "source": [
    "TENSOR, TENSOR.shape"
   ]
  },
  {
   "cell_type": "markdown",
   "id": "71897e78",
   "metadata": {},
   "source": [
    "# Random Tensors\n",
    "\n",
    "Why Random Tensors?\n",
    "\n",
    "Random tesnors are important because the way many neural networks learn is that they start with tensor full of random numbers and then adjust those random numbers to better represent the data\n",
    "\n",
    "start with random numbers -> look at data -> update random number -> look at data -> update random numbers\n"
   ]
  },
  {
   "cell_type": "code",
   "execution_count": 152,
   "id": "558f0c81",
   "metadata": {},
   "outputs": [
    {
     "data": {
      "text/plain": [
       "(tensor([[0.5323, 0.7626, 0.4842, 0.7787],\n",
       "         [0.5036, 0.7745, 0.8545, 0.7184],\n",
       "         [0.7740, 0.7051, 0.2086, 0.9983]]),\n",
       " 2)"
      ]
     },
     "execution_count": 152,
     "metadata": {},
     "output_type": "execute_result"
    }
   ],
   "source": [
    "# create random tensor of size or shape (3, 4)\n",
    "\n",
    "random_tensor = torch.rand(3, 4)\n",
    "\n",
    "random_tensor, random_tensor.ndim"
   ]
  },
  {
   "cell_type": "code",
   "execution_count": 153,
   "id": "413e244d",
   "metadata": {},
   "outputs": [
    {
     "data": {
      "text/plain": [
       "tensor([[[0.9836, 0.1477, 0.1192],\n",
       "         [0.2448, 0.9851, 0.0822],\n",
       "         [0.9249, 0.8532, 0.6839]]])"
      ]
     },
     "execution_count": 153,
     "metadata": {},
     "output_type": "execute_result"
    }
   ],
   "source": [
    "torch.rand(1, 3, 3)"
   ]
  },
  {
   "cell_type": "code",
   "execution_count": 154,
   "id": "d0398585",
   "metadata": {},
   "outputs": [
    {
     "data": {
      "text/plain": [
       "(tensor([[[0.3780, 0.4060, 0.6500],\n",
       "          [0.2676, 0.5237, 0.6708],\n",
       "          [0.7066, 0.6240, 0.5341],\n",
       "          ...,\n",
       "          [0.5182, 0.3581, 0.5419],\n",
       "          [0.4867, 0.9311, 0.4695],\n",
       "          [0.6469, 0.7073, 0.3688]],\n",
       " \n",
       "         [[0.6487, 0.4469, 0.1953],\n",
       "          [0.5208, 0.1851, 0.5425],\n",
       "          [0.6223, 0.1928, 0.6025],\n",
       "          ...,\n",
       "          [0.9921, 0.4738, 0.0974],\n",
       "          [0.3304, 0.6339, 0.1995],\n",
       "          [0.9359, 0.5017, 0.3805]],\n",
       " \n",
       "         [[0.5271, 0.3298, 0.5048],\n",
       "          [0.4125, 0.0309, 0.4038],\n",
       "          [0.1453, 0.0335, 0.9424],\n",
       "          ...,\n",
       "          [0.6001, 0.2082, 0.2906],\n",
       "          [0.3607, 0.8979, 0.1693],\n",
       "          [0.9042, 0.0203, 0.6881]],\n",
       " \n",
       "         ...,\n",
       " \n",
       "         [[0.2602, 0.6582, 0.2711],\n",
       "          [0.9182, 0.6783, 0.4290],\n",
       "          [0.2924, 0.2436, 0.3725],\n",
       "          ...,\n",
       "          [0.6694, 0.8682, 0.6683],\n",
       "          [0.6067, 0.8529, 0.9382],\n",
       "          [0.2520, 0.5689, 0.5268]],\n",
       " \n",
       "         [[0.7337, 0.2935, 0.3696],\n",
       "          [0.5962, 0.1052, 0.8981],\n",
       "          [0.7781, 0.0808, 0.6237],\n",
       "          ...,\n",
       "          [0.1345, 0.7928, 0.0299],\n",
       "          [0.1826, 0.2877, 0.0398],\n",
       "          [0.6781, 0.2005, 0.1072]],\n",
       " \n",
       "         [[0.4310, 0.8940, 0.3233],\n",
       "          [0.8928, 0.7376, 0.4420],\n",
       "          [0.8582, 0.5158, 0.0986],\n",
       "          ...,\n",
       "          [0.8865, 0.5880, 0.9352],\n",
       "          [0.9984, 0.8167, 0.3753],\n",
       "          [0.3924, 0.7607, 0.4946]]]),\n",
       " 3)"
      ]
     },
     "execution_count": 154,
     "metadata": {},
     "output_type": "execute_result"
    }
   ],
   "source": [
    "# create a random tensor with similar shape to an image tensor\n",
    "\n",
    "random_image_tensor = torch.rand(255, 255, 3)\n",
    "\n",
    "random_image_tensor, random_image_tensor.ndim"
   ]
  },
  {
   "cell_type": "markdown",
   "id": "65748b74",
   "metadata": {},
   "source": [
    "# Zeros and Ones\n"
   ]
  },
  {
   "cell_type": "code",
   "execution_count": 155,
   "id": "ff578b84",
   "metadata": {},
   "outputs": [
    {
     "data": {
      "text/plain": [
       "tensor([[0., 0., 0.],\n",
       "        [0., 0., 0.]])"
      ]
     },
     "execution_count": 155,
     "metadata": {},
     "output_type": "execute_result"
    }
   ],
   "source": [
    "zero = torch.zeros(2, 3)\n",
    "zero"
   ]
  },
  {
   "cell_type": "code",
   "execution_count": 156,
   "id": "92d77587",
   "metadata": {},
   "outputs": [
    {
     "data": {
      "text/plain": [
       "tensor([[1, 1, 1],\n",
       "        [1, 1, 1],\n",
       "        [1, 1, 1]])"
      ]
     },
     "execution_count": 156,
     "metadata": {},
     "output_type": "execute_result"
    }
   ],
   "source": [
    "from pickletools import int4\n",
    "\n",
    "\n",
    "ones = torch.ones(3, 3, dtype=int)\n",
    "\n",
    "ones"
   ]
  },
  {
   "cell_type": "markdown",
   "id": "a486876f",
   "metadata": {},
   "source": [
    "## Creating a range of tensor and tensor like\n"
   ]
  },
  {
   "cell_type": "code",
   "execution_count": 157,
   "id": "b91e7390",
   "metadata": {},
   "outputs": [
    {
     "data": {
      "text/plain": [
       "tensor([ 3,  4,  5,  6,  7,  8,  9, 10, 11, 12, 13, 14, 15, 16, 17, 18, 19, 20,\n",
       "        21, 22, 23, 24, 25, 26, 27, 28, 29, 30, 31, 32])"
      ]
     },
     "execution_count": 157,
     "metadata": {},
     "output_type": "execute_result"
    }
   ],
   "source": [
    "torch.arange(3, 33)"
   ]
  },
  {
   "cell_type": "code",
   "execution_count": 158,
   "id": "2dec270b",
   "metadata": {},
   "outputs": [],
   "source": [
    "range = torch.arange(1, 11, 2)"
   ]
  },
  {
   "cell_type": "code",
   "execution_count": 159,
   "id": "ba895126",
   "metadata": {},
   "outputs": [
    {
     "data": {
      "text/plain": [
       "(tensor([1, 3, 5, 7, 9]), torch.Size([5]))"
      ]
     },
     "execution_count": 159,
     "metadata": {},
     "output_type": "execute_result"
    }
   ],
   "source": [
    "range, range.shape"
   ]
  },
  {
   "cell_type": "code",
   "execution_count": 160,
   "id": "78b6e88f",
   "metadata": {},
   "outputs": [
    {
     "data": {
      "text/plain": [
       "(tensor([1, 1, 1, 1, 1]), tensor([0, 0, 0, 0, 0]))"
      ]
     },
     "execution_count": 160,
     "metadata": {},
     "output_type": "execute_result"
    }
   ],
   "source": [
    "# Create tensor like\n",
    "\n",
    "torch.ones_like(range), torch.zeros_like(range)\n"
   ]
  },
  {
   "cell_type": "markdown",
   "id": "04a79fd2",
   "metadata": {},
   "source": [
    "# Tensor datatype\n"
   ]
  },
  {
   "cell_type": "code",
   "execution_count": 161,
   "id": "42d09582",
   "metadata": {},
   "outputs": [
    {
     "data": {
      "text/plain": [
       "(torch.float32, tensor([3., 6., 9.]))"
      ]
     },
     "execution_count": 161,
     "metadata": {},
     "output_type": "execute_result"
    }
   ],
   "source": [
    "# Float 32 tensor\n",
    "\n",
    "float_32_tensor = torch.tensor( [3, 6, 9], dtype=torch.float32, device=None, requires_grad=False)\n",
    "\n",
    "float_32_tensor.dtype, float_32_tensor"
   ]
  },
  {
   "cell_type": "code",
   "execution_count": 162,
   "id": "267d2323",
   "metadata": {},
   "outputs": [
    {
     "name": "stderr",
     "output_type": "stream",
     "text": [
      "C:\\Users\\rajun\\AppData\\Local\\Temp\\ipykernel_16524\\3779483689.py:1: UserWarning: To copy construct from a tensor, it is recommended to use sourceTensor.detach().clone() or sourceTensor.detach().clone().requires_grad_(True), rather than torch.tensor(sourceTensor).\n",
      "  float_16_tensor = torch.tensor(float_32_tensor, dtype=torch.float16)\n"
     ]
    },
    {
     "data": {
      "text/plain": [
       "(torch.float16, tensor([3., 6., 9.], dtype=torch.float16))"
      ]
     },
     "execution_count": 162,
     "metadata": {},
     "output_type": "execute_result"
    }
   ],
   "source": [
    "float_16_tensor = torch.tensor(float_32_tensor, dtype=torch.float16)\n",
    "\n",
    "float_16_tensor.dtype, float_16_tensor"
   ]
  },
  {
   "cell_type": "code",
   "execution_count": 163,
   "id": "0a3362cb",
   "metadata": {},
   "outputs": [
    {
     "data": {
      "text/plain": [
       "tensor([[0.4702, 0.1552, 0.5043, 0.6861],\n",
       "        [0.8794, 0.2461, 0.5926, 0.2831],\n",
       "        [0.0702, 0.6500, 0.7416, 0.3229],\n",
       "        [0.7936, 0.0725, 0.0095, 0.4334]])"
      ]
     },
     "execution_count": 163,
     "metadata": {},
     "output_type": "execute_result"
    }
   ],
   "source": [
    "some_tensor = torch.rand(4, 4)\n",
    "some_tensor"
   ]
  },
  {
   "cell_type": "code",
   "execution_count": 164,
   "id": "af76059c",
   "metadata": {},
   "outputs": [
    {
     "name": "stdout",
     "output_type": "stream",
     "text": [
      "tensor([[0.4702, 0.1552, 0.5043, 0.6861],\n",
      "        [0.8794, 0.2461, 0.5926, 0.2831],\n",
      "        [0.0702, 0.6500, 0.7416, 0.3229],\n",
      "        [0.7936, 0.0725, 0.0095, 0.4334]])\n",
      "Datatye of tensor:  torch.float32\n",
      "shape of tensor:  torch.Size([4, 4])\n",
      "device of tensor:  cpu\n"
     ]
    }
   ],
   "source": [
    "print(some_tensor)\n",
    "print(f'Datatye of tensor:  {some_tensor.dtype}', )\n",
    "print(f'shape of tensor:  {some_tensor.shape}', )\n",
    "print(f'device of tensor:  {some_tensor.device}', )"
   ]
  },
  {
   "cell_type": "markdown",
   "id": "8e5363ca",
   "metadata": {},
   "source": [
    "### tensor manipulation\n"
   ]
  },
  {
   "cell_type": "code",
   "execution_count": 165,
   "id": "25d2d35f",
   "metadata": {},
   "outputs": [
    {
     "data": {
      "text/plain": [
       "tensor([1, 2, 3, 4, 5])"
      ]
     },
     "execution_count": 165,
     "metadata": {},
     "output_type": "execute_result"
    }
   ],
   "source": [
    "tensor = torch.tensor([1, 2, 3, 4, 5])\n",
    "\n",
    "tensor"
   ]
  },
  {
   "cell_type": "code",
   "execution_count": 166,
   "id": "036cbd36",
   "metadata": {},
   "outputs": [
    {
     "data": {
      "text/plain": [
       "(tensor([11, 12, 13, 14, 15]),)"
      ]
     },
     "execution_count": 166,
     "metadata": {},
     "output_type": "execute_result"
    }
   ],
   "source": [
    "tensor + 10,"
   ]
  },
  {
   "cell_type": "code",
   "execution_count": 167,
   "id": "0922432f",
   "metadata": {},
   "outputs": [
    {
     "data": {
      "text/plain": [
       "(tensor([-1,  0,  1,  2,  3]),)"
      ]
     },
     "execution_count": 167,
     "metadata": {},
     "output_type": "execute_result"
    }
   ],
   "source": [
    "\n",
    "tensor - 2,\n"
   ]
  },
  {
   "cell_type": "code",
   "execution_count": 168,
   "id": "03b104fc",
   "metadata": {},
   "outputs": [
    {
     "data": {
      "text/plain": [
       "(tensor([ 2,  4,  6,  8, 10]),)"
      ]
     },
     "execution_count": 168,
     "metadata": {},
     "output_type": "execute_result"
    }
   ],
   "source": [
    "\n",
    "tensor  * 2,"
   ]
  },
  {
   "cell_type": "markdown",
   "id": "4525cdd9",
   "metadata": {},
   "source": [
    "#### try out PyTorch in-build functions\n"
   ]
  },
  {
   "cell_type": "code",
   "execution_count": 169,
   "id": "f481d9f1",
   "metadata": {},
   "outputs": [
    {
     "data": {
      "text/plain": [
       "tensor([ 2,  4,  6,  8, 10])"
      ]
     },
     "execution_count": 169,
     "metadata": {},
     "output_type": "execute_result"
    }
   ],
   "source": [
    "torch.add(tensor, tensor)"
   ]
  },
  {
   "cell_type": "code",
   "execution_count": 170,
   "id": "613d35ee",
   "metadata": {},
   "outputs": [],
   "source": [
    "### Matrix Multiplicatino"
   ]
  },
  {
   "cell_type": "code",
   "execution_count": 171,
   "id": "a444395e",
   "metadata": {},
   "outputs": [
    {
     "data": {
      "text/plain": [
       "tensor([[0.2193, 0.6812, 0.2668],\n",
       "        [0.4869, 0.0255, 0.0133],\n",
       "        [0.2823, 0.0478, 0.0224]])"
      ]
     },
     "execution_count": 171,
     "metadata": {},
     "output_type": "execute_result"
    }
   ],
   "source": [
    "torch.rand(3, 3) * torch.rand(3, 3)"
   ]
  },
  {
   "cell_type": "code",
   "execution_count": 172,
   "id": "f98fcc09",
   "metadata": {},
   "outputs": [],
   "source": [
    "a = torch.rand(3, 3)\n",
    "b = torch.rand(3, 3)"
   ]
  },
  {
   "cell_type": "code",
   "execution_count": 173,
   "id": "f15f8150",
   "metadata": {},
   "outputs": [
    {
     "data": {
      "text/plain": [
       "tensor([[1.0274, 0.8428, 0.8533],\n",
       "        [1.0230, 1.6419, 1.0071],\n",
       "        [0.8660, 0.7130, 0.8526]])"
      ]
     },
     "execution_count": 173,
     "metadata": {},
     "output_type": "execute_result"
    }
   ],
   "source": [
    "torch.matmul(a, b)"
   ]
  },
  {
   "cell_type": "code",
   "execution_count": 176,
   "id": "70e44038",
   "metadata": {},
   "outputs": [
    {
     "data": {
      "text/plain": [
       "tensor([[1.0274, 0.8428, 0.8533],\n",
       "        [1.0230, 1.6419, 1.0071],\n",
       "        [0.8660, 0.7130, 0.8526]])"
      ]
     },
     "execution_count": 176,
     "metadata": {},
     "output_type": "execute_result"
    }
   ],
   "source": [
    "a @ b"
   ]
  },
  {
   "cell_type": "markdown",
   "id": "c9628cb0",
   "metadata": {},
   "source": [
    "### Finding the min, max, mean, sum etc (tensor aggregation)\n"
   ]
  },
  {
   "cell_type": "code",
   "execution_count": 177,
   "id": "da73247d",
   "metadata": {},
   "outputs": [],
   "source": [
    "\n",
    "x = torch.arange(0, 100, 10)"
   ]
  },
  {
   "cell_type": "code",
   "execution_count": 183,
   "id": "db45802f",
   "metadata": {},
   "outputs": [
    {
     "data": {
      "text/plain": [
       "torch.int64"
      ]
     },
     "execution_count": 183,
     "metadata": {},
     "output_type": "execute_result"
    }
   ],
   "source": [
    "x.dtype"
   ]
  },
  {
   "cell_type": "code",
   "execution_count": 179,
   "id": "53a08f00",
   "metadata": {},
   "outputs": [
    {
     "data": {
      "text/plain": [
       "tensor(0)"
      ]
     },
     "execution_count": 179,
     "metadata": {},
     "output_type": "execute_result"
    }
   ],
   "source": [
    "torch.min(x)"
   ]
  },
  {
   "cell_type": "code",
   "execution_count": 180,
   "id": "2f5f74bf",
   "metadata": {},
   "outputs": [
    {
     "data": {
      "text/plain": [
       "tensor(90)"
      ]
     },
     "execution_count": 180,
     "metadata": {},
     "output_type": "execute_result"
    }
   ],
   "source": [
    "torch.max(x)"
   ]
  },
  {
   "cell_type": "code",
   "execution_count": 186,
   "id": "5e24e70a",
   "metadata": {},
   "outputs": [
    {
     "data": {
      "text/plain": [
       "tensor(45.)"
      ]
     },
     "execution_count": 186,
     "metadata": {},
     "output_type": "execute_result"
    }
   ],
   "source": [
    "torch.mean(x.float())"
   ]
  },
  {
   "cell_type": "code",
   "execution_count": 189,
   "id": "fed90d5f",
   "metadata": {},
   "outputs": [
    {
     "data": {
      "text/plain": [
       "(tensor(450), tensor(450))"
      ]
     },
     "execution_count": 189,
     "metadata": {},
     "output_type": "execute_result"
    }
   ],
   "source": [
    "torch.sum(x), x.sum()"
   ]
  },
  {
   "cell_type": "code",
   "execution_count": null,
   "id": "71c75c48",
   "metadata": {},
   "outputs": [],
   "source": []
  }
 ],
 "metadata": {
  "kernelspec": {
   "display_name": ".venv",
   "language": "python",
   "name": "python3"
  },
  "language_info": {
   "codemirror_mode": {
    "name": "ipython",
    "version": 3
   },
   "file_extension": ".py",
   "mimetype": "text/x-python",
   "name": "python",
   "nbconvert_exporter": "python",
   "pygments_lexer": "ipython3",
   "version": "3.12.5"
  }
 },
 "nbformat": 4,
 "nbformat_minor": 5
}
