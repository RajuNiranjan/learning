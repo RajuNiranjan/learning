{
 "cells": [
  {
   "cell_type": "code",
   "execution_count": 1,
   "id": "42dd3d67",
   "metadata": {},
   "outputs": [
    {
     "name": "stdout",
     "output_type": "stream",
     "text": [
      "Hello I', excited to learn PyTorch!\n"
     ]
    }
   ],
   "source": [
    "print(\"Hello I', excited to learn PyTorch!\")"
   ]
  },
  {
   "cell_type": "code",
   "execution_count": 2,
   "id": "16241ab4",
   "metadata": {},
   "outputs": [],
   "source": [
    "import torch\n",
    "import pandas as pd\n",
    "import numpy as np\n",
    "import matplotlib.pyplot as plt"
   ]
  },
  {
   "cell_type": "code",
   "execution_count": 3,
   "id": "0c483abb",
   "metadata": {},
   "outputs": [
    {
     "name": "stdout",
     "output_type": "stream",
     "text": [
      "2.8.0+cpu\n"
     ]
    }
   ],
   "source": [
    "print(torch.__version__)"
   ]
  },
  {
   "cell_type": "markdown",
   "id": "a92fd5c0",
   "metadata": {},
   "source": [
    "# Introduction to Tensor\n"
   ]
  },
  {
   "cell_type": "code",
   "execution_count": 4,
   "id": "7bb31920",
   "metadata": {},
   "outputs": [
    {
     "data": {
      "text/plain": [
       "tensor(7)"
      ]
     },
     "execution_count": 4,
     "metadata": {},
     "output_type": "execute_result"
    }
   ],
   "source": [
    "# scalr\n",
    "\n",
    "scalar = torch.tensor(7)\n",
    "\n",
    "scalar"
   ]
  },
  {
   "cell_type": "code",
   "execution_count": 5,
   "id": "bc67ec1f",
   "metadata": {},
   "outputs": [
    {
     "data": {
      "text/plain": [
       "0"
      ]
     },
     "execution_count": 5,
     "metadata": {},
     "output_type": "execute_result"
    }
   ],
   "source": [
    "scalar.ndim"
   ]
  },
  {
   "cell_type": "code",
   "execution_count": 6,
   "id": "45933c90",
   "metadata": {},
   "outputs": [
    {
     "data": {
      "text/plain": [
       "7"
      ]
     },
     "execution_count": 6,
     "metadata": {},
     "output_type": "execute_result"
    }
   ],
   "source": [
    "# get tensor back as python int\n",
    "\n",
    "scalar.item()"
   ]
  },
  {
   "cell_type": "code",
   "execution_count": 7,
   "id": "85c43cc6",
   "metadata": {},
   "outputs": [
    {
     "data": {
      "text/plain": [
       "tensor([7, 7])"
      ]
     },
     "execution_count": 7,
     "metadata": {},
     "output_type": "execute_result"
    }
   ],
   "source": [
    "# Vecotr\n",
    "\n",
    "vector = torch.tensor([7, 7])\n",
    "\n",
    "vector"
   ]
  },
  {
   "cell_type": "code",
   "execution_count": 8,
   "id": "d64a6b42",
   "metadata": {},
   "outputs": [
    {
     "data": {
      "text/plain": [
       "torch.Size([2])"
      ]
     },
     "execution_count": 8,
     "metadata": {},
     "output_type": "execute_result"
    }
   ],
   "source": [
    "vector.shape"
   ]
  },
  {
   "cell_type": "code",
   "execution_count": 9,
   "id": "2c5a6a89",
   "metadata": {},
   "outputs": [
    {
     "data": {
      "text/plain": [
       "(tensor([[7, 8],\n",
       "         [9, 0]]),\n",
       " torch.Size([2, 2]))"
      ]
     },
     "execution_count": 9,
     "metadata": {},
     "output_type": "execute_result"
    }
   ],
   "source": [
    "# MATRIX\n",
    "\n",
    "MATRIX = torch.tensor(\n",
    "    [\n",
    "        [7, 8],\n",
    "        [9, 0]\n",
    "    ]\n",
    ")\n",
    "\n",
    "MATRIX, MATRIX.shape"
   ]
  },
  {
   "cell_type": "code",
   "execution_count": 10,
   "id": "4ddfd2fb",
   "metadata": {},
   "outputs": [
    {
     "data": {
      "text/plain": [
       "(tensor([7, 8]), tensor([9, 0]))"
      ]
     },
     "execution_count": 10,
     "metadata": {},
     "output_type": "execute_result"
    }
   ],
   "source": [
    "MATRIX[0],MATRIX[1]"
   ]
  },
  {
   "cell_type": "code",
   "execution_count": 11,
   "id": "84b621f1",
   "metadata": {},
   "outputs": [
    {
     "data": {
      "text/plain": [
       "torch.Size([2, 2])"
      ]
     },
     "execution_count": 11,
     "metadata": {},
     "output_type": "execute_result"
    }
   ],
   "source": [
    "MATRIX.shape"
   ]
  },
  {
   "cell_type": "code",
   "execution_count": 12,
   "id": "4e0899ab",
   "metadata": {},
   "outputs": [],
   "source": [
    "# Tensor\n",
    "\n",
    "TENSOR = torch.tensor(\n",
    "    [\n",
    "        [\n",
    "            [1, 2, 3],\n",
    "            [4, 5, 6],\n",
    "            [7, 8, 9],\n",
    "        ]\n",
    "    ]\n",
    ")\n"
   ]
  },
  {
   "cell_type": "code",
   "execution_count": 13,
   "id": "06f2e1a3",
   "metadata": {},
   "outputs": [
    {
     "data": {
      "text/plain": [
       "(tensor([[[1, 2, 3],\n",
       "          [4, 5, 6],\n",
       "          [7, 8, 9]]]),\n",
       " torch.Size([1, 3, 3]))"
      ]
     },
     "execution_count": 13,
     "metadata": {},
     "output_type": "execute_result"
    }
   ],
   "source": [
    "TENSOR, TENSOR.shape"
   ]
  },
  {
   "cell_type": "markdown",
   "id": "71897e78",
   "metadata": {},
   "source": [
    "# Random Tensors\n",
    "\n",
    "Why Random Tensors?\n",
    "\n",
    "Random tesnors are important because the way many neural networks learn is that they start with tensor full of random numbers and then adjust those random numbers to better represent the data\n",
    "\n",
    "start with random numbers -> look at data -> update random number -> look at data -> update random numbers\n"
   ]
  },
  {
   "cell_type": "code",
   "execution_count": 14,
   "id": "558f0c81",
   "metadata": {},
   "outputs": [
    {
     "data": {
      "text/plain": [
       "(tensor([[0.0754, 0.6019, 0.7400, 0.5912],\n",
       "         [0.3306, 0.8229, 0.9578, 0.6927],\n",
       "         [0.2157, 0.8523, 0.9082, 0.2711]]),\n",
       " 2)"
      ]
     },
     "execution_count": 14,
     "metadata": {},
     "output_type": "execute_result"
    }
   ],
   "source": [
    "# create random tensor of size or shape (3, 4)\n",
    "\n",
    "random_tensor = torch.rand(3, 4)\n",
    "\n",
    "random_tensor, random_tensor.ndim"
   ]
  },
  {
   "cell_type": "code",
   "execution_count": 15,
   "id": "413e244d",
   "metadata": {},
   "outputs": [
    {
     "data": {
      "text/plain": [
       "tensor([[[0.5286, 0.5628, 0.7792],\n",
       "         [0.4629, 0.4787, 0.0820],\n",
       "         [0.3977, 0.8029, 0.6567]]])"
      ]
     },
     "execution_count": 15,
     "metadata": {},
     "output_type": "execute_result"
    }
   ],
   "source": [
    "torch.rand(1, 3, 3)"
   ]
  },
  {
   "cell_type": "code",
   "execution_count": 16,
   "id": "d0398585",
   "metadata": {},
   "outputs": [
    {
     "data": {
      "text/plain": [
       "(tensor([[[0.3688, 0.0646, 0.9607],\n",
       "          [0.2393, 0.9118, 0.3006],\n",
       "          [0.0194, 0.4352, 0.2780],\n",
       "          ...,\n",
       "          [0.6353, 0.1877, 0.0711],\n",
       "          [0.0049, 0.3404, 0.4070],\n",
       "          [0.5696, 0.7560, 0.8001]],\n",
       " \n",
       "         [[0.8067, 0.5498, 0.0686],\n",
       "          [0.9361, 0.5819, 0.7715],\n",
       "          [0.8699, 0.9702, 0.2084],\n",
       "          ...,\n",
       "          [0.1264, 0.7921, 0.8265],\n",
       "          [0.6615, 0.5709, 0.9741],\n",
       "          [0.1448, 0.7200, 0.7952]],\n",
       " \n",
       "         [[0.1758, 0.5629, 0.3356],\n",
       "          [0.3735, 0.0529, 0.5574],\n",
       "          [0.5066, 0.6296, 0.0294],\n",
       "          ...,\n",
       "          [0.0494, 0.2031, 0.5768],\n",
       "          [0.8492, 0.1694, 0.0227],\n",
       "          [0.9473, 0.5243, 0.8777]],\n",
       " \n",
       "         ...,\n",
       " \n",
       "         [[0.1579, 0.7873, 0.2760],\n",
       "          [0.8575, 0.0248, 0.1579],\n",
       "          [0.1878, 0.4965, 0.4828],\n",
       "          ...,\n",
       "          [0.8275, 0.8568, 0.5745],\n",
       "          [0.1236, 0.7814, 0.3688],\n",
       "          [0.9714, 0.0238, 0.8038]],\n",
       " \n",
       "         [[0.3952, 0.2052, 0.5902],\n",
       "          [0.1554, 0.9860, 0.4114],\n",
       "          [0.3934, 0.4663, 0.4456],\n",
       "          ...,\n",
       "          [0.0598, 0.0303, 0.1214],\n",
       "          [0.1063, 0.5630, 0.2114],\n",
       "          [0.1564, 0.2337, 0.4993]],\n",
       " \n",
       "         [[0.2309, 0.8461, 0.2728],\n",
       "          [0.6424, 0.2636, 0.2156],\n",
       "          [0.7865, 0.8634, 0.5749],\n",
       "          ...,\n",
       "          [0.0311, 0.9319, 0.7422],\n",
       "          [0.5969, 0.5002, 0.6102],\n",
       "          [0.3897, 0.0477, 0.8387]]]),\n",
       " 3)"
      ]
     },
     "execution_count": 16,
     "metadata": {},
     "output_type": "execute_result"
    }
   ],
   "source": [
    "# create a random tensor with similar shape to an image tensor\n",
    "\n",
    "random_image_tensor = torch.rand(255, 255, 3)\n",
    "\n",
    "random_image_tensor, random_image_tensor.ndim"
   ]
  },
  {
   "cell_type": "markdown",
   "id": "65748b74",
   "metadata": {},
   "source": [
    "# Zeros and Ones\n"
   ]
  },
  {
   "cell_type": "code",
   "execution_count": 17,
   "id": "ff578b84",
   "metadata": {},
   "outputs": [
    {
     "data": {
      "text/plain": [
       "tensor([[0., 0., 0.],\n",
       "        [0., 0., 0.]])"
      ]
     },
     "execution_count": 17,
     "metadata": {},
     "output_type": "execute_result"
    }
   ],
   "source": [
    "zero = torch.zeros(2, 3)\n",
    "zero"
   ]
  },
  {
   "cell_type": "code",
   "execution_count": 18,
   "id": "92d77587",
   "metadata": {},
   "outputs": [
    {
     "data": {
      "text/plain": [
       "tensor([[1, 1, 1],\n",
       "        [1, 1, 1],\n",
       "        [1, 1, 1]])"
      ]
     },
     "execution_count": 18,
     "metadata": {},
     "output_type": "execute_result"
    }
   ],
   "source": [
    "from pickletools import int4\n",
    "\n",
    "\n",
    "ones = torch.ones(3, 3, dtype=int)\n",
    "\n",
    "ones"
   ]
  },
  {
   "cell_type": "markdown",
   "id": "a486876f",
   "metadata": {},
   "source": [
    "## Creating a range of tensor and tensor like\n"
   ]
  },
  {
   "cell_type": "code",
   "execution_count": 19,
   "id": "b91e7390",
   "metadata": {},
   "outputs": [
    {
     "data": {
      "text/plain": [
       "tensor([ 3,  4,  5,  6,  7,  8,  9, 10, 11, 12, 13, 14, 15, 16, 17, 18, 19, 20,\n",
       "        21, 22, 23, 24, 25, 26, 27, 28, 29, 30, 31, 32])"
      ]
     },
     "execution_count": 19,
     "metadata": {},
     "output_type": "execute_result"
    }
   ],
   "source": [
    "torch.arange(3, 33)"
   ]
  },
  {
   "cell_type": "code",
   "execution_count": 20,
   "id": "2dec270b",
   "metadata": {},
   "outputs": [],
   "source": [
    "range = torch.arange(1, 11, 2)"
   ]
  },
  {
   "cell_type": "code",
   "execution_count": 21,
   "id": "ba895126",
   "metadata": {},
   "outputs": [
    {
     "data": {
      "text/plain": [
       "(tensor([1, 3, 5, 7, 9]), torch.Size([5]))"
      ]
     },
     "execution_count": 21,
     "metadata": {},
     "output_type": "execute_result"
    }
   ],
   "source": [
    "range, range.shape"
   ]
  },
  {
   "cell_type": "code",
   "execution_count": 22,
   "id": "78b6e88f",
   "metadata": {},
   "outputs": [
    {
     "data": {
      "text/plain": [
       "(tensor([1, 1, 1, 1, 1]), tensor([0, 0, 0, 0, 0]))"
      ]
     },
     "execution_count": 22,
     "metadata": {},
     "output_type": "execute_result"
    }
   ],
   "source": [
    "# Create tensor like\n",
    "\n",
    "torch.ones_like(range), torch.zeros_like(range)\n"
   ]
  },
  {
   "cell_type": "markdown",
   "id": "04a79fd2",
   "metadata": {},
   "source": [
    "# Tensor datatype\n"
   ]
  },
  {
   "cell_type": "code",
   "execution_count": 23,
   "id": "42d09582",
   "metadata": {},
   "outputs": [
    {
     "data": {
      "text/plain": [
       "(torch.float32, tensor([3., 6., 9.]))"
      ]
     },
     "execution_count": 23,
     "metadata": {},
     "output_type": "execute_result"
    }
   ],
   "source": [
    "# Float 32 tensor\n",
    "\n",
    "float_32_tensor = torch.tensor( [3, 6, 9], dtype=torch.float32, device=None, requires_grad=False)\n",
    "\n",
    "float_32_tensor.dtype, float_32_tensor"
   ]
  },
  {
   "cell_type": "code",
   "execution_count": 24,
   "id": "267d2323",
   "metadata": {},
   "outputs": [
    {
     "name": "stderr",
     "output_type": "stream",
     "text": [
      "C:\\Users\\rajun\\AppData\\Local\\Temp\\ipykernel_21672\\3779483689.py:1: UserWarning: To copy construct from a tensor, it is recommended to use sourceTensor.detach().clone() or sourceTensor.detach().clone().requires_grad_(True), rather than torch.tensor(sourceTensor).\n",
      "  float_16_tensor = torch.tensor(float_32_tensor, dtype=torch.float16)\n"
     ]
    },
    {
     "data": {
      "text/plain": [
       "(torch.float16, tensor([3., 6., 9.], dtype=torch.float16))"
      ]
     },
     "execution_count": 24,
     "metadata": {},
     "output_type": "execute_result"
    }
   ],
   "source": [
    "float_16_tensor = torch.tensor(float_32_tensor, dtype=torch.float16)\n",
    "\n",
    "float_16_tensor.dtype, float_16_tensor"
   ]
  },
  {
   "cell_type": "code",
   "execution_count": 25,
   "id": "0a3362cb",
   "metadata": {},
   "outputs": [
    {
     "data": {
      "text/plain": [
       "tensor([[0.4813, 0.2126, 0.7069, 0.9316],\n",
       "        [0.3959, 0.1510, 0.0354, 0.3038],\n",
       "        [0.8559, 0.0079, 0.5021, 0.2989],\n",
       "        [0.4181, 0.1293, 0.5812, 0.6438]])"
      ]
     },
     "execution_count": 25,
     "metadata": {},
     "output_type": "execute_result"
    }
   ],
   "source": [
    "some_tensor = torch.rand(4, 4)\n",
    "some_tensor"
   ]
  },
  {
   "cell_type": "code",
   "execution_count": 26,
   "id": "af76059c",
   "metadata": {},
   "outputs": [
    {
     "name": "stdout",
     "output_type": "stream",
     "text": [
      "tensor([[0.4813, 0.2126, 0.7069, 0.9316],\n",
      "        [0.3959, 0.1510, 0.0354, 0.3038],\n",
      "        [0.8559, 0.0079, 0.5021, 0.2989],\n",
      "        [0.4181, 0.1293, 0.5812, 0.6438]])\n",
      "Datatye of tensor:  torch.float32\n",
      "shape of tensor:  torch.Size([4, 4])\n",
      "device of tensor:  cpu\n"
     ]
    }
   ],
   "source": [
    "print(some_tensor)\n",
    "print(f'Datatye of tensor:  {some_tensor.dtype}', )\n",
    "print(f'shape of tensor:  {some_tensor.shape}', )\n",
    "print(f'device of tensor:  {some_tensor.device}', )"
   ]
  },
  {
   "cell_type": "markdown",
   "id": "8e5363ca",
   "metadata": {},
   "source": [
    "### tensor manipulation\n"
   ]
  },
  {
   "cell_type": "code",
   "execution_count": 27,
   "id": "25d2d35f",
   "metadata": {},
   "outputs": [
    {
     "data": {
      "text/plain": [
       "tensor([1, 2, 3, 4, 5])"
      ]
     },
     "execution_count": 27,
     "metadata": {},
     "output_type": "execute_result"
    }
   ],
   "source": [
    "tensor = torch.tensor([1, 2, 3, 4, 5])\n",
    "\n",
    "tensor"
   ]
  },
  {
   "cell_type": "code",
   "execution_count": 28,
   "id": "036cbd36",
   "metadata": {},
   "outputs": [
    {
     "data": {
      "text/plain": [
       "(tensor([11, 12, 13, 14, 15]),)"
      ]
     },
     "execution_count": 28,
     "metadata": {},
     "output_type": "execute_result"
    }
   ],
   "source": [
    "tensor + 10,"
   ]
  },
  {
   "cell_type": "code",
   "execution_count": 29,
   "id": "0922432f",
   "metadata": {},
   "outputs": [
    {
     "data": {
      "text/plain": [
       "(tensor([-1,  0,  1,  2,  3]),)"
      ]
     },
     "execution_count": 29,
     "metadata": {},
     "output_type": "execute_result"
    }
   ],
   "source": [
    "\n",
    "tensor - 2,\n"
   ]
  },
  {
   "cell_type": "code",
   "execution_count": 30,
   "id": "03b104fc",
   "metadata": {},
   "outputs": [
    {
     "data": {
      "text/plain": [
       "(tensor([ 2,  4,  6,  8, 10]),)"
      ]
     },
     "execution_count": 30,
     "metadata": {},
     "output_type": "execute_result"
    }
   ],
   "source": [
    "\n",
    "tensor  * 2,"
   ]
  },
  {
   "cell_type": "markdown",
   "id": "4525cdd9",
   "metadata": {},
   "source": [
    "#### try out PyTorch in-build functions\n"
   ]
  },
  {
   "cell_type": "code",
   "execution_count": 31,
   "id": "f481d9f1",
   "metadata": {},
   "outputs": [
    {
     "data": {
      "text/plain": [
       "tensor([ 2,  4,  6,  8, 10])"
      ]
     },
     "execution_count": 31,
     "metadata": {},
     "output_type": "execute_result"
    }
   ],
   "source": [
    "torch.add(tensor, tensor)"
   ]
  },
  {
   "cell_type": "code",
   "execution_count": 32,
   "id": "613d35ee",
   "metadata": {},
   "outputs": [],
   "source": [
    "### Matrix Multiplicatino"
   ]
  },
  {
   "cell_type": "code",
   "execution_count": 33,
   "id": "a444395e",
   "metadata": {},
   "outputs": [
    {
     "data": {
      "text/plain": [
       "tensor([[0.0482, 0.6810, 0.5999],\n",
       "        [0.1070, 0.4394, 0.1859],\n",
       "        [0.3649, 0.3266, 0.0024]])"
      ]
     },
     "execution_count": 33,
     "metadata": {},
     "output_type": "execute_result"
    }
   ],
   "source": [
    "torch.rand(3, 3) * torch.rand(3, 3)"
   ]
  },
  {
   "cell_type": "code",
   "execution_count": 34,
   "id": "f98fcc09",
   "metadata": {},
   "outputs": [],
   "source": [
    "a = torch.rand(3, 3)\n",
    "b = torch.rand(3, 3)"
   ]
  },
  {
   "cell_type": "code",
   "execution_count": 35,
   "id": "f15f8150",
   "metadata": {},
   "outputs": [
    {
     "data": {
      "text/plain": [
       "tensor([[0.8382, 0.3427, 0.5931],\n",
       "        [0.6653, 0.2145, 0.2716],\n",
       "        [0.4953, 0.6191, 0.8435]])"
      ]
     },
     "execution_count": 35,
     "metadata": {},
     "output_type": "execute_result"
    }
   ],
   "source": [
    "torch.matmul(a, b)"
   ]
  },
  {
   "cell_type": "code",
   "execution_count": 36,
   "id": "70e44038",
   "metadata": {},
   "outputs": [
    {
     "data": {
      "text/plain": [
       "tensor([[0.8382, 0.3427, 0.5931],\n",
       "        [0.6653, 0.2145, 0.2716],\n",
       "        [0.4953, 0.6191, 0.8435]])"
      ]
     },
     "execution_count": 36,
     "metadata": {},
     "output_type": "execute_result"
    }
   ],
   "source": [
    "a @ b"
   ]
  },
  {
   "cell_type": "markdown",
   "id": "c9628cb0",
   "metadata": {},
   "source": [
    "### Finding the min, max, mean, sum etc (tensor aggregation)\n"
   ]
  },
  {
   "cell_type": "code",
   "execution_count": 37,
   "id": "da73247d",
   "metadata": {},
   "outputs": [],
   "source": [
    "\n",
    "x = torch.arange(0, 100, 10)"
   ]
  },
  {
   "cell_type": "code",
   "execution_count": 38,
   "id": "db45802f",
   "metadata": {},
   "outputs": [
    {
     "data": {
      "text/plain": [
       "torch.int64"
      ]
     },
     "execution_count": 38,
     "metadata": {},
     "output_type": "execute_result"
    }
   ],
   "source": [
    "x.dtype"
   ]
  },
  {
   "cell_type": "code",
   "execution_count": 39,
   "id": "53a08f00",
   "metadata": {},
   "outputs": [
    {
     "data": {
      "text/plain": [
       "tensor(0)"
      ]
     },
     "execution_count": 39,
     "metadata": {},
     "output_type": "execute_result"
    }
   ],
   "source": [
    "torch.min(x)"
   ]
  },
  {
   "cell_type": "code",
   "execution_count": 40,
   "id": "2f5f74bf",
   "metadata": {},
   "outputs": [
    {
     "data": {
      "text/plain": [
       "tensor(90)"
      ]
     },
     "execution_count": 40,
     "metadata": {},
     "output_type": "execute_result"
    }
   ],
   "source": [
    "torch.max(x)"
   ]
  },
  {
   "cell_type": "code",
   "execution_count": 41,
   "id": "5e24e70a",
   "metadata": {},
   "outputs": [
    {
     "data": {
      "text/plain": [
       "tensor(45.)"
      ]
     },
     "execution_count": 41,
     "metadata": {},
     "output_type": "execute_result"
    }
   ],
   "source": [
    "torch.mean(x.float())"
   ]
  },
  {
   "cell_type": "code",
   "execution_count": 42,
   "id": "fed90d5f",
   "metadata": {},
   "outputs": [
    {
     "data": {
      "text/plain": [
       "(tensor(450), tensor(450))"
      ]
     },
     "execution_count": 42,
     "metadata": {},
     "output_type": "execute_result"
    }
   ],
   "source": [
    "torch.sum(x), x.sum()"
   ]
  },
  {
   "cell_type": "markdown",
   "id": "0bff5b56",
   "metadata": {},
   "source": [
    "## Finding the positional min and max\n"
   ]
  },
  {
   "cell_type": "code",
   "execution_count": 43,
   "id": "71c75c48",
   "metadata": {},
   "outputs": [
    {
     "data": {
      "text/plain": [
       "tensor(0)"
      ]
     },
     "execution_count": 43,
     "metadata": {},
     "output_type": "execute_result"
    }
   ],
   "source": [
    "x.argmin()"
   ]
  },
  {
   "cell_type": "code",
   "execution_count": 44,
   "id": "09623cc8",
   "metadata": {},
   "outputs": [
    {
     "data": {
      "text/plain": [
       "tensor(9)"
      ]
     },
     "execution_count": 44,
     "metadata": {},
     "output_type": "execute_result"
    }
   ],
   "source": [
    "x.argmax()"
   ]
  },
  {
   "cell_type": "markdown",
   "id": "dd429e4d",
   "metadata": {},
   "source": [
    "## Reshaping, stacking, squeezing, and unsqueezing tensor\n"
   ]
  },
  {
   "cell_type": "code",
   "execution_count": 45,
   "id": "c5be77f3",
   "metadata": {},
   "outputs": [
    {
     "data": {
      "text/plain": [
       "(tensor([1, 2, 3, 4, 5, 6, 7, 8, 9]), torch.Size([9]))"
      ]
     },
     "execution_count": 45,
     "metadata": {},
     "output_type": "execute_result"
    }
   ],
   "source": [
    "x = torch.arange(1, 10)\n",
    "\n",
    "x, x.shape"
   ]
  },
  {
   "cell_type": "code",
   "execution_count": 46,
   "id": "72e6e041",
   "metadata": {},
   "outputs": [
    {
     "data": {
      "text/plain": [
       "(tensor([[1, 2, 3, 4, 5, 6, 7, 8, 9]]), torch.Size([1, 9]))"
      ]
     },
     "execution_count": 46,
     "metadata": {},
     "output_type": "execute_result"
    }
   ],
   "source": [
    "x_reshape = x.reshape(1, 9)\n",
    "\n",
    "x_reshape, x_reshape.shape"
   ]
  },
  {
   "cell_type": "code",
   "execution_count": 47,
   "id": "2f0e9e5a",
   "metadata": {},
   "outputs": [
    {
     "data": {
      "text/plain": [
       "(tensor([[1, 2, 3],\n",
       "         [4, 5, 6],\n",
       "         [7, 8, 9]]),\n",
       " torch.Size([3, 3]))"
      ]
     },
     "execution_count": 47,
     "metadata": {},
     "output_type": "execute_result"
    }
   ],
   "source": [
    "x_reshape = x.reshape(3, 3)\n",
    "\n",
    "x_reshape, x_reshape.shape"
   ]
  },
  {
   "cell_type": "code",
   "execution_count": 48,
   "id": "8f660217",
   "metadata": {},
   "outputs": [
    {
     "data": {
      "text/plain": [
       "(tensor([1, 2, 3, 4, 5]), torch.Size([5]))"
      ]
     },
     "execution_count": 48,
     "metadata": {},
     "output_type": "execute_result"
    }
   ],
   "source": [
    "x = torch.tensor([1, 2, 3, 4, 5])     \n",
    "\n",
    "x, x.shape"
   ]
  },
  {
   "cell_type": "code",
   "execution_count": 49,
   "id": "901a7b56",
   "metadata": {},
   "outputs": [
    {
     "data": {
      "text/plain": [
       "(tensor([[1, 2, 3, 4, 5]]), torch.Size([1, 5]))"
      ]
     },
     "execution_count": 49,
     "metadata": {},
     "output_type": "execute_result"
    }
   ],
   "source": [
    "y = x.unsqueeze(0)              \n",
    "\n",
    "y, y.shape\n"
   ]
  },
  {
   "cell_type": "code",
   "execution_count": 50,
   "id": "c3fb00ee",
   "metadata": {},
   "outputs": [
    {
     "data": {
      "text/plain": [
       "(tensor([[1],\n",
       "         [2],\n",
       "         [3],\n",
       "         [4],\n",
       "         [5]]),\n",
       " torch.Size([5, 1]))"
      ]
     },
     "execution_count": 50,
     "metadata": {},
     "output_type": "execute_result"
    }
   ],
   "source": [
    "z = x.unsqueeze(1)  \n",
    "\n",
    "z, z.shape"
   ]
  },
  {
   "cell_type": "code",
   "execution_count": 51,
   "id": "93f80490",
   "metadata": {},
   "outputs": [
    {
     "name": "stdout",
     "output_type": "stream",
     "text": [
      "Previours shape: torch.Size([224, 224, 3])\n",
      "New shape: torch.Size([3, 224, 224])\n"
     ]
    }
   ],
   "source": [
    "\n",
    "x_original = torch.rand(224, 224, 3)\n",
    "\n",
    "x_permuted = x_original.permute(2, 0, 1)\n",
    "\n",
    "print(f\"Previours shape: {x_original.shape}\")\n",
    "print(f\"New shape: {x_permuted.shape}\")"
   ]
  },
  {
   "cell_type": "markdown",
   "id": "1f7b65b6",
   "metadata": {},
   "source": [
    "### Indexing (selecting data from tensor)\n",
    "\n",
    "Indexing with PyTorch is similar to indexing with numpy\n"
   ]
  },
  {
   "cell_type": "code",
   "execution_count": 58,
   "id": "6065d30a",
   "metadata": {},
   "outputs": [
    {
     "data": {
      "text/plain": [
       "(tensor([[[1, 2, 3],\n",
       "          [4, 5, 6],\n",
       "          [7, 8, 9]]]),\n",
       " torch.Size([1, 3, 3]),\n",
       " 3)"
      ]
     },
     "execution_count": 58,
     "metadata": {},
     "output_type": "execute_result"
    }
   ],
   "source": [
    "# create a tensor\n",
    "\n",
    "import torch\n",
    "\n",
    "x = torch.arange(1, 10).reshape(1, 3, 3)\n",
    "\n",
    "x, x.shape, x.ndim"
   ]
  },
  {
   "cell_type": "code",
   "execution_count": 60,
   "id": "d6b79bfa",
   "metadata": {},
   "outputs": [
    {
     "data": {
      "text/plain": [
       "tensor([7, 8, 9])"
      ]
     },
     "execution_count": 60,
     "metadata": {},
     "output_type": "execute_result"
    }
   ],
   "source": [
    "# let's index on our new tensor\n",
    "\n",
    "x[0][2]"
   ]
  },
  {
   "cell_type": "code",
   "execution_count": 66,
   "id": "6f525c7b",
   "metadata": {},
   "outputs": [
    {
     "data": {
      "text/plain": [
       "tensor([[3, 6, 9]])"
      ]
     },
     "execution_count": 66,
     "metadata": {},
     "output_type": "execute_result"
    }
   ],
   "source": [
    "x[:,:, 2]"
   ]
  },
  {
   "cell_type": "code",
   "execution_count": null,
   "id": "73aac6e4",
   "metadata": {},
   "outputs": [],
   "source": []
  }
 ],
 "metadata": {
  "kernelspec": {
   "display_name": ".venv",
   "language": "python",
   "name": "python3"
  },
  "language_info": {
   "codemirror_mode": {
    "name": "ipython",
    "version": 3
   },
   "file_extension": ".py",
   "mimetype": "text/x-python",
   "name": "python",
   "nbconvert_exporter": "python",
   "pygments_lexer": "ipython3",
   "version": "3.12.5"
  }
 },
 "nbformat": 4,
 "nbformat_minor": 5
}
