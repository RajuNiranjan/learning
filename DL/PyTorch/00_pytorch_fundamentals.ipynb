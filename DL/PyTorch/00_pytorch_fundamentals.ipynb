{
 "cells": [
  {
   "cell_type": "code",
   "execution_count": 41,
   "id": "42dd3d67",
   "metadata": {},
   "outputs": [
    {
     "name": "stdout",
     "output_type": "stream",
     "text": [
      "Hello I', excited to learn PyTorch!\n"
     ]
    }
   ],
   "source": [
    "print(\"Hello I', excited to learn PyTorch!\")"
   ]
  },
  {
   "cell_type": "code",
   "execution_count": 42,
   "id": "16241ab4",
   "metadata": {},
   "outputs": [],
   "source": [
    "import torch\n",
    "import pandas as pd\n",
    "import numpy as np\n",
    "import matplotlib.pyplot as plt"
   ]
  },
  {
   "cell_type": "code",
   "execution_count": 43,
   "id": "0c483abb",
   "metadata": {},
   "outputs": [
    {
     "name": "stdout",
     "output_type": "stream",
     "text": [
      "2.8.0+cpu\n"
     ]
    }
   ],
   "source": [
    "print(torch.__version__)"
   ]
  },
  {
   "cell_type": "markdown",
   "id": "a92fd5c0",
   "metadata": {},
   "source": [
    "# Introduction to Tensor\n"
   ]
  },
  {
   "cell_type": "code",
   "execution_count": 44,
   "id": "7bb31920",
   "metadata": {},
   "outputs": [
    {
     "data": {
      "text/plain": [
       "tensor(7)"
      ]
     },
     "execution_count": 44,
     "metadata": {},
     "output_type": "execute_result"
    }
   ],
   "source": [
    "# scalr\n",
    "\n",
    "scalar = torch.tensor(7)\n",
    "\n",
    "scalar"
   ]
  },
  {
   "cell_type": "code",
   "execution_count": 45,
   "id": "bc67ec1f",
   "metadata": {},
   "outputs": [
    {
     "data": {
      "text/plain": [
       "0"
      ]
     },
     "execution_count": 45,
     "metadata": {},
     "output_type": "execute_result"
    }
   ],
   "source": [
    "scalar.ndim"
   ]
  },
  {
   "cell_type": "code",
   "execution_count": 46,
   "id": "45933c90",
   "metadata": {},
   "outputs": [
    {
     "data": {
      "text/plain": [
       "7"
      ]
     },
     "execution_count": 46,
     "metadata": {},
     "output_type": "execute_result"
    }
   ],
   "source": [
    "# get tensor back as python int\n",
    "\n",
    "scalar.item()"
   ]
  },
  {
   "cell_type": "code",
   "execution_count": 47,
   "id": "85c43cc6",
   "metadata": {},
   "outputs": [
    {
     "data": {
      "text/plain": [
       "tensor([7, 7])"
      ]
     },
     "execution_count": 47,
     "metadata": {},
     "output_type": "execute_result"
    }
   ],
   "source": [
    "# Vecotr\n",
    "\n",
    "vector = torch.tensor([7, 7])\n",
    "\n",
    "vector"
   ]
  },
  {
   "cell_type": "code",
   "execution_count": 48,
   "id": "d64a6b42",
   "metadata": {},
   "outputs": [
    {
     "data": {
      "text/plain": [
       "torch.Size([2])"
      ]
     },
     "execution_count": 48,
     "metadata": {},
     "output_type": "execute_result"
    }
   ],
   "source": [
    "vector.shape"
   ]
  },
  {
   "cell_type": "code",
   "execution_count": 49,
   "id": "2c5a6a89",
   "metadata": {},
   "outputs": [
    {
     "data": {
      "text/plain": [
       "(tensor([[7, 8],\n",
       "         [9, 0]]),\n",
       " torch.Size([2, 2]))"
      ]
     },
     "execution_count": 49,
     "metadata": {},
     "output_type": "execute_result"
    }
   ],
   "source": [
    "# MATRIX\n",
    "\n",
    "MATRIX = torch.tensor(\n",
    "    [\n",
    "        [7, 8],\n",
    "        [9, 0]\n",
    "    ]\n",
    ")\n",
    "\n",
    "MATRIX, MATRIX.shape"
   ]
  },
  {
   "cell_type": "code",
   "execution_count": 50,
   "id": "4ddfd2fb",
   "metadata": {},
   "outputs": [
    {
     "data": {
      "text/plain": [
       "(tensor([7, 8]), tensor([9, 0]))"
      ]
     },
     "execution_count": 50,
     "metadata": {},
     "output_type": "execute_result"
    }
   ],
   "source": [
    "MATRIX[0],MATRIX[1]"
   ]
  },
  {
   "cell_type": "code",
   "execution_count": 51,
   "id": "84b621f1",
   "metadata": {},
   "outputs": [
    {
     "data": {
      "text/plain": [
       "torch.Size([2, 2])"
      ]
     },
     "execution_count": 51,
     "metadata": {},
     "output_type": "execute_result"
    }
   ],
   "source": [
    "MATRIX.shape"
   ]
  },
  {
   "cell_type": "code",
   "execution_count": 52,
   "id": "4e0899ab",
   "metadata": {},
   "outputs": [],
   "source": [
    "# Tensor\n",
    "\n",
    "TENSOR = torch.tensor(\n",
    "    [\n",
    "        [\n",
    "            [1, 2, 3],\n",
    "            [4, 5, 6],\n",
    "            [7, 8, 9],\n",
    "        ]\n",
    "    ]\n",
    ")\n"
   ]
  },
  {
   "cell_type": "code",
   "execution_count": 53,
   "id": "06f2e1a3",
   "metadata": {},
   "outputs": [
    {
     "data": {
      "text/plain": [
       "(tensor([[[1, 2, 3],\n",
       "          [4, 5, 6],\n",
       "          [7, 8, 9]]]),\n",
       " torch.Size([1, 3, 3]))"
      ]
     },
     "execution_count": 53,
     "metadata": {},
     "output_type": "execute_result"
    }
   ],
   "source": [
    "TENSOR, TENSOR.shape"
   ]
  },
  {
   "cell_type": "markdown",
   "id": "71897e78",
   "metadata": {},
   "source": [
    "# Random Tensors\n",
    "\n",
    "Why Random Tensors?\n",
    "\n",
    "Random tesnors are important because the way many neural networks learn is that they start with tensor full of random numbers and then adjust those random numbers to better represent the data\n",
    "\n",
    "start with random numbers -> look at data -> update random number -> look at data -> update random numbers\n"
   ]
  },
  {
   "cell_type": "code",
   "execution_count": 59,
   "id": "558f0c81",
   "metadata": {},
   "outputs": [
    {
     "data": {
      "text/plain": [
       "(tensor([[0.1637, 0.2253, 0.5611, 0.5714],\n",
       "         [0.1451, 0.3637, 0.7845, 0.5718],\n",
       "         [0.0404, 0.9029, 0.3536, 0.5927]]),\n",
       " 2)"
      ]
     },
     "execution_count": 59,
     "metadata": {},
     "output_type": "execute_result"
    }
   ],
   "source": [
    "# create random tensor of size or shape (3, 4)\n",
    "\n",
    "random_tensor = torch.rand(3, 4)\n",
    "\n",
    "random_tensor, random_tensor.ndim"
   ]
  },
  {
   "cell_type": "code",
   "execution_count": 58,
   "id": "413e244d",
   "metadata": {},
   "outputs": [
    {
     "data": {
      "text/plain": [
       "tensor([[[0.8982, 0.9532, 0.2317],\n",
       "         [0.3621, 0.0706, 0.8465],\n",
       "         [0.2514, 0.1101, 0.5749]]])"
      ]
     },
     "execution_count": 58,
     "metadata": {},
     "output_type": "execute_result"
    }
   ],
   "source": [
    "torch.rand(1, 3, 3)"
   ]
  },
  {
   "cell_type": "code",
   "execution_count": 61,
   "id": "d0398585",
   "metadata": {},
   "outputs": [
    {
     "data": {
      "text/plain": [
       "(tensor([[[0.9881, 0.3922, 0.2499],\n",
       "          [0.8952, 0.3331, 0.3212],\n",
       "          [0.3412, 0.7246, 0.2619],\n",
       "          ...,\n",
       "          [0.5504, 0.0066, 0.7582],\n",
       "          [0.3354, 0.0027, 0.2345],\n",
       "          [0.5764, 0.3404, 0.1503]],\n",
       " \n",
       "         [[0.0552, 0.7760, 0.2465],\n",
       "          [0.9333, 0.4754, 0.2635],\n",
       "          [0.4791, 0.8357, 0.8378],\n",
       "          ...,\n",
       "          [0.8277, 0.3742, 0.7958],\n",
       "          [0.9539, 0.6885, 0.2224],\n",
       "          [0.6278, 0.9432, 0.9863]],\n",
       " \n",
       "         [[0.4575, 0.8649, 0.7497],\n",
       "          [0.2750, 0.5220, 0.4416],\n",
       "          [0.0360, 0.9313, 0.5842],\n",
       "          ...,\n",
       "          [0.3626, 0.2667, 0.9805],\n",
       "          [0.7494, 0.0824, 0.2772],\n",
       "          [0.3116, 0.3111, 0.6970]],\n",
       " \n",
       "         ...,\n",
       " \n",
       "         [[0.0702, 0.6903, 0.2441],\n",
       "          [0.5201, 0.4314, 0.3397],\n",
       "          [0.8787, 0.1503, 0.7863],\n",
       "          ...,\n",
       "          [0.3231, 0.8296, 0.4181],\n",
       "          [0.6446, 0.1581, 0.7297],\n",
       "          [0.7790, 0.3816, 0.1329]],\n",
       " \n",
       "         [[0.3442, 0.7509, 0.1398],\n",
       "          [0.7981, 0.4736, 0.3770],\n",
       "          [0.8179, 0.2172, 0.5845],\n",
       "          ...,\n",
       "          [0.2035, 0.1572, 0.0852],\n",
       "          [0.5742, 0.6825, 0.4237],\n",
       "          [0.1479, 0.7429, 0.8865]],\n",
       " \n",
       "         [[0.3667, 0.2290, 0.2740],\n",
       "          [0.7289, 0.7164, 0.4695],\n",
       "          [0.9455, 0.2042, 0.5675],\n",
       "          ...,\n",
       "          [0.4496, 0.0455, 0.2520],\n",
       "          [0.7784, 0.8484, 0.7964],\n",
       "          [0.7184, 0.7050, 0.7286]]]),\n",
       " 3)"
      ]
     },
     "execution_count": 61,
     "metadata": {},
     "output_type": "execute_result"
    }
   ],
   "source": [
    "# create a random tensor with similar shape to an image tensor\n",
    "\n",
    "random_image_tensor = torch.rand(255, 255, 3)\n",
    "\n",
    "random_image_tensor, random_image_tensor.ndim"
   ]
  },
  {
   "cell_type": "code",
   "execution_count": null,
   "id": "ff578b84",
   "metadata": {},
   "outputs": [],
   "source": []
  }
 ],
 "metadata": {
  "kernelspec": {
   "display_name": ".venv",
   "language": "python",
   "name": "python3"
  },
  "language_info": {
   "codemirror_mode": {
    "name": "ipython",
    "version": 3
   },
   "file_extension": ".py",
   "mimetype": "text/x-python",
   "name": "python",
   "nbconvert_exporter": "python",
   "pygments_lexer": "ipython3",
   "version": "3.12.5"
  }
 },
 "nbformat": 4,
 "nbformat_minor": 5
}
