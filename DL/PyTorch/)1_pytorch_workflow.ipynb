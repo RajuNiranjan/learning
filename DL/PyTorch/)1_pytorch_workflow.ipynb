{
 "cells": [
  {
   "cell_type": "markdown",
   "id": "dfcd37ac",
   "metadata": {},
   "source": [
    "PyTorch WorkFlow\n"
   ]
  },
  {
   "cell_type": "code",
   "execution_count": 3,
   "id": "45cc76cb",
   "metadata": {},
   "outputs": [
    {
     "data": {
      "text/plain": [
       "{1: 'data (prepare and load)',\n",
       " 2: 'build model',\n",
       " 3: 'fittingthe model to data (training)',\n",
       " 4: 'Making prediction and evaluting a model (inference)',\n",
       " 5: 'saving and loading a model',\n",
       " 6: 'putting it all together'}"
      ]
     },
     "execution_count": 3,
     "metadata": {},
     "output_type": "execute_result"
    }
   ],
   "source": [
    "what_we_covering ={\n",
    "    1: \"data (prepare and load)\",\n",
    "    2: \"build model\",\n",
    "    3: \"fittingthe model to data (training)\",\n",
    "    4: \"Making prediction and evaluting a model (inference)\",\n",
    "    5: \"saving and loading a model\",\n",
    "    6: \"putting it all together\"\n",
    "}\n",
    "what_we_covering"
   ]
  },
  {
   "cell_type": "code",
   "execution_count": 4,
   "id": "59477665",
   "metadata": {},
   "outputs": [
    {
     "data": {
      "text/plain": [
       "'2.8.0+cpu'"
      ]
     },
     "execution_count": 4,
     "metadata": {},
     "output_type": "execute_result"
    }
   ],
   "source": [
    "import torch\n",
    "from torch import nn\n",
    "import matplotlib.pyplot as plt\n",
    "\n",
    "torch.__version__"
   ]
  },
  {
   "cell_type": "markdown",
   "id": "b13c6986",
   "metadata": {},
   "source": [
    "## Date Preparing and Loading\\*\n",
    "\n",
    "data can be almost anything.. in machine learning.\n",
    "\n",
    "*Excel pspeadsheet\n",
    "*Image of any kind\n",
    "*vidoes\n",
    "*Audio like songsor podcasts\n",
    "*DNA\n",
    "*Text\n",
    "\n",
    "Machine learning is a game of two parts:\n",
    "1.Get data into a numeraical representation 2. build a model to learn patterns in the numerical representation\n"
   ]
  },
  {
   "cell_type": "code",
   "execution_count": 5,
   "id": "fe55df13",
   "metadata": {},
   "outputs": [],
   "source": [
    "# create *known* parameters\n",
    "weight = 0.7\n",
    "bias = 0.3\n",
    "\n",
    "# create\n",
    "start = 0\n",
    "end = 1\n",
    "step = 0.02\n",
    "\n",
    "X = torch.arange(start, end, step).unsqueeze(dim=1)\n",
    "y = weight * X + bias"
   ]
  },
  {
   "cell_type": "code",
   "execution_count": 10,
   "id": "1f8d5a89",
   "metadata": {},
   "outputs": [
    {
     "data": {
      "text/plain": [
       "(tensor([[0.0000],\n",
       "         [0.0200],\n",
       "         [0.0400],\n",
       "         [0.0600],\n",
       "         [0.0800],\n",
       "         [0.1000],\n",
       "         [0.1200],\n",
       "         [0.1400],\n",
       "         [0.1600],\n",
       "         [0.1800]]),\n",
       " tensor([[0.3000],\n",
       "         [0.3140],\n",
       "         [0.3280],\n",
       "         [0.3420],\n",
       "         [0.3560],\n",
       "         [0.3700],\n",
       "         [0.3840],\n",
       "         [0.3980],\n",
       "         [0.4120],\n",
       "         [0.4260]]))"
      ]
     },
     "execution_count": 10,
     "metadata": {},
     "output_type": "execute_result"
    }
   ],
   "source": [
    "X[:10], y[:10]"
   ]
  },
  {
   "cell_type": "markdown",
   "id": "35084825",
   "metadata": {},
   "source": [
    "splitting data into training and test sets (one of the most important concepts in macine learning in genral)\n",
    "\n",
    "lets create a training and test data\n"
   ]
  },
  {
   "cell_type": "code",
   "execution_count": 11,
   "id": "3eebd4c7",
   "metadata": {},
   "outputs": [
    {
     "data": {
      "text/plain": [
       "(40, 40, 10, 10)"
      ]
     },
     "execution_count": 11,
     "metadata": {},
     "output_type": "execute_result"
    }
   ],
   "source": [
    "# create train/test split\n",
    "\n",
    "train_split = int(0.8 * len(X))\n",
    "\n",
    "X_train, Y_train = X[:train_split], y[:train_split]\n",
    "X_test, Y_test = X[train_split:], y[train_split:]\n",
    "\n",
    "len(X_train), len(Y_train), len(X_test), len(Y_test)"
   ]
  },
  {
   "cell_type": "markdown",
   "id": "d4d46304",
   "metadata": {},
   "source": [
    "How might we better visualize our data?\n",
    "\n",
    "this is wehre the daaexplores motto comes in\n",
    "\n",
    "visualize\n"
   ]
  },
  {
   "cell_type": "code",
   "execution_count": 19,
   "id": "bf02e983",
   "metadata": {},
   "outputs": [],
   "source": [
    "from cProfile import label\n",
    "\n",
    "\n",
    "def plot_prediction(train_data=X_train,\n",
    "train_labels=Y_train,\n",
    "test_data=X_test,\n",
    "test_labels=Y_test,\n",
    "predictions=None\n",
    "):\n",
    "    plt.figure(figsize=(10, 7))\n",
    "    plt.scatter(train_data, train_labels, c='b', s=3, label=\"Training data\")\n",
    "    plt.scatter(test_data, test_labels, c='r', s=3, label=\"Test data\")"
   ]
  },
  {
   "cell_type": "code",
   "execution_count": 20,
   "id": "6f7e99e4",
   "metadata": {},
   "outputs": [
    {
     "data": {
      "image/png": "[encoded data removed]",
      "text/plain": [
       "<Figure size 1000x700 with 1 Axes>"
      ]
     },
     "metadata": {},
     "output_type": "display_data"
    }
   ],
   "source": [
    "plot_prediction()"
   ]
  },
  {
   "cell_type": "markdown",
   "id": "44b0578e",
   "metadata": {},
   "source": [
    "### Build model\n",
    "\n",
    "Our first PyTorch Model!\n"
   ]
  },
  {
   "cell_type": "code",
   "execution_count": null,
   "id": "a1ae7d3d",
   "metadata": {},
   "outputs": [],
   "source": [
    "# create linear regression model class\n",
    "\n",
    "from torch import nn\n",
    "\n",
    "class LinearRegressionModel(nn.Module):\n",
    "    def __init__(self):\n",
    "        super().__init__()\n",
    "        self.wheight = nn.Parameter(torch.randn(1, requires_grad=True, dtype=torch.float))\n",
    "        self.bias = nn.Parameter(torch.randn(1, requires_grad=True, dtype=torch.float))\n",
    "    \n",
    "        def forward(self, x: torch.Tensor) -> torch.Tensor:\n",
    "            return self.weight * X + self.bias"
   ]
  },
  {
   "cell_type": "code",
   "execution_count": null,
   "id": "899d4da8",
   "metadata": {},
   "outputs": [],
   "source": []
  }
 ],
 "metadata": {
  "kernelspec": {
   "display_name": ".venv",
   "language": "python",
   "name": "python3"
  },
  "language_info": {
   "codemirror_mode": {
    "name": "ipython",
    "version": 3
   },
   "file_extension": ".py",
   "mimetype": "text/x-python",
   "name": "python",
   "nbconvert_exporter": "python",
   "pygments_lexer": "ipython3",
   "version": "3.12.5"
  }
 },
 "nbformat": 4,
 "nbformat_minor": 5
}
