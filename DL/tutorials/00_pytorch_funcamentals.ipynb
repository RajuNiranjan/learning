{
 "cells": [
  {
   "cell_type": "code",
   "execution_count": 89,
   "id": "42f4c998",
   "metadata": {},
   "outputs": [],
   "source": [
    "import pandas as pd\n",
    "import torch\n",
    "import numpy as np\n",
    "import matplotlib.pyplot as plt\n",
    "import seaborn as sns"
   ]
  },
  {
   "cell_type": "code",
   "execution_count": 90,
   "id": "27b5486b",
   "metadata": {},
   "outputs": [
    {
     "data": {
      "text/plain": [
       "'2.8.0+cpu'"
      ]
     },
     "execution_count": 90,
     "metadata": {},
     "output_type": "execute_result"
    }
   ],
   "source": [
    "torch.__version__"
   ]
  },
  {
   "cell_type": "markdown",
   "id": "193629ff",
   "metadata": {},
   "source": [
    "### Introduction to Tensors\n",
    "\n",
    "creating a tensors\n"
   ]
  },
  {
   "cell_type": "code",
   "execution_count": 91,
   "id": "d9682863",
   "metadata": {},
   "outputs": [
    {
     "data": {
      "text/plain": [
       "(tensor(8), 0)"
      ]
     },
     "execution_count": 91,
     "metadata": {},
     "output_type": "execute_result"
    }
   ],
   "source": [
    "# scalar \n",
    "\n",
    "scalar = torch.tensor(8)\n",
    "\n",
    "scalar, scalar.ndim"
   ]
  },
  {
   "cell_type": "code",
   "execution_count": 92,
   "id": "254020e9",
   "metadata": {},
   "outputs": [
    {
     "data": {
      "text/plain": [
       "8"
      ]
     },
     "execution_count": 92,
     "metadata": {},
     "output_type": "execute_result"
    }
   ],
   "source": [
    "scalar.item()"
   ]
  },
  {
   "cell_type": "markdown",
   "id": "e3599114",
   "metadata": {},
   "source": [
    "Vector\n"
   ]
  },
  {
   "cell_type": "code",
   "execution_count": 93,
   "id": "cd45fdb7",
   "metadata": {},
   "outputs": [
    {
     "data": {
      "text/plain": [
       "(tensor([3, 3]), 1)"
      ]
     },
     "execution_count": 93,
     "metadata": {},
     "output_type": "execute_result"
    }
   ],
   "source": [
    "# vector\n",
    "\n",
    "vector = torch.tensor([3, 3])\n",
    "\n",
    "vector, vector.ndim"
   ]
  },
  {
   "cell_type": "markdown",
   "id": "e56403b5",
   "metadata": {},
   "source": [
    "Matrix\n"
   ]
  },
  {
   "cell_type": "code",
   "execution_count": 94,
   "id": "c80c8ce5",
   "metadata": {},
   "outputs": [
    {
     "data": {
      "text/plain": [
       "(tensor([[2, 3],\n",
       "         [5, 6]]),\n",
       " torch.Size([2, 2]),\n",
       " tensor([5, 6]))"
      ]
     },
     "execution_count": 94,
     "metadata": {},
     "output_type": "execute_result"
    }
   ],
   "source": [
    "matrix = torch.tensor([[2, 3], [5, 6]])\n",
    "\n",
    "matrix, matrix.shape, matrix[1]"
   ]
  },
  {
   "cell_type": "markdown",
   "id": "45ddd3d0",
   "metadata": {},
   "source": [
    "Tensor\n"
   ]
  },
  {
   "cell_type": "code",
   "execution_count": 95,
   "id": "9d002a4a",
   "metadata": {},
   "outputs": [
    {
     "data": {
      "text/plain": [
       "(tensor([[[1, 2],\n",
       "          [3, 4],\n",
       "          [5, 6]],\n",
       " \n",
       "         [[1, 2],\n",
       "          [3, 4],\n",
       "          [5, 6]],\n",
       " \n",
       "         [[1, 2],\n",
       "          [3, 4],\n",
       "          [5, 6]],\n",
       " \n",
       "         [[1, 2],\n",
       "          [3, 4],\n",
       "          [5, 6]]]),\n",
       " torch.Size([4, 3, 2]))"
      ]
     },
     "execution_count": 95,
     "metadata": {},
     "output_type": "execute_result"
    }
   ],
   "source": [
    "tensor = torch.tensor(\n",
    "    [\n",
    "        [\n",
    "            [1, 2], \n",
    "            [3, 4], \n",
    "            [5, 6]\n",
    "        ],\n",
    "        [\n",
    "            [1, 2], \n",
    "            [3, 4], \n",
    "            [5, 6]\n",
    "        ],\n",
    "        [\n",
    "            [1, 2], \n",
    "            [3, 4], \n",
    "            [5, 6]\n",
    "        ],\n",
    "        [\n",
    "            [1, 2], \n",
    "            [3, 4], \n",
    "            [5, 6]\n",
    "        ]\n",
    "    ]\n",
    ")\n",
    "\n",
    "tensor, tensor.shape"
   ]
  },
  {
   "cell_type": "markdown",
   "id": "0b56650d",
   "metadata": {},
   "source": [
    "Random Tensors\n"
   ]
  },
  {
   "cell_type": "code",
   "execution_count": 96,
   "id": "34f5183e",
   "metadata": {},
   "outputs": [
    {
     "data": {
      "text/plain": [
       "(tensor([[0.1850, 0.5815, 0.7115, 0.5633, 0.4231],\n",
       "         [0.5659, 0.5967, 0.9176, 0.0454, 0.8604],\n",
       "         [0.6130, 0.1389, 0.9784, 0.8366, 0.5924],\n",
       "         [0.5419, 0.2798, 0.2001, 0.5617, 0.4221]]),\n",
       " torch.Size([4, 5]))"
      ]
     },
     "execution_count": 96,
     "metadata": {},
     "output_type": "execute_result"
    }
   ],
   "source": [
    "### Random Tensors\n",
    "\n",
    "\n",
    "random_tensor = torch.rand(4, 5)\n",
    "\n",
    "random_tensor, random_tensor.shape"
   ]
  },
  {
   "cell_type": "code",
   "execution_count": 97,
   "id": "aa13606d",
   "metadata": {},
   "outputs": [
    {
     "data": {
      "text/plain": [
       "(tensor([[[0.7827, 0.2411, 0.1168, 0.9223],\n",
       "          [0.2909, 0.3409, 0.2569, 0.0310],\n",
       "          [0.4804, 0.6590, 0.8550, 0.8887],\n",
       "          ...,\n",
       "          [0.6602, 0.8520, 0.1153, 0.9206],\n",
       "          [0.2298, 0.6652, 0.5377, 0.9418],\n",
       "          [0.1279, 0.9159, 0.8574, 0.1403]],\n",
       " \n",
       "         [[0.9363, 0.4967, 0.1844, 0.7545],\n",
       "          [0.4977, 0.6778, 0.2603, 0.0193],\n",
       "          [0.7001, 0.4646, 0.4670, 0.7826],\n",
       "          ...,\n",
       "          [0.4599, 0.9802, 0.2228, 0.2458],\n",
       "          [0.0434, 0.7368, 0.7399, 0.1576],\n",
       "          [0.2488, 0.4185, 0.1138, 0.7714]],\n",
       " \n",
       "         [[0.8249, 0.4479, 0.9994, 0.3994],\n",
       "          [0.3118, 0.7579, 0.5327, 0.0524],\n",
       "          [0.8137, 0.6080, 0.2806, 0.0304],\n",
       "          ...,\n",
       "          [0.4501, 0.7846, 0.7725, 0.2165],\n",
       "          [0.9918, 0.2841, 0.0258, 0.4039],\n",
       "          [0.4066, 0.4010, 0.5593, 0.9535]],\n",
       " \n",
       "         ...,\n",
       " \n",
       "         [[0.4727, 0.6684, 0.3747, 0.4452],\n",
       "          [0.2204, 0.1402, 0.5466, 0.7999],\n",
       "          [0.9085, 0.6021, 0.6672, 0.1208],\n",
       "          ...,\n",
       "          [0.5551, 0.1480, 0.0521, 0.4091],\n",
       "          [0.7185, 0.5489, 0.0846, 0.4194],\n",
       "          [0.9977, 0.8626, 0.0961, 0.2150]],\n",
       " \n",
       "         [[0.4897, 0.8429, 0.5425, 0.1588],\n",
       "          [0.4078, 0.3870, 0.4008, 0.1643],\n",
       "          [0.2444, 0.2249, 0.2913, 0.3306],\n",
       "          ...,\n",
       "          [0.5232, 0.5121, 0.3253, 0.7356],\n",
       "          [0.1880, 0.1476, 0.6634, 0.5219],\n",
       "          [0.2911, 0.5094, 0.2496, 0.5925]],\n",
       " \n",
       "         [[0.9448, 0.9218, 0.7478, 0.2557],\n",
       "          [0.9092, 0.7129, 0.6890, 0.2467],\n",
       "          [0.4103, 0.5296, 0.5053, 0.0213],\n",
       "          ...,\n",
       "          [0.2250, 0.4351, 0.1615, 0.9561],\n",
       "          [0.4812, 0.0467, 0.9067, 0.2938],\n",
       "          [0.1707, 0.1053, 0.5545, 0.2321]]]),\n",
       " torch.Size([224, 224, 4]))"
      ]
     },
     "execution_count": 97,
     "metadata": {},
     "output_type": "execute_result"
    }
   ],
   "source": [
    "# create a random tensor with similar shap to an image tensor\n",
    "\n",
    "random_image_size_tensor = torch.rand(size=(224, 224, 4))   # height, width, color channel (R, B, G)\n",
    "\n",
    "random_image_size_tensor, random_image_size_tensor.shape"
   ]
  },
  {
   "cell_type": "code",
   "execution_count": 98,
   "id": "176eb3e8",
   "metadata": {},
   "outputs": [
    {
     "data": {
      "text/plain": [
       "tensor([[0.3289, 0.6911, 0.3161],\n",
       "        [0.1062, 0.3187, 0.1045],\n",
       "        [0.6274, 0.0094, 0.1738]])"
      ]
     },
     "execution_count": 98,
     "metadata": {},
     "output_type": "execute_result"
    }
   ],
   "source": [
    "torch.rand(3, 3)"
   ]
  },
  {
   "cell_type": "code",
   "execution_count": 99,
   "id": "ea926ae2",
   "metadata": {},
   "outputs": [
    {
     "data": {
      "text/plain": [
       "tensor([[0, 0, 0, 0, 0],\n",
       "        [0, 0, 0, 0, 0],\n",
       "        [0, 0, 0, 0, 0]])"
      ]
     },
     "execution_count": 99,
     "metadata": {},
     "output_type": "execute_result"
    }
   ],
   "source": [
    "zero_tensor = torch.zeros(3, 5, dtype=int)\n",
    "\n",
    "zero_tensor"
   ]
  },
  {
   "cell_type": "code",
   "execution_count": 100,
   "id": "597299e2",
   "metadata": {},
   "outputs": [
    {
     "data": {
      "text/plain": [
       "tensor([[1, 1, 1, 1, 1],\n",
       "        [1, 1, 1, 1, 1],\n",
       "        [1, 1, 1, 1, 1]])"
      ]
     },
     "execution_count": 100,
     "metadata": {},
     "output_type": "execute_result"
    }
   ],
   "source": [
    "ones_tensor = torch.ones(3, 5, dtype=int)\n",
    "\n",
    "ones_tensor"
   ]
  },
  {
   "cell_type": "code",
   "execution_count": 101,
   "id": "9f3df8d9",
   "metadata": {},
   "outputs": [
    {
     "data": {
      "text/plain": [
       "tensor([0, 1, 2, 3, 4, 5, 6, 7, 8, 9])"
      ]
     },
     "execution_count": 101,
     "metadata": {},
     "output_type": "execute_result"
    }
   ],
   "source": [
    "### creating a range of tensors and tensors like\n",
    "\n",
    "torch.arange(0, 10)"
   ]
  },
  {
   "cell_type": "code",
   "execution_count": 102,
   "id": "a4737958",
   "metadata": {},
   "outputs": [],
   "source": [
    "step = torch.arange(start=0, end=10, step=2)\n"
   ]
  },
  {
   "cell_type": "code",
   "execution_count": 103,
   "id": "3d4fe150",
   "metadata": {},
   "outputs": [
    {
     "data": {
      "text/plain": [
       "(tensor([0, 0, 0, 0, 0]), tensor([1, 1, 1, 1, 1]))"
      ]
     },
     "execution_count": 103,
     "metadata": {},
     "output_type": "execute_result"
    }
   ],
   "source": [
    "## creating tensors like\n",
    "\n",
    "torch.zeros_like(step), torch.ones_like(step)"
   ]
  },
  {
   "cell_type": "markdown",
   "id": "a817bc5d",
   "metadata": {},
   "source": [
    "### Tensor DataType\n",
    "\n",
    "**Note** Tensor datatypes is one of the 3 big errors you'will run into with PyTorch & deep learning:\n",
    "\n",
    "1. Tensors not right datatype\n",
    "2. Tensors not right shape\n",
    "3. Tensors are not on the right device\n"
   ]
  },
  {
   "cell_type": "code",
   "execution_count": 104,
   "id": "73030215",
   "metadata": {},
   "outputs": [
    {
     "data": {
      "text/plain": [
       "torch.float32"
      ]
     },
     "execution_count": 104,
     "metadata": {},
     "output_type": "execute_result"
    }
   ],
   "source": [
    "float_32_tensor = torch.tensor(\n",
    "    [3.0, 2.0], \n",
    "    dtype=None,     \n",
    "    device=None,    # what device is tensor on\n",
    "    requires_grad=False  # whether ot not to track gradients with this tensors operation\n",
    ")\n",
    "\n",
    "float_32_tensor.dtype"
   ]
  },
  {
   "cell_type": "code",
   "execution_count": 105,
   "id": "bc8a9f5f",
   "metadata": {},
   "outputs": [
    {
     "data": {
      "text/plain": [
       "torch.float16"
      ]
     },
     "execution_count": 105,
     "metadata": {},
     "output_type": "execute_result"
    }
   ],
   "source": [
    "float_16_tensor = float_32_tensor.type(torch.float16)\n",
    "\n",
    "float_16_tensor.dtype"
   ]
  },
  {
   "cell_type": "code",
   "execution_count": 106,
   "id": "6ee5a64a",
   "metadata": {},
   "outputs": [
    {
     "data": {
      "text/plain": [
       "tensor([9., 4.])"
      ]
     },
     "execution_count": 106,
     "metadata": {},
     "output_type": "execute_result"
    }
   ],
   "source": [
    "float_16_tensor * float_32_tensor"
   ]
  },
  {
   "cell_type": "code",
   "execution_count": 107,
   "id": "7390c9e3",
   "metadata": {},
   "outputs": [
    {
     "data": {
      "text/plain": [
       "tensor([3, 4])"
      ]
     },
     "execution_count": 107,
     "metadata": {},
     "output_type": "execute_result"
    }
   ],
   "source": [
    "int_32_tensor = torch.tensor([3, 4], dtype=torch.long)\n",
    "\n",
    "int_32_tensor"
   ]
  },
  {
   "cell_type": "code",
   "execution_count": 108,
   "id": "a2644f23",
   "metadata": {},
   "outputs": [
    {
     "data": {
      "text/plain": [
       "tensor([9., 8.])"
      ]
     },
     "execution_count": 108,
     "metadata": {},
     "output_type": "execute_result"
    }
   ],
   "source": [
    "float_32_tensor * int_32_tensor"
   ]
  },
  {
   "cell_type": "markdown",
   "id": "d3e776b4",
   "metadata": {},
   "source": [
    "### Getting information from tensors\n",
    "\n",
    "1. Tensors not right datatype - to do get datatype from a tensor, can use `tensor.dtype`\n",
    "2. Tensors not right shape - to get shape from atensor, can use `tensor.shape`\n",
    "3. Tensors are not on the right device - to get device from a tensor, can use `tensor.device`\n"
   ]
  },
  {
   "cell_type": "code",
   "execution_count": 109,
   "id": "11b6c9c7",
   "metadata": {},
   "outputs": [
    {
     "data": {
      "text/plain": [
       "tensor([[0.9658, 0.5544, 0.4648, 0.2936],\n",
       "        [0.0678, 0.9094, 0.3308, 0.9395],\n",
       "        [0.5331, 0.3046, 0.7253, 0.3999]])"
      ]
     },
     "execution_count": 109,
     "metadata": {},
     "output_type": "execute_result"
    }
   ],
   "source": [
    "# create a tensor\n",
    "\n",
    "some_tensor = torch.rand(3, 4)\n",
    "\n",
    "some_tensor"
   ]
  },
  {
   "cell_type": "code",
   "execution_count": 110,
   "id": "0899ee24",
   "metadata": {},
   "outputs": [
    {
     "data": {
      "text/plain": [
       "(torch.float32, torch.Size([3, 4]), device(type='cpu'))"
      ]
     },
     "execution_count": 110,
     "metadata": {},
     "output_type": "execute_result"
    }
   ],
   "source": [
    "# find out details about some tensor\n",
    "\n",
    "some_tensor.dtype, some_tensor.shape, some_tensor.device"
   ]
  },
  {
   "cell_type": "markdown",
   "id": "fc7b22d6",
   "metadata": {},
   "source": [
    "### manipulating tensors (tensor operatioins)\n",
    "\n",
    "#### Tensor Operation include:\n",
    "\n",
    "1.Addition\n",
    "2.Subtraction\n",
    "3.Multiplication (element-wise)\n",
    "4.Division\n",
    "5.Matrix Multiplication\n"
   ]
  },
  {
   "cell_type": "code",
   "execution_count": 111,
   "id": "e54caf07",
   "metadata": {},
   "outputs": [
    {
     "data": {
      "text/plain": [
       "tensor([12, 14, 16])"
      ]
     },
     "execution_count": 111,
     "metadata": {},
     "output_type": "execute_result"
    }
   ],
   "source": [
    "# create a tensor and add 10 to it\n",
    "\n",
    "tensor = torch.tensor([2, 4 , 6])\n",
    "\n",
    "tensor + 10"
   ]
  },
  {
   "cell_type": "code",
   "execution_count": 112,
   "id": "2103b280",
   "metadata": {},
   "outputs": [
    {
     "data": {
      "text/plain": [
       "tensor([-8, -6, -4])"
      ]
     },
     "execution_count": 112,
     "metadata": {},
     "output_type": "execute_result"
    }
   ],
   "source": [
    "# create a tensor and sub 10 to it\n",
    "\n",
    "tensor = torch.tensor([2, 4 , 6])\n",
    "\n",
    "tensor - 10"
   ]
  },
  {
   "cell_type": "code",
   "execution_count": 113,
   "id": "55085a3b",
   "metadata": {},
   "outputs": [
    {
     "data": {
      "text/plain": [
       "tensor([20, 40, 60])"
      ]
     },
     "execution_count": 113,
     "metadata": {},
     "output_type": "execute_result"
    }
   ],
   "source": [
    "# create a tensor and mult 10 to it\n",
    "\n",
    "tensor = torch.tensor([2, 4 , 6])\n",
    "\n",
    "tensor * 10"
   ]
  },
  {
   "cell_type": "code",
   "execution_count": 114,
   "id": "f7da3b55",
   "metadata": {},
   "outputs": [
    {
     "data": {
      "text/plain": [
       "tensor(56)"
      ]
     },
     "execution_count": 114,
     "metadata": {},
     "output_type": "execute_result"
    }
   ],
   "source": [
    "torch.matmul(tensor , tensor)"
   ]
  },
  {
   "cell_type": "code",
   "execution_count": 115,
   "id": "8ffa5ae1",
   "metadata": {},
   "outputs": [
    {
     "name": "stdout",
     "output_type": "stream",
     "text": [
      "tensor(56)\n",
      "CPU times: total: 0 ns\n",
      "Wall time: 2 ms\n"
     ]
    }
   ],
   "source": [
    "%%time\n",
    "value = 0\n",
    "for i in range(len(tensor)):\n",
    "    value += tensor[i] * tensor[i]\n",
    "print(value)"
   ]
  },
  {
   "cell_type": "code",
   "execution_count": 116,
   "id": "53b9b8a0",
   "metadata": {},
   "outputs": [
    {
     "name": "stdout",
     "output_type": "stream",
     "text": [
      "CPU times: total: 0 ns\n",
      "Wall time: 0 ns\n"
     ]
    },
    {
     "data": {
      "text/plain": [
       "tensor(56)"
      ]
     },
     "execution_count": 116,
     "metadata": {},
     "output_type": "execute_result"
    }
   ],
   "source": [
    "%%time\n",
    "torch.matmul(tensor, tensor)"
   ]
  },
  {
   "cell_type": "markdown",
   "id": "776e4939",
   "metadata": {},
   "source": [
    "### There are two main rules that performing matrix multiplication needs to satisfy:\n",
    "\n",
    "1.the **inner dimensions** must match\n",
    "2.The resulting matrix has the shape of the **outer dimensions**\n"
   ]
  },
  {
   "cell_type": "code",
   "execution_count": 117,
   "id": "06c19bd5",
   "metadata": {},
   "outputs": [
    {
     "ename": "RuntimeError",
     "evalue": "mat1 and mat2 shapes cannot be multiplied (3x2 and 3x2)",
     "output_type": "error",
     "traceback": [
      "\u001b[31m---------------------------------------------------------------------------\u001b[39m",
      "\u001b[31mRuntimeError\u001b[39m                              Traceback (most recent call last)",
      "\u001b[36mCell\u001b[39m\u001b[36m \u001b[39m\u001b[32mIn[117]\u001b[39m\u001b[32m, line 13\u001b[39m\n\u001b[32m      5\u001b[39m tensor_a = torch.tensor([[\u001b[32m1\u001b[39m, \u001b[32m2\u001b[39m],\n\u001b[32m      6\u001b[39m                          [\u001b[32m3\u001b[39m, \u001b[32m4\u001b[39m],\n\u001b[32m      7\u001b[39m                          [\u001b[32m5\u001b[39m, \u001b[32m6\u001b[39m]])\n\u001b[32m      9\u001b[39m tensor_b = torch.tensor([[\u001b[32m7\u001b[39m, \u001b[32m8\u001b[39m],\n\u001b[32m     10\u001b[39m                          [\u001b[32m9\u001b[39m, \u001b[32m10\u001b[39m],\n\u001b[32m     11\u001b[39m                          [\u001b[32m11\u001b[39m, \u001b[32m12\u001b[39m]])\n\u001b[32m---> \u001b[39m\u001b[32m13\u001b[39m result = \u001b[43mtorch\u001b[49m\u001b[43m.\u001b[49m\u001b[43mmm\u001b[49m\u001b[43m(\u001b[49m\u001b[43mtensor_a\u001b[49m\u001b[43m,\u001b[49m\u001b[43m \u001b[49m\u001b[43mtensor_b\u001b[49m\u001b[43m)\u001b[49m  \u001b[38;5;66;03m# tensor_b.T is shape (2,3)\u001b[39;00m\n\u001b[32m     16\u001b[39m torch.mm(tensor_a, tensor_b)    \u001b[38;5;66;03m# torch.mma is the same as torch.matmul (it's an alias for writing less code )\u001b[39;00m\n",
      "\u001b[31mRuntimeError\u001b[39m: mat1 and mat2 shapes cannot be multiplied (3x2 and 3x2)"
     ]
    }
   ],
   "source": [
    "# one of the most common erros in deep learning is : shape errors\n",
    "\n",
    "# shapes for matrix multiplication\n",
    "\n",
    "tensor_a = torch.tensor([[1, 2],\n",
    "                         [3, 4],\n",
    "                         [5, 6]])\n",
    "\n",
    "tensor_b = torch.tensor([[7, 8],\n",
    "                         [9, 10],\n",
    "                         [11, 12]])\n",
    "\n",
    "result = torch.mm(tensor_a, tensor_b)  # tensor_b.T is shape (2,3)\n",
    "\n",
    "\n",
    "torch.mm(tensor_a, tensor_b)    # torch.mma is the same as torch.matmul (it's an alias for writing less code )"
   ]
  },
  {
   "cell_type": "markdown",
   "id": "bb25ff0d",
   "metadata": {},
   "source": [
    "### to fix our tensor shape issues, we can manipulate the shape ofone of our tensors using a **transpose**\n",
    "\n",
    "### **transpose** switches the axes or dimensions of a given tensor\n"
   ]
  },
  {
   "cell_type": "code",
   "execution_count": 118,
   "id": "b547e669",
   "metadata": {},
   "outputs": [
    {
     "data": {
      "text/plain": [
       "(tensor([[ 7,  9, 11],\n",
       "         [ 8, 10, 12]]),\n",
       " torch.Size([3, 2]))"
      ]
     },
     "execution_count": 118,
     "metadata": {},
     "output_type": "execute_result"
    }
   ],
   "source": [
    "tensor_b.T, tensor_b.shape"
   ]
  },
  {
   "cell_type": "code",
   "execution_count": 119,
   "id": "573493d8",
   "metadata": {},
   "outputs": [
    {
     "data": {
      "text/plain": [
       "torch.Size([3, 3])"
      ]
     },
     "execution_count": 119,
     "metadata": {},
     "output_type": "execute_result"
    }
   ],
   "source": [
    "torch.matmul(tensor_a, tensor_b.T).shape"
   ]
  },
  {
   "cell_type": "code",
   "execution_count": 120,
   "id": "75ba01ca",
   "metadata": {},
   "outputs": [
    {
     "data": {
      "text/plain": [
       "tensor([[ 23,  29,  35],\n",
       "        [ 53,  67,  81],\n",
       "        [ 83, 105, 127]])"
      ]
     },
     "execution_count": 120,
     "metadata": {},
     "output_type": "execute_result"
    }
   ],
   "source": [
    "tensor_a @ tensor_b.T"
   ]
  },
  {
   "cell_type": "markdown",
   "id": "7457dc2d",
   "metadata": {},
   "source": [
    "### Finding the min, max, mean, sum etc (tensor aggregation)\n"
   ]
  },
  {
   "cell_type": "code",
   "execution_count": 121,
   "id": "a305a21e",
   "metadata": {},
   "outputs": [
    {
     "data": {
      "text/plain": [
       "tensor([ 0, 10, 20, 30, 40, 50, 60, 70, 80, 90])"
      ]
     },
     "execution_count": 121,
     "metadata": {},
     "output_type": "execute_result"
    }
   ],
   "source": [
    "## create a tensor\n",
    "\n",
    "x = torch.arange(0, 100, 10)\n",
    "x"
   ]
  },
  {
   "cell_type": "code",
   "execution_count": 122,
   "id": "d5123cd8",
   "metadata": {},
   "outputs": [
    {
     "data": {
      "text/plain": [
       "torch.int64"
      ]
     },
     "execution_count": 122,
     "metadata": {},
     "output_type": "execute_result"
    }
   ],
   "source": [
    "x.dtype"
   ]
  },
  {
   "cell_type": "code",
   "execution_count": 123,
   "id": "7999fe12",
   "metadata": {},
   "outputs": [
    {
     "data": {
      "text/plain": [
       "(tensor(0), tensor(90))"
      ]
     },
     "execution_count": 123,
     "metadata": {},
     "output_type": "execute_result"
    }
   ],
   "source": [
    "torch.min(x), torch.max(x)"
   ]
  },
  {
   "cell_type": "code",
   "execution_count": 124,
   "id": "9a1c6c67",
   "metadata": {},
   "outputs": [
    {
     "data": {
      "text/plain": [
       "tensor(45.)"
      ]
     },
     "execution_count": 124,
     "metadata": {},
     "output_type": "execute_result"
    }
   ],
   "source": [
    "# finding mean - note: the torch.mean() function requires a tensor of float32 datatype to work\n",
    "\n",
    "torch.mean(x.type(torch.float32))"
   ]
  },
  {
   "cell_type": "code",
   "execution_count": 125,
   "id": "d906350f",
   "metadata": {},
   "outputs": [
    {
     "data": {
      "text/plain": [
       "tensor(45.)"
      ]
     },
     "execution_count": 125,
     "metadata": {},
     "output_type": "execute_result"
    }
   ],
   "source": [
    "x.type(torch.float32).mean()"
   ]
  },
  {
   "cell_type": "code",
   "execution_count": 126,
   "id": "c238e76f",
   "metadata": {},
   "outputs": [
    {
     "data": {
      "text/plain": [
       "tensor(450)"
      ]
     },
     "execution_count": 126,
     "metadata": {},
     "output_type": "execute_result"
    }
   ],
   "source": [
    "# finding sum\n",
    "\n",
    "torch.sum(x)"
   ]
  },
  {
   "cell_type": "code",
   "execution_count": 127,
   "id": "912d3f7d",
   "metadata": {},
   "outputs": [
    {
     "data": {
      "text/plain": [
       "tensor(450)"
      ]
     },
     "execution_count": 127,
     "metadata": {},
     "output_type": "execute_result"
    }
   ],
   "source": [
    "x.sum()"
   ]
  },
  {
   "cell_type": "markdown",
   "id": "5b48cf6e",
   "metadata": {},
   "source": [
    "### finding the positional min and max\n"
   ]
  },
  {
   "cell_type": "code",
   "execution_count": 128,
   "id": "3849d0dd",
   "metadata": {},
   "outputs": [
    {
     "data": {
      "text/plain": [
       "tensor([ 0, 10, 20, 30, 40, 50, 60, 70, 80, 90])"
      ]
     },
     "execution_count": 128,
     "metadata": {},
     "output_type": "execute_result"
    }
   ],
   "source": [
    "x"
   ]
  },
  {
   "cell_type": "code",
   "execution_count": 129,
   "id": "ed4c0980",
   "metadata": {},
   "outputs": [
    {
     "data": {
      "text/plain": [
       "(tensor(0), tensor(9))"
      ]
     },
     "execution_count": 129,
     "metadata": {},
     "output_type": "execute_result"
    }
   ],
   "source": [
    "# find the position in tensor that has the minimum value with argmin(), maximum value with argmax() --> return the index of the value\n",
    "x.argmin(), x.argmax()"
   ]
  },
  {
   "cell_type": "code",
   "execution_count": 130,
   "id": "f9998758",
   "metadata": {},
   "outputs": [
    {
     "data": {
      "text/plain": [
       "(tensor(0), tensor(90))"
      ]
     },
     "execution_count": 130,
     "metadata": {},
     "output_type": "execute_result"
    }
   ],
   "source": [
    "x[x.argmin()], x[x.argmax()]"
   ]
  },
  {
   "cell_type": "markdown",
   "id": "09e3d694",
   "metadata": {},
   "source": [
    "### Reshaping, stacking, squeezing and unsqueezing tensors\n",
    "\n",
    "- Reshaping - reshape an input tensor to a defined shape\n",
    "- View - return a vievw of an input tensor of cerain shape but keep the same memory as the original tensor\n",
    "- Stacking - coombine multiple tensors on top of each other (vstack) or side by side (hstack)\n",
    "- Squeeze - removes all `1` dimensions from a tensor\n",
    "- Unsqueeze - add a `1` dimension to a targe tensor\n",
    "- Permute - Return a view of the iput with dimensions permuted (swapped) in a certain way\n"
   ]
  },
  {
   "cell_type": "code",
   "execution_count": 131,
   "id": "eb61e87f",
   "metadata": {},
   "outputs": [
    {
     "data": {
      "text/plain": [
       "(tensor([1., 2., 3., 4., 5., 6., 7., 8., 9.]), torch.Size([9]))"
      ]
     },
     "execution_count": 131,
     "metadata": {},
     "output_type": "execute_result"
    }
   ],
   "source": [
    "x = torch.arange(1., 10.)\n",
    "x, x.shape"
   ]
  },
  {
   "cell_type": "code",
   "execution_count": 132,
   "id": "8b54bf8c",
   "metadata": {},
   "outputs": [
    {
     "data": {
      "text/plain": [
       "(tensor([[1.],\n",
       "         [2.],\n",
       "         [3.],\n",
       "         [4.],\n",
       "         [5.],\n",
       "         [6.],\n",
       "         [7.],\n",
       "         [8.],\n",
       "         [9.]]),\n",
       " torch.Size([9, 1]))"
      ]
     },
     "execution_count": 132,
     "metadata": {},
     "output_type": "execute_result"
    }
   ],
   "source": [
    "# add an extra dimension\n",
    "\n",
    "x_reshape = x.reshape(9, 1)\n",
    "x_reshape, x_reshape.shape, "
   ]
  },
  {
   "cell_type": "code",
   "execution_count": 133,
   "id": "823f8dd8",
   "metadata": {},
   "outputs": [
    {
     "data": {
      "text/plain": [
       "(tensor([[1.],\n",
       "         [2.],\n",
       "         [3.],\n",
       "         [4.],\n",
       "         [5.],\n",
       "         [6.],\n",
       "         [7.],\n",
       "         [8.],\n",
       "         [9.]]),\n",
       " tensor([1., 2., 3., 4., 5., 6., 7., 8., 9.]))"
      ]
     },
     "execution_count": 133,
     "metadata": {},
     "output_type": "execute_result"
    }
   ],
   "source": [
    "# change the view\n",
    "\n",
    "\n",
    "z = x.view(9, 1)\n",
    "z, x"
   ]
  },
  {
   "cell_type": "code",
   "execution_count": 134,
   "id": "7cb34327",
   "metadata": {},
   "outputs": [
    {
     "data": {
      "text/plain": [
       "tensor([[1., 1., 1., 1.],\n",
       "        [2., 2., 2., 2.],\n",
       "        [3., 3., 3., 3.],\n",
       "        [4., 4., 4., 4.],\n",
       "        [5., 5., 5., 5.],\n",
       "        [6., 6., 6., 6.],\n",
       "        [7., 7., 7., 7.],\n",
       "        [8., 8., 8., 8.],\n",
       "        [9., 9., 9., 9.]])"
      ]
     },
     "execution_count": 134,
     "metadata": {},
     "output_type": "execute_result"
    }
   ],
   "source": [
    "# stack tensor on top of each other\n",
    "\n",
    "x_stack = torch.stack([x, x, x, x], dim=1)\n",
    "\n",
    "x_stack"
   ]
  },
  {
   "cell_type": "code",
   "execution_count": 135,
   "id": "c2d32576",
   "metadata": {},
   "outputs": [
    {
     "data": {
      "text/plain": [
       "tensor([[1.],\n",
       "        [2.],\n",
       "        [3.],\n",
       "        [4.],\n",
       "        [5.],\n",
       "        [6.],\n",
       "        [7.],\n",
       "        [8.],\n",
       "        [9.]])"
      ]
     },
     "execution_count": 135,
     "metadata": {},
     "output_type": "execute_result"
    }
   ],
   "source": [
    "## squeeze\n",
    "\n",
    "#torch.squeeze() - removes all single dimensions from a targe tensor\n",
    "x_reshape"
   ]
  },
  {
   "cell_type": "code",
   "execution_count": 136,
   "id": "b41badb3",
   "metadata": {},
   "outputs": [
    {
     "data": {
      "text/plain": [
       "torch.Size([1, 9])"
      ]
     },
     "execution_count": 136,
     "metadata": {},
     "output_type": "execute_result"
    }
   ],
   "source": [
    "torch.Size([1, 9])"
   ]
  },
  {
   "cell_type": "code",
   "execution_count": 137,
   "id": "3a416b7e",
   "metadata": {},
   "outputs": [
    {
     "data": {
      "text/plain": [
       "(tensor([1., 2., 3., 4., 5., 6., 7., 8., 9.]),)"
      ]
     },
     "execution_count": 137,
     "metadata": {},
     "output_type": "execute_result"
    }
   ],
   "source": [
    "x_reshape.squeeze(),"
   ]
  },
  {
   "cell_type": "code",
   "execution_count": 138,
   "id": "9a6bdc7d",
   "metadata": {},
   "outputs": [
    {
     "data": {
      "text/plain": [
       "torch.Size([9])"
      ]
     },
     "execution_count": 138,
     "metadata": {},
     "output_type": "execute_result"
    }
   ],
   "source": [
    "x_reshape.squeeze().shape"
   ]
  },
  {
   "cell_type": "code",
   "execution_count": 139,
   "id": "e5017f8f",
   "metadata": {},
   "outputs": [
    {
     "data": {
      "text/plain": [
       "tensor([1., 2., 3., 4., 5., 6., 7., 8., 9.])"
      ]
     },
     "execution_count": 139,
     "metadata": {},
     "output_type": "execute_result"
    }
   ],
   "source": [
    "x_squeeze = x_reshape.squeeze()\n",
    "x_squeeze"
   ]
  },
  {
   "cell_type": "code",
   "execution_count": 141,
   "id": "7cadfac7",
   "metadata": {},
   "outputs": [
    {
     "data": {
      "text/plain": [
       "(tensor([1., 2., 3., 4., 5., 6., 7., 8., 9.]), torch.Size([9]))"
      ]
     },
     "execution_count": 141,
     "metadata": {},
     "output_type": "execute_result"
    }
   ],
   "source": [
    "# torch.squeeze() - adds a single dimension to a target tensor at a specific dim (dimension)\n",
    "\n",
    "x_squeeze, x_squeeze.shape"
   ]
  },
  {
   "cell_type": "code",
   "execution_count": 144,
   "id": "e9ff7fe6",
   "metadata": {},
   "outputs": [
    {
     "data": {
      "text/plain": [
       "(tensor([[1.],\n",
       "         [2.],\n",
       "         [3.],\n",
       "         [4.],\n",
       "         [5.],\n",
       "         [6.],\n",
       "         [7.],\n",
       "         [8.],\n",
       "         [9.]]),\n",
       " torch.Size([9, 1]))"
      ]
     },
     "execution_count": 144,
     "metadata": {},
     "output_type": "execute_result"
    }
   ],
   "source": [
    "# add an extra dimension with unsqueeze\n",
    "\n",
    "x_unsqueeze = x_squeeze.unsqueeze(dim=1)\n",
    "x_unsqueeze, x_unsqueeze.shape"
   ]
  },
  {
   "cell_type": "code",
   "execution_count": 145,
   "id": "dbd432e8",
   "metadata": {},
   "outputs": [
    {
     "data": {
      "text/plain": [
       "(torch.Size([224, 224, 3]), torch.Size([3, 224, 224]))"
      ]
     },
     "execution_count": 145,
     "metadata": {},
     "output_type": "execute_result"
    }
   ],
   "source": [
    "# torch.permute - rearragne the dimnsions of a targe t tensor in a specified order\n",
    "\n",
    "x_original = torch.rand(size=(224, 224, 3)) # [height, width, color_channels]\n",
    "\n",
    "# permute the original tensor to rearrange the axis (or dim) order\n",
    "x_permute = x_original.permute(2, 0, 1) # shifts axis 0 -> 1, 1 -> 2, 2 -> 0\n",
    "\n",
    "x_original.shape, x_permute.shape"
   ]
  },
  {
   "cell_type": "code",
   "execution_count": 149,
   "id": "f7362778",
   "metadata": {},
   "outputs": [
    {
     "data": {
      "text/plain": [
       "tensor(0.6867)"
      ]
     },
     "execution_count": 149,
     "metadata": {},
     "output_type": "execute_result"
    }
   ],
   "source": [
    "x_original[0, 0, 0]"
   ]
  },
  {
   "cell_type": "markdown",
   "id": "7d9c232e",
   "metadata": {},
   "source": [
    "# Indexing (selecting data from tensors)\n",
    "\n",
    "- indexing with PyTorch is similar to indexing with NumPy\n"
   ]
  },
  {
   "cell_type": "code",
   "execution_count": 151,
   "id": "1a46eadd",
   "metadata": {},
   "outputs": [
    {
     "data": {
      "text/plain": [
       "(tensor([[[1, 2, 3],\n",
       "          [4, 5, 6],\n",
       "          [7, 8, 9]]]),\n",
       " torch.Size([1, 3, 3]))"
      ]
     },
     "execution_count": 151,
     "metadata": {},
     "output_type": "execute_result"
    }
   ],
   "source": [
    "x = torch.arange(1, 10).reshape(1, 3, 3)\n",
    "x, x.shape"
   ]
  },
  {
   "cell_type": "code",
   "execution_count": 152,
   "id": "eae45d2b",
   "metadata": {},
   "outputs": [
    {
     "data": {
      "text/plain": [
       "tensor([[1, 2, 3],\n",
       "        [4, 5, 6],\n",
       "        [7, 8, 9]])"
      ]
     },
     "execution_count": 152,
     "metadata": {},
     "output_type": "execute_result"
    }
   ],
   "source": [
    "x[0]"
   ]
  },
  {
   "cell_type": "code",
   "execution_count": 154,
   "id": "727c5ae7",
   "metadata": {},
   "outputs": [
    {
     "data": {
      "text/plain": [
       "(tensor([1, 2, 3]), tensor(1))"
      ]
     },
     "execution_count": 154,
     "metadata": {},
     "output_type": "execute_result"
    }
   ],
   "source": [
    "# let's index on the middle bracket (dim=1)\n",
    "\n",
    "x[0][0], x [0][0][0]"
   ]
  },
  {
   "cell_type": "code",
   "execution_count": 155,
   "id": "c44ac34d",
   "metadata": {},
   "outputs": [
    {
     "data": {
      "text/plain": [
       "tensor([[1, 2, 3]])"
      ]
     },
     "execution_count": 155,
     "metadata": {},
     "output_type": "execute_result"
    }
   ],
   "source": [
    "# you can also use \":\" to select \"all\" of a target dimension\n",
    "\n",
    "x[:, 0]"
   ]
  },
  {
   "cell_type": "code",
   "execution_count": 157,
   "id": "48fd8d86",
   "metadata": {},
   "outputs": [
    {
     "data": {
      "text/plain": [
       "tensor([[2, 5, 8]])"
      ]
     },
     "execution_count": 157,
     "metadata": {},
     "output_type": "execute_result"
    }
   ],
   "source": [
    "x[:, :, 1]"
   ]
  },
  {
   "cell_type": "code",
   "execution_count": 158,
   "id": "2983af22",
   "metadata": {},
   "outputs": [
    {
     "data": {
      "text/plain": [
       "tensor([5])"
      ]
     },
     "execution_count": 158,
     "metadata": {},
     "output_type": "execute_result"
    }
   ],
   "source": [
    "# get all values of the - dimension but only the 1 index value of 1st and 2nd dimension\n",
    "\n",
    "x[:, 1, 1]"
   ]
  },
  {
   "cell_type": "code",
   "execution_count": 159,
   "id": "e6e4852a",
   "metadata": {},
   "outputs": [
    {
     "data": {
      "text/plain": [
       "tensor(2)"
      ]
     },
     "execution_count": 159,
     "metadata": {},
     "output_type": "execute_result"
    }
   ],
   "source": [
    "# get index 0 of 0th and 1st dimension and all values of 2nd dimension\n",
    "\n",
    "x[0, 0, 1]"
   ]
  },
  {
   "cell_type": "markdown",
   "id": "7e05833a",
   "metadata": {},
   "source": [
    "## PyTorch tensor & Numpy\n",
    "\n",
    "- NumPy is a popula scientific Python numerical computing library.\n",
    "- And because of this, PyTorch has functionality to interact with it.\n",
    "\n",
    "- Data in NumPy, want in PyTorch tensor -> `torch.form_numpy(ndarray)`\n",
    "- PyTorch tensor -> NumPy -> `torch.Tensor.numpy()`\n"
   ]
  },
  {
   "cell_type": "code",
   "execution_count": 160,
   "id": "bc954fa7",
   "metadata": {},
   "outputs": [],
   "source": [
    "import numpy as np\n",
    "import torch"
   ]
  },
  {
   "cell_type": "code",
   "execution_count": 161,
   "id": "a8f4bc52",
   "metadata": {},
   "outputs": [
    {
     "data": {
      "text/plain": [
       "(array([1., 2., 3., 4., 5., 6., 7.]),\n",
       " tensor([1., 2., 3., 4., 5., 6., 7.], dtype=torch.float64))"
      ]
     },
     "execution_count": 161,
     "metadata": {},
     "output_type": "execute_result"
    }
   ],
   "source": [
    "arraay = np.arange(1.0, 8.0)\n",
    "\n",
    "tensor = torch.from_numpy(arraay)\n",
    "\n",
    "arraay, tensor"
   ]
  },
  {
   "cell_type": "code",
   "execution_count": 162,
   "id": "dfa4fa3d",
   "metadata": {},
   "outputs": [
    {
     "data": {
      "text/plain": [
       "(array([2., 3., 4., 5., 6., 7., 8.]),\n",
       " tensor([2., 3., 4., 5., 6., 7., 8.], dtype=torch.float64))"
      ]
     },
     "execution_count": 162,
     "metadata": {},
     "output_type": "execute_result"
    }
   ],
   "source": [
    "# change the value of array, what will this do to 'tensor'?\n",
    "\n",
    "arraay += 1\n",
    "arraay, tensor"
   ]
  },
  {
   "cell_type": "code",
   "execution_count": 163,
   "id": "d225cf0b",
   "metadata": {},
   "outputs": [
    {
     "data": {
      "text/plain": [
       "(tensor([1., 1., 1., 1., 1., 1., 1.]),\n",
       " array([1., 1., 1., 1., 1., 1., 1.], dtype=float32))"
      ]
     },
     "execution_count": 163,
     "metadata": {},
     "output_type": "execute_result"
    }
   ],
   "source": [
    "# Tensor to Numpy array\n",
    "\n",
    "tensor = torch.ones(7)\n",
    "numpy_tensor = tensor.numpy()\n",
    "tensor, numpy_tensor"
   ]
  },
  {
   "cell_type": "code",
   "execution_count": 164,
   "id": "d51a13e3",
   "metadata": {},
   "outputs": [
    {
     "data": {
      "text/plain": [
       "(tensor([2., 2., 2., 2., 2., 2., 2.]),\n",
       " array([2., 2., 2., 2., 2., 2., 2.], dtype=float32))"
      ]
     },
     "execution_count": 164,
     "metadata": {},
     "output_type": "execute_result"
    }
   ],
   "source": [
    "# change the tensor \n",
    "\n",
    "tensor += 1\n",
    "tensor, numpy_tensor"
   ]
  },
  {
   "cell_type": "markdown",
   "id": "faf45823",
   "metadata": {},
   "source": [
    "## Reproducbility (trying to take random out of random)\n",
    "\n",
    "In short how a neural network learns:\n",
    "\n",
    "`start with random numbers -> tensor operations -> update random numbers to try and make them of better representations of the data -> again -> again -> ...`\n",
    "\n",
    "To reduce the randomness in neural networks and PyTorch comes the concept of a **random seed**\n",
    "Essentially what the ranodm seed does is 'flavour' the randomness\n"
   ]
  },
  {
   "cell_type": "code",
   "execution_count": 165,
   "id": "6b8703e0",
   "metadata": {},
   "outputs": [
    {
     "data": {
      "text/plain": [
       "(tensor([[0.0132, 0.2939, 0.5501, 0.6287],\n",
       "         [0.6040, 0.5594, 0.5976, 0.1551],\n",
       "         [0.5990, 0.7015, 0.1056, 0.4349]]),\n",
       " tensor([[0.4025, 0.8008, 0.1323, 0.0692],\n",
       "         [0.8076, 0.7037, 0.1352, 0.4317],\n",
       "         [0.3973, 0.1513, 0.4465, 0.8700]]))"
      ]
     },
     "execution_count": 165,
     "metadata": {},
     "output_type": "execute_result"
    }
   ],
   "source": [
    "random_tensor_a = torch.rand(3, 4)\n",
    "random_tensor_b = torch.rand(3, 4)\n",
    "\n",
    "random_tensor_a, random_tensor_b"
   ]
  }
 ],
 "metadata": {
  "kernelspec": {
   "display_name": ".venv",
   "language": "python",
   "name": "python3"
  },
  "language_info": {
   "codemirror_mode": {
    "name": "ipython",
    "version": 3
   },
   "file_extension": ".py",
   "mimetype": "text/x-python",
   "name": "python",
   "nbconvert_exporter": "python",
   "pygments_lexer": "ipython3",
   "version": "3.12.5"
  }
 },
 "nbformat": 4,
 "nbformat_minor": 5
}
