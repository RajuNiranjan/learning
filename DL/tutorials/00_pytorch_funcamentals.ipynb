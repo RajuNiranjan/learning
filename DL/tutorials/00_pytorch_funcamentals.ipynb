{
 "cells": [
  {
   "cell_type": "code",
   "execution_count": 212,
   "id": "42f4c998",
   "metadata": {},
   "outputs": [],
   "source": [
    "import pandas as pd\n",
    "import torch\n",
    "import numpy as np\n",
    "import matplotlib.pyplot as plt\n",
    "import seaborn as sns"
   ]
  },
  {
   "cell_type": "code",
   "execution_count": 213,
   "id": "27b5486b",
   "metadata": {},
   "outputs": [
    {
     "data": {
      "text/plain": [
       "'2.8.0+cpu'"
      ]
     },
     "execution_count": 213,
     "metadata": {},
     "output_type": "execute_result"
    }
   ],
   "source": [
    "torch.__version__"
   ]
  },
  {
   "cell_type": "markdown",
   "id": "193629ff",
   "metadata": {},
   "source": [
    "### Introduction to Tensors\n",
    "\n",
    "creating a tensors\n"
   ]
  },
  {
   "cell_type": "code",
   "execution_count": 214,
   "id": "d9682863",
   "metadata": {},
   "outputs": [
    {
     "data": {
      "text/plain": [
       "(tensor(8), 0)"
      ]
     },
     "execution_count": 214,
     "metadata": {},
     "output_type": "execute_result"
    }
   ],
   "source": [
    "# scalar \n",
    "\n",
    "scalar = torch.tensor(8)\n",
    "\n",
    "scalar, scalar.ndim"
   ]
  },
  {
   "cell_type": "code",
   "execution_count": 215,
   "id": "254020e9",
   "metadata": {},
   "outputs": [
    {
     "data": {
      "text/plain": [
       "8"
      ]
     },
     "execution_count": 215,
     "metadata": {},
     "output_type": "execute_result"
    }
   ],
   "source": [
    "scalar.item()"
   ]
  },
  {
   "cell_type": "markdown",
   "id": "e3599114",
   "metadata": {},
   "source": [
    "Vector\n"
   ]
  },
  {
   "cell_type": "code",
   "execution_count": 216,
   "id": "cd45fdb7",
   "metadata": {},
   "outputs": [
    {
     "data": {
      "text/plain": [
       "(tensor([3, 3]), 1)"
      ]
     },
     "execution_count": 216,
     "metadata": {},
     "output_type": "execute_result"
    }
   ],
   "source": [
    "# vector\n",
    "\n",
    "vector = torch.tensor([3, 3])\n",
    "\n",
    "vector, vector.ndim"
   ]
  },
  {
   "cell_type": "markdown",
   "id": "e56403b5",
   "metadata": {},
   "source": [
    "Matrix\n"
   ]
  },
  {
   "cell_type": "code",
   "execution_count": 217,
   "id": "c80c8ce5",
   "metadata": {},
   "outputs": [
    {
     "data": {
      "text/plain": [
       "(tensor([[2, 3],\n",
       "         [5, 6]]),\n",
       " torch.Size([2, 2]),\n",
       " tensor([5, 6]))"
      ]
     },
     "execution_count": 217,
     "metadata": {},
     "output_type": "execute_result"
    }
   ],
   "source": [
    "matrix = torch.tensor([[2, 3], [5, 6]])\n",
    "\n",
    "matrix, matrix.shape, matrix[1]"
   ]
  },
  {
   "cell_type": "markdown",
   "id": "45ddd3d0",
   "metadata": {},
   "source": [
    "Tensor\n"
   ]
  },
  {
   "cell_type": "code",
   "execution_count": 218,
   "id": "9d002a4a",
   "metadata": {},
   "outputs": [
    {
     "data": {
      "text/plain": [
       "(tensor([[[1, 2],\n",
       "          [3, 4],\n",
       "          [5, 6]],\n",
       " \n",
       "         [[1, 2],\n",
       "          [3, 4],\n",
       "          [5, 6]],\n",
       " \n",
       "         [[1, 2],\n",
       "          [3, 4],\n",
       "          [5, 6]],\n",
       " \n",
       "         [[1, 2],\n",
       "          [3, 4],\n",
       "          [5, 6]]]),\n",
       " torch.Size([4, 3, 2]))"
      ]
     },
     "execution_count": 218,
     "metadata": {},
     "output_type": "execute_result"
    }
   ],
   "source": [
    "tensor = torch.tensor(\n",
    "    [\n",
    "        [\n",
    "            [1, 2], \n",
    "            [3, 4], \n",
    "            [5, 6]\n",
    "        ],\n",
    "        [\n",
    "            [1, 2], \n",
    "            [3, 4], \n",
    "            [5, 6]\n",
    "        ],\n",
    "        [\n",
    "            [1, 2], \n",
    "            [3, 4], \n",
    "            [5, 6]\n",
    "        ],\n",
    "        [\n",
    "            [1, 2], \n",
    "            [3, 4], \n",
    "            [5, 6]\n",
    "        ]\n",
    "    ]\n",
    ")\n",
    "\n",
    "tensor, tensor.shape"
   ]
  },
  {
   "cell_type": "markdown",
   "id": "0b56650d",
   "metadata": {},
   "source": [
    "Random Tensors\n"
   ]
  },
  {
   "cell_type": "code",
   "execution_count": 219,
   "id": "34f5183e",
   "metadata": {},
   "outputs": [
    {
     "data": {
      "text/plain": [
       "(tensor([[0.3029, 0.9623, 0.7736, 0.5457, 0.5726],\n",
       "         [0.9313, 0.4057, 0.5916, 0.0511, 0.0765],\n",
       "         [0.9313, 0.0735, 0.5207, 0.9768, 0.9563],\n",
       "         [0.8765, 0.4056, 0.1757, 0.4642, 0.6151]]),\n",
       " torch.Size([4, 5]))"
      ]
     },
     "execution_count": 219,
     "metadata": {},
     "output_type": "execute_result"
    }
   ],
   "source": [
    "### Random Tensors\n",
    "\n",
    "\n",
    "random_tensor = torch.rand(4, 5)\n",
    "\n",
    "random_tensor, random_tensor.shape"
   ]
  },
  {
   "cell_type": "code",
   "execution_count": 220,
   "id": "aa13606d",
   "metadata": {},
   "outputs": [
    {
     "data": {
      "text/plain": [
       "(tensor([[[0.6271, 0.1750, 0.4950, 0.6203],\n",
       "          [0.9776, 0.9366, 0.0899, 0.8034],\n",
       "          [0.4377, 0.6375, 0.8564, 0.0844],\n",
       "          ...,\n",
       "          [0.7858, 0.1064, 0.0545, 0.4066],\n",
       "          [0.5904, 0.4960, 0.6032, 0.8507],\n",
       "          [0.3366, 0.9263, 0.8837, 0.6901]],\n",
       " \n",
       "         [[0.2283, 0.1187, 0.1993, 0.1866],\n",
       "          [0.0096, 0.1536, 0.9869, 0.3137],\n",
       "          [0.7973, 0.7927, 0.6395, 0.1057],\n",
       "          ...,\n",
       "          [0.7516, 0.8101, 0.7031, 0.3271],\n",
       "          [0.1361, 0.4436, 0.9295, 0.2054],\n",
       "          [0.6244, 0.9106, 0.3196, 0.7607]],\n",
       " \n",
       "         [[0.9409, 0.8786, 0.7252, 0.3694],\n",
       "          [0.4572, 0.2763, 0.0329, 0.0304],\n",
       "          [0.9330, 0.9948, 0.5527, 0.9764],\n",
       "          ...,\n",
       "          [0.7754, 0.5448, 0.5318, 0.7895],\n",
       "          [0.2913, 0.9509, 0.8168, 0.9532],\n",
       "          [0.2675, 0.7700, 0.7068, 0.4918]],\n",
       " \n",
       "         ...,\n",
       " \n",
       "         [[0.0655, 0.1418, 0.8049, 0.0951],\n",
       "          [0.5734, 0.1256, 0.1265, 0.6544],\n",
       "          [0.0114, 0.7377, 0.4556, 0.2458],\n",
       "          ...,\n",
       "          [0.0929, 0.0705, 0.3161, 0.3570],\n",
       "          [0.2598, 0.7808, 0.8338, 0.4884],\n",
       "          [0.5068, 0.3762, 0.9662, 0.3238]],\n",
       " \n",
       "         [[0.8078, 0.2544, 0.1965, 0.4998],\n",
       "          [0.4043, 0.2524, 0.4097, 0.5322],\n",
       "          [0.5518, 0.9216, 0.1421, 0.2258],\n",
       "          ...,\n",
       "          [0.4921, 0.6062, 0.5484, 0.8320],\n",
       "          [0.6874, 0.1082, 0.0657, 0.4928],\n",
       "          [0.0172, 0.8317, 0.1308, 0.8478]],\n",
       " \n",
       "         [[0.4420, 0.8811, 0.4538, 0.2801],\n",
       "          [0.0632, 0.8108, 0.9475, 0.4481],\n",
       "          [0.6112, 0.2011, 0.8285, 0.7677],\n",
       "          ...,\n",
       "          [0.3392, 0.0642, 0.3252, 0.7778],\n",
       "          [0.8613, 0.4908, 0.2450, 0.0828],\n",
       "          [0.1775, 0.3895, 0.0750, 0.2896]]]),\n",
       " torch.Size([224, 224, 4]))"
      ]
     },
     "execution_count": 220,
     "metadata": {},
     "output_type": "execute_result"
    }
   ],
   "source": [
    "# create a random tensor with similar shap to an image tensor\n",
    "\n",
    "random_image_size_tensor = torch.rand(size=(224, 224, 4))   # height, width, color channel (R, B, G)\n",
    "\n",
    "random_image_size_tensor, random_image_size_tensor.shape"
   ]
  },
  {
   "cell_type": "code",
   "execution_count": 221,
   "id": "176eb3e8",
   "metadata": {},
   "outputs": [
    {
     "data": {
      "text/plain": [
       "tensor([[0.3332, 0.5033, 0.7355],\n",
       "        [0.1122, 0.5045, 0.1045],\n",
       "        [0.8825, 0.2994, 0.7732]])"
      ]
     },
     "execution_count": 221,
     "metadata": {},
     "output_type": "execute_result"
    }
   ],
   "source": [
    "torch.rand(3, 3)"
   ]
  },
  {
   "cell_type": "code",
   "execution_count": 222,
   "id": "ea926ae2",
   "metadata": {},
   "outputs": [
    {
     "data": {
      "text/plain": [
       "tensor([[0, 0, 0, 0, 0],\n",
       "        [0, 0, 0, 0, 0],\n",
       "        [0, 0, 0, 0, 0]])"
      ]
     },
     "execution_count": 222,
     "metadata": {},
     "output_type": "execute_result"
    }
   ],
   "source": [
    "zero_tensor = torch.zeros(3, 5, dtype=int)\n",
    "\n",
    "zero_tensor"
   ]
  },
  {
   "cell_type": "code",
   "execution_count": 223,
   "id": "597299e2",
   "metadata": {},
   "outputs": [
    {
     "data": {
      "text/plain": [
       "tensor([[1, 1, 1, 1, 1],\n",
       "        [1, 1, 1, 1, 1],\n",
       "        [1, 1, 1, 1, 1]])"
      ]
     },
     "execution_count": 223,
     "metadata": {},
     "output_type": "execute_result"
    }
   ],
   "source": [
    "ones_tensor = torch.ones(3, 5, dtype=int)\n",
    "\n",
    "ones_tensor"
   ]
  },
  {
   "cell_type": "code",
   "execution_count": 224,
   "id": "9f3df8d9",
   "metadata": {},
   "outputs": [
    {
     "data": {
      "text/plain": [
       "tensor([0, 1, 2, 3, 4, 5, 6, 7, 8, 9])"
      ]
     },
     "execution_count": 224,
     "metadata": {},
     "output_type": "execute_result"
    }
   ],
   "source": [
    "### creating a range of tensors and tensors like\n",
    "\n",
    "torch.arange(0, 10)"
   ]
  },
  {
   "cell_type": "code",
   "execution_count": 225,
   "id": "a4737958",
   "metadata": {},
   "outputs": [],
   "source": [
    "step = torch.arange(start=0, end=10, step=2)\n"
   ]
  },
  {
   "cell_type": "code",
   "execution_count": 226,
   "id": "3d4fe150",
   "metadata": {},
   "outputs": [
    {
     "data": {
      "text/plain": [
       "(tensor([0, 0, 0, 0, 0]), tensor([1, 1, 1, 1, 1]))"
      ]
     },
     "execution_count": 226,
     "metadata": {},
     "output_type": "execute_result"
    }
   ],
   "source": [
    "## creating tensors like\n",
    "\n",
    "torch.zeros_like(step), torch.ones_like(step)"
   ]
  },
  {
   "cell_type": "markdown",
   "id": "a817bc5d",
   "metadata": {},
   "source": [
    "### Tensor DataType\n",
    "\n",
    "**Note** Tensor datatypes is one of the 3 big errors you'will run into with PyTorch & deep learning:\n",
    "\n",
    "1. Tensors not right datatype\n",
    "2. Tensors not right shape\n",
    "3. Tensors are not on the right device\n"
   ]
  },
  {
   "cell_type": "code",
   "execution_count": 227,
   "id": "73030215",
   "metadata": {},
   "outputs": [
    {
     "data": {
      "text/plain": [
       "torch.float32"
      ]
     },
     "execution_count": 227,
     "metadata": {},
     "output_type": "execute_result"
    }
   ],
   "source": [
    "float_32_tensor = torch.tensor(\n",
    "    [3.0, 2.0], \n",
    "    dtype=None,     \n",
    "    device=None,    # what device is tensor on\n",
    "    requires_grad=False  # whether ot not to track gradients with this tensors operation\n",
    ")\n",
    "\n",
    "float_32_tensor.dtype"
   ]
  },
  {
   "cell_type": "code",
   "execution_count": 228,
   "id": "bc8a9f5f",
   "metadata": {},
   "outputs": [
    {
     "data": {
      "text/plain": [
       "torch.float16"
      ]
     },
     "execution_count": 228,
     "metadata": {},
     "output_type": "execute_result"
    }
   ],
   "source": [
    "float_16_tensor = float_32_tensor.type(torch.float16)\n",
    "\n",
    "float_16_tensor.dtype"
   ]
  },
  {
   "cell_type": "code",
   "execution_count": 229,
   "id": "6ee5a64a",
   "metadata": {},
   "outputs": [
    {
     "data": {
      "text/plain": [
       "tensor([9., 4.])"
      ]
     },
     "execution_count": 229,
     "metadata": {},
     "output_type": "execute_result"
    }
   ],
   "source": [
    "float_16_tensor * float_32_tensor"
   ]
  },
  {
   "cell_type": "code",
   "execution_count": 230,
   "id": "7390c9e3",
   "metadata": {},
   "outputs": [
    {
     "data": {
      "text/plain": [
       "tensor([3, 4])"
      ]
     },
     "execution_count": 230,
     "metadata": {},
     "output_type": "execute_result"
    }
   ],
   "source": [
    "int_32_tensor = torch.tensor([3, 4], dtype=torch.long)\n",
    "\n",
    "int_32_tensor"
   ]
  },
  {
   "cell_type": "code",
   "execution_count": 231,
   "id": "a2644f23",
   "metadata": {},
   "outputs": [
    {
     "data": {
      "text/plain": [
       "tensor([9., 8.])"
      ]
     },
     "execution_count": 231,
     "metadata": {},
     "output_type": "execute_result"
    }
   ],
   "source": [
    "float_32_tensor * int_32_tensor"
   ]
  },
  {
   "cell_type": "markdown",
   "id": "d3e776b4",
   "metadata": {},
   "source": [
    "### Getting information from tensors\n",
    "\n",
    "1. Tensors not right datatype - to do get datatype from a tensor, can use `tensor.dtype`\n",
    "2. Tensors not right shape - to get shape from atensor, can use `tensor.shape`\n",
    "3. Tensors are not on the right device - to get device from a tensor, can use `tensor.device`\n"
   ]
  },
  {
   "cell_type": "code",
   "execution_count": 232,
   "id": "11b6c9c7",
   "metadata": {},
   "outputs": [
    {
     "data": {
      "text/plain": [
       "tensor([[0.3043, 0.9975, 0.7791, 0.8173],\n",
       "        [0.8452, 0.5536, 0.6583, 0.2873],\n",
       "        [0.0890, 0.2635, 0.5218, 0.7711]])"
      ]
     },
     "execution_count": 232,
     "metadata": {},
     "output_type": "execute_result"
    }
   ],
   "source": [
    "# create a tensor\n",
    "\n",
    "some_tensor = torch.rand(3, 4)\n",
    "\n",
    "some_tensor"
   ]
  },
  {
   "cell_type": "code",
   "execution_count": 233,
   "id": "0899ee24",
   "metadata": {},
   "outputs": [
    {
     "data": {
      "text/plain": [
       "(torch.float32, torch.Size([3, 4]), device(type='cpu'))"
      ]
     },
     "execution_count": 233,
     "metadata": {},
     "output_type": "execute_result"
    }
   ],
   "source": [
    "# find out details about some tensor\n",
    "\n",
    "some_tensor.dtype, some_tensor.shape, some_tensor.device"
   ]
  },
  {
   "cell_type": "markdown",
   "id": "fc7b22d6",
   "metadata": {},
   "source": [
    "### manipulating tensors (tensor operatioins)\n",
    "\n",
    "#### Tensor Operation include:\n",
    "\n",
    "1.Addition\n",
    "2.Subtraction\n",
    "3.Multiplication (element-wise)\n",
    "4.Division\n",
    "5.Matrix Multiplication\n"
   ]
  },
  {
   "cell_type": "code",
   "execution_count": 234,
   "id": "e54caf07",
   "metadata": {},
   "outputs": [
    {
     "data": {
      "text/plain": [
       "tensor([12, 14, 16])"
      ]
     },
     "execution_count": 234,
     "metadata": {},
     "output_type": "execute_result"
    }
   ],
   "source": [
    "# create a tensor and add 10 to it\n",
    "\n",
    "tensor = torch.tensor([2, 4 , 6])\n",
    "\n",
    "tensor + 10"
   ]
  },
  {
   "cell_type": "code",
   "execution_count": 235,
   "id": "2103b280",
   "metadata": {},
   "outputs": [
    {
     "data": {
      "text/plain": [
       "tensor([-8, -6, -4])"
      ]
     },
     "execution_count": 235,
     "metadata": {},
     "output_type": "execute_result"
    }
   ],
   "source": [
    "# create a tensor and sub 10 to it\n",
    "\n",
    "tensor = torch.tensor([2, 4 , 6])\n",
    "\n",
    "tensor - 10"
   ]
  },
  {
   "cell_type": "code",
   "execution_count": 236,
   "id": "55085a3b",
   "metadata": {},
   "outputs": [
    {
     "data": {
      "text/plain": [
       "tensor([20, 40, 60])"
      ]
     },
     "execution_count": 236,
     "metadata": {},
     "output_type": "execute_result"
    }
   ],
   "source": [
    "# create a tensor and mult 10 to it\n",
    "\n",
    "tensor = torch.tensor([2, 4 , 6])\n",
    "\n",
    "tensor * 10"
   ]
  },
  {
   "cell_type": "code",
   "execution_count": 237,
   "id": "f7da3b55",
   "metadata": {},
   "outputs": [
    {
     "data": {
      "text/plain": [
       "tensor(56)"
      ]
     },
     "execution_count": 237,
     "metadata": {},
     "output_type": "execute_result"
    }
   ],
   "source": [
    "torch.matmul(tensor , tensor)"
   ]
  },
  {
   "cell_type": "code",
   "execution_count": 238,
   "id": "8ffa5ae1",
   "metadata": {},
   "outputs": [
    {
     "name": "stdout",
     "output_type": "stream",
     "text": [
      "tensor(56)\n",
      "CPU times: total: 0 ns\n",
      "Wall time: 1 ms\n"
     ]
    }
   ],
   "source": [
    "%%time\n",
    "value = 0\n",
    "for i in range(len(tensor)):\n",
    "    value += tensor[i] * tensor[i]\n",
    "print(value)"
   ]
  },
  {
   "cell_type": "code",
   "execution_count": 239,
   "id": "53b9b8a0",
   "metadata": {},
   "outputs": [
    {
     "name": "stdout",
     "output_type": "stream",
     "text": [
      "CPU times: total: 0 ns\n",
      "Wall time: 0 ns\n"
     ]
    },
    {
     "data": {
      "text/plain": [
       "tensor(56)"
      ]
     },
     "execution_count": 239,
     "metadata": {},
     "output_type": "execute_result"
    }
   ],
   "source": [
    "%%time\n",
    "torch.matmul(tensor, tensor)"
   ]
  },
  {
   "cell_type": "markdown",
   "id": "776e4939",
   "metadata": {},
   "source": [
    "### There are two main rules that performing matrix multiplication needs to satisfy:\n",
    "\n",
    "1.the **inner dimensions** must match\n",
    "2.The resulting matrix has the shape of the **outer dimensions**\n"
   ]
  },
  {
   "cell_type": "code",
   "execution_count": 240,
   "id": "06c19bd5",
   "metadata": {},
   "outputs": [
    {
     "ename": "RuntimeError",
     "evalue": "mat1 and mat2 shapes cannot be multiplied (3x2 and 3x2)",
     "output_type": "error",
     "traceback": [
      "\u001b[31m---------------------------------------------------------------------------\u001b[39m",
      "\u001b[31mRuntimeError\u001b[39m                              Traceback (most recent call last)",
      "\u001b[36mCell\u001b[39m\u001b[36m \u001b[39m\u001b[32mIn[240]\u001b[39m\u001b[32m, line 13\u001b[39m\n\u001b[32m      5\u001b[39m tensor_a = torch.tensor([[\u001b[32m1\u001b[39m, \u001b[32m2\u001b[39m],\n\u001b[32m      6\u001b[39m                          [\u001b[32m3\u001b[39m, \u001b[32m4\u001b[39m],\n\u001b[32m      7\u001b[39m                          [\u001b[32m5\u001b[39m, \u001b[32m6\u001b[39m]])\n\u001b[32m      9\u001b[39m tensor_b = torch.tensor([[\u001b[32m7\u001b[39m, \u001b[32m8\u001b[39m],\n\u001b[32m     10\u001b[39m                          [\u001b[32m9\u001b[39m, \u001b[32m10\u001b[39m],\n\u001b[32m     11\u001b[39m                          [\u001b[32m11\u001b[39m, \u001b[32m12\u001b[39m]])\n\u001b[32m---> \u001b[39m\u001b[32m13\u001b[39m result = \u001b[43mtorch\u001b[49m\u001b[43m.\u001b[49m\u001b[43mmm\u001b[49m\u001b[43m(\u001b[49m\u001b[43mtensor_a\u001b[49m\u001b[43m,\u001b[49m\u001b[43m \u001b[49m\u001b[43mtensor_b\u001b[49m\u001b[43m)\u001b[49m  \u001b[38;5;66;03m# tensor_b.T is shape (2,3)\u001b[39;00m\n\u001b[32m     16\u001b[39m torch.mm(tensor_a, tensor_b)    \u001b[38;5;66;03m# torch.mma is the same as torch.matmul (it's an alias for writing less code )\u001b[39;00m\n",
      "\u001b[31mRuntimeError\u001b[39m: mat1 and mat2 shapes cannot be multiplied (3x2 and 3x2)"
     ]
    }
   ],
   "source": [
    "# one of the most common erros in deep learning is : shape errors\n",
    "\n",
    "# shapes for matrix multiplication\n",
    "\n",
    "tensor_a = torch.tensor([[1, 2],\n",
    "                         [3, 4],\n",
    "                         [5, 6]])\n",
    "\n",
    "tensor_b = torch.tensor([[7, 8],\n",
    "                         [9, 10],\n",
    "                         [11, 12]])\n",
    "\n",
    "result = torch.mm(tensor_a, tensor_b)  # tensor_b.T is shape (2,3)\n",
    "\n",
    "\n",
    "torch.mm(tensor_a, tensor_b)    # torch.mma is the same as torch.matmul (it's an alias for writing less code )"
   ]
  },
  {
   "cell_type": "markdown",
   "id": "bb25ff0d",
   "metadata": {},
   "source": [
    "### to fix our tensor shape issues, we can manipulate the shape ofone of our tensors using a **transpose**\n",
    "\n",
    "### **transpose** switches the axes or dimensions of a given tensor\n"
   ]
  },
  {
   "cell_type": "code",
   "execution_count": null,
   "id": "b547e669",
   "metadata": {},
   "outputs": [
    {
     "data": {
      "text/plain": [
       "(tensor([[ 7,  9, 11],\n",
       "         [ 8, 10, 12]]),\n",
       " torch.Size([3, 2]))"
      ]
     },
     "execution_count": 97,
     "metadata": {},
     "output_type": "execute_result"
    }
   ],
   "source": [
    "tensor_b.T, tensor_b.shape"
   ]
  },
  {
   "cell_type": "code",
   "execution_count": null,
   "id": "573493d8",
   "metadata": {},
   "outputs": [
    {
     "data": {
      "text/plain": [
       "torch.Size([3, 3])"
      ]
     },
     "execution_count": 101,
     "metadata": {},
     "output_type": "execute_result"
    }
   ],
   "source": [
    "torch.matmul(tensor_a, tensor_b.T).shape"
   ]
  },
  {
   "cell_type": "code",
   "execution_count": null,
   "id": "75ba01ca",
   "metadata": {},
   "outputs": [
    {
     "data": {
      "text/plain": [
       "tensor([[ 23,  29,  35],\n",
       "        [ 53,  67,  81],\n",
       "        [ 83, 105, 127]])"
      ]
     },
     "execution_count": 102,
     "metadata": {},
     "output_type": "execute_result"
    }
   ],
   "source": [
    "tensor_a @ tensor_b.T"
   ]
  },
  {
   "cell_type": "markdown",
   "id": "7457dc2d",
   "metadata": {},
   "source": [
    "### Finding the min, max, mean, sum etc (tensor aggregation)\n"
   ]
  },
  {
   "cell_type": "code",
   "execution_count": null,
   "id": "a305a21e",
   "metadata": {},
   "outputs": [
    {
     "data": {
      "text/plain": [
       "tensor([ 0, 10, 20, 30, 40, 50, 60, 70, 80, 90])"
      ]
     },
     "execution_count": 103,
     "metadata": {},
     "output_type": "execute_result"
    }
   ],
   "source": [
    "## create a tensor\n",
    "\n",
    "x = torch.arange(0, 100, 10)\n",
    "x"
   ]
  },
  {
   "cell_type": "code",
   "execution_count": null,
   "id": "d5123cd8",
   "metadata": {},
   "outputs": [
    {
     "data": {
      "text/plain": [
       "torch.int64"
      ]
     },
     "execution_count": 106,
     "metadata": {},
     "output_type": "execute_result"
    }
   ],
   "source": [
    "x.dtype"
   ]
  },
  {
   "cell_type": "code",
   "execution_count": null,
   "id": "7999fe12",
   "metadata": {},
   "outputs": [
    {
     "data": {
      "text/plain": [
       "(tensor(0), tensor(90))"
      ]
     },
     "execution_count": 105,
     "metadata": {},
     "output_type": "execute_result"
    }
   ],
   "source": [
    "torch.min(x), torch.max(x)"
   ]
  },
  {
   "cell_type": "code",
   "execution_count": null,
   "id": "9a1c6c67",
   "metadata": {},
   "outputs": [
    {
     "data": {
      "text/plain": [
       "tensor(45.)"
      ]
     },
     "execution_count": 110,
     "metadata": {},
     "output_type": "execute_result"
    }
   ],
   "source": [
    "# finding mean - note: the torch.mean() function requires a tensor of float32 datatype to work\n",
    "\n",
    "torch.mean(x.type(torch.float32))"
   ]
  },
  {
   "cell_type": "code",
   "execution_count": null,
   "id": "d906350f",
   "metadata": {},
   "outputs": [
    {
     "data": {
      "text/plain": [
       "tensor(45.)"
      ]
     },
     "execution_count": 109,
     "metadata": {},
     "output_type": "execute_result"
    }
   ],
   "source": [
    "x.type(torch.float32).mean()"
   ]
  },
  {
   "cell_type": "code",
   "execution_count": null,
   "id": "c238e76f",
   "metadata": {},
   "outputs": [
    {
     "data": {
      "text/plain": [
       "tensor(450)"
      ]
     },
     "execution_count": 111,
     "metadata": {},
     "output_type": "execute_result"
    }
   ],
   "source": [
    "# finding sum\n",
    "\n",
    "torch.sum(x)"
   ]
  },
  {
   "cell_type": "code",
   "execution_count": null,
   "id": "912d3f7d",
   "metadata": {},
   "outputs": [
    {
     "data": {
      "text/plain": [
       "tensor(450)"
      ]
     },
     "execution_count": 113,
     "metadata": {},
     "output_type": "execute_result"
    }
   ],
   "source": [
    "x.sum()"
   ]
  },
  {
   "cell_type": "markdown",
   "id": "5b48cf6e",
   "metadata": {},
   "source": [
    "### finding the positional min and max\n"
   ]
  },
  {
   "cell_type": "code",
   "execution_count": null,
   "id": "3849d0dd",
   "metadata": {},
   "outputs": [
    {
     "data": {
      "text/plain": [
       "tensor([ 0, 10, 20, 30, 40, 50, 60, 70, 80, 90])"
      ]
     },
     "execution_count": 114,
     "metadata": {},
     "output_type": "execute_result"
    }
   ],
   "source": [
    "x"
   ]
  },
  {
   "cell_type": "code",
   "execution_count": null,
   "id": "ed4c0980",
   "metadata": {},
   "outputs": [
    {
     "data": {
      "text/plain": [
       "(tensor(0), tensor(9))"
      ]
     },
     "execution_count": 117,
     "metadata": {},
     "output_type": "execute_result"
    }
   ],
   "source": [
    "# find the position in tensor that has the minimum value with argmin(), maximum value with argmax() --> return the index of the value\n",
    "x.argmin(), x.argmax()"
   ]
  },
  {
   "cell_type": "code",
   "execution_count": null,
   "id": "f9998758",
   "metadata": {},
   "outputs": [
    {
     "data": {
      "text/plain": [
       "(tensor(0), tensor(90))"
      ]
     },
     "execution_count": 119,
     "metadata": {},
     "output_type": "execute_result"
    }
   ],
   "source": [
    "x[x.argmin()], x[x.argmax()]"
   ]
  },
  {
   "cell_type": "markdown",
   "id": "09e3d694",
   "metadata": {},
   "source": [
    "### Reshaping, stacking, squeezing and unsqueezing tensors\n",
    "\n",
    "- Reshaping - reshape an input tensor to a defined shape\n",
    "- View - return a vievw of an input tensor of cerain shape but keep the same memory as the original tensor\n",
    "- Stacking - coombine multiple tensors on top of each other (vstack) or side by side (hstack)\n",
    "- Squeeze - removes all `1` dimensions from a tensor\n",
    "- Unsqueeze - add a `1` dimension to a targe tensor\n",
    "- Permute - Return a view of the iput with dimensions permuted (swapped) in a certain way\n"
   ]
  },
  {
   "cell_type": "code",
   "execution_count": null,
   "id": "eb61e87f",
   "metadata": {},
   "outputs": [
    {
     "data": {
      "text/plain": [
       "(tensor([1., 2., 3., 4., 5., 6., 7., 8., 9.]), torch.Size([9]))"
      ]
     },
     "execution_count": 121,
     "metadata": {},
     "output_type": "execute_result"
    }
   ],
   "source": [
    "x = torch.arange(1., 10.)\n",
    "x, x.shape"
   ]
  },
  {
   "cell_type": "code",
   "execution_count": null,
   "id": "8b54bf8c",
   "metadata": {},
   "outputs": [
    {
     "data": {
      "text/plain": [
       "(tensor([[1.],\n",
       "         [2.],\n",
       "         [3.],\n",
       "         [4.],\n",
       "         [5.],\n",
       "         [6.],\n",
       "         [7.],\n",
       "         [8.],\n",
       "         [9.]]),\n",
       " torch.Size([9, 1]))"
      ]
     },
     "execution_count": 127,
     "metadata": {},
     "output_type": "execute_result"
    }
   ],
   "source": [
    "# add an extra dimension\n",
    "\n",
    "x_reshape = x.reshape(9, 1)\n",
    "x_reshape, x_reshape.shape, "
   ]
  },
  {
   "cell_type": "code",
   "execution_count": null,
   "id": "823f8dd8",
   "metadata": {},
   "outputs": [
    {
     "data": {
      "text/plain": [
       "(tensor([[5.],\n",
       "         [5.],\n",
       "         [5.],\n",
       "         [5.],\n",
       "         [5.],\n",
       "         [5.],\n",
       "         [5.],\n",
       "         [5.],\n",
       "         [5.]]),\n",
       " tensor([5., 5., 5., 5., 5., 5., 5., 5., 5.]))"
      ]
     },
     "execution_count": 205,
     "metadata": {},
     "output_type": "execute_result"
    }
   ],
   "source": [
    "# change the view\n",
    "\n",
    "\n",
    "z = x.view(9, 1)\n",
    "z, x"
   ]
  },
  {
   "cell_type": "code",
   "execution_count": null,
   "id": "7cb34327",
   "metadata": {},
   "outputs": [
    {
     "data": {
      "text/plain": [
       "tensor([[5., 5., 5., 5.],\n",
       "        [5., 5., 5., 5.],\n",
       "        [5., 5., 5., 5.],\n",
       "        [5., 5., 5., 5.],\n",
       "        [5., 5., 5., 5.],\n",
       "        [5., 5., 5., 5.],\n",
       "        [5., 5., 5., 5.],\n",
       "        [5., 5., 5., 5.],\n",
       "        [5., 5., 5., 5.]])"
      ]
     },
     "execution_count": 175,
     "metadata": {},
     "output_type": "execute_result"
    }
   ],
   "source": [
    "# stack tensor on top of each other\n",
    "\n",
    "x_stack = torch.stack([x, x, x, x], dim=1)\n",
    "\n",
    "x_stack"
   ]
  },
  {
   "cell_type": "code",
   "execution_count": null,
   "id": "c2d32576",
   "metadata": {},
   "outputs": [
    {
     "data": {
      "text/plain": [
       "tensor([[5.],\n",
       "        [5.],\n",
       "        [5.],\n",
       "        [5.],\n",
       "        [5.],\n",
       "        [5.],\n",
       "        [5.],\n",
       "        [5.],\n",
       "        [5.]])"
      ]
     },
     "execution_count": 206,
     "metadata": {},
     "output_type": "execute_result"
    }
   ],
   "source": [
    "## squeeze\n",
    "\n",
    "#torch.squeeze() - removes all single dimensions from a targe tensor\n",
    "x_reshape"
   ]
  },
  {
   "cell_type": "code",
   "execution_count": null,
   "id": "b41badb3",
   "metadata": {},
   "outputs": [
    {
     "data": {
      "text/plain": [
       "torch.Size([1, 9])"
      ]
     },
     "execution_count": 207,
     "metadata": {},
     "output_type": "execute_result"
    }
   ],
   "source": [
    "torch.Size([1, 9])"
   ]
  },
  {
   "cell_type": "code",
   "execution_count": null,
   "id": "3a416b7e",
   "metadata": {},
   "outputs": [
    {
     "data": {
      "text/plain": [
       "tensor([5., 5., 5., 5., 5., 5., 5., 5., 5.])"
      ]
     },
     "execution_count": 210,
     "metadata": {},
     "output_type": "execute_result"
    }
   ],
   "source": [
    "x_reshape.squeeze(),"
   ]
  },
  {
   "cell_type": "code",
   "execution_count": null,
   "id": "9a6bdc7d",
   "metadata": {},
   "outputs": [
    {
     "data": {
      "text/plain": [
       "tensor([5., 5., 5., 5., 5., 5., 5., 5., 5.])"
      ]
     },
     "execution_count": 211,
     "metadata": {},
     "output_type": "execute_result"
    }
   ],
   "source": []
  },
  {
   "cell_type": "code",
   "execution_count": null,
   "id": "e5017f8f",
   "metadata": {},
   "outputs": [],
   "source": []
  }
 ],
 "metadata": {
  "kernelspec": {
   "display_name": ".venv",
   "language": "python",
   "name": "python3"
  },
  "language_info": {
   "codemirror_mode": {
    "name": "ipython",
    "version": 3
   },
   "file_extension": ".py",
   "mimetype": "text/x-python",
   "name": "python",
   "nbconvert_exporter": "python",
   "pygments_lexer": "ipython3",
   "version": "3.12.5"
  }
 },
 "nbformat": 4,
 "nbformat_minor": 5
}
