{
 "cells": [
  {
   "cell_type": "code",
   "execution_count": 50,
   "id": "42f4c998",
   "metadata": {},
   "outputs": [],
   "source": [
    "import pandas as pd\n",
    "import torch\n",
    "import numpy as np\n",
    "import matplotlib.pyplot as plt\n",
    "import seaborn as sns"
   ]
  },
  {
   "cell_type": "code",
   "execution_count": 51,
   "id": "27b5486b",
   "metadata": {},
   "outputs": [
    {
     "data": {
      "text/plain": [
       "'2.8.0+cpu'"
      ]
     },
     "execution_count": 51,
     "metadata": {},
     "output_type": "execute_result"
    }
   ],
   "source": [
    "torch.__version__"
   ]
  },
  {
   "cell_type": "markdown",
   "id": "193629ff",
   "metadata": {},
   "source": [
    "### Introduction to Tensors\n",
    "\n",
    "creating a tensors\n"
   ]
  },
  {
   "cell_type": "code",
   "execution_count": 52,
   "id": "d9682863",
   "metadata": {},
   "outputs": [
    {
     "data": {
      "text/plain": [
       "(tensor(8), 0)"
      ]
     },
     "execution_count": 52,
     "metadata": {},
     "output_type": "execute_result"
    }
   ],
   "source": [
    "# scalar \n",
    "\n",
    "scalar = torch.tensor(8)\n",
    "\n",
    "scalar, scalar.ndim"
   ]
  },
  {
   "cell_type": "code",
   "execution_count": 53,
   "id": "254020e9",
   "metadata": {},
   "outputs": [
    {
     "data": {
      "text/plain": [
       "8"
      ]
     },
     "execution_count": 53,
     "metadata": {},
     "output_type": "execute_result"
    }
   ],
   "source": [
    "scalar.item()"
   ]
  },
  {
   "cell_type": "markdown",
   "id": "e3599114",
   "metadata": {},
   "source": [
    "Vector\n"
   ]
  },
  {
   "cell_type": "code",
   "execution_count": 54,
   "id": "cd45fdb7",
   "metadata": {},
   "outputs": [
    {
     "data": {
      "text/plain": [
       "(tensor([3, 3]), 1)"
      ]
     },
     "execution_count": 54,
     "metadata": {},
     "output_type": "execute_result"
    }
   ],
   "source": [
    "# vector\n",
    "\n",
    "vector = torch.tensor([3, 3])\n",
    "\n",
    "vector, vector.ndim"
   ]
  },
  {
   "cell_type": "markdown",
   "id": "e56403b5",
   "metadata": {},
   "source": [
    "Matrix\n"
   ]
  },
  {
   "cell_type": "code",
   "execution_count": 55,
   "id": "c80c8ce5",
   "metadata": {},
   "outputs": [
    {
     "data": {
      "text/plain": [
       "(tensor([[2, 3],\n",
       "         [5, 6]]),\n",
       " torch.Size([2, 2]),\n",
       " tensor([5, 6]))"
      ]
     },
     "execution_count": 55,
     "metadata": {},
     "output_type": "execute_result"
    }
   ],
   "source": [
    "matrix = torch.tensor([[2, 3], [5, 6]])\n",
    "\n",
    "matrix, matrix.shape, matrix[1]"
   ]
  },
  {
   "cell_type": "markdown",
   "id": "45ddd3d0",
   "metadata": {},
   "source": [
    "Tensor\n"
   ]
  },
  {
   "cell_type": "code",
   "execution_count": 56,
   "id": "9d002a4a",
   "metadata": {},
   "outputs": [
    {
     "data": {
      "text/plain": [
       "(tensor([[[1, 2],\n",
       "          [3, 4],\n",
       "          [5, 6]],\n",
       " \n",
       "         [[1, 2],\n",
       "          [3, 4],\n",
       "          [5, 6]],\n",
       " \n",
       "         [[1, 2],\n",
       "          [3, 4],\n",
       "          [5, 6]],\n",
       " \n",
       "         [[1, 2],\n",
       "          [3, 4],\n",
       "          [5, 6]]]),\n",
       " torch.Size([4, 3, 2]))"
      ]
     },
     "execution_count": 56,
     "metadata": {},
     "output_type": "execute_result"
    }
   ],
   "source": [
    "tensor = torch.tensor(\n",
    "    [\n",
    "        [\n",
    "            [1, 2], \n",
    "            [3, 4], \n",
    "            [5, 6]\n",
    "        ],\n",
    "        [\n",
    "            [1, 2], \n",
    "            [3, 4], \n",
    "            [5, 6]\n",
    "        ],\n",
    "        [\n",
    "            [1, 2], \n",
    "            [3, 4], \n",
    "            [5, 6]\n",
    "        ],\n",
    "        [\n",
    "            [1, 2], \n",
    "            [3, 4], \n",
    "            [5, 6]\n",
    "        ]\n",
    "    ]\n",
    ")\n",
    "\n",
    "tensor, tensor.shape"
   ]
  },
  {
   "cell_type": "markdown",
   "id": "0b56650d",
   "metadata": {},
   "source": [
    "Random Tensors\n"
   ]
  },
  {
   "cell_type": "code",
   "execution_count": 57,
   "id": "34f5183e",
   "metadata": {},
   "outputs": [
    {
     "data": {
      "text/plain": [
       "(tensor([[0.5978, 0.8550, 0.3753, 0.7882, 0.9433],\n",
       "         [0.8402, 0.8682, 0.5860, 0.1503, 0.9967],\n",
       "         [0.5704, 0.1950, 0.0069, 0.1162, 0.1939],\n",
       "         [0.9385, 0.0387, 0.2947, 0.1346, 0.8459]]),\n",
       " torch.Size([4, 5]))"
      ]
     },
     "execution_count": 57,
     "metadata": {},
     "output_type": "execute_result"
    }
   ],
   "source": [
    "### Random Tensors\n",
    "\n",
    "\n",
    "random_tensor = torch.rand(4, 5)\n",
    "\n",
    "random_tensor, random_tensor.shape"
   ]
  },
  {
   "cell_type": "code",
   "execution_count": 58,
   "id": "aa13606d",
   "metadata": {},
   "outputs": [
    {
     "data": {
      "text/plain": [
       "(tensor([[[0.4544, 0.6135, 0.9432, 0.3833],\n",
       "          [0.0910, 0.4014, 0.5052, 0.7602],\n",
       "          [0.6538, 0.6422, 0.7686, 0.9741],\n",
       "          ...,\n",
       "          [0.3193, 0.9733, 0.9733, 0.9174],\n",
       "          [0.9879, 0.7355, 0.3229, 0.0617],\n",
       "          [0.2435, 0.4075, 0.6355, 0.1938]],\n",
       " \n",
       "         [[0.7181, 0.8712, 0.7287, 0.2660],\n",
       "          [0.2457, 0.8192, 0.8060, 0.2439],\n",
       "          [0.2182, 0.7991, 0.0149, 0.0284],\n",
       "          ...,\n",
       "          [0.9371, 0.3569, 0.1110, 0.2487],\n",
       "          [0.2487, 0.1562, 0.1608, 0.3864],\n",
       "          [0.2553, 0.0301, 0.3159, 0.8576]],\n",
       " \n",
       "         [[0.9352, 0.9028, 0.9673, 0.2014],\n",
       "          [0.9472, 0.3237, 0.7792, 0.3774],\n",
       "          [0.1061, 0.6244, 0.9649, 0.3271],\n",
       "          ...,\n",
       "          [0.1797, 0.9159, 0.0583, 0.2311],\n",
       "          [0.8665, 0.9234, 0.5912, 0.4557],\n",
       "          [0.7322, 0.5025, 0.5458, 0.9344]],\n",
       " \n",
       "         ...,\n",
       " \n",
       "         [[0.9054, 0.1598, 0.8756, 0.9108],\n",
       "          [0.1444, 0.4668, 0.6725, 0.6188],\n",
       "          [0.2627, 0.4394, 0.8926, 0.9553],\n",
       "          ...,\n",
       "          [0.5573, 0.1155, 0.4774, 0.9035],\n",
       "          [0.9069, 0.8990, 0.9921, 0.3363],\n",
       "          [0.7828, 0.3998, 0.3145, 0.4056]],\n",
       " \n",
       "         [[0.2954, 0.8190, 0.6292, 0.9554],\n",
       "          [0.9817, 0.0476, 0.2266, 0.8525],\n",
       "          [0.6243, 0.7157, 0.0683, 0.8926],\n",
       "          ...,\n",
       "          [0.9462, 0.5918, 0.6431, 0.9942],\n",
       "          [0.7611, 0.8094, 0.7643, 0.0586],\n",
       "          [0.1867, 0.1274, 0.8493, 0.9274]],\n",
       " \n",
       "         [[0.8584, 0.1718, 0.3891, 0.2576],\n",
       "          [0.7322, 0.3729, 0.1841, 0.4093],\n",
       "          [0.6678, 0.7516, 0.4388, 0.3085],\n",
       "          ...,\n",
       "          [0.9028, 0.3245, 0.2427, 0.9285],\n",
       "          [0.9563, 0.7278, 0.2291, 0.0625],\n",
       "          [0.9773, 0.1912, 0.3760, 0.4266]]]),\n",
       " torch.Size([224, 224, 4]))"
      ]
     },
     "execution_count": 58,
     "metadata": {},
     "output_type": "execute_result"
    }
   ],
   "source": [
    "# create a random tensor with similar shap to an image tensor\n",
    "\n",
    "random_image_size_tensor = torch.rand(size=(224, 224, 4))   # height, width, color channel (R, B, G)\n",
    "\n",
    "random_image_size_tensor, random_image_size_tensor.shape"
   ]
  },
  {
   "cell_type": "code",
   "execution_count": 59,
   "id": "176eb3e8",
   "metadata": {},
   "outputs": [
    {
     "data": {
      "text/plain": [
       "tensor([[0.6006, 0.9198, 0.4010],\n",
       "        [0.8961, 0.2281, 0.0558],\n",
       "        [0.1984, 0.2530, 0.5096]])"
      ]
     },
     "execution_count": 59,
     "metadata": {},
     "output_type": "execute_result"
    }
   ],
   "source": [
    "torch.rand(3, 3)"
   ]
  },
  {
   "cell_type": "code",
   "execution_count": 60,
   "id": "ea926ae2",
   "metadata": {},
   "outputs": [
    {
     "data": {
      "text/plain": [
       "tensor([[0, 0, 0, 0, 0],\n",
       "        [0, 0, 0, 0, 0],\n",
       "        [0, 0, 0, 0, 0]])"
      ]
     },
     "execution_count": 60,
     "metadata": {},
     "output_type": "execute_result"
    }
   ],
   "source": [
    "zero_tensor = torch.zeros(3, 5, dtype=int)\n",
    "\n",
    "zero_tensor"
   ]
  },
  {
   "cell_type": "code",
   "execution_count": 61,
   "id": "597299e2",
   "metadata": {},
   "outputs": [
    {
     "data": {
      "text/plain": [
       "tensor([[1, 1, 1, 1, 1],\n",
       "        [1, 1, 1, 1, 1],\n",
       "        [1, 1, 1, 1, 1]])"
      ]
     },
     "execution_count": 61,
     "metadata": {},
     "output_type": "execute_result"
    }
   ],
   "source": [
    "ones_tensor = torch.ones(3, 5, dtype=int)\n",
    "\n",
    "ones_tensor"
   ]
  },
  {
   "cell_type": "code",
   "execution_count": 62,
   "id": "9f3df8d9",
   "metadata": {},
   "outputs": [
    {
     "data": {
      "text/plain": [
       "tensor([0, 1, 2, 3, 4, 5, 6, 7, 8, 9])"
      ]
     },
     "execution_count": 62,
     "metadata": {},
     "output_type": "execute_result"
    }
   ],
   "source": [
    "### creating a range of tensors and tensors like\n",
    "\n",
    "torch.arange(0, 10)"
   ]
  },
  {
   "cell_type": "code",
   "execution_count": 63,
   "id": "a4737958",
   "metadata": {},
   "outputs": [],
   "source": [
    "step = torch.arange(start=0, end=10, step=2)\n"
   ]
  },
  {
   "cell_type": "code",
   "execution_count": 66,
   "id": "3d4fe150",
   "metadata": {},
   "outputs": [
    {
     "data": {
      "text/plain": [
       "(tensor([0, 0, 0, 0, 0]), tensor([1, 1, 1, 1, 1]))"
      ]
     },
     "execution_count": 66,
     "metadata": {},
     "output_type": "execute_result"
    }
   ],
   "source": [
    "## creating tensors like\n",
    "\n",
    "torch.zeros_like(step), torch.ones_like(step)"
   ]
  },
  {
   "cell_type": "markdown",
   "id": "a817bc5d",
   "metadata": {},
   "source": [
    "### Tensor DataType\n",
    "\n",
    "**Note** Tensor datatypes is one of the 3 big errors you'will run into with PyTorch & deep learning:\n",
    "\n",
    "1. Tensors not right datatype\n",
    "2. Tensors not right shape\n",
    "3. Tensors are not on the right device\n"
   ]
  },
  {
   "cell_type": "code",
   "execution_count": 69,
   "id": "73030215",
   "metadata": {},
   "outputs": [
    {
     "data": {
      "text/plain": [
       "torch.float32"
      ]
     },
     "execution_count": 69,
     "metadata": {},
     "output_type": "execute_result"
    }
   ],
   "source": [
    "float_32_tensor = torch.tensor(\n",
    "    [3.0, 2.0], \n",
    "    dtype=None,     \n",
    "    device=None,    # what device is tensor on\n",
    "    requires_grad=False  # whether ot not to track gradients with this tensors operation\n",
    ")\n",
    "\n",
    "float_32_tensor.dtype"
   ]
  },
  {
   "cell_type": "code",
   "execution_count": 70,
   "id": "bc8a9f5f",
   "metadata": {},
   "outputs": [
    {
     "data": {
      "text/plain": [
       "torch.float16"
      ]
     },
     "execution_count": 70,
     "metadata": {},
     "output_type": "execute_result"
    }
   ],
   "source": [
    "float_16_tensor = float_32_tensor.type(torch.float16)\n",
    "\n",
    "float_16_tensor.dtype"
   ]
  },
  {
   "cell_type": "code",
   "execution_count": 71,
   "id": "6ee5a64a",
   "metadata": {},
   "outputs": [
    {
     "data": {
      "text/plain": [
       "tensor([9., 4.])"
      ]
     },
     "execution_count": 71,
     "metadata": {},
     "output_type": "execute_result"
    }
   ],
   "source": [
    "float_16_tensor * float_32_tensor"
   ]
  },
  {
   "cell_type": "code",
   "execution_count": 77,
   "id": "7390c9e3",
   "metadata": {},
   "outputs": [
    {
     "data": {
      "text/plain": [
       "tensor([3, 4])"
      ]
     },
     "execution_count": 77,
     "metadata": {},
     "output_type": "execute_result"
    }
   ],
   "source": [
    "int_32_tensor = torch.tensor([3, 4], dtype=torch.long)\n",
    "\n",
    "int_32_tensor"
   ]
  },
  {
   "cell_type": "code",
   "execution_count": 78,
   "id": "a2644f23",
   "metadata": {},
   "outputs": [
    {
     "data": {
      "text/plain": [
       "tensor([9., 8.])"
      ]
     },
     "execution_count": 78,
     "metadata": {},
     "output_type": "execute_result"
    }
   ],
   "source": [
    "float_32_tensor * int_32_tensor"
   ]
  },
  {
   "cell_type": "markdown",
   "id": "d3e776b4",
   "metadata": {},
   "source": [
    "### Getting information from tensors\n",
    "\n",
    "1. Tensors not right datatype - to do get datatype from a tensor, can use `tensor.dtype`\n",
    "2. Tensors not right shape - to get shape from atensor, can use `tensor.shape`\n",
    "3. Tensors are not on the right device - to get device from a tensor, can use `tensor.device`\n"
   ]
  },
  {
   "cell_type": "code",
   "execution_count": 80,
   "id": "11b6c9c7",
   "metadata": {},
   "outputs": [
    {
     "data": {
      "text/plain": [
       "tensor([[0.0611, 0.5760, 0.5675, 0.5178],\n",
       "        [0.6383, 0.1198, 0.7347, 0.0292],\n",
       "        [0.6022, 0.7860, 0.5922, 0.9488]])"
      ]
     },
     "execution_count": 80,
     "metadata": {},
     "output_type": "execute_result"
    }
   ],
   "source": [
    "# create a tensor\n",
    "\n",
    "some_tensor = torch.rand(3, 4)\n",
    "\n",
    "some_tensor"
   ]
  },
  {
   "cell_type": "code",
   "execution_count": 81,
   "id": "0899ee24",
   "metadata": {},
   "outputs": [
    {
     "data": {
      "text/plain": [
       "(torch.float32, torch.Size([3, 4]), device(type='cpu'))"
      ]
     },
     "execution_count": 81,
     "metadata": {},
     "output_type": "execute_result"
    }
   ],
   "source": [
    "# find out details about some tensor\n",
    "\n",
    "some_tensor.dtype, some_tensor.shape, some_tensor.device"
   ]
  },
  {
   "cell_type": "markdown",
   "id": "fc7b22d6",
   "metadata": {},
   "source": [
    "### manipulating tensors (tensor operatioins)\n",
    "\n",
    "#### Tensor Operation include:\n",
    "\n",
    "1.Addition\n",
    "2.Subtraction\n",
    "3.Multiplication (element-wise)\n",
    "4.Division\n",
    "5.Matrix Multiplication\n"
   ]
  },
  {
   "cell_type": "code",
   "execution_count": 84,
   "id": "e54caf07",
   "metadata": {},
   "outputs": [
    {
     "data": {
      "text/plain": [
       "tensor([12, 14, 16])"
      ]
     },
     "execution_count": 84,
     "metadata": {},
     "output_type": "execute_result"
    }
   ],
   "source": [
    "# create a tensor and add 10 to it\n",
    "\n",
    "tensor = torch.tensor([2, 4 , 6])\n",
    "\n",
    "tensor + 10"
   ]
  },
  {
   "cell_type": "code",
   "execution_count": 85,
   "id": "2103b280",
   "metadata": {},
   "outputs": [
    {
     "data": {
      "text/plain": [
       "tensor([-8, -6, -4])"
      ]
     },
     "execution_count": 85,
     "metadata": {},
     "output_type": "execute_result"
    }
   ],
   "source": [
    "# create a tensor and sub 10 to it\n",
    "\n",
    "tensor = torch.tensor([2, 4 , 6])\n",
    "\n",
    "tensor - 10"
   ]
  },
  {
   "cell_type": "code",
   "execution_count": 86,
   "id": "55085a3b",
   "metadata": {},
   "outputs": [
    {
     "data": {
      "text/plain": [
       "tensor([20, 40, 60])"
      ]
     },
     "execution_count": 86,
     "metadata": {},
     "output_type": "execute_result"
    }
   ],
   "source": [
    "# create a tensor and mult 10 to it\n",
    "\n",
    "tensor = torch.tensor([2, 4 , 6])\n",
    "\n",
    "tensor * 10"
   ]
  },
  {
   "cell_type": "code",
   "execution_count": null,
   "id": "f7da3b55",
   "metadata": {},
   "outputs": [],
   "source": []
  }
 ],
 "metadata": {
  "kernelspec": {
   "display_name": ".venv",
   "language": "python",
   "name": "python3"
  },
  "language_info": {
   "codemirror_mode": {
    "name": "ipython",
    "version": 3
   },
   "file_extension": ".py",
   "mimetype": "text/x-python",
   "name": "python",
   "nbconvert_exporter": "python",
   "pygments_lexer": "ipython3",
   "version": "3.12.5"
  }
 },
 "nbformat": 4,
 "nbformat_minor": 5
}
