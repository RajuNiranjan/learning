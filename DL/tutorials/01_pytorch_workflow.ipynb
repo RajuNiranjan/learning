{
 "cells": [
  {
   "cell_type": "code",
   "execution_count": 63,
   "id": "2c1f0e0b",
   "metadata": {},
   "outputs": [
    {
     "data": {
      "text/plain": [
       "'2.8.0+cpu'"
      ]
     },
     "execution_count": 63,
     "metadata": {},
     "output_type": "execute_result"
    }
   ],
   "source": [
    "import torch\n",
    "from torch import nn # nn contains all of PyTorch's building blocks for neural networks\n",
    "import matplotlib.pyplot as plt\n",
    "\n",
    "torch.__version__"
   ]
  },
  {
   "cell_type": "markdown",
   "id": "350db03a",
   "metadata": {},
   "source": [
    "# 1.Data (preparing al Loading)\n",
    "\n",
    "Data can be almost anything... in mcahine learning.\n",
    "\n",
    "- Excel speadsheet\n",
    "- Images of any Kind\n",
    "- videos (Youtube has lots of data)\n",
    "- Audio like songs or podcasts\n",
    "- DNA\n",
    "- Text\n",
    "\n",
    "Machine learning is a game of two parts:\n",
    "\n",
    "1. get data into a numerical representation.\n",
    "2. build a model to learn patterns in that numerical representation.\n",
    "\n",
    "To showcase this, let's craete some **known** data using the linear regression formula.\n",
    "\n",
    "we'll use a linear regression formula to make a strainght line with know **parameters**\n"
   ]
  },
  {
   "cell_type": "code",
   "execution_count": 64,
   "id": "ef69bbce",
   "metadata": {},
   "outputs": [
    {
     "data": {
      "text/plain": [
       "(tensor([[0.0000],\n",
       "         [0.0200],\n",
       "         [0.0400],\n",
       "         [0.0600],\n",
       "         [0.0800],\n",
       "         [0.1000],\n",
       "         [0.1200],\n",
       "         [0.1400],\n",
       "         [0.1600],\n",
       "         [0.1800]]),\n",
       " tensor([[3.0000],\n",
       "         [3.1400],\n",
       "         [3.2800],\n",
       "         [3.4200],\n",
       "         [3.5600],\n",
       "         [3.7000],\n",
       "         [3.8400],\n",
       "         [3.9800],\n",
       "         [4.1200],\n",
       "         [4.2600]]))"
      ]
     },
     "execution_count": 64,
     "metadata": {},
     "output_type": "execute_result"
    }
   ],
   "source": [
    "# creating known parameters\n",
    "\n",
    "weight = 7\n",
    "bias = 3\n",
    "\n",
    "# create\n",
    "\n",
    "start = 0\n",
    "end = 1\n",
    "step = 0.02\n",
    "X = torch.arange(start, end, step).unsqueeze(dim=1)\n",
    "y = weight * X + bias\n",
    "\n",
    "X[:10], y[:10]\n"
   ]
  },
  {
   "cell_type": "markdown",
   "id": "12b41aee",
   "metadata": {},
   "source": [
    "# splitting the data in trainging and testing data\n"
   ]
  },
  {
   "cell_type": "code",
   "execution_count": 65,
   "id": "37b1815c",
   "metadata": {},
   "outputs": [
    {
     "data": {
      "text/plain": [
       "(40, 10, 40, 10)"
      ]
     },
     "execution_count": 65,
     "metadata": {},
     "output_type": "execute_result"
    }
   ],
   "source": [
    "train_split = int(0.8 * len(X))\n",
    "X_train, y_tarin = X[:train_split], y[:train_split]\n",
    "X_test, y_test = X[train_split:], y[train_split:]\n",
    "\n",
    "len(X_train), len(X_test), len(y_tarin), len(y_test)"
   ]
  },
  {
   "cell_type": "markdown",
   "id": "507f2aa5",
   "metadata": {},
   "source": [
    "How might we better visualize our dta?\n",
    "\n",
    "This is where the dta explore's motto comes in!\n",
    "\n",
    "\"viusalize, visualize, vizualize\"\n"
   ]
  },
  {
   "cell_type": "code",
   "execution_count": 66,
   "id": "2c50f9a9",
   "metadata": {},
   "outputs": [],
   "source": [
    "def plot_predictions(\n",
    "    train_data=X_train,\n",
    "    train_label=y_tarin,\n",
    "    test_data=X_test,\n",
    "    test_label=y_test,\n",
    "    predictions=None):\n",
    "    plt.figure(figsize=(10, 7))\n",
    "    plt.scatter(train_data, train_label, c='b', s=4, label=\"Training data\")\n",
    "    plt.scatter(test_data, test_label, c='r', s=4, label=\"Testing data\")\n",
    "\n",
    "    if predictions is not None:\n",
    "        plt.scatter(test_data, predictions, c='g', s=4, label=\"Prediction\")\n",
    "    \n",
    "    plt.legend(prop={\"size\":4})\n"
   ]
  },
  {
   "cell_type": "code",
   "execution_count": 67,
   "id": "ff22a760",
   "metadata": {},
   "outputs": [
    {
     "data": {
      "image/png": "[encoded data removed]",
      "text/plain": [
       "<Figure size 1000x700 with 1 Axes>"
      ]
     },
     "metadata": {},
     "output_type": "display_data"
    }
   ],
   "source": [
    "plot_predictions()"
   ]
  },
  {
   "cell_type": "markdown",
   "id": "e4e9122b",
   "metadata": {},
   "source": [
    "## 2. Building model\n",
    "\n",
    "Out first PyTorch Model!\n"
   ]
  },
  {
   "cell_type": "code",
   "execution_count": 68,
   "id": "fd0f4254",
   "metadata": {},
   "outputs": [],
   "source": [
    "# create linear regression model class\n",
    "import torch\n",
    "from torch import nn\n",
    "\n",
    "class LinearRegressionModel(nn.Module): # <- almost everything in PyTorch\n",
    "    def __init__(self):\n",
    "        super().__init__()\n",
    "        self.weights = nn.Parameter(torch.randn(\n",
    "            1,\n",
    "            requires_grad=True,\n",
    "            dtype=torch.float\n",
    "        ))\n",
    "        self.bias = nn.Parameter(torch.randn(\n",
    "            1,\n",
    "            requires_grad=True,\n",
    "            dtype=torch.float\n",
    "        ))\n",
    "\n",
    "    def forward(self, x:torch.Tensor) -> torch.Tensor:\n",
    "        return self.weights * x + self.bias\n"
   ]
  },
  {
   "cell_type": "markdown",
   "id": "3126d2e6",
   "metadata": {},
   "source": [
    "### PyTorch building essentials\n",
    "\n",
    "- torch.nn - contains all of the buildings for computational graphs ( a neural network can be considered a computational graph)\n",
    "- torch.nn.Parameter - what parameters should our model try and learn, oftern a PyTorch layer from torch.nn will set these for use\n",
    "- torch.nn.Module - The Base class for all neural network modules, if you subclass it, you should overwrite forward()\n",
    "- torch.optim - this where the optimizer in PyTorch live, they will help with gradient descent\n",
    "- def forward() - All nn.Module subclasses requires you to overwrite forward(), this method defines what happens in the forward computation.\n"
   ]
  },
  {
   "cell_type": "code",
   "execution_count": 69,
   "id": "3ef6b3f4",
   "metadata": {},
   "outputs": [
    {
     "data": {
      "text/plain": [
       "[Parameter containing:\n",
       " tensor([0.3367], requires_grad=True),\n",
       " Parameter containing:\n",
       " tensor([0.1288], requires_grad=True)]"
      ]
     },
     "execution_count": 69,
     "metadata": {},
     "output_type": "execute_result"
    }
   ],
   "source": [
    "torch.manual_seed(42)\n",
    "\n",
    "model_0 = LinearRegressionModel()\n",
    "\n",
    "list(model_0.parameters())"
   ]
  },
  {
   "cell_type": "code",
   "execution_count": 70,
   "id": "2c9b942f",
   "metadata": {},
   "outputs": [
    {
     "data": {
      "text/plain": [
       "OrderedDict([('weights', tensor([0.3367])), ('bias', tensor([0.1288]))])"
      ]
     },
     "execution_count": 70,
     "metadata": {},
     "output_type": "execute_result"
    }
   ],
   "source": [
    "# List name parameters\n",
    "\n",
    "model_0.state_dict()"
   ]
  },
  {
   "cell_type": "markdown",
   "id": "a8025153",
   "metadata": {},
   "source": [
    "# making prediction using `torch.inference_mode()`\n",
    "\n",
    "To chekc model's predictive power, let's seee how well it predicts `y_test` based on `x_test`\n",
    "\n",
    "when we pass data through our model, it's going to run it throught the `forward()` method\n"
   ]
  },
  {
   "cell_type": "code",
   "execution_count": 71,
   "id": "68bbe113",
   "metadata": {},
   "outputs": [
    {
     "data": {
      "text/plain": [
       "tensor([[0.3982],\n",
       "        [0.4049],\n",
       "        [0.4116],\n",
       "        [0.4184],\n",
       "        [0.4251],\n",
       "        [0.4318],\n",
       "        [0.4386],\n",
       "        [0.4453],\n",
       "        [0.4520],\n",
       "        [0.4588]])"
      ]
     },
     "execution_count": 71,
     "metadata": {},
     "output_type": "execute_result"
    }
   ],
   "source": [
    "# make predictions with model\n",
    "\n",
    "with torch.inference_mode():\n",
    "    y_preds = model_0(X_test)\n",
    "\n",
    "y_preds"
   ]
  },
  {
   "cell_type": "code",
   "execution_count": 73,
   "id": "59499c68",
   "metadata": {},
   "outputs": [
    {
     "data": {
      "image/png": "[encoded data removed]",
      "text/plain": [
       "<Figure size 1000x700 with 1 Axes>"
      ]
     },
     "metadata": {},
     "output_type": "display_data"
    }
   ],
   "source": [
    "plot_predictions(predictions=y_preds)"
   ]
  },
  {
   "cell_type": "markdown",
   "id": "460710c8",
   "metadata": {},
   "source": [
    "# 3. Train Model\n",
    "\n",
    "The whole idea of training is for a model to move forom some unknown parameters (these may be random) to some known parameters.\n",
    "\n",
    "or in othere words from a poor representation of the data to a better representation of the data\n",
    "\n",
    "one way to measure how poor or how wrong your models predictions are is to use a loss function.\n",
    "\n",
    "- note: Loss function may also be called cost function or criterion in different areas. for our case, we're going to refer to it as a loss function.\n",
    "\n",
    "- loss function: A function to measure how wrong your models predictions are to the ideal output, lower is better.\n",
    "- Optimizer: takes into accounts the loss of a model and adjust the models parameteres to improve the loss function\n",
    "\n",
    "and specifically for pytorch,we need\n",
    "1.A training loop\n",
    "2.A testing loop\n"
   ]
  },
  {
   "cell_type": "code",
   "execution_count": null,
   "id": "db10dac1",
   "metadata": {},
   "outputs": [],
   "source": []
  }
 ],
 "metadata": {
  "kernelspec": {
   "display_name": ".venv",
   "language": "python",
   "name": "python3"
  },
  "language_info": {
   "codemirror_mode": {
    "name": "ipython",
    "version": 3
   },
   "file_extension": ".py",
   "mimetype": "text/x-python",
   "name": "python",
   "nbconvert_exporter": "python",
   "pygments_lexer": "ipython3",
   "version": "3.12.5"
  }
 },
 "nbformat": 4,
 "nbformat_minor": 5
}
