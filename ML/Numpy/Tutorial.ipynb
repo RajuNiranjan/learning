{
 "cells": [
  {
   "cell_type": "markdown",
   "id": "37dd4b7c",
   "metadata": {},
   "source": [
    "Numpy - Numarical Python\n",
    "\n",
    "Adv\n",
    "\n",
    "- Allow several Mathematical Operations\n",
    "- Faster operations\n"
   ]
  },
  {
   "cell_type": "code",
   "execution_count": 1,
   "id": "cac15414",
   "metadata": {},
   "outputs": [],
   "source": [
    "import numpy as np"
   ]
  },
  {
   "cell_type": "markdown",
   "id": "b1e24b65",
   "metadata": {},
   "source": [
    "List vs Numpy Time Taken\n"
   ]
  },
  {
   "cell_type": "code",
   "execution_count": 12,
   "id": "284635f8",
   "metadata": {},
   "outputs": [
    {
     "name": "stdout",
     "output_type": "stream",
     "text": [
      "0.609375\n"
     ]
    }
   ],
   "source": [
    "from time import process_time\n",
    "\n",
    "my_list=[i for i in range(10000000)]\n",
    "\n",
    "start_time=process_time()\n",
    "\n",
    "my_list=[i + 5 for i in my_list]\n",
    "\n",
    "end_time=process_time()\n",
    "\n",
    "print(end_time - start_time)\n",
    "\n"
   ]
  },
  {
   "cell_type": "code",
   "execution_count": 13,
   "id": "66ec3b82",
   "metadata": {},
   "outputs": [
    {
     "name": "stdout",
     "output_type": "stream",
     "text": [
      "0.015625\n"
     ]
    }
   ],
   "source": [
    "np_array = np.array([i for i in range(10000000)])\n",
    "\n",
    "start_time = process_time()\n",
    "\n",
    "np_array += 5\n",
    "\n",
    "end_time=process_time()\n",
    "\n",
    "print(end_time - start_time)\n"
   ]
  },
  {
   "cell_type": "markdown",
   "id": "e6a2c3c2",
   "metadata": {},
   "source": [
    "Numpy Arrays\n"
   ]
  },
  {
   "cell_type": "code",
   "execution_count": 18,
   "id": "0edfc862",
   "metadata": {},
   "outputs": [
    {
     "name": "stdout",
     "output_type": "stream",
     "text": [
      "List : \n",
      " [1, 2, 3, 4, 5]\n",
      "type: \n",
      " <class 'list'>\n"
     ]
    }
   ],
   "source": [
    "list1 = [1, 2, 3, 4, 5]\n",
    "\n",
    "print(f\"List : \\n {list1}\")\n",
    "print(f\"type: \\n {type(list1)}\")\n"
   ]
  },
  {
   "cell_type": "code",
   "execution_count": 19,
   "id": "0e75b4d3",
   "metadata": {},
   "outputs": [
    {
     "name": "stdout",
     "output_type": "stream",
     "text": [
      "Array: \n",
      " [1 2 3 4 5]\n",
      "Dtype: \n",
      " <class 'numpy.ndarray'>\n"
     ]
    }
   ],
   "source": [
    "np_array= np.array([1, 2, 3, 4, 5])\n",
    "\n",
    "print(f\"Array: \\n {np_array}\")\n",
    "print(f\"Dtype: \\n {type(np_array)}\")"
   ]
  },
  {
   "cell_type": "markdown",
   "id": "6c9f78cf",
   "metadata": {},
   "source": [
    "Creating One Dimensional Array\n"
   ]
  },
  {
   "cell_type": "code",
   "execution_count": 20,
   "id": "ed70fd0a",
   "metadata": {},
   "outputs": [
    {
     "name": "stdout",
     "output_type": "stream",
     "text": [
      "Np Array: \n",
      " [1 2 3 4 5]\n",
      "Shape: \n",
      " (5,)\n"
     ]
    }
   ],
   "source": [
    "a = np.array([1, 2, 3, 4, 5])\n",
    "\n",
    "print(f\"Np Array: \\n {a}\")\n",
    "print(f\"Shape: \\n {a.shape}\")"
   ]
  },
  {
   "cell_type": "markdown",
   "id": "2a329429",
   "metadata": {},
   "source": [
    "Two Dimensional Array\n"
   ]
  },
  {
   "cell_type": "code",
   "execution_count": 23,
   "id": "bc462bb8",
   "metadata": {},
   "outputs": [
    {
     "name": "stdout",
     "output_type": "stream",
     "text": [
      "Np Array: \n",
      " [[1 2]\n",
      " [3 4]\n",
      " [5 6]]\n",
      "Shape: \n",
      " (3, 2)\n",
      "Dimensions: \n",
      " 2\n"
     ]
    }
   ],
   "source": [
    "b = np.array([(1, 2), (3, 4), (5, 6)])\n",
    "print(f\"Np Array: \\n {b}\")\n",
    "print(f\"Shape: \\n {b.shape}\")\n",
    "print(f\"Dimensions: \\n {b.ndim}\")"
   ]
  },
  {
   "cell_type": "markdown",
   "id": "c1a8292e",
   "metadata": {},
   "source": [
    "Float values with 2D array\n"
   ]
  },
  {
   "cell_type": "code",
   "execution_count": 24,
   "id": "ccd8f757",
   "metadata": {},
   "outputs": [
    {
     "name": "stdout",
     "output_type": "stream",
     "text": [
      "Np Array: \n",
      " [[1. 2. 3.]\n",
      " [4. 5. 5.]]\n",
      "Shape: \n",
      " (2, 3)\n",
      "Dimensions: \n",
      " 2\n"
     ]
    }
   ],
   "source": [
    "c = np.array([(1, 2, 3), (4, 5, 5)], dtype=float)\n",
    "\n",
    "print(f\"Np Array: \\n {c}\")\n",
    "print(f\"Shape: \\n {c.shape}\")\n",
    "print(f\"Dimensions: \\n {c.ndim}\")\n"
   ]
  },
  {
   "cell_type": "markdown",
   "id": "b0f52d2a",
   "metadata": {},
   "source": [
    "Initial Placeholders\n"
   ]
  },
  {
   "cell_type": "markdown",
   "id": "6b931927",
   "metadata": {},
   "source": [
    "create a Numpy Array of Zeros\n"
   ]
  },
  {
   "cell_type": "code",
   "execution_count": 25,
   "id": "542f4e56",
   "metadata": {},
   "outputs": [
    {
     "name": "stdout",
     "output_type": "stream",
     "text": [
      "Np Array: \n",
      " [[0. 0. 0. 0. 0.]\n",
      " [0. 0. 0. 0. 0.]\n",
      " [0. 0. 0. 0. 0.]\n",
      " [0. 0. 0. 0. 0.]]\n",
      "Shape: \n",
      " (4, 5)\n",
      "Dimensions: \n",
      " 2\n"
     ]
    }
   ],
   "source": [
    "x = np.zeros((4, 5))\n",
    "\n",
    "print(f\"Np Array: \\n {x}\")\n",
    "print(f\"Shape: \\n {x.shape}\")\n",
    "print(f\"Dimensions: \\n {x.ndim}\")"
   ]
  },
  {
   "cell_type": "markdown",
   "id": "95a928f6",
   "metadata": {},
   "source": [
    "create Numpy Array of Ones\n"
   ]
  },
  {
   "cell_type": "code",
   "execution_count": 26,
   "id": "183d676d",
   "metadata": {},
   "outputs": [
    {
     "name": "stdout",
     "output_type": "stream",
     "text": [
      "Np Array: \n",
      " [[1. 1. 1. 1.]\n",
      " [1. 1. 1. 1.]\n",
      " [1. 1. 1. 1.]]\n",
      "Shape: \n",
      " (3, 4)\n",
      "Dimensions: \n",
      " 2\n"
     ]
    }
   ],
   "source": [
    "y = np.ones((3, 4))\n",
    "\n",
    "print(f\"Np Array: \\n {y}\")\n",
    "print(f\"Shape: \\n {y.shape}\")\n",
    "print(f\"Dimensions: \\n {y.ndim}\")"
   ]
  },
  {
   "cell_type": "markdown",
   "id": "7bf79c5d",
   "metadata": {},
   "source": [
    "create Numpy Array of Particular value\n"
   ]
  },
  {
   "cell_type": "code",
   "execution_count": 27,
   "id": "f09a8c1f",
   "metadata": {},
   "outputs": [
    {
     "name": "stdout",
     "output_type": "stream",
     "text": [
      "Np Array: \n",
      " [[9 9 9]\n",
      " [9 9 9]\n",
      " [9 9 9]]\n",
      "Shape: \n",
      " (3, 3)\n",
      "Dimensions: \n",
      " 2\n"
     ]
    }
   ],
   "source": [
    "z = np.full((3, 3), 9)\n",
    "\n",
    "print(f\"Np Array: \\n {z}\")\n",
    "print(f\"Shape: \\n {z.shape}\")\n",
    "print(f\"Dimensions: \\n {z.ndim}\")"
   ]
  },
  {
   "cell_type": "markdown",
   "id": "3a61fce8",
   "metadata": {},
   "source": [
    "create Identity Matrix\n"
   ]
  },
  {
   "cell_type": "code",
   "execution_count": 29,
   "id": "1e581f6d",
   "metadata": {},
   "outputs": [
    {
     "name": "stdout",
     "output_type": "stream",
     "text": [
      "Np Array: \n",
      " [[1. 0. 0. 0. 0.]\n",
      " [0. 1. 0. 0. 0.]\n",
      " [0. 0. 1. 0. 0.]\n",
      " [0. 0. 0. 1. 0.]\n",
      " [0. 0. 0. 0. 1.]]\n",
      "Shape: \n",
      " (5, 5)\n",
      "Dimensions: \n",
      " 2\n"
     ]
    }
   ],
   "source": [
    "a = np.eye(5)\n",
    "\n",
    "print(f\"Np Array: \\n {a}\")\n",
    "print(f\"Shape: \\n {a.shape}\")\n",
    "print(f\"Dimensions: \\n {a.ndim}\")"
   ]
  },
  {
   "cell_type": "markdown",
   "id": "3d3ce1ce",
   "metadata": {},
   "source": [
    "create Numpy Array with Random Values\n"
   ]
  },
  {
   "cell_type": "code",
   "execution_count": 31,
   "id": "c57dd673",
   "metadata": {},
   "outputs": [
    {
     "name": "stdout",
     "output_type": "stream",
     "text": [
      "Np Array: \n",
      " [[0.27432731 0.79452051 0.24875387 0.87230832]\n",
      " [0.41104186 0.3438218  0.73477066 0.47373176]\n",
      " [0.39114353 0.22773356 0.14373378 0.95119032]]\n",
      "Shape: \n",
      " (3, 4)\n",
      "Dimensions: \n",
      " 2\n"
     ]
    }
   ],
   "source": [
    "b = np.random.rand(3, 4)\n",
    "\n",
    "print(f\"Np Array: \\n {b}\")\n",
    "print(f\"Shape: \\n {b.shape}\")\n",
    "print(f\"Dimensions: \\n {b.ndim}\")"
   ]
  },
  {
   "cell_type": "markdown",
   "id": "63deb6d0",
   "metadata": {},
   "source": [
    "create Numpy Array with Random Values with Integers\n"
   ]
  },
  {
   "cell_type": "code",
   "execution_count": 34,
   "id": "880a903e",
   "metadata": {},
   "outputs": [
    {
     "name": "stdout",
     "output_type": "stream",
     "text": [
      "Np Array: \n",
      " [[35 44 39  5]\n",
      " [65 51  6  6]\n",
      " [53 77 16 37]]\n",
      "Shape: \n",
      " (3, 4)\n",
      "Dimensions: \n",
      " 2\n"
     ]
    }
   ],
   "source": [
    "c = np.random.randint(0, 100, (3,4))\n",
    "\n",
    "print(f\"Np Array: \\n {c}\")\n",
    "print(f\"Shape: \\n {c.shape}\")\n",
    "print(f\"Dimensions: \\n {c.ndim}\")"
   ]
  },
  {
   "cell_type": "markdown",
   "id": "33602738",
   "metadata": {},
   "source": [
    "create of Evenly Spaced Values\n"
   ]
  },
  {
   "cell_type": "code",
   "execution_count": 37,
   "id": "d632e181",
   "metadata": {},
   "outputs": [
    {
     "name": "stdout",
     "output_type": "stream",
     "text": [
      "Np Array: \n",
      " [10. 20. 30. 40. 50.]\n",
      "Shape: \n",
      " (5,)\n",
      "Dimensions: \n",
      " 1\n"
     ]
    }
   ],
   "source": [
    "d = np.linspace(10, 50, 5)\n",
    "\n",
    "print(f\"Np Array: \\n {d}\")\n",
    "print(f\"Shape: \\n {d.shape}\")\n",
    "print(f\"Dimensions: \\n {d.ndim}\")\n"
   ]
  },
  {
   "cell_type": "markdown",
   "id": "17e2ca08",
   "metadata": {},
   "source": [
    "array of evenly spaced value with step value\n"
   ]
  },
  {
   "cell_type": "code",
   "execution_count": 38,
   "id": "4a73fca7",
   "metadata": {},
   "outputs": [
    {
     "name": "stdout",
     "output_type": "stream",
     "text": [
      "Np Array: \n",
      " [10 12 14 16 18]\n",
      "Shape: \n",
      " (5,)\n",
      "Dimensions: \n",
      " 1\n"
     ]
    }
   ],
   "source": [
    "e = np.arange(10, 20, 2)\n",
    "\n",
    "\n",
    "print(f\"Np Array: \\n {e}\")\n",
    "print(f\"Shape: \\n {e.shape}\")\n",
    "print(f\"Dimensions: \\n {e.ndim}\")"
   ]
  },
  {
   "cell_type": "markdown",
   "id": "9e2c4663",
   "metadata": {},
   "source": [
    "convert a List to numpy array\n"
   ]
  },
  {
   "cell_type": "code",
   "execution_count": 40,
   "id": "81de6b40",
   "metadata": {},
   "outputs": [
    {
     "name": "stdout",
     "output_type": "stream",
     "text": [
      "Np Array: \n",
      " [10 20 30 40 50]\n",
      "Shape: \n",
      " (5,)\n",
      "Dimensions: \n",
      " 1\n",
      "Type: \n",
      " <class 'numpy.ndarray'>\n"
     ]
    }
   ],
   "source": [
    "list2 = [10, 20, 30, 40, 50]\n",
    "\n",
    "np_array = np.asarray(list2)\n",
    "\n",
    "\n",
    "print(f\"Np Array: \\n {np_array}\")\n",
    "print(f\"Shape: \\n {np_array.shape}\")\n",
    "print(f\"Dimensions: \\n {np_array.ndim}\")\n",
    "print(f\"Type: \\n {type(np_array)}\")"
   ]
  },
  {
   "cell_type": "markdown",
   "id": "4217a779",
   "metadata": {},
   "source": [
    "Analyzing Numpy Array\n"
   ]
  },
  {
   "cell_type": "code",
   "execution_count": 43,
   "id": "e009473d",
   "metadata": {},
   "outputs": [
    {
     "name": "stdout",
     "output_type": "stream",
     "text": [
      "Np Array: \n",
      " [[42 10 25 39 38]\n",
      " [30 24 19 10 26]\n",
      " [47 16 42 45 18]\n",
      " [16 31 32 46 30]\n",
      " [37 45 30 17 24]]\n",
      "Shape: \n",
      " (5, 5)\n",
      "Dimensions: \n",
      " 2\n",
      "Size: \n",
      " 25\n",
      "DType: \n",
      " int32\n"
     ]
    }
   ],
   "source": [
    "c = np.random.randint(10, 50, (5, 5))\n",
    "\n",
    "\n",
    "print(f\"Np Array: \\n {c}\")\n",
    "print(f\"Shape: \\n {c.shape}\")\n",
    "print(f\"Dimensions: \\n {c.ndim}\")\n",
    "print(f\"Size: \\n {c.size}\")\n",
    "print(f\"DType: \\n {c.dtype}\")"
   ]
  },
  {
   "cell_type": "markdown",
   "id": "39217235",
   "metadata": {},
   "source": [
    "Mathematical operations on a np array\n"
   ]
  },
  {
   "cell_type": "code",
   "execution_count": 44,
   "id": "00688782",
   "metadata": {},
   "outputs": [
    {
     "name": "stdout",
     "output_type": "stream",
     "text": [
      "[1, 2, 3, 4, 5, 6, 7, 8, 9, 10]\n"
     ]
    }
   ],
   "source": [
    "list1 = [1, 2, 3, 4, 5]\n",
    "list2 = [6, 7, 8, 9, 10]\n",
    "\n",
    "print(list1 + list2)"
   ]
  },
  {
   "cell_type": "code",
   "execution_count": 45,
   "id": "7abc7369",
   "metadata": {},
   "outputs": [],
   "source": [
    "a = np.random.randint(10, 30, (4, 5))\n",
    "b = np.random.randint(30, 60, (4, 5))"
   ]
  },
  {
   "cell_type": "code",
   "execution_count": 49,
   "id": "93ac1ba2",
   "metadata": {},
   "outputs": [
    {
     "name": "stdout",
     "output_type": "stream",
     "text": [
      "Adition \n",
      " [[65 56 77 71 66]\n",
      " [61 76 60 79 80]\n",
      " [59 50 60 45 57]\n",
      " [62 55 75 74 73]] \n",
      "\n",
      "Subtraction \n",
      " [[-45 -30 -19 -15 -42]\n",
      " [-19 -24 -36 -37 -36]\n",
      " [-11 -12 -16 -19 -11]\n",
      " [ -4 -29 -41 -42 -45]] \n",
      "\n",
      "Multiplication \n",
      " [[ 550  559 1392 1204  648]\n",
      " [ 840 1300  576 1218 1276]\n",
      " [ 840  589  836  416  782]\n",
      " [ 957  546  986  928  826]] \n",
      "\n",
      "Division \n",
      " [[0.18181818 0.30232558 0.60416667 0.65116279 0.22222222]\n",
      " [0.525      0.52       0.25       0.36206897 0.37931034]\n",
      " [0.68571429 0.61290323 0.57894737 0.40625    0.67647059]\n",
      " [0.87878788 0.30952381 0.29310345 0.27586207 0.23728814]] \n",
      "\n"
     ]
    }
   ],
   "source": [
    "print(f\"Adition \\n {a + b} \\n\")\n",
    "print(f\"Subtraction \\n {a - b} \\n\")\n",
    "print(f\"Multiplication \\n {a * b} \\n\")\n",
    "print(f\"Division \\n {a / b} \\n\")"
   ]
  },
  {
   "cell_type": "code",
   "execution_count": 52,
   "id": "13c6541f",
   "metadata": {},
   "outputs": [
    {
     "name": "stdout",
     "output_type": "stream",
     "text": [
      "Adition \n",
      " [[65 56 77 71 66]\n",
      " [61 76 60 79 80]\n",
      " [59 50 60 45 57]\n",
      " [62 55 75 74 73]] \n",
      "\n",
      "Subtraction \n",
      " [[-45 -30 -19 -15 -42]\n",
      " [-19 -24 -36 -37 -36]\n",
      " [-11 -12 -16 -19 -11]\n",
      " [ -4 -29 -41 -42 -45]] \n",
      "\n",
      "Multiplication \n",
      " [[ 550  559 1392 1204  648]\n",
      " [ 840 1300  576 1218 1276]\n",
      " [ 840  589  836  416  782]\n",
      " [ 957  546  986  928  826]] \n",
      "\n",
      "Division \n",
      " [[0.18181818 0.30232558 0.60416667 0.65116279 0.22222222]\n",
      " [0.525      0.52       0.25       0.36206897 0.37931034]\n",
      " [0.68571429 0.61290323 0.57894737 0.40625    0.67647059]\n",
      " [0.87878788 0.30952381 0.29310345 0.27586207 0.23728814]] \n",
      "\n"
     ]
    }
   ],
   "source": [
    "print(f\"Adition \\n {np.add(a, b)} \\n\")\n",
    "print(f\"Subtraction \\n {np.subtract(a, b)} \\n\")\n",
    "print(f\"Multiplication \\n {np.multiply(a, b)} \\n\")\n",
    "print(f\"Division \\n {np.divide(a, b)} \\n\")"
   ]
  },
  {
   "cell_type": "markdown",
   "id": "c92bd0be",
   "metadata": {},
   "source": [
    "Array Manipulation\n"
   ]
  },
  {
   "cell_type": "code",
   "execution_count": 54,
   "id": "314fe501",
   "metadata": {},
   "outputs": [
    {
     "name": "stdout",
     "output_type": "stream",
     "text": [
      "Np Array: \n",
      " [[7 6 7]\n",
      " [1 6 8]] \n",
      "\n",
      "Shape: \n",
      " (2, 3) \n",
      "\n",
      "Dimensions: \n",
      " 2 \n",
      "\n",
      "Size: \n",
      " 6 \n",
      "\n",
      "DType: \n",
      " int32 \n",
      "\n"
     ]
    }
   ],
   "source": [
    "array = np.random.randint(0, 10, (2, 3))\n",
    "\n",
    "\n",
    "print(f\"Np Array: \\n {array} \\n\")\n",
    "print(f\"Shape: \\n {array.shape} \\n\")\n",
    "print(f\"Dimensions: \\n {array.ndim} \\n\")\n",
    "print(f\"Size: \\n {array.size} \\n\")\n",
    "print(f\"DType: \\n {array.dtype} \\n\")"
   ]
  },
  {
   "cell_type": "markdown",
   "id": "ff44a887",
   "metadata": {},
   "source": [
    "Transpose\n"
   ]
  },
  {
   "cell_type": "code",
   "execution_count": 57,
   "id": "a7df88df",
   "metadata": {},
   "outputs": [
    {
     "name": "stdout",
     "output_type": "stream",
     "text": [
      "Trans \n",
      " [[7 1]\n",
      " [6 6]\n",
      " [7 8]] \n",
      "\n",
      "Np Array: \n",
      " [[7 1]\n",
      " [6 6]\n",
      " [7 8]] \n",
      "\n",
      "Shape: \n",
      " (3, 2) \n",
      "\n",
      "Dimensions: \n",
      " 2 \n",
      "\n",
      "Size: \n",
      " 6 \n",
      "\n",
      "DType: \n",
      " int32 \n",
      "\n"
     ]
    }
   ],
   "source": [
    "trans = np.transpose(array)\n",
    "print(f\"Trans \\n {trans} \\n\")\n",
    "print(f\"Np Array: \\n {trans} \\n\")\n",
    "print(f\"Shape: \\n {trans.shape} \\n\")\n",
    "print(f\"Dimensions: \\n {trans.ndim} \\n\")\n",
    "print(f\"Size: \\n {trans.size} \\n\")\n",
    "print(f\"DType: \\n {trans.dtype} \\n\")"
   ]
  },
  {
   "cell_type": "code",
   "execution_count": 58,
   "id": "6d562115",
   "metadata": {},
   "outputs": [
    {
     "name": "stdout",
     "output_type": "stream",
     "text": [
      "Trans \n",
      " [[7 1]\n",
      " [6 6]\n",
      " [7 8]] \n",
      "\n",
      "Np Array: \n",
      " [[7 1]\n",
      " [6 6]\n",
      " [7 8]] \n",
      "\n",
      "Shape: \n",
      " (3, 2) \n",
      "\n",
      "Dimensions: \n",
      " 2 \n",
      "\n",
      "Size: \n",
      " 6 \n",
      "\n",
      "DType: \n",
      " int32 \n",
      "\n"
     ]
    }
   ],
   "source": [
    "trans2 = array.T\n",
    "\n",
    "print(f\"Trans \\n {trans2} \\n\")\n",
    "print(f\"Np Array: \\n {trans2} \\n\")\n",
    "print(f\"Shape: \\n {trans2.shape} \\n\")\n",
    "print(f\"Dimensions: \\n {trans2.ndim} \\n\")\n",
    "print(f\"Size: \\n {trans2.size} \\n\")\n",
    "print(f\"DType: \\n {trans2.dtype} \\n\")\n"
   ]
  },
  {
   "cell_type": "markdown",
   "id": "ed783c66",
   "metadata": {},
   "source": [
    "Reshaping Array\n"
   ]
  },
  {
   "cell_type": "code",
   "execution_count": 59,
   "id": "9f31b762",
   "metadata": {},
   "outputs": [
    {
     "name": "stdout",
     "output_type": "stream",
     "text": [
      "Np Array: \n",
      " [[30 29 31 36]\n",
      " [33 39 32 35]] \n",
      "\n",
      "Shape: \n",
      " (2, 4) \n",
      "\n",
      "Dimensions: \n",
      " 2 \n",
      "\n",
      "Size: \n",
      " 8 \n",
      "\n",
      "DType: \n",
      " int32 \n",
      "\n"
     ]
    }
   ],
   "source": [
    "a = np.random.randint(20, 40, (2, 4))\n",
    "\n",
    "\n",
    "print(f\"Np Array: \\n {a} \\n\")\n",
    "print(f\"Shape: \\n {a.shape} \\n\")\n",
    "print(f\"Dimensions: \\n {a.ndim} \\n\")\n",
    "print(f\"Size: \\n {a.size} \\n\")\n",
    "print(f\"DType: \\n {a.dtype} \\n\")\n"
   ]
  },
  {
   "cell_type": "code",
   "execution_count": 62,
   "id": "537478f8",
   "metadata": {},
   "outputs": [
    {
     "name": "stdout",
     "output_type": "stream",
     "text": [
      "Np Array: \n",
      " [[30 29]\n",
      " [31 36]\n",
      " [33 39]\n",
      " [32 35]] \n",
      "\n",
      "Shape: \n",
      " (4, 2) \n",
      "\n",
      "Dimensions: \n",
      " 2 \n",
      "\n",
      "Size: \n",
      " 8 \n",
      "\n",
      "DType: \n",
      " int32 \n",
      "\n"
     ]
    }
   ],
   "source": [
    "b = a.reshape(4,2)\n",
    "\n",
    "print(f\"Np Array: \\n {b} \\n\")\n",
    "print(f\"Shape: \\n {b.shape} \\n\")\n",
    "print(f\"Dimensions: \\n {b.ndim} \\n\")\n",
    "print(f\"Size: \\n {b.size} \\n\")\n",
    "print(f\"DType: \\n {b.dtype} \\n\")\n",
    "\n"
   ]
  },
  {
   "cell_type": "code",
   "execution_count": null,
   "id": "5accb46c",
   "metadata": {},
   "outputs": [],
   "source": []
  }
 ],
 "metadata": {
  "kernelspec": {
   "display_name": ".numpyVenv",
   "language": "python",
   "name": "python3"
  },
  "language_info": {
   "codemirror_mode": {
    "name": "ipython",
    "version": 3
   },
   "file_extension": ".py",
   "mimetype": "text/x-python",
   "name": "python",
   "nbconvert_exporter": "python",
   "pygments_lexer": "ipython3",
   "version": "3.12.5"
  }
 },
 "nbformat": 4,
 "nbformat_minor": 5
}
