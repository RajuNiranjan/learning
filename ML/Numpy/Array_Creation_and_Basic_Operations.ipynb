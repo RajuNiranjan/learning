{
 "cells": [
  {
   "cell_type": "code",
   "execution_count": 1,
   "metadata": {},
   "outputs": [],
   "source": [
    "import numpy as np"
   ]
  },
  {
   "cell_type": "markdown",
   "metadata": {},
   "source": [
    "### Syntax: numpy.array(object, dtype=None, copy=True, order='K', subok=False, ndmin=0)"
   ]
  },
  {
   "cell_type": "markdown",
   "metadata": {},
   "source": [
    "### Creating a 1D Array from a List"
   ]
  },
  {
   "cell_type": "code",
   "execution_count": 8,
   "metadata": {},
   "outputs": [
    {
     "name": "stdout",
     "output_type": "stream",
     "text": [
      "1D array form List: [1 2 3 4 5]\n",
      "Shape: (5,)\n",
      "Data Type: int64\n"
     ]
    }
   ],
   "source": [
    "my_list = [1, 2, 3, 4, 5]\n",
    "\n",
    "array_1d = np.array(my_list)\n",
    "\n",
    "print(f'1D array form List: {array_1d}')\n",
    "print(f'Shape: {array_1d.shape}')\n",
    "print(f'Data Type: {array_1d.dtype}')"
   ]
  },
  {
   "cell_type": "markdown",
   "metadata": {},
   "source": [
    "### Creating a 1D Array from a Tuple"
   ]
  },
  {
   "cell_type": "code",
   "execution_count": 10,
   "metadata": {},
   "outputs": [
    {
     "name": "stdout",
     "output_type": "stream",
     "text": [
      "1D array form List: [10 20 30 40]\n",
      "Shape: (4,)\n",
      "Data Type: int64\n"
     ]
    }
   ],
   "source": [
    "my_tuple  = (10, 20, 30, 40)\n",
    "\n",
    "arr_from_tuple = np.array(my_tuple)\n",
    "\n",
    "print(f'1D array form List: {arr_from_tuple}')\n",
    "print(f'Shape: {arr_from_tuple.shape}')\n",
    "print(f'Data Type: {arr_from_tuple.dtype}')"
   ]
  },
  {
   "cell_type": "markdown",
   "metadata": {},
   "source": [
    "### Creating a 2D Array from a Nested List"
   ]
  },
  {
   "cell_type": "code",
   "execution_count": 11,
   "metadata": {},
   "outputs": [
    {
     "name": "stdout",
     "output_type": "stream",
     "text": [
      "1D array form List: [[1 2 3]\n",
      " [4 5 6]]\n",
      "Shape: (2, 3)\n",
      "Data Type: int64\n"
     ]
    }
   ],
   "source": [
    "nested_list=[[1, 2, 3], [4, 5, 6]]\n",
    "\n",
    "arr_2d = np.array(nested_list)\n",
    "\n",
    "\n",
    "print(f'1D array form List: {arr_2d}')\n",
    "print(f'Shape: {arr_2d.shape}')\n",
    "print(f'Data Type: {arr_2d.dtype}')"
   ]
  },
  {
   "cell_type": "markdown",
   "metadata": {},
   "source": [
    "### Specifying Data Type"
   ]
  },
  {
   "cell_type": "code",
   "execution_count": 15,
   "metadata": {},
   "outputs": [
    {
     "name": "stdout",
     "output_type": "stream",
     "text": [
      "1D array form List: [1.22 2.33 3.44 5.66]\n",
      "Shape: (4,)\n",
      "Data Type: float64\n"
     ]
    }
   ],
   "source": [
    "my_list = [1.22, 2.33, 3.44, 5.66]\n",
    "\n",
    "arr_float=np.array(my_list, dtype=float)\n",
    "# arr_float=np.array(my_list, dtype=np.int32)\n",
    "\n",
    "print(f'1D array form List: {arr_float}')\n",
    "print(f'Shape: {arr_float.shape}')\n",
    "print(f'Data Type: {arr_float.dtype}')\n",
    "\n"
   ]
  },
  {
   "cell_type": "markdown",
   "metadata": {},
   "source": [
    "### Creating a 3D Array from Nested Lists"
   ]
  },
  {
   "cell_type": "code",
   "execution_count": 19,
   "metadata": {},
   "outputs": [
    {
     "name": "stdout",
     "output_type": "stream",
     "text": [
      "3D array form List: \n",
      " [[[1 2]\n",
      "  [3 4]]\n",
      "\n",
      " [[5 6]\n",
      "  [7 8]]]\n",
      "Shape: (2, 2, 2)\n",
      "Data Type: int64\n",
      "Data Type: 3\n"
     ]
    }
   ],
   "source": [
    "arr = [[[1, 2], [3, 4]], [[5, 6],[7, 8]]]\n",
    "arr_3d=np.array(arr)\n",
    "\n",
    "print(f'3D array form List: \\n {arr_3d}')\n",
    "print(f'Shape: {arr_3d.shape}')\n",
    "print(f'Data Type: {arr_3d.dtype}')\n",
    "print(f'Data Type: {arr_3d.ndim}')"
   ]
  },
  {
   "cell_type": "markdown",
   "metadata": {},
   "source": [
    "## Arrays with specific values (np.zeros, np.ones, np.full)\n",
    "\n",
    "#### (shape, dtype=float, order='C')"
   ]
  },
  {
   "cell_type": "markdown",
   "metadata": {},
   "source": [
    "#### Creating a 1D Array with np.zeros"
   ]
  },
  {
   "cell_type": "code",
   "execution_count": 20,
   "metadata": {},
   "outputs": [
    {
     "name": "stdout",
     "output_type": "stream",
     "text": [
      "Array \n",
      " [0. 0. 0. 0. 0.]\n",
      "Shape \n",
      " (5,)\n",
      "Size \n",
      " 5\n",
      "Dimensions \n",
      " 1\n"
     ]
    }
   ],
   "source": [
    "arr = np.zeros(5)\n",
    "print(f\"Array \\n {arr}\")\n",
    "print(f\"Shape \\n {arr.shape}\")\n",
    "print(f\"Size \\n {arr.size}\")\n",
    "print(f\"Dimensions \\n {arr.ndim}\")"
   ]
  },
  {
   "cell_type": "markdown",
   "metadata": {},
   "source": [
    "### Creating a 2D Array with np.ones"
   ]
  },
  {
   "cell_type": "code",
   "execution_count": 22,
   "metadata": {},
   "outputs": [
    {
     "name": "stdout",
     "output_type": "stream",
     "text": [
      "Array \n",
      " [[1 1 1]\n",
      " [1 1 1]\n",
      " [1 1 1]]\n",
      "Shape \n",
      " (3, 3)\n",
      "Size \n",
      " 9\n",
      "Dimensions \n",
      " 2\n"
     ]
    }
   ],
   "source": [
    "arr = np.ones((3,3), dtype=np.int32)\n",
    "print(f\"Array \\n {arr}\")\n",
    "print(f\"Shape \\n {arr.shape}\")\n",
    "print(f\"Size \\n {arr.size}\")\n",
    "print(f\"Dimensions \\n {arr.ndim}\")"
   ]
  },
  {
   "cell_type": "markdown",
   "metadata": {},
   "source": [
    "### Creating a 3D Array with np.full"
   ]
  },
  {
   "cell_type": "code",
   "execution_count": 24,
   "metadata": {},
   "outputs": [
    {
     "name": "stdout",
     "output_type": "stream",
     "text": [
      "Array \n",
      " [[[2 2 2 2]\n",
      "  [2 2 2 2]\n",
      "  [2 2 2 2]]\n",
      "\n",
      " [[2 2 2 2]\n",
      "  [2 2 2 2]\n",
      "  [2 2 2 2]]\n",
      "\n",
      " [[2 2 2 2]\n",
      "  [2 2 2 2]\n",
      "  [2 2 2 2]]]\n",
      "Shape \n",
      " (3, 3, 4)\n",
      "Size \n",
      " 36\n",
      "Dimensions \n",
      " 3\n"
     ]
    }
   ],
   "source": [
    "arr = np.full((3,3, 4), 2)\n",
    "print(f\"Array \\n {arr}\")\n",
    "print(f\"Shape \\n {arr.shape}\")\n",
    "print(f\"Size \\n {arr.size}\")\n",
    "print(f\"Dimensions \\n {arr.ndim}\")"
   ]
  },
  {
   "cell_type": "markdown",
   "metadata": {},
   "source": [
    "## Arrays with ranges (np.arange, np.linspace, np.logspace)"
   ]
  },
  {
   "cell_type": "markdown",
   "metadata": {},
   "source": [
    "#### np.arange(start, stop, step, dtype=None)"
   ]
  },
  {
   "cell_type": "code",
   "execution_count": 25,
   "metadata": {},
   "outputs": [
    {
     "name": "stdout",
     "output_type": "stream",
     "text": [
      "[0 2 4 6 8]\n"
     ]
    }
   ],
   "source": [
    "arr = np.arange(0,  10, 2)\n",
    "print(arr)"
   ]
  },
  {
   "cell_type": "markdown",
   "metadata": {},
   "source": [
    "#### np.linspace(start, stop, num=50, endpoint=True, retstep=False, dtype=None) "
   ]
  },
  {
   "cell_type": "code",
   "execution_count": 26,
   "metadata": {},
   "outputs": [
    {
     "name": "stdout",
     "output_type": "stream",
     "text": [
      "[ 0.   2.5  5.   7.5 10. ]\n"
     ]
    }
   ],
   "source": [
    "arr = np.linspace(0,10,5)\n",
    "print(arr)"
   ]
  },
  {
   "cell_type": "markdown",
   "metadata": {},
   "source": [
    "#### np.logspace(start, stop, num=50, endpoint=True, base=10.0, dtype=None)"
   ]
  },
  {
   "cell_type": "code",
   "execution_count": 28,
   "metadata": {},
   "outputs": [
    {
     "name": "stdout",
     "output_type": "stream",
     "text": [
      "[1.e+00 1.e+10]\n"
     ]
    }
   ],
   "source": [
    "arr = np.logspace(0, 10, 2)\n",
    "print(arr)"
   ]
  },
  {
   "cell_type": "markdown",
   "metadata": {},
   "source": [
    "## Identity and diagonal matrices (np.eye, np.diag)"
   ]
  },
  {
   "cell_type": "markdown",
   "metadata": {},
   "source": [
    "#### np.eye(N, M=None, k=0, dtype=float, order='C')"
   ]
  },
  {
   "cell_type": "code",
   "execution_count": 29,
   "metadata": {},
   "outputs": [
    {
     "name": "stdout",
     "output_type": "stream",
     "text": [
      "[[1. 0. 0.]\n",
      " [0. 1. 0.]\n",
      " [0. 0. 1.]]\n"
     ]
    }
   ],
   "source": [
    "arr =np.eye(3)\n",
    "print(arr)"
   ]
  },
  {
   "cell_type": "code",
   "execution_count": 35,
   "metadata": {},
   "outputs": [
    {
     "name": "stdout",
     "output_type": "stream",
     "text": [
      "[[1 0 0 0]\n",
      " [0 1 0 0]\n",
      " [0 0 1 0]]\n"
     ]
    }
   ],
   "source": [
    "arr=np.eye(3, 4, k=0, dtype=np.int32)\n",
    "print(arr)"
   ]
  },
  {
   "cell_type": "markdown",
   "metadata": {},
   "source": [
    "#### np.diag(v, k=0) "
   ]
  },
  {
   "cell_type": "code",
   "execution_count": 38,
   "metadata": {},
   "outputs": [
    {
     "name": "stdout",
     "output_type": "stream",
     "text": [
      "[[1 0 0 0 0]\n",
      " [0 2 0 0 0]\n",
      " [0 0 3 0 0]\n",
      " [0 0 0 4 0]\n",
      " [0 0 0 0 5]]\n"
     ]
    }
   ],
   "source": [
    "values=[1, 2, 3, 4, 5]\n",
    "arr = np.diag(values)\n",
    "print(arr)"
   ]
  },
  {
   "cell_type": "code",
   "execution_count": 40,
   "metadata": {},
   "outputs": [
    {
     "name": "stdout",
     "output_type": "stream",
     "text": [
      "[[0 2 0 0 0 0]\n",
      " [0 0 3 0 0 0]\n",
      " [0 0 0 4 0 0]\n",
      " [0 0 0 0 5 0]\n",
      " [0 0 0 0 0 6]\n",
      " [0 0 0 0 0 0]]\n"
     ]
    }
   ],
   "source": [
    "values=[2, 3, 4, 5, 6]\n",
    "arr = np.diag(values, k=1)\n",
    "print(arr)"
   ]
  },
  {
   "cell_type": "markdown",
   "metadata": {},
   "source": [
    "### Random arrays (np.random.rand, np.random.randn, np.random.randint)"
   ]
  },
  {
   "cell_type": "markdown",
   "metadata": {},
   "source": [
    "#### np.random.rand"
   ]
  },
  {
   "cell_type": "code",
   "execution_count": 41,
   "metadata": {},
   "outputs": [
    {
     "name": "stdout",
     "output_type": "stream",
     "text": [
      "[0.72919954 0.54589735 0.89239365 0.4328172  0.62998268]\n"
     ]
    }
   ],
   "source": [
    "rand=np.random.rand(5)\n",
    "print(rand)"
   ]
  },
  {
   "cell_type": "code",
   "execution_count": 43,
   "metadata": {},
   "outputs": [
    {
     "name": "stdout",
     "output_type": "stream",
     "text": [
      "[[0.61227568 0.24307198]\n",
      " [0.0220875  0.32734441]\n",
      " [0.26814025 0.0145018 ]]\n",
      "dimension\n",
      "2 \n"
     ]
    }
   ],
   "source": [
    "rand=np.random.rand(3,2)\n",
    "print(rand)\n",
    "print(f\"dimension\\n{rand.ndim} \")"
   ]
  },
  {
   "cell_type": "markdown",
   "metadata": {},
   "source": [
    "#### np.random.randn(d0, d1, ..., dn)"
   ]
  },
  {
   "cell_type": "code",
   "execution_count": 44,
   "metadata": {},
   "outputs": [
    {
     "name": "stdout",
     "output_type": "stream",
     "text": [
      "[ 0.01021086 -1.27072576 -0.17224567 -1.64860907 -0.89397006]\n"
     ]
    }
   ],
   "source": [
    "randN = np.random.randn(5)\n",
    "print(randN)"
   ]
  },
  {
   "cell_type": "markdown",
   "metadata": {},
   "source": [
    "#### np.random.randint(low, high=None, size=None, dtype=int)"
   ]
  },
  {
   "cell_type": "code",
   "execution_count": 48,
   "metadata": {},
   "outputs": [
    {
     "name": "stdout",
     "output_type": "stream",
     "text": [
      "[[9 3 9]\n",
      " [4 3 2]\n",
      " [2 0 0]\n",
      " [9 0 4]\n",
      " [9 1 8]]\n"
     ]
    }
   ],
   "source": [
    "rand = np.random.randint(0, 10, size=(5, 3))\n",
    "print(rand)"
   ]
  },
  {
   "cell_type": "markdown",
   "metadata": {},
   "source": [
    "### Reshaping and Resizing"
   ]
  },
  {
   "cell_type": "code",
   "execution_count": 57,
   "metadata": {},
   "outputs": [
    {
     "name": "stdout",
     "output_type": "stream",
     "text": [
      "[[1 2]\n",
      " [3 4]\n",
      " [5 6]]\n",
      "[1 2 3 4 5 6]\n",
      "[1 2 3 4 5 6]\n"
     ]
    }
   ],
   "source": [
    "arr=np.array([1,2,3,4,5,6])\n",
    "reshape=arr.reshape(3,-1)\n",
    "print(reshape)\n",
    "print(reshape.flatten())\n",
    "print(reshape.ravel())"
   ]
  },
  {
   "cell_type": "markdown",
   "metadata": {},
   "source": [
    "#### Transposeing "
   ]
  },
  {
   "cell_type": "code",
   "execution_count": 59,
   "metadata": {},
   "outputs": [
    {
     "name": "stdout",
     "output_type": "stream",
     "text": [
      "[[1 4]\n",
      " [2 5]\n",
      " [3 6]\n",
      " [9 7]]\n",
      "[[1 4]\n",
      " [2 5]\n",
      " [3 6]\n",
      " [9 7]]\n"
     ]
    }
   ],
   "source": [
    "arr = np.array([[1, 2, 3,9],[4, 5 ,6, 7]])\n",
    "transpose=arr.transpose()\n",
    "transpose_T= arr.T\n",
    "print(transpose)\n",
    "print(transpose_T)"
   ]
  },
  {
   "cell_type": "code",
   "execution_count": 60,
   "metadata": {},
   "outputs": [
    {
     "name": "stdout",
     "output_type": "stream",
     "text": [
      "Original Array: [1 2 3]\n",
      "Resized to (5,): [1 2 3 1 2]\n"
     ]
    }
   ],
   "source": [
    "arr = np.array([1, 2, 3])\n",
    "\n",
    "# Resize to larger size (repeats elements)\n",
    "resized = np.resize(arr, (5,))\n",
    "\n",
    "print(\"Original Array:\", arr)\n",
    "print(\"Resized to (5,):\", resized)"
   ]
  },
  {
   "cell_type": "code",
   "execution_count": null,
   "metadata": {},
   "outputs": [],
   "source": []
  }
 ],
 "metadata": {
  "kernelspec": {
   "display_name": ".numpyVenv",
   "language": "python",
   "name": "python3"
  },
  "language_info": {
   "codemirror_mode": {
    "name": "ipython",
    "version": 3
   },
   "file_extension": ".py",
   "mimetype": "text/x-python",
   "name": "python",
   "nbconvert_exporter": "python",
   "pygments_lexer": "ipython3",
   "version": "3.10.13"
  }
 },
 "nbformat": 4,
 "nbformat_minor": 2
}
