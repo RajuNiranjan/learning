{
 "cells": [
  {
   "cell_type": "markdown",
   "id": "4dc4688a",
   "metadata": {},
   "source": [
    "Creating Matrix\n"
   ]
  },
  {
   "cell_type": "code",
   "execution_count": 1,
   "id": "d223471a",
   "metadata": {},
   "outputs": [],
   "source": [
    "import numpy as np"
   ]
  },
  {
   "cell_type": "code",
   "execution_count": 2,
   "id": "3b388de8",
   "metadata": {},
   "outputs": [],
   "source": [
    "m1 = np.array([[2, 3], [6, 7]])"
   ]
  },
  {
   "cell_type": "code",
   "execution_count": 7,
   "id": "17e3ef5a",
   "metadata": {},
   "outputs": [
    {
     "data": {
      "text/plain": [
       "(2, 2)"
      ]
     },
     "execution_count": 7,
     "metadata": {},
     "output_type": "execute_result"
    }
   ],
   "source": [
    "m1.shape"
   ]
  },
  {
   "cell_type": "code",
   "execution_count": 15,
   "id": "a981569c",
   "metadata": {},
   "outputs": [
    {
     "data": {
      "text/plain": [
       "array([[2, 3],\n",
       "       [6, 7]])"
      ]
     },
     "execution_count": 15,
     "metadata": {},
     "output_type": "execute_result"
    }
   ],
   "source": [
    "m1"
   ]
  },
  {
   "cell_type": "code",
   "execution_count": 8,
   "id": "80d587e0",
   "metadata": {},
   "outputs": [
    {
     "data": {
      "text/plain": [
       "2"
      ]
     },
     "execution_count": 8,
     "metadata": {},
     "output_type": "execute_result"
    }
   ],
   "source": [
    "m1.ndim"
   ]
  },
  {
   "cell_type": "code",
   "execution_count": 11,
   "id": "2936ea4b",
   "metadata": {},
   "outputs": [],
   "source": [
    "m2 = np.array([[1, 2, 11], [3, 4, 12], [5, 6, 13]])"
   ]
  },
  {
   "cell_type": "code",
   "execution_count": 12,
   "id": "43a8cd3b",
   "metadata": {},
   "outputs": [
    {
     "data": {
      "text/plain": [
       "(3, 3)"
      ]
     },
     "execution_count": 12,
     "metadata": {},
     "output_type": "execute_result"
    }
   ],
   "source": [
    "m2.shape"
   ]
  },
  {
   "cell_type": "code",
   "execution_count": 13,
   "id": "2a914e8a",
   "metadata": {},
   "outputs": [
    {
     "data": {
      "text/plain": [
       "2"
      ]
     },
     "execution_count": 13,
     "metadata": {},
     "output_type": "execute_result"
    }
   ],
   "source": [
    "m2.ndim"
   ]
  },
  {
   "cell_type": "code",
   "execution_count": 14,
   "id": "3bf0d731",
   "metadata": {},
   "outputs": [
    {
     "data": {
      "text/plain": [
       "array([[ 1,  2, 11],\n",
       "       [ 3,  4, 12],\n",
       "       [ 5,  6, 13]])"
      ]
     },
     "execution_count": 14,
     "metadata": {},
     "output_type": "execute_result"
    }
   ],
   "source": [
    "m2"
   ]
  },
  {
   "cell_type": "markdown",
   "id": "3d151aff",
   "metadata": {},
   "source": [
    "Creating Matricess with Random values\n"
   ]
  },
  {
   "cell_type": "code",
   "execution_count": 17,
   "id": "203f8d8e",
   "metadata": {},
   "outputs": [],
   "source": [
    "m3 = np.random.rand(3, 3)"
   ]
  },
  {
   "cell_type": "code",
   "execution_count": 18,
   "id": "3ef02aaa",
   "metadata": {},
   "outputs": [
    {
     "data": {
      "text/plain": [
       "array([[0.26325474, 0.74779939, 0.37464625],\n",
       "       [0.84962145, 0.79548723, 0.73780657],\n",
       "       [0.33188663, 0.40684858, 0.85381571]])"
      ]
     },
     "execution_count": 18,
     "metadata": {},
     "output_type": "execute_result"
    }
   ],
   "source": [
    "m3"
   ]
  },
  {
   "cell_type": "code",
   "execution_count": 19,
   "id": "22758f04",
   "metadata": {},
   "outputs": [],
   "source": [
    "m4 = np.random.randint(10, 100, (2, 2))"
   ]
  },
  {
   "cell_type": "code",
   "execution_count": 20,
   "id": "ef4f49c6",
   "metadata": {},
   "outputs": [
    {
     "data": {
      "text/plain": [
       "array([[92, 96],\n",
       "       [35, 46]], dtype=int32)"
      ]
     },
     "execution_count": 20,
     "metadata": {},
     "output_type": "execute_result"
    }
   ],
   "source": [
    "m4"
   ]
  },
  {
   "cell_type": "markdown",
   "id": "3507484f",
   "metadata": {},
   "source": [
    "Marix with all the values as 1\n"
   ]
  },
  {
   "cell_type": "code",
   "execution_count": 27,
   "id": "b56263cf",
   "metadata": {},
   "outputs": [],
   "source": [
    "m1 = np.ones((5, 5), dtype=int)"
   ]
  },
  {
   "cell_type": "code",
   "execution_count": 28,
   "id": "d8a6a4a3",
   "metadata": {},
   "outputs": [
    {
     "data": {
      "text/plain": [
       "array([[1, 1, 1, 1, 1],\n",
       "       [1, 1, 1, 1, 1],\n",
       "       [1, 1, 1, 1, 1],\n",
       "       [1, 1, 1, 1, 1],\n",
       "       [1, 1, 1, 1, 1]])"
      ]
     },
     "execution_count": 28,
     "metadata": {},
     "output_type": "execute_result"
    }
   ],
   "source": [
    "m1"
   ]
  },
  {
   "cell_type": "markdown",
   "id": "46d06c28",
   "metadata": {},
   "source": [
    "Matrix with all the values as 0\n"
   ]
  },
  {
   "cell_type": "code",
   "execution_count": 29,
   "id": "7c182f71",
   "metadata": {},
   "outputs": [],
   "source": [
    "m2 = np.zeros((3, 3), dtype=int)"
   ]
  },
  {
   "cell_type": "code",
   "execution_count": 30,
   "id": "bc57660a",
   "metadata": {},
   "outputs": [
    {
     "data": {
      "text/plain": [
       "array([[0, 0, 0],\n",
       "       [0, 0, 0],\n",
       "       [0, 0, 0]])"
      ]
     },
     "execution_count": 30,
     "metadata": {},
     "output_type": "execute_result"
    }
   ],
   "source": [
    "m2"
   ]
  },
  {
   "cell_type": "markdown",
   "id": "7c76721f",
   "metadata": {},
   "source": [
    "Identity Matrix\n"
   ]
  },
  {
   "cell_type": "code",
   "execution_count": 38,
   "id": "09e8dd2b",
   "metadata": {},
   "outputs": [],
   "source": [
    "m3 = np.eye(3, 3, dtype=int)"
   ]
  },
  {
   "cell_type": "code",
   "execution_count": 39,
   "id": "d35cd61a",
   "metadata": {},
   "outputs": [
    {
     "data": {
      "text/plain": [
       "array([[1, 0, 0],\n",
       "       [0, 1, 0],\n",
       "       [0, 0, 1]])"
      ]
     },
     "execution_count": 39,
     "metadata": {},
     "output_type": "execute_result"
    }
   ],
   "source": [
    "m3"
   ]
  },
  {
   "cell_type": "markdown",
   "id": "4a917c17",
   "metadata": {},
   "source": [
    "Transpose of a Matrix\n"
   ]
  },
  {
   "cell_type": "code",
   "execution_count": 40,
   "id": "d0c90069",
   "metadata": {},
   "outputs": [],
   "source": [
    "m1 = np.random.randint(10, 20, (3, 3))"
   ]
  },
  {
   "cell_type": "code",
   "execution_count": 44,
   "id": "743b9192",
   "metadata": {},
   "outputs": [
    {
     "data": {
      "text/plain": [
       "array([[13, 12, 19],\n",
       "       [18, 13, 17],\n",
       "       [17, 14, 14]], dtype=int32)"
      ]
     },
     "execution_count": 44,
     "metadata": {},
     "output_type": "execute_result"
    }
   ],
   "source": [
    "m1"
   ]
  },
  {
   "cell_type": "code",
   "execution_count": 45,
   "id": "5a368591",
   "metadata": {},
   "outputs": [
    {
     "data": {
      "text/plain": [
       "array([[13, 18, 17],\n",
       "       [12, 13, 14],\n",
       "       [19, 17, 14]], dtype=int32)"
      ]
     },
     "execution_count": 45,
     "metadata": {},
     "output_type": "execute_result"
    }
   ],
   "source": [
    "m1.transpose() # np.transpose(m1)"
   ]
  },
  {
   "cell_type": "code",
   "execution_count": null,
   "id": "be480e62",
   "metadata": {},
   "outputs": [],
   "source": []
  }
 ],
 "metadata": {
  "kernelspec": {
   "display_name": "Python 3",
   "language": "python",
   "name": "python3"
  },
  "language_info": {
   "codemirror_mode": {
    "name": "ipython",
    "version": 3
   },
   "file_extension": ".py",
   "mimetype": "text/x-python",
   "name": "python",
   "nbconvert_exporter": "python",
   "pygments_lexer": "ipython3",
   "version": "3.12.5"
  }
 },
 "nbformat": 4,
 "nbformat_minor": 5
}
