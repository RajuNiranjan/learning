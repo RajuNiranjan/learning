{
 "cells": [
  {
   "cell_type": "code",
   "execution_count": 1,
   "id": "8eed7c95",
   "metadata": {},
   "outputs": [],
   "source": [
    "import numpy as np"
   ]
  },
  {
   "cell_type": "code",
   "execution_count": 2,
   "id": "d0b4b03a",
   "metadata": {},
   "outputs": [
    {
     "data": {
      "text/plain": [
       "array([[ 8, 10],\n",
       "       [12, 14]])"
      ]
     },
     "execution_count": 2,
     "metadata": {},
     "output_type": "execute_result"
    }
   ],
   "source": [
    "a = np.array([[2, 3], [4, 5]])\n",
    "\n",
    "b = np.array([[6, 7], [8, 9]])\n",
    "\n",
    "sum = (a + b)\n",
    "\n",
    "sum"
   ]
  },
  {
   "cell_type": "code",
   "execution_count": 3,
   "id": "86895970",
   "metadata": {},
   "outputs": [
    {
     "name": "stdout",
     "output_type": "stream",
     "text": [
      " C_matrix \n",
      " [[5 4 9]\n",
      " [2 3 3]\n",
      " [9 3 2]] \n",
      "\n",
      " D_matrix \n",
      "  [[12 15 12]\n",
      " [19 10 19]\n",
      " [13 10 13]] \n",
      "\n",
      " SUM \n",
      " [[17 19 21]\n",
      " [21 13 22]\n",
      " [22 13 15]] \n",
      "\n"
     ]
    }
   ],
   "source": [
    "c = np.random.randint(1, 10, (3, 3))\n",
    "\n",
    "d = np.random.randint(10, 20, (3, 3))\n",
    "\n",
    "sum = c + d\n",
    "\n",
    "print(f\" C_matrix \\n {c} \\n\")\n",
    "print(f\" D_matrix \\n  {d} \\n\")\n",
    "print(f\" SUM \\n {sum} \\n\")"
   ]
  },
  {
   "cell_type": "code",
   "execution_count": 6,
   "id": "b213e1f7",
   "metadata": {},
   "outputs": [
    {
     "data": {
      "text/plain": [
       "array([[ 8, 10],\n",
       "       [12, 14]])"
      ]
     },
     "execution_count": 6,
     "metadata": {},
     "output_type": "execute_result"
    }
   ],
   "source": [
    "np.add(a, b)"
   ]
  },
  {
   "cell_type": "code",
   "execution_count": null,
   "id": "8c58c568",
   "metadata": {},
   "outputs": [],
   "source": []
  }
 ],
 "metadata": {
  "kernelspec": {
   "display_name": "Python 3",
   "language": "python",
   "name": "python3"
  },
  "language_info": {
   "codemirror_mode": {
    "name": "ipython",
    "version": 3
   },
   "file_extension": ".py",
   "mimetype": "text/x-python",
   "name": "python",
   "nbconvert_exporter": "python",
   "pygments_lexer": "ipython3",
   "version": "3.12.5"
  }
 },
 "nbformat": 4,
 "nbformat_minor": 5
}
