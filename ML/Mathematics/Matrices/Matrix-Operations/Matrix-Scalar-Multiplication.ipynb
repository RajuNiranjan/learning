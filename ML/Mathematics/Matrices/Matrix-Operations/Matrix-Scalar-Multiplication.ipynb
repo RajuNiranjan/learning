{
 "cells": [
  {
   "cell_type": "code",
   "execution_count": 1,
   "id": "e7112b87",
   "metadata": {},
   "outputs": [],
   "source": [
    "import numpy as np"
   ]
  },
  {
   "cell_type": "code",
   "execution_count": 5,
   "id": "b14046e5",
   "metadata": {},
   "outputs": [
    {
     "name": "stdout",
     "output_type": "stream",
     "text": [
      "A_matrix \n",
      " [3 7 5 5 9] \n",
      "\n",
      "Scalar \n",
      " 2 \n",
      "\n",
      "Mult \n",
      " [ 6 14 10 10 18] \n",
      "\n"
     ]
    }
   ],
   "source": [
    "a = np.random.randint(1, 10, 5)\n",
    "\n",
    "s = 2\n",
    "\n",
    "mult = s * a\n",
    "\n",
    "print(f\"A_matrix \\n {a} \\n\")\n",
    "print(f\"Scalar \\n {s} \\n\")\n",
    "print(f\"Mult \\n {mult} \\n\")"
   ]
  },
  {
   "cell_type": "code",
   "execution_count": 6,
   "id": "f5ace9ff",
   "metadata": {},
   "outputs": [
    {
     "data": {
      "text/plain": [
       "array([ 6, 14, 10, 10, 18], dtype=int32)"
      ]
     },
     "execution_count": 6,
     "metadata": {},
     "output_type": "execute_result"
    }
   ],
   "source": [
    "np.multiply(s, a)"
   ]
  },
  {
   "cell_type": "code",
   "execution_count": null,
   "id": "e631fd12",
   "metadata": {},
   "outputs": [],
   "source": []
  }
 ],
 "metadata": {
  "kernelspec": {
   "display_name": "Python 3",
   "language": "python",
   "name": "python3"
  },
  "language_info": {
   "codemirror_mode": {
    "name": "ipython",
    "version": 3
   },
   "file_extension": ".py",
   "mimetype": "text/x-python",
   "name": "python",
   "nbconvert_exporter": "python",
   "pygments_lexer": "ipython3",
   "version": "3.12.5"
  }
 },
 "nbformat": 4,
 "nbformat_minor": 5
}
