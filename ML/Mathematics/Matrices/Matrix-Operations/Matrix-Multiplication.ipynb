{
 "cells": [
  {
   "cell_type": "code",
   "execution_count": 1,
   "id": "802cfdfd",
   "metadata": {},
   "outputs": [],
   "source": [
    "import numpy as np"
   ]
  },
  {
   "cell_type": "code",
   "execution_count": 2,
   "id": "5bc50c74",
   "metadata": {},
   "outputs": [
    {
     "name": "stdout",
     "output_type": "stream",
     "text": [
      "A_matrix \n",
      " [[2 3]\n",
      " [7 4]] \n",
      " \n",
      "B_matrix \n",
      " [[7 8]\n",
      " [7 1]] \n",
      " \n",
      "Mult \n",
      " [[14 24]\n",
      " [49  4]] \n",
      " \n"
     ]
    }
   ],
   "source": [
    "a = np.random.randint(1, 10, ( 2, 2))\n",
    "b = np.random.randint(1, 10, ( 2, 2))\n",
    "\n",
    "mult = a * b\n",
    "\n",
    "print(f\"A_matrix \\n {a} \\n \")\n",
    "print(f\"B_matrix \\n {b} \\n \")\n",
    "print(f\"Mult \\n {mult} \\n \")"
   ]
  },
  {
   "cell_type": "code",
   "execution_count": 3,
   "id": "ff64cff2",
   "metadata": {},
   "outputs": [
    {
     "data": {
      "text/plain": [
       "array([[14, 24],\n",
       "       [49,  4]], dtype=int32)"
      ]
     },
     "execution_count": 3,
     "metadata": {},
     "output_type": "execute_result"
    }
   ],
   "source": [
    "np.multiply(a , b)"
   ]
  }
 ],
 "metadata": {
  "kernelspec": {
   "display_name": "Python 3",
   "language": "python",
   "name": "python3"
  },
  "language_info": {
   "codemirror_mode": {
    "name": "ipython",
    "version": 3
   },
   "file_extension": ".py",
   "mimetype": "text/x-python",
   "name": "python",
   "nbconvert_exporter": "python",
   "pygments_lexer": "ipython3",
   "version": "3.12.5"
  }
 },
 "nbformat": 4,
 "nbformat_minor": 5
}
