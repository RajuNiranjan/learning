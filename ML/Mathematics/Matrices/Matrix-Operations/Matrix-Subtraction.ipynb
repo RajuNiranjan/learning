{
 "cells": [
  {
   "cell_type": "code",
   "execution_count": 3,
   "id": "2917d251",
   "metadata": {},
   "outputs": [],
   "source": [
    "import numpy as np"
   ]
  },
  {
   "cell_type": "code",
   "execution_count": 4,
   "id": "fc1a8fb0",
   "metadata": {},
   "outputs": [
    {
     "data": {
      "text/plain": [
       "array([[-4, -4],\n",
       "       [-4, -4]])"
      ]
     },
     "execution_count": 4,
     "metadata": {},
     "output_type": "execute_result"
    }
   ],
   "source": [
    "a = np.array([[2, 3], [4, 5]])\n",
    "\n",
    "b = np.array([[6, 7], [8, 9]])\n",
    "\n",
    "sub = (a - b)\n",
    "\n",
    "sub"
   ]
  },
  {
   "cell_type": "code",
   "execution_count": 5,
   "id": "6ef6ba59",
   "metadata": {},
   "outputs": [
    {
     "name": "stdout",
     "output_type": "stream",
     "text": [
      " C_matrix \n",
      " [[4 4 7]\n",
      " [6 8 4]\n",
      " [1 4 1]] \n",
      "\n",
      " D_matrix \n",
      "  [[14 10 12]\n",
      " [17 13 13]\n",
      " [17 12 11]] \n",
      "\n",
      " SUB \n",
      " [[-10  -6  -5]\n",
      " [-11  -5  -9]\n",
      " [-16  -8 -10]] \n",
      "\n"
     ]
    }
   ],
   "source": [
    "c = np.random.randint(1, 10, (3, 3))\n",
    "\n",
    "d = np.random.randint(10, 20, (3, 3))\n",
    "\n",
    "sub = c - d\n",
    "\n",
    "print(f\" C_matrix \\n {c} \\n\")\n",
    "print(f\" D_matrix \\n  {d} \\n\")\n",
    "print(f\" SUB \\n {sub} \\n\")"
   ]
  },
  {
   "cell_type": "code",
   "execution_count": 6,
   "id": "5d736f4a",
   "metadata": {},
   "outputs": [
    {
     "data": {
      "text/plain": [
       "array([[-10,  -6,  -5],\n",
       "       [-11,  -5,  -9],\n",
       "       [-16,  -8, -10]], dtype=int32)"
      ]
     },
     "execution_count": 6,
     "metadata": {},
     "output_type": "execute_result"
    }
   ],
   "source": [
    "np.subtract(c ,d)"
   ]
  },
  {
   "cell_type": "code",
   "execution_count": null,
   "id": "c3c62c61",
   "metadata": {},
   "outputs": [],
   "source": []
  }
 ],
 "metadata": {
  "kernelspec": {
   "display_name": "Python 3",
   "language": "python",
   "name": "python3"
  },
  "language_info": {
   "codemirror_mode": {
    "name": "ipython",
    "version": 3
   },
   "file_extension": ".py",
   "mimetype": "text/x-python",
   "name": "python",
   "nbconvert_exporter": "python",
   "pygments_lexer": "ipython3",
   "version": "3.12.5"
  }
 },
 "nbformat": 4,
 "nbformat_minor": 5
}
