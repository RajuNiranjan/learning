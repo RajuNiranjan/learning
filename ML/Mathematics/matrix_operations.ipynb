{
 "cells": [
  {
   "cell_type": "markdown",
   "metadata": {},
   "source": [
    "# Matrix and Matrix Operations"
   ]
  },
  {
   "cell_type": "code",
   "execution_count": 15,
   "metadata": {},
   "outputs": [],
   "source": [
    "import numpy as np"
   ]
  },
  {
   "cell_type": "markdown",
   "metadata": {},
   "source": [
    "Creating a Matrix using Numpy"
   ]
  },
  {
   "cell_type": "code",
   "execution_count": 22,
   "metadata": {},
   "outputs": [
    {
     "name": "stdout",
     "output_type": "stream",
     "text": [
      "[[2 3]\n",
      " [6 7]]\n"
     ]
    },
    {
     "data": {
      "text/plain": [
       "(2, 2)"
      ]
     },
     "execution_count": 22,
     "metadata": {},
     "output_type": "execute_result"
    }
   ],
   "source": [
    "matrix_1 = np.array([[2, 3],[6, 7]])\n",
    "\n",
    "print(matrix_1)\n",
    "\n",
    "matrix_1.shape"
   ]
  },
  {
   "cell_type": "code",
   "execution_count": 23,
   "metadata": {},
   "outputs": [
    {
     "name": "stdout",
     "output_type": "stream",
     "text": [
      "[[1 2 1]\n",
      " [3 4 2]\n",
      " [5 6 4]]\n"
     ]
    },
    {
     "data": {
      "text/plain": [
       "(3, 3)"
      ]
     },
     "execution_count": 23,
     "metadata": {},
     "output_type": "execute_result"
    }
   ],
   "source": [
    "matrix_2 = np.array([[1, 2, 1], [3, 4, 2] , [5, 6, 4]])\n",
    "\n",
    "print(matrix_2)\n",
    "\n",
    "matrix_2.shape"
   ]
  },
  {
   "cell_type": "markdown",
   "metadata": {},
   "source": [
    "Creating matrices with random values"
   ]
  },
  {
   "cell_type": "code",
   "execution_count": 21,
   "metadata": {},
   "outputs": [
    {
     "name": "stdout",
     "output_type": "stream",
     "text": [
      "[[0.12638662 0.54706719 0.68058856 0.26088148]\n",
      " [0.9251339  0.46186978 0.40621558 0.72216418]\n",
      " [0.51143965 0.33137817 0.68073015 0.55487713]\n",
      " [0.01589039 0.42129187 0.61983394 0.82136772]]\n"
     ]
    },
    {
     "data": {
      "text/plain": [
       "(4, 4)"
      ]
     },
     "execution_count": 21,
     "metadata": {},
     "output_type": "execute_result"
    }
   ],
   "source": [
    "random_matrix = np.random.rand(4, 4)\n",
    "\n",
    "print(random_matrix)\n",
    "\n",
    "random_matrix.shape"
   ]
  },
  {
   "cell_type": "markdown",
   "metadata": {},
   "source": [
    "Creating matrices with random integers"
   ]
  },
  {
   "cell_type": "code",
   "execution_count": 25,
   "metadata": {},
   "outputs": [
    {
     "name": "stdout",
     "output_type": "stream",
     "text": [
      "[[93 56 40]\n",
      " [86 42  1]\n",
      " [65 79 22]]\n"
     ]
    },
    {
     "data": {
      "text/plain": [
       "(3, 3)"
      ]
     },
     "execution_count": 25,
     "metadata": {},
     "output_type": "execute_result"
    }
   ],
   "source": [
    "random_integer_matrix = np.random.randint(100, size=(3, 3))\n",
    "\n",
    "print(random_integer_matrix)\n",
    "\n",
    "random_integer_matrix.shape\n"
   ]
  },
  {
   "cell_type": "markdown",
   "metadata": {},
   "source": [
    "Matrix with all values as 1"
   ]
  },
  {
   "cell_type": "code",
   "execution_count": 30,
   "metadata": {},
   "outputs": [
    {
     "data": {
      "text/plain": [
       "array([[1, 1, 1],\n",
       "       [1, 1, 1]])"
      ]
     },
     "execution_count": 30,
     "metadata": {},
     "output_type": "execute_result"
    }
   ],
   "source": [
    "matrix_3 = np.ones((2, 3), dtype=int)\n",
    "\n",
    "matrix_3"
   ]
  },
  {
   "cell_type": "markdown",
   "metadata": {},
   "source": [
    "Matrix with all values as o"
   ]
  },
  {
   "cell_type": "code",
   "execution_count": 31,
   "metadata": {},
   "outputs": [
    {
     "data": {
      "text/plain": [
       "array([[0, 0, 0, 0],\n",
       "       [0, 0, 0, 0],\n",
       "       [0, 0, 0, 0]])"
      ]
     },
     "execution_count": 31,
     "metadata": {},
     "output_type": "execute_result"
    }
   ],
   "source": [
    "matrix_4 = np.zeros((3, 4), dtype=int)\n",
    "\n",
    "matrix_4"
   ]
  },
  {
   "cell_type": "markdown",
   "metadata": {},
   "source": [
    "Identity Matrix"
   ]
  },
  {
   "cell_type": "code",
   "execution_count": 35,
   "metadata": {},
   "outputs": [
    {
     "data": {
      "text/plain": [
       "array([[1, 0, 0],\n",
       "       [0, 1, 0],\n",
       "       [0, 0, 1]])"
      ]
     },
     "execution_count": 35,
     "metadata": {},
     "output_type": "execute_result"
    }
   ],
   "source": [
    "identity_matrix = np.eye(3, 3, dtype=int)\n",
    "\n",
    "identity_matrix"
   ]
  },
  {
   "cell_type": "markdown",
   "metadata": {},
   "source": [
    "Transpose of Matrix\n",
    "    - row into columns\n",
    "    - columns into rows"
   ]
  },
  {
   "cell_type": "code",
   "execution_count": 38,
   "metadata": {},
   "outputs": [
    {
     "name": "stdout",
     "output_type": "stream",
     "text": [
      "[[31 61 90  0 86]\n",
      " [35 99 60 81 75]\n",
      " [88 89 86 33 85]\n",
      " [97 85 83 53 14]]\n"
     ]
    }
   ],
   "source": [
    "# matrix with random interger values\n",
    "\n",
    "a = np.random.randint(100, size=(4, 5))\n",
    "\n",
    "print(a)\n",
    " "
   ]
  },
  {
   "cell_type": "markdown",
   "metadata": {},
   "source": [
    "transpose of a"
   ]
  },
  {
   "cell_type": "code",
   "execution_count": 39,
   "metadata": {},
   "outputs": [
    {
     "name": "stdout",
     "output_type": "stream",
     "text": [
      "[[31 35 88 97]\n",
      " [61 99 89 85]\n",
      " [90 60 86 83]\n",
      " [ 0 81 33 53]\n",
      " [86 75 85 14]]\n"
     ]
    }
   ],
   "source": [
    "transpose_a = np.transpose(a)\n",
    "\n",
    "print(transpose_a)"
   ]
  },
  {
   "cell_type": "code",
   "execution_count": 40,
   "metadata": {},
   "outputs": [
    {
     "data": {
      "text/plain": [
       "array([[31, 35, 88, 97],\n",
       "       [61, 99, 89, 85],\n",
       "       [90, 60, 86, 83],\n",
       "       [ 0, 81, 33, 53],\n",
       "       [86, 75, 85, 14]])"
      ]
     },
     "execution_count": 40,
     "metadata": {},
     "output_type": "execute_result"
    }
   ],
   "source": [
    "transpose_a = a.transpose()\n",
    "\n",
    "transpose_a"
   ]
  },
  {
   "cell_type": "code",
   "execution_count": null,
   "metadata": {},
   "outputs": [],
   "source": []
  },
  {
   "cell_type": "markdown",
   "metadata": {},
   "source": [
    "## Matrix Operations"
   ]
  },
  {
   "cell_type": "markdown",
   "metadata": {},
   "source": [
    "#### Adding Two Matrices\n",
    "    -- Rule: Two Matrices can be added only if the have the same shape, that is, both the matrix should have the same number of rows and columns"
   ]
  },
  {
   "cell_type": "markdown",
   "metadata": {},
   "source": []
  },
  {
   "cell_type": "markdown",
   "metadata": {},
   "source": [
    "Matrix Addition\n",
    "    - two matrices can be added only if they have same shape"
   ]
  },
  {
   "cell_type": "code",
   "execution_count": 59,
   "metadata": {},
   "outputs": [
    {
     "name": "stdout",
     "output_type": "stream",
     "text": [
      "matrix a :\n",
      " [[0 0]\n",
      " [8 1]]\n",
      "matrix b : \n",
      " [[14 16]\n",
      " [16 10]]\n",
      "sum of matrix a , b: \n",
      " [[14 16]\n",
      " [24 11]]\n"
     ]
    }
   ],
   "source": [
    "a = np.random.randint(10, size=(2, 2))\n",
    "b = np.random.randint(10, 20, size=(2, 2))\n",
    "\n",
    "sum = np.add(a, b)\n",
    "\n",
    "print(\"matrix a :\\n\", a)\n",
    "print(\"matrix b : \\n\", b)\n",
    "print(\"sum of matrix a , b: \\n\", sum)"
   ]
  },
  {
   "cell_type": "markdown",
   "metadata": {},
   "source": [
    "Matrix Subtraction\n",
    "    - two matrices can be added only if they have same shape"
   ]
  },
  {
   "cell_type": "code",
   "execution_count": 60,
   "metadata": {},
   "outputs": [
    {
     "name": "stdout",
     "output_type": "stream",
     "text": [
      "matrix a :\n",
      " [[8 9]\n",
      " [1 2]]\n",
      "matrix b : \n",
      " [[17 11]\n",
      " [13 18]]\n",
      "sub of matrix a , b: \n",
      " [[ -9  -2]\n",
      " [-12 -16]]\n"
     ]
    }
   ],
   "source": [
    "a = np.random.randint(10, size=(2, 2))\n",
    "b = np.random.randint(10, 20, size=(2, 2))\n",
    "\n",
    "sub = np.subtract(a, b)\n",
    "\n",
    "print(\"matrix a :\\n\", a)\n",
    "print(\"matrix b : \\n\", b)\n",
    "print(\"sub of matrix a , b: \\n\", sub)"
   ]
  },
  {
   "cell_type": "markdown",
   "metadata": {},
   "source": [
    "Matrix Multiplication"
   ]
  },
  {
   "cell_type": "code",
   "execution_count": 62,
   "metadata": {},
   "outputs": [
    {
     "name": "stdout",
     "output_type": "stream",
     "text": [
      "matrix a :\n",
      " [[7 7 3]\n",
      " [0 6 4]]\n",
      "matrix b : \n",
      " [[12 14]\n",
      " [18 15]\n",
      " [12 14]]\n",
      "mult of matrix a , b: \n",
      " [[ -9  -2]\n",
      " [-12 -16]]\n"
     ]
    }
   ],
   "source": [
    "a = np.random.randint(10, size=(2, 3))\n",
    "b = np.random.randint(10, 20, size=(3, 2))\n",
    "\n",
    "mult = np.matmul(a, b)\n",
    "\n",
    "print(\"matrix a :\\n\", a)\n",
    "print(\"matrix b : \\n\", b)\n",
    "print(\"mult of matrix a , b: \\n\", sub)"
   ]
  },
  {
   "cell_type": "markdown",
   "metadata": {},
   "source": [
    "Multiplication with scalar"
   ]
  },
  {
   "cell_type": "code",
   "execution_count": 64,
   "metadata": {},
   "outputs": [
    {
     "data": {
      "text/plain": [
       "array([[ 6,  8, 14],\n",
       "       [ 4,  2,  6],\n",
       "       [16, 12, 16]])"
      ]
     },
     "execution_count": 64,
     "metadata": {},
     "output_type": "execute_result"
    }
   ],
   "source": [
    "x = 2 \n",
    "y = np.random.randint(10, size=(3, 3))\n",
    "\n",
    "mult_scalar = np.multiply(x , y)\n",
    "\n",
    "mult_scalar"
   ]
  },
  {
   "cell_type": "code",
   "execution_count": null,
   "metadata": {},
   "outputs": [],
   "source": []
  }
 ],
 "metadata": {
  "kernelspec": {
   "display_name": "Python 3",
   "language": "python",
   "name": "python3"
  },
  "language_info": {
   "codemirror_mode": {
    "name": "ipython",
    "version": 3
   },
   "file_extension": ".py",
   "mimetype": "text/x-python",
   "name": "python",
   "nbconvert_exporter": "python",
   "pygments_lexer": "ipython3",
   "version": "3.12.3"
  }
 },
 "nbformat": 4,
 "nbformat_minor": 2
}
