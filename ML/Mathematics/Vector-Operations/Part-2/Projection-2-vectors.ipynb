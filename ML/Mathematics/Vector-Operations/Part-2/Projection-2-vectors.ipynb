{
 "cells": [
  {
   "cell_type": "code",
   "execution_count": 1,
   "id": "895571a7",
   "metadata": {},
   "outputs": [],
   "source": [
    "import numpy as np"
   ]
  },
  {
   "cell_type": "markdown",
   "id": "f5b97481",
   "metadata": {},
   "source": [
    "Projection formula\n",
    "\n",
    "# projv a = ( a . v / ||v||^2) \\* v\n",
    "\n",
    "Magnitude Formula\n",
    "\n",
    "# sqrt(x1^2 + x2^2)\n"
   ]
  },
  {
   "cell_type": "code",
   "execution_count": null,
   "id": "cd1e7ceb",
   "metadata": {},
   "outputs": [],
   "source": []
  },
  {
   "cell_type": "code",
   "execution_count": 5,
   "id": "f24fb25b",
   "metadata": {},
   "outputs": [],
   "source": [
    "a = np.array([2, 4])\n",
    "\n",
    "v = np.array([5, -2])\n",
    "\n",
    "# finding magniture of v vector\n",
    "\n",
    "magnitude_of_v = np.sqrt(sum(v**2))\n",
    "\n",
    "proj_of_a_on_v = (np.dot(a, v) / magnitude_of_v**2) * v\n"
   ]
  },
  {
   "cell_type": "code",
   "execution_count": 6,
   "id": "6455cb5f",
   "metadata": {},
   "outputs": [
    {
     "data": {
      "text/plain": [
       "array([ 0.34482759, -0.13793103])"
      ]
     },
     "execution_count": 6,
     "metadata": {},
     "output_type": "execute_result"
    }
   ],
   "source": [
    "proj_of_a_on_v"
   ]
  },
  {
   "cell_type": "code",
   "execution_count": null,
   "id": "136273c1",
   "metadata": {},
   "outputs": [],
   "source": []
  }
 ],
 "metadata": {
  "kernelspec": {
   "display_name": "Python 3",
   "language": "python",
   "name": "python3"
  },
  "language_info": {
   "codemirror_mode": {
    "name": "ipython",
    "version": 3
   },
   "file_extension": ".py",
   "mimetype": "text/x-python",
   "name": "python",
   "nbconvert_exporter": "python",
   "pygments_lexer": "ipython3",
   "version": "3.12.5"
  }
 },
 "nbformat": 4,
 "nbformat_minor": 5
}
