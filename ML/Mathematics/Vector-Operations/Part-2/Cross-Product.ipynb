{
 "cells": [
  {
   "cell_type": "code",
   "execution_count": 1,
   "id": "12d88858",
   "metadata": {},
   "outputs": [],
   "source": [
    "import numpy as np"
   ]
  },
  {
   "cell_type": "code",
   "execution_count": 2,
   "id": "6fb8ea15",
   "metadata": {},
   "outputs": [
    {
     "name": "stderr",
     "output_type": "stream",
     "text": [
      "C:\\Users\\rajun\\AppData\\Local\\Temp\\ipykernel_27496\\656372100.py:5: DeprecationWarning: Arrays of 2-dimensional vectors are deprecated. Use arrays of 3-dimensional vectors instead. (deprecated in NumPy 2.0)\n",
      "  a_cross_b = np.cross(a, b)\n"
     ]
    },
    {
     "data": {
      "text/plain": [
       "array(-16)"
      ]
     },
     "execution_count": 2,
     "metadata": {},
     "output_type": "execute_result"
    }
   ],
   "source": [
    "a = np.array([2, 4])\n",
    "\n",
    "b = np.array([5, 2])\n",
    "\n",
    "a_cross_b = np.cross(a, b)\n",
    "\n",
    "a_cross_b"
   ]
  },
  {
   "cell_type": "code",
   "execution_count": 4,
   "id": "08f40216",
   "metadata": {},
   "outputs": [
    {
     "data": {
      "text/plain": [
       "array([ 4, -3, -2])"
      ]
     },
     "execution_count": 4,
     "metadata": {},
     "output_type": "execute_result"
    }
   ],
   "source": [
    "c = np.array([4, 2, 5])\n",
    "\n",
    "d = np.array([5, 2, 7])\n",
    "\n",
    "c_dot_d = np.cross(c, d)\n",
    "\n",
    "c_dot_d"
   ]
  },
  {
   "cell_type": "code",
   "execution_count": null,
   "id": "a7bfd950",
   "metadata": {},
   "outputs": [],
   "source": []
  }
 ],
 "metadata": {
  "kernelspec": {
   "display_name": "Python 3",
   "language": "python",
   "name": "python3"
  },
  "language_info": {
   "codemirror_mode": {
    "name": "ipython",
    "version": 3
   },
   "file_extension": ".py",
   "mimetype": "text/x-python",
   "name": "python",
   "nbconvert_exporter": "python",
   "pygments_lexer": "ipython3",
   "version": "3.12.5"
  }
 },
 "nbformat": 4,
 "nbformat_minor": 5
}
