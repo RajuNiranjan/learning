{
 "cells": [
  {
   "cell_type": "code",
   "execution_count": 1,
   "id": "f81dbee7",
   "metadata": {},
   "outputs": [],
   "source": [
    "import numpy as np"
   ]
  },
  {
   "cell_type": "code",
   "execution_count": 7,
   "id": "146512af",
   "metadata": {},
   "outputs": [],
   "source": [
    "a = np.asarray([0, 2, 3])\n",
    "\n",
    "b = np.asarray([0, 2, 4])\n",
    "\n",
    "a_dot_b  = np.dot(a, b)"
   ]
  },
  {
   "cell_type": "code",
   "execution_count": 8,
   "id": "5b61ea29",
   "metadata": {},
   "outputs": [
    {
     "data": {
      "text/plain": [
       "np.int64(16)"
      ]
     },
     "execution_count": 8,
     "metadata": {},
     "output_type": "execute_result"
    }
   ],
   "source": [
    "a_dot_b"
   ]
  },
  {
   "cell_type": "code",
   "execution_count": 9,
   "id": "13298801",
   "metadata": {},
   "outputs": [
    {
     "data": {
      "text/plain": [
       "np.int64(5080)"
      ]
     },
     "execution_count": 9,
     "metadata": {},
     "output_type": "execute_result"
    }
   ],
   "source": [
    "c = np.array([40, 20, 35])\n",
    "\n",
    "d = np.array([52, 24, 72])\n",
    "\n",
    "c_dot_d = np.dot(c, d)\n",
    "c_dot_d"
   ]
  },
  {
   "cell_type": "code",
   "execution_count": null,
   "id": "a81f4ef4",
   "metadata": {},
   "outputs": [],
   "source": []
  }
 ],
 "metadata": {
  "kernelspec": {
   "display_name": "Python 3",
   "language": "python",
   "name": "python3"
  },
  "language_info": {
   "codemirror_mode": {
    "name": "ipython",
    "version": 3
   },
   "file_extension": ".py",
   "mimetype": "text/x-python",
   "name": "python",
   "nbconvert_exporter": "python",
   "pygments_lexer": "ipython3",
   "version": "3.12.5"
  }
 },
 "nbformat": 4,
 "nbformat_minor": 5
}
