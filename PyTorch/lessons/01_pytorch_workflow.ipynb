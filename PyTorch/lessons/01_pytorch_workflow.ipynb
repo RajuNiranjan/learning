{
 "cells": [
  {
   "cell_type": "markdown",
   "id": "67790712",
   "metadata": {},
   "source": [
    "## PyTorch Workflow\n"
   ]
  },
  {
   "cell_type": "markdown",
   "id": "89925087",
   "metadata": {},
   "source": [
    "#### Neural Networks (torch.nn Module)\n",
    "\n",
    "The torch.nn module provides tools to build neural networks, including layers, activation functions, and loss functions. Models are defined by subclassing nn.Module.\n"
   ]
  },
  {
   "cell_type": "code",
   "execution_count": 106,
   "id": "0c234b1a",
   "metadata": {},
   "outputs": [
    {
     "name": "stdout",
     "output_type": "stream",
     "text": [
      "2.8.0+cpu\n"
     ]
    }
   ],
   "source": [
    "import torch\n",
    "import torch.nn as nn\n",
    "import matplotlib.pyplot as plt\n",
    "\n",
    "print(torch.__version__)"
   ]
  },
  {
   "cell_type": "code",
   "execution_count": 107,
   "id": "21dfea98",
   "metadata": {},
   "outputs": [
    {
     "data": {
      "text/plain": [
       "(tensor([[0.0000],\n",
       "         [0.0200],\n",
       "         [0.0400],\n",
       "         [0.0600],\n",
       "         [0.0800],\n",
       "         [0.1000],\n",
       "         [0.1200],\n",
       "         [0.1400],\n",
       "         [0.1600],\n",
       "         [0.1800]]),\n",
       " tensor([[0.3000],\n",
       "         [0.3140],\n",
       "         [0.3280],\n",
       "         [0.3420],\n",
       "         [0.3560],\n",
       "         [0.3700],\n",
       "         [0.3840],\n",
       "         [0.3980],\n",
       "         [0.4120],\n",
       "         [0.4260]]),\n",
       " 50,\n",
       " 50)"
      ]
     },
     "execution_count": 107,
     "metadata": {},
     "output_type": "execute_result"
    }
   ],
   "source": [
    "weight = 0.7\n",
    "bias = 0.3\n",
    "\n",
    "\n",
    "start = 0\n",
    "end=1\n",
    "gap=0.02\n",
    "\n",
    "X = torch.arange(start, end, gap).unsqueeze(dim=1)\n",
    "\n",
    "y = weight * X + bias\n",
    "\n",
    "X[:10], y[:10], len(X), len(y)"
   ]
  },
  {
   "cell_type": "markdown",
   "id": "362ea932",
   "metadata": {},
   "source": [
    "#### splitting data in traing and testing data\n"
   ]
  },
  {
   "cell_type": "code",
   "execution_count": 108,
   "id": "5a854991",
   "metadata": {},
   "outputs": [
    {
     "data": {
      "image/png": "[encoded data removed]",
      "text/plain": [
       "<Figure size 1000x500 with 1 Axes>"
      ]
     },
     "metadata": {},
     "output_type": "display_data"
    }
   ],
   "source": [
    "import torch\n",
    "import matplotlib.pyplot as plt\n",
    "\n",
    "# Data setup\n",
    "weight = 0.7\n",
    "bias = 0.3\n",
    "start = 0\n",
    "end = 1\n",
    "gap = 0.02\n",
    "\n",
    "X = torch.arange(start, end, gap).unsqueeze(dim=1)\n",
    "y = weight * X + bias\n",
    "\n",
    "# Train-test split (80/20)\n",
    "train_split = int(0.8 * len(X))\n",
    "X_train, Y_train = X[:train_split], y[:train_split]\n",
    "X_test, Y_test = X[train_split:], y[train_split:]\n",
    "\n",
    "# Plotting function\n",
    "def plot_predictions(\n",
    "    train_data=X_train,\n",
    "    train_labels=Y_train,\n",
    "    test_data=X_test,\n",
    "    test_labels=Y_test,\n",
    "    predictions=None\n",
    "):\n",
    "    plt.figure(figsize=(10, 5))\n",
    "    plt.scatter(train_data, train_labels, c='b', s=10, label=\"Training data\")\n",
    "    plt.scatter(test_data, test_labels, c='r', s=10, label=\"Testing data\")\n",
    "\n",
    "    if predictions is not None:\n",
    "        plt.scatter(test_data, predictions, c='g', s=10, label=\"Predictions\")\n",
    "\n",
    "    plt.title(\"Train/Test Data Split\")\n",
    "    plt.xlabel(\"X\")\n",
    "    plt.ylabel(\"y\")\n",
    "    plt.legend()\n",
    "    plt.grid(True)\n",
    "    plt.show()\n",
    "\n",
    "# Show the plot\n",
    "plot_predictions()\n"
   ]
  },
  {
   "cell_type": "markdown",
   "id": "c0afd073",
   "metadata": {},
   "source": [
    "### Building Model\n"
   ]
  },
  {
   "cell_type": "code",
   "execution_count": 109,
   "id": "774ca9bc",
   "metadata": {},
   "outputs": [
    {
     "name": "stdout",
     "output_type": "stream",
     "text": [
      "Output: tensor([0.3945, 1.2800], grad_fn=<AddBackward0>)\n"
     ]
    }
   ],
   "source": [
    "import torch\n",
    "from torch import nn\n",
    "\n",
    "class LinearRegressionModel(nn.Module):\n",
    "    def __init__(self):\n",
    "        super().__init__()\n",
    "        # Initialize weights and bias as parameters\n",
    "        self.weights = nn.Parameter(torch.randn(1, requires_grad=True, dtype=torch.float))\n",
    "        self.bias = nn.Parameter(torch.randn(1, requires_grad=True, dtype=torch.float))\n",
    "\n",
    "    # Forward pass (computes predictions)\n",
    "    def forward(self, x):\n",
    "        return self.weights * x + self.bias\n",
    "\n",
    "\n",
    "# Instantiate the model\n",
    "model = LinearRegressionModel()\n",
    "\n",
    "# Example input\n",
    "x = torch.tensor([1.0, 2.0])\n",
    "\n",
    "# Forward pass\n",
    "output = model(x)\n",
    "print(\"Output:\", output)\n"
   ]
  },
  {
   "cell_type": "markdown",
   "id": "92d958d0",
   "metadata": {},
   "source": [
    "| Component        | Purpose                                         |\n",
    "| ---------------- | ----------------------------------------------- |\n",
    "| `torch.nn`       | Neural network building blocks                  |\n",
    "| `nn.Parameter()` | Trainable tensor, tracked for gradients         |\n",
    "| `nn.Module`      | Base class for all models, requires `forward()` |\n"
   ]
  },
  {
   "cell_type": "code",
   "execution_count": 110,
   "id": "e024f06e",
   "metadata": {},
   "outputs": [
    {
     "data": {
      "text/plain": [
       "[Parameter containing:\n",
       " tensor([0.9307], requires_grad=True),\n",
       " Parameter containing:\n",
       " tensor([-0.3482], requires_grad=True)]"
      ]
     },
     "execution_count": 110,
     "metadata": {},
     "output_type": "execute_result"
    }
   ],
   "source": [
    "torch.manual_seed(40)\n",
    "\n",
    "model_0 = LinearRegressionModel()\n",
    "\n",
    "list(model_0.parameters())"
   ]
  },
  {
   "cell_type": "code",
   "execution_count": 111,
   "id": "31a124ea",
   "metadata": {},
   "outputs": [
    {
     "data": {
      "text/plain": [
       "OrderedDict([('weights', tensor([0.9307])), ('bias', tensor([-0.3482]))])"
      ]
     },
     "execution_count": 111,
     "metadata": {},
     "output_type": "execute_result"
    }
   ],
   "source": [
    "model_0.state_dict()"
   ]
  },
  {
   "cell_type": "markdown",
   "id": "44f3ce7b",
   "metadata": {},
   "source": [
    "#### MakingPredictions\n"
   ]
  },
  {
   "cell_type": "code",
   "execution_count": 112,
   "id": "528386c5",
   "metadata": {},
   "outputs": [
    {
     "data": {
      "text/plain": [
       "(tensor([[0.8000],\n",
       "         [0.8200],\n",
       "         [0.8400],\n",
       "         [0.8600],\n",
       "         [0.8800],\n",
       "         [0.9000],\n",
       "         [0.9200],\n",
       "         [0.9400],\n",
       "         [0.9600],\n",
       "         [0.9800]]),\n",
       " tensor([[0.8600],\n",
       "         [0.8740],\n",
       "         [0.8880],\n",
       "         [0.9020],\n",
       "         [0.9160],\n",
       "         [0.9300],\n",
       "         [0.9440],\n",
       "         [0.9580],\n",
       "         [0.9720],\n",
       "         [0.9860]]))"
      ]
     },
     "execution_count": 112,
     "metadata": {},
     "output_type": "execute_result"
    }
   ],
   "source": [
    "X_test, Y_test"
   ]
  },
  {
   "cell_type": "code",
   "execution_count": 113,
   "id": "ceebc8c9",
   "metadata": {},
   "outputs": [
    {
     "data": {
      "text/plain": [
       "tensor([[0.3964],\n",
       "        [0.4150],\n",
       "        [0.4336],\n",
       "        [0.4522],\n",
       "        [0.4709],\n",
       "        [0.4895],\n",
       "        [0.5081],\n",
       "        [0.5267],\n",
       "        [0.5453],\n",
       "        [0.5639]])"
      ]
     },
     "execution_count": 113,
     "metadata": {},
     "output_type": "execute_result"
    }
   ],
   "source": [
    "with torch.inference_mode():\n",
    "    y_preds = model_0(X_test)\n",
    "\n",
    "y_preds"
   ]
  },
  {
   "cell_type": "code",
   "execution_count": 114,
   "id": "c6c5a34b",
   "metadata": {},
   "outputs": [
    {
     "data": {
      "image/png": "[encoded data removed]",
      "text/plain": [
       "<Figure size 1000x500 with 1 Axes>"
      ]
     },
     "metadata": {},
     "output_type": "display_data"
    }
   ],
   "source": [
    "plot_predictions(predictions=y_preds)"
   ]
  },
  {
   "cell_type": "code",
   "execution_count": 115,
   "id": "039af81d",
   "metadata": {},
   "outputs": [
    {
     "data": {
      "text/plain": [
       "OrderedDict([('weights', tensor([0.9307])), ('bias', tensor([-0.3482]))])"
      ]
     },
     "execution_count": 115,
     "metadata": {},
     "output_type": "execute_result"
    }
   ],
   "source": [
    "model_0.state_dict()"
   ]
  },
  {
   "cell_type": "code",
   "execution_count": 116,
   "id": "fa1ba887",
   "metadata": {},
   "outputs": [],
   "source": [
    "# setup a loss function\n",
    "\n",
    "loss_fn = nn.L1Loss()\n",
    "\n",
    "\n",
    "# setup an optimizer\n",
    "optimizer = torch.optim.SGD(\n",
    "    params=model_0.parameters(),\n",
    "    lr=0.01\n",
    ")"
   ]
  },
  {
   "cell_type": "code",
   "execution_count": 117,
   "id": "7b33b45c",
   "metadata": {},
   "outputs": [],
   "source": [
    "with torch.no_grad():\n",
    "    list(model_0.parameters())"
   ]
  },
  {
   "cell_type": "markdown",
   "id": "bc18f33a",
   "metadata": {},
   "source": [
    "#### Building training loop (and a testing loop) in PyTorch\n"
   ]
  },
  {
   "cell_type": "code",
   "execution_count": 118,
   "id": "07a404ad",
   "metadata": {},
   "outputs": [],
   "source": [
    "torch.manual_seed(40)\n",
    "model_0 = LinearRegressionModel()\n",
    "loss_fn = nn.L1Loss()  # Mean Absolute Error\n",
    "optimizer = torch.optim.SGD(params=model_0.parameters(), lr=0.01)"
   ]
  },
  {
   "cell_type": "code",
   "execution_count": 119,
   "id": "8bb7d992",
   "metadata": {},
   "outputs": [
    {
     "name": "stdout",
     "output_type": "stream",
     "text": [
      "Epoch   0 | Train Loss: 0.5582 | Test Loss: 0.4294\n",
      "Epoch  20 | Train Loss: 0.3278 | Test Loss: 0.1599\n",
      "Epoch  40 | Train Loss: 0.1126 | Test Loss: 0.0945\n",
      "Epoch  60 | Train Loss: 0.0786 | Test Loss: 0.1611\n",
      "Epoch  80 | Train Loss: 0.0707 | Test Loss: 0.1605\n",
      "Epoch 100 | Train Loss: 0.0638 | Test Loss: 0.1481\n",
      "Epoch 120 | Train Loss: 0.0569 | Test Loss: 0.1322\n",
      "Epoch 140 | Train Loss: 0.0500 | Test Loss: 0.1164\n",
      "Epoch 160 | Train Loss: 0.0432 | Test Loss: 0.0998\n",
      "Epoch 180 | Train Loss: 0.0363 | Test Loss: 0.0840\n",
      "Epoch 200 | Train Loss: 0.0294 | Test Loss: 0.0681\n",
      "Epoch 220 | Train Loss: 0.0226 | Test Loss: 0.0522\n",
      "Epoch 240 | Train Loss: 0.0157 | Test Loss: 0.0357\n",
      "Epoch 260 | Train Loss: 0.0088 | Test Loss: 0.0198\n",
      "Epoch 280 | Train Loss: 0.0019 | Test Loss: 0.0040\n",
      "\n",
      "Final model parameters: OrderedDict({'weights': tensor([0.7018]), 'bias': tensor([0.2903])})\n"
     ]
    }
   ],
   "source": [
    "epochs = 300\n",
    "\n",
    "for epoch in range(epochs):\n",
    "    # Training\n",
    "    model_0.train()\n",
    "    y_pred = model_0(X_train)\n",
    "    loss = loss_fn(y_pred, Y_train)\n",
    "    optimizer.zero_grad()\n",
    "    loss.backward()\n",
    "    optimizer.step()\n",
    "\n",
    "    # Testing\n",
    "    model_0.eval()\n",
    "    with torch.inference_mode():\n",
    "        y_test_pred = model_0(X_test)\n",
    "        test_loss = loss_fn(y_test_pred, Y_test)\n",
    "\n",
    "    if epoch % 20 == 0:\n",
    "        print(f\"Epoch {epoch:3d} | Train Loss: {loss:.4f} | Test Loss: {test_loss:.4f}\")\n",
    "\n",
    "print(\"\\nFinal model parameters:\", model_0.state_dict())"
   ]
  },
  {
   "cell_type": "code",
   "execution_count": 120,
   "id": "4a36c386",
   "metadata": {},
   "outputs": [
    {
     "data": {
      "image/png": "[encoded data removed]",
      "text/plain": [
       "<Figure size 1000x500 with 1 Axes>"
      ]
     },
     "metadata": {},
     "output_type": "display_data"
    }
   ],
   "source": [
    "def plot_predictions(train_data, train_labels, test_data, test_labels, predictions=None):\n",
    "    plt.figure(figsize=(10, 5))\n",
    "    plt.scatter(train_data, train_labels, c='b', s=10, label=\"Train data\")\n",
    "    plt.scatter(test_data, test_labels, c='r', s=10, label=\"Test data\")\n",
    "    if predictions is not None:\n",
    "        plt.scatter(test_data, predictions, c='g', s=10, label=\"Predictions\")\n",
    "    plt.legend()\n",
    "    plt.show()\n",
    "\n",
    "plot_predictions(X_train, Y_train, X_test, Y_test, y_test_pred)"
   ]
  },
  {
   "cell_type": "code",
   "execution_count": null,
   "id": "c5357709",
   "metadata": {},
   "outputs": [],
   "source": []
  }
 ],
 "metadata": {
  "kernelspec": {
   "display_name": ".venv",
   "language": "python",
   "name": "python3"
  },
  "language_info": {
   "codemirror_mode": {
    "name": "ipython",
    "version": 3
   },
   "file_extension": ".py",
   "mimetype": "text/x-python",
   "name": "python",
   "nbconvert_exporter": "python",
   "pygments_lexer": "ipython3",
   "version": "3.12.5"
  }
 },
 "nbformat": 4,
 "nbformat_minor": 5
}
