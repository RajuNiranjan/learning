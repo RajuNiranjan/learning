{
 "cells": [
  {
   "cell_type": "code",
   "execution_count": 93,
   "id": "f22a06b1",
   "metadata": {},
   "outputs": [
    {
     "name": "stdout",
     "output_type": "stream",
     "text": [
      "2.8.0+cpu\n"
     ]
    }
   ],
   "source": [
    "import torch\n",
    "import pandas as pd\n",
    "import numpy as np\n",
    "import matplotlib.pyplot as plt\n",
    "print(torch.__version__)"
   ]
  },
  {
   "cell_type": "markdown",
   "id": "4c4cf245",
   "metadata": {},
   "source": [
    "#### Tensors\n",
    "\n",
    "Tensors are the fundamental data structure in PyTorch, similar to NumPy arrays but with GPU support and autograd capabilities. They are used for all computations, representing data like scalars, vectors, matrices, or higher-dimensional arrays.\n"
   ]
  },
  {
   "cell_type": "code",
   "execution_count": 94,
   "id": "660bf89d",
   "metadata": {},
   "outputs": [
    {
     "name": "stdout",
     "output_type": "stream",
     "text": [
      "Scalar : \n",
      " Original Scalar 9 \n",
      " Shape of Scalar 0 \n",
      " \n",
      "Vector : \n",
      " Original Vector tensor([8, 9]) \n",
      " Shape of Vector 1 \n",
      " \n",
      "Matrix : \n",
      " Original Matrix tensor([[1., 3., 5.],\n",
      "        [2., 4., 6.]]) \n",
      " Shape of Matrix 2 \n",
      " \n",
      "Tensor : \n",
      " Original Tensor tensor([[[1, 2],\n",
      "         [3, 4],\n",
      "         [5, 6]]]) \n",
      " Shape of Tensor 3 \n",
      " \n"
     ]
    }
   ],
   "source": [
    "scalar = torch.tensor(9)\n",
    "vector = torch.tensor([8, 9])\n",
    "matrix = torch.tensor([\n",
    "    [1., 3., 5.],\n",
    "    [2., 4., 6.]\n",
    "])\n",
    "tensor = torch.tensor([\n",
    "    [\n",
    "        [1, 2],\n",
    "        [3, 4],\n",
    "        [5, 6],\n",
    "    ]\n",
    "])\n",
    "\n",
    "print(f\"Scalar : \\n Original Scalar {scalar} \\n Shape of Scalar {scalar.ndim} \\n \")\n",
    "print(f\"Vector : \\n Original Vector {vector} \\n Shape of Vector {vector.ndim} \\n \")\n",
    "print(f\"Matrix : \\n Original Matrix {matrix} \\n Shape of Matrix {matrix.ndim} \\n \")\n",
    "print(f\"Tensor : \\n Original Tensor {tensor} \\n Shape of Tensor {tensor.ndim} \\n \")"
   ]
  },
  {
   "cell_type": "markdown",
   "id": "26558961",
   "metadata": {},
   "source": [
    "#### Random Tensors\n"
   ]
  },
  {
   "cell_type": "code",
   "execution_count": 95,
   "id": "9669dfae",
   "metadata": {},
   "outputs": [
    {
     "name": "stdout",
     "output_type": "stream",
     "text": [
      "tensor([[0.9266, 0.8501, 0.5952, 0.5625, 0.9802],\n",
      "        [0.0856, 0.3344, 0.8302, 0.5750, 0.8936],\n",
      "        [0.6656, 0.5921, 0.6209, 0.3782, 0.0300],\n",
      "        [0.7316, 0.6332, 0.9703, 0.8884, 0.4063]]) torch.Size([4, 5]) 2\n",
      "tensor([[[0.9704, 0.0090, 0.9739],\n",
      "         [0.6662, 0.5070, 0.1831],\n",
      "         [0.5304, 0.8458, 0.9310],\n",
      "         ...,\n",
      "         [0.4719, 0.4635, 0.4980],\n",
      "         [0.3307, 0.9469, 0.0963],\n",
      "         [0.1071, 0.1039, 0.4384]],\n",
      "\n",
      "        [[0.5516, 0.7077, 0.3997],\n",
      "         [0.8505, 0.4260, 0.6252],\n",
      "         [0.1089, 0.7733, 0.7027],\n",
      "         ...,\n",
      "         [0.7662, 0.4659, 0.2153],\n",
      "         [0.2009, 0.8007, 0.8076],\n",
      "         [0.1035, 0.7639, 0.0719]],\n",
      "\n",
      "        [[0.9183, 0.0487, 0.5940],\n",
      "         [0.5141, 0.1997, 0.7445],\n",
      "         [0.1934, 0.6670, 0.1113],\n",
      "         ...,\n",
      "         [0.6080, 0.4917, 0.0167],\n",
      "         [0.6949, 0.2952, 0.2941],\n",
      "         [0.6813, 0.2906, 0.1295]],\n",
      "\n",
      "        ...,\n",
      "\n",
      "        [[0.1594, 0.0767, 0.6900],\n",
      "         [0.8978, 0.9789, 0.9457],\n",
      "         [0.5751, 0.7990, 0.6771],\n",
      "         ...,\n",
      "         [0.4469, 0.0090, 0.9487],\n",
      "         [0.3141, 0.4585, 0.2544],\n",
      "         [0.8727, 0.8314, 0.1558]],\n",
      "\n",
      "        [[0.2839, 0.2056, 0.6660],\n",
      "         [0.0822, 0.4344, 0.7102],\n",
      "         [0.6888, 0.8169, 0.4193],\n",
      "         ...,\n",
      "         [0.1382, 0.1945, 0.7425],\n",
      "         [0.8937, 0.5501, 0.4917],\n",
      "         [0.5343, 0.9471, 0.9529]],\n",
      "\n",
      "        [[0.3869, 0.7770, 0.5326],\n",
      "         [0.3772, 0.0474, 0.2261],\n",
      "         [0.6677, 0.0138, 0.0773],\n",
      "         ...,\n",
      "         [0.7543, 0.5141, 0.9183],\n",
      "         [0.5256, 0.0358, 0.3088],\n",
      "         [0.8813, 0.7895, 0.8147]]]) torch.Size([224, 224, 3]) 3\n"
     ]
    }
   ],
   "source": [
    "random_tensors = torch.rand(4, 5)\n",
    "random_image_tensor = torch.rand(size=(224, 224, 3))\n",
    "print(random_tensors, random_tensors.shape, random_tensors.ndim)\n",
    "print(random_image_tensor, random_image_tensor.shape, random_image_tensor.ndim)"
   ]
  },
  {
   "cell_type": "markdown",
   "id": "050f6db8",
   "metadata": {},
   "source": [
    "#### Zeros/Ones\n"
   ]
  },
  {
   "cell_type": "code",
   "execution_count": 96,
   "id": "4964ba6b",
   "metadata": {},
   "outputs": [
    {
     "data": {
      "text/plain": [
       "(tensor([[0., 0., 0.],\n",
       "         [0., 0., 0.],\n",
       "         [0., 0., 0.]]),\n",
       " torch.Size([3, 3]),\n",
       " 2,\n",
       " tensor([[1., 1., 1.],\n",
       "         [1., 1., 1.],\n",
       "         [1., 1., 1.]]),\n",
       " torch.Size([3, 3]),\n",
       " 2)"
      ]
     },
     "execution_count": 96,
     "metadata": {},
     "output_type": "execute_result"
    }
   ],
   "source": [
    "zeros = torch.zeros(3, 3)\n",
    "ones = torch.ones(3, 3)\n",
    "\n",
    "zeros, zeros.shape, zeros.ndim, ones, ones.shape, ones.ndim"
   ]
  },
  {
   "cell_type": "markdown",
   "id": "0684567b",
   "metadata": {},
   "source": [
    "#### Range\n"
   ]
  },
  {
   "cell_type": "code",
   "execution_count": 97,
   "id": "36927434",
   "metadata": {},
   "outputs": [
    {
     "data": {
      "text/plain": [
       "tensor([ 0,  2,  4,  6,  8, 10, 12, 14, 16, 18, 20, 22, 24, 26, 28, 30, 32, 34,\n",
       "        36, 38, 40, 42, 44, 46, 48, 50, 52, 54, 56, 58, 60, 62, 64, 66, 68, 70,\n",
       "        72, 74, 76, 78, 80, 82, 84, 86, 88, 90, 92, 94, 96, 98])"
      ]
     },
     "execution_count": 97,
     "metadata": {},
     "output_type": "execute_result"
    }
   ],
   "source": [
    "range_tensor = torch.arange(0, 100, 2)\n",
    "range_tensor"
   ]
  },
  {
   "cell_type": "markdown",
   "id": "85631674",
   "metadata": {},
   "source": [
    "#### Data Types\n"
   ]
  },
  {
   "cell_type": "code",
   "execution_count": 98,
   "id": "9819c28b",
   "metadata": {},
   "outputs": [
    {
     "data": {
      "text/plain": [
       "(tensor([2., 6., 9.], dtype=torch.float16), torch.float16)"
      ]
     },
     "execution_count": 98,
     "metadata": {},
     "output_type": "execute_result"
    }
   ],
   "source": [
    "float_32_tensor = torch.tensor([3., 4., 5.], dtype=None)\n",
    "float_16_tensor = torch.tensor([2., 6., 9.], dtype=torch.float16)\n",
    "float_32_tensor, float_32_tensor.dtype\n",
    "float_16_tensor, float_16_tensor.dtype"
   ]
  },
  {
   "cell_type": "code",
   "execution_count": 99,
   "id": "bd680919",
   "metadata": {},
   "outputs": [
    {
     "name": "stdout",
     "output_type": "stream",
     "text": [
      "Original Tensor : \n",
      " tensor([[1., 2., 3.],\n",
      "        [4., 5., 6.]]) \n",
      "\n",
      "Squared Tensor : \n",
      " tensor([[ 2.,  4.,  6.],\n",
      "        [ 8., 10., 12.]]) \n",
      "\n",
      "Sum of Tensor : \n",
      " 21.0 \n",
      "\n"
     ]
    }
   ],
   "source": [
    "# 2 x 3 tensor\n",
    "tensor = torch.tensor([\n",
    "    [1., 2., 3],\n",
    "    [4., 5., 6.]\n",
    "])\n",
    "\n",
    "tensor_squared = tensor * 2\n",
    "tensor_sum = tensor.sum()\n",
    "\n",
    "print(f\"Original Tensor : \\n {tensor} \\n\")\n",
    "print(f\"Squared Tensor : \\n {tensor_squared} \\n\")\n",
    "print(f\"Sum of Tensor : \\n {tensor_sum} \\n\")\n"
   ]
  },
  {
   "cell_type": "markdown",
   "id": "23be6322",
   "metadata": {},
   "source": [
    "#### Manipulating Tensors (tensor Operations)\n"
   ]
  },
  {
   "cell_type": "code",
   "execution_count": 100,
   "id": "a7202141",
   "metadata": {},
   "outputs": [
    {
     "data": {
      "text/plain": [
       "(tensor([11, 12, 13]),\n",
       " tensor([-9, -8, -7]),\n",
       " tensor([10, 20, 30]),\n",
       " tensor([0.1000, 0.2000, 0.3000]))"
      ]
     },
     "execution_count": 100,
     "metadata": {},
     "output_type": "execute_result"
    }
   ],
   "source": [
    "tensor = torch.tensor([1, 2, 3])\n",
    "\n",
    "tensor_add = tensor + 10\n",
    "tensor_sub = tensor - 10\n",
    "tensor_mult = tensor * 10\n",
    "tensor_div = tensor / 10\n",
    "\n",
    "tensor_add, tensor_sub, tensor_mult, tensor_div"
   ]
  },
  {
   "cell_type": "markdown",
   "id": "d77091b0",
   "metadata": {},
   "source": [
    "#### Matrix Multiplication\n"
   ]
  },
  {
   "cell_type": "code",
   "execution_count": 101,
   "id": "1fdc31bc",
   "metadata": {},
   "outputs": [
    {
     "name": "stdout",
     "output_type": "stream",
     "text": [
      "tensor(44)\n",
      "tensor(44)\n"
     ]
    }
   ],
   "source": [
    "a = torch.tensor([2, 4, 6])\n",
    "b = torch.tensor([1, 3, 5])\n",
    "result = torch.dot(a, b)\n",
    "print(result)\n",
    "print(torch.matmul(a, b))\n"
   ]
  },
  {
   "cell_type": "code",
   "execution_count": 102,
   "id": "887e9118",
   "metadata": {},
   "outputs": [
    {
     "name": "stdout",
     "output_type": "stream",
     "text": [
      "Gradient of y = x^2 at x = 3.0 : 3.0, 9.0, 6.0\n"
     ]
    }
   ],
   "source": [
    "x = torch.tensor(3.0, requires_grad=True)\n",
    "y = x ** 2\n",
    "y.backward()\n",
    "print(f\"Gradient of y = x^2 at x = {x} : {x}, {y}, {x.grad}\")"
   ]
  },
  {
   "cell_type": "markdown",
   "id": "8c58743d",
   "metadata": {},
   "source": [
    "#### min/max/mean/sum\n"
   ]
  },
  {
   "cell_type": "code",
   "execution_count": 103,
   "id": "88363c58",
   "metadata": {},
   "outputs": [
    {
     "name": "stdout",
     "output_type": "stream",
     "text": [
      "Tensor: tensor([ 0,  2,  4,  6,  8, 10, 12, 14, 16, 18, 20, 22, 24, 26, 28, 30, 32, 34,\n",
      "        36, 38, 40, 42, 44, 46, 48, 50, 52, 54, 56, 58, 60, 62, 64, 66, 68, 70,\n",
      "        72, 74, 76, 78, 80, 82, 84, 86, 88, 90, 92, 94, 96, 98])\n",
      "Min: 0\n",
      "Max: 98\n",
      "Sum: 2450\n",
      "Mean: 49.0\n"
     ]
    }
   ],
   "source": [
    "\n",
    "tensor = torch.arange(0, 100, 2)\n",
    "\n",
    "print(f\"Tensor: {tensor}\")\n",
    "print(f\"Min: {torch.min(tensor)}\")\n",
    "print(f\"Max: {torch.max(tensor)}\")\n",
    "print(f\"Sum: {torch.sum(tensor)}\")\n",
    "print(f\"Mean: {tensor.float().mean()}\")\n"
   ]
  },
  {
   "cell_type": "markdown",
   "id": "0ab06914",
   "metadata": {},
   "source": [
    "#### Reshaping, stacking, Squeezing, unsqueeezing\n"
   ]
  },
  {
   "cell_type": "code",
   "execution_count": 104,
   "id": "4d33556b",
   "metadata": {},
   "outputs": [
    {
     "name": "stdout",
     "output_type": "stream",
     "text": [
      "Original Tensor tensor([1, 2, 3, 4, 5, 6])\n",
      "Reshaped Tensor tensor([[1, 2, 3],\n",
      "        [4, 5, 6]])\n"
     ]
    }
   ],
   "source": [
    "# ReShaping Tensor Reshaping changes the shape (dimensions) of a tensor without altering its data. The total number of elements must remain the same. Use torch.reshape() or .view().\n",
    "\n",
    "tensor = torch.tensor([1, 2, 3, 4, 5, 6])\n",
    "\n",
    "reshape = tensor.reshape(2, 3)\n",
    "print(f\"Original Tensor {tensor}\")\n",
    "print(f\"Reshaped Tensor {reshape}\")"
   ]
  },
  {
   "cell_type": "code",
   "execution_count": 105,
   "id": "f441b315",
   "metadata": {},
   "outputs": [
    {
     "name": "stdout",
     "output_type": "stream",
     "text": [
      "stacked tenosr: tensor([[1, 2, 3, 4, 5],\n",
      "        [6, 7, 8, 9, 0]])\n"
     ]
    }
   ],
   "source": [
    "# Stacking Tensor Stacking combines multiple tensors along a new dimension, creating a higher-dimensional tensor. Use torch.stack() to stack tensors of the same shape along a specified axis.\n",
    "\n",
    "\n",
    "\n",
    "tensor1 = torch.tensor([1, 2, 3, 4, 5])\n",
    "tensor2 = torch.tensor([6, 7, 8, 9, 0])\n",
    "\n",
    "stacked = torch.stack((tensor1, tensor2), dim=0)\n",
    "print(f'stacked tenosr: {stacked}')"
   ]
  },
  {
   "cell_type": "code",
   "execution_count": 106,
   "id": "998321c3",
   "metadata": {},
   "outputs": [
    {
     "name": "stdout",
     "output_type": "stream",
     "text": [
      "Original tensor shape: torch.Size([1, 3, 1])\n",
      "Squeezed tensor: tensor([1, 2, 3]) with shape: torch.Size([3])\n"
     ]
    }
   ],
   "source": [
    "# Squeezing Squeezing removes dimensions of size 1 from a tensor, reducing its rank. Use torch.squeeze() or .squeeze(). This is useful when a dimension is unnecessary (e.g., batch size of 1).\n",
    "\n",
    "tensor = torch.tensor([[[1], [2], [3]]])\n",
    "\n",
    "squeezed = tensor.squeeze()\n",
    "print(\"Original tensor shape:\", tensor.shape)\n",
    "print(\"Squeezed tensor:\", squeezed, \"with shape:\", squeezed.shape)"
   ]
  },
  {
   "cell_type": "code",
   "execution_count": 107,
   "id": "a4c19d6a",
   "metadata": {},
   "outputs": [
    {
     "name": "stdout",
     "output_type": "stream",
     "text": [
      "Original tensor shape: torch.Size([3])\n",
      "Unsqueezed tensor: tensor([[1, 2, 3]]) with shape: torch.Size([1, 3])\n"
     ]
    }
   ],
   "source": [
    "# Unsqueeze Unsqueezing adds a dimension of size 1 at a specified index. Use torch.unsqueeze() or .unsqueeze(). This is often used to match tensor shapes for operations like batch processing.\n",
    "\n",
    "tensor = torch.tensor([1, 2, 3])\n",
    "\n",
    "unsqueezed = tensor.unsqueeze(0)\n",
    "print(\"Original tensor shape:\", tensor.shape)\n",
    "print(\"Unsqueezed tensor:\", unsqueezed, \"with shape:\", unsqueezed.shape)"
   ]
  },
  {
   "cell_type": "markdown",
   "id": "25b96af6",
   "metadata": {},
   "source": [
    "#### PyTorch tensor & Numpy\n"
   ]
  },
  {
   "cell_type": "code",
   "execution_count": 108,
   "id": "32f59691",
   "metadata": {},
   "outputs": [
    {
     "name": "stdout",
     "output_type": "stream",
     "text": [
      "NumPy to Tensor:\n",
      " tensor([[1, 2],\n",
      "        [3, 4]])\n",
      "Tensor to NumPy:\n",
      " [[5 6]\n",
      " [7 8]]\n"
     ]
    }
   ],
   "source": [
    "import torch\n",
    "import numpy as np\n",
    "\n",
    "# NumPy to PyTorch tensor\n",
    "np_array = np.array([[1, 2], [3, 4]])\n",
    "tensor = torch.from_numpy(np_array)\n",
    "print(\"NumPy to Tensor:\\n\", tensor)\n",
    "\n",
    "# PyTorch tensor to NumPy\n",
    "tensor = torch.tensor([[5, 6], [7, 8]])\n",
    "np_array = tensor.numpy()\n",
    "print(\"Tensor to NumPy:\\n\", np_array)"
   ]
  },
  {
   "cell_type": "markdown",
   "id": "71a20fb5",
   "metadata": {},
   "source": [
    "#### ReProducability\n"
   ]
  },
  {
   "cell_type": "code",
   "execution_count": 109,
   "id": "a3c9de21",
   "metadata": {},
   "outputs": [
    {
     "name": "stdout",
     "output_type": "stream",
     "text": [
      "tensor([[0.8823, 0.9150, 0.3829],\n",
      "        [0.9593, 0.3904, 0.6009]]) tensor([[0.8823, 0.9150, 0.3829],\n",
      "        [0.9593, 0.3904, 0.6009]]) tensor([[True, True, True],\n",
      "        [True, True, True]])\n"
     ]
    }
   ],
   "source": [
    "import torch\n",
    "\n",
    "RANDOM_SEED = 42\n",
    "torch.manual_seed(RANDOM_SEED)\n",
    "random_tensor1 = torch.rand(2, 3)\n",
    "\n",
    "torch.manual_seed(RANDOM_SEED)\n",
    "random_tensor2 = torch.rand(2, 3)\n",
    "\n",
    "print(random_tensor1, random_tensor2, random_tensor1 == random_tensor2)\n"
   ]
  },
  {
   "cell_type": "code",
   "execution_count": 110,
   "id": "24a281ae",
   "metadata": {},
   "outputs": [
    {
     "data": {
      "text/plain": [
       "'cpu'"
      ]
     },
     "execution_count": 110,
     "metadata": {},
     "output_type": "execute_result"
    }
   ],
   "source": [
    "import torch\n",
    "\n",
    "device = \"cuda\" if torch.cuda.is_available() else \"cpu\"\n",
    "device"
   ]
  },
  {
   "cell_type": "code",
   "execution_count": null,
   "id": "6e436bd8",
   "metadata": {},
   "outputs": [],
   "source": []
  },
  {
   "cell_type": "code",
   "execution_count": null,
   "id": "caceb6b8",
   "metadata": {},
   "outputs": [],
   "source": []
  }
 ],
 "metadata": {
  "kernelspec": {
   "display_name": ".venv",
   "language": "python",
   "name": "python3"
  },
  "language_info": {
   "codemirror_mode": {
    "name": "ipython",
    "version": 3
   },
   "file_extension": ".py",
   "mimetype": "text/x-python",
   "name": "python",
   "nbconvert_exporter": "python",
   "pygments_lexer": "ipython3",
   "version": "3.12.5"
  }
 },
 "nbformat": 4,
 "nbformat_minor": 5
}
