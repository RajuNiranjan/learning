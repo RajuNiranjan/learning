{
 "cells": [
  {
   "cell_type": "code",
   "execution_count": 50,
   "id": "f22a06b1",
   "metadata": {},
   "outputs": [
    {
     "name": "stdout",
     "output_type": "stream",
     "text": [
      "2.8.0+cpu\n"
     ]
    }
   ],
   "source": [
    "import torch\n",
    "import pandas as pd\n",
    "import numpy as np\n",
    "import matplotlib.pyplot as plt\n",
    "print(torch.__version__)"
   ]
  },
  {
   "cell_type": "markdown",
   "id": "4c4cf245",
   "metadata": {},
   "source": [
    "#### Tensors\n",
    "\n",
    "Tensors are the fundamental data structure in PyTorch, similar to NumPy arrays but with GPU support and autograd capabilities. They are used for all computations, representing data like scalars, vectors, matrices, or higher-dimensional arrays.\n"
   ]
  },
  {
   "cell_type": "code",
   "execution_count": 51,
   "id": "660bf89d",
   "metadata": {},
   "outputs": [
    {
     "name": "stdout",
     "output_type": "stream",
     "text": [
      "Scalar : \n",
      " Original Scalar 9 \n",
      " Shape of Scalar 0 \n",
      " \n",
      "Vector : \n",
      " Original Vector tensor([8, 9]) \n",
      " Shape of Vector 1 \n",
      " \n",
      "Matrix : \n",
      " Original Matrix tensor([[1., 3., 5.],\n",
      "        [2., 4., 6.]]) \n",
      " Shape of Matrix 2 \n",
      " \n",
      "Tensor : \n",
      " Original Tensor tensor([[[1, 2],\n",
      "         [3, 4],\n",
      "         [5, 6]]]) \n",
      " Shape of Tensor 3 \n",
      " \n"
     ]
    }
   ],
   "source": [
    "scalar = torch.tensor(9)\n",
    "vector = torch.tensor([8, 9])\n",
    "matrix = torch.tensor([\n",
    "    [1., 3., 5.],\n",
    "    [2., 4., 6.]\n",
    "])\n",
    "tensor = torch.tensor([\n",
    "    [\n",
    "        [1, 2],\n",
    "        [3, 4],\n",
    "        [5, 6],\n",
    "    ]\n",
    "])\n",
    "\n",
    "print(f\"Scalar : \\n Original Scalar {scalar} \\n Shape of Scalar {scalar.ndim} \\n \")\n",
    "print(f\"Vector : \\n Original Vector {vector} \\n Shape of Vector {vector.ndim} \\n \")\n",
    "print(f\"Matrix : \\n Original Matrix {matrix} \\n Shape of Matrix {matrix.ndim} \\n \")\n",
    "print(f\"Tensor : \\n Original Tensor {tensor} \\n Shape of Tensor {tensor.ndim} \\n \")"
   ]
  },
  {
   "cell_type": "markdown",
   "id": "26558961",
   "metadata": {},
   "source": [
    "#### Random Tensors\n"
   ]
  },
  {
   "cell_type": "code",
   "execution_count": 52,
   "id": "9669dfae",
   "metadata": {},
   "outputs": [
    {
     "name": "stdout",
     "output_type": "stream",
     "text": [
      "tensor([[0.7515, 0.0911, 0.0656, 0.3904, 0.0967],\n",
      "        [0.3457, 0.0612, 0.9926, 0.3492, 0.3143],\n",
      "        [0.5064, 0.7897, 0.8910, 0.1364, 0.5434],\n",
      "        [0.5403, 0.8618, 0.2596, 0.9367, 0.4151]]) torch.Size([4, 5]) 2\n",
      "tensor([[[0.8073, 0.9411, 0.6550],\n",
      "         [0.5266, 0.9181, 0.9172],\n",
      "         [0.2886, 0.2174, 0.7933],\n",
      "         ...,\n",
      "         [0.2662, 0.2309, 0.4852],\n",
      "         [0.5481, 0.5057, 0.9645],\n",
      "         [0.8734, 0.5311, 0.6175]],\n",
      "\n",
      "        [[0.3279, 0.3947, 0.8796],\n",
      "         [0.8665, 0.7303, 0.5622],\n",
      "         [0.8402, 0.0637, 0.5072],\n",
      "         ...,\n",
      "         [0.3783, 0.9923, 0.2235],\n",
      "         [0.9581, 0.0083, 0.5821],\n",
      "         [0.8329, 0.4814, 0.1160]],\n",
      "\n",
      "        [[0.0092, 0.6306, 0.0507],\n",
      "         [0.8788, 0.4804, 0.7449],\n",
      "         [0.5840, 0.9586, 0.5119],\n",
      "         ...,\n",
      "         [0.7525, 0.7461, 0.2883],\n",
      "         [0.1987, 0.1097, 0.4077],\n",
      "         [0.8418, 0.8924, 0.0653]],\n",
      "\n",
      "        ...,\n",
      "\n",
      "        [[0.5643, 0.1459, 0.9436],\n",
      "         [0.9265, 0.1565, 0.3874],\n",
      "         [0.9354, 0.3391, 0.8068],\n",
      "         ...,\n",
      "         [0.6997, 0.6566, 0.6164],\n",
      "         [0.6172, 0.3167, 0.1879],\n",
      "         [0.5918, 0.2555, 0.8185]],\n",
      "\n",
      "        [[0.3900, 0.9296, 0.7852],\n",
      "         [0.9599, 0.6051, 0.5715],\n",
      "         [0.8401, 0.0535, 0.0204],\n",
      "         ...,\n",
      "         [0.8124, 0.3240, 0.9953],\n",
      "         [0.6840, 0.8400, 0.5389],\n",
      "         [0.4393, 0.2824, 0.1289]],\n",
      "\n",
      "        [[0.2965, 0.2604, 0.4256],\n",
      "         [0.7051, 0.9126, 0.4576],\n",
      "         [0.9411, 0.3820, 0.7899],\n",
      "         ...,\n",
      "         [0.7638, 0.7292, 0.6643],\n",
      "         [0.6942, 0.1731, 0.8306],\n",
      "         [0.6802, 0.5075, 0.5321]]]) torch.Size([224, 224, 3]) 3\n"
     ]
    }
   ],
   "source": [
    "random_tensors = torch.rand(4, 5)\n",
    "random_image_tensor = torch.rand(size=(224, 224, 3))\n",
    "print(random_tensors, random_tensors.shape, random_tensors.ndim)\n",
    "print(random_image_tensor, random_image_tensor.shape, random_image_tensor.ndim)"
   ]
  },
  {
   "cell_type": "markdown",
   "id": "050f6db8",
   "metadata": {},
   "source": [
    "#### Zeros/Ones\n"
   ]
  },
  {
   "cell_type": "code",
   "execution_count": 53,
   "id": "4964ba6b",
   "metadata": {},
   "outputs": [
    {
     "data": {
      "text/plain": [
       "(tensor([[0., 0., 0.],\n",
       "         [0., 0., 0.],\n",
       "         [0., 0., 0.]]),\n",
       " torch.Size([3, 3]),\n",
       " 2,\n",
       " tensor([[1., 1., 1.],\n",
       "         [1., 1., 1.],\n",
       "         [1., 1., 1.]]),\n",
       " torch.Size([3, 3]),\n",
       " 2)"
      ]
     },
     "execution_count": 53,
     "metadata": {},
     "output_type": "execute_result"
    }
   ],
   "source": [
    "zeros = torch.zeros(3, 3)\n",
    "ones = torch.ones(3, 3)\n",
    "\n",
    "zeros, zeros.shape, zeros.ndim, ones, ones.shape, ones.ndim"
   ]
  },
  {
   "cell_type": "markdown",
   "id": "0684567b",
   "metadata": {},
   "source": [
    "#### Range\n"
   ]
  },
  {
   "cell_type": "code",
   "execution_count": 54,
   "id": "36927434",
   "metadata": {},
   "outputs": [
    {
     "data": {
      "text/plain": [
       "tensor([ 0,  2,  4,  6,  8, 10, 12, 14, 16, 18, 20, 22, 24, 26, 28, 30, 32, 34,\n",
       "        36, 38, 40, 42, 44, 46, 48, 50, 52, 54, 56, 58, 60, 62, 64, 66, 68, 70,\n",
       "        72, 74, 76, 78, 80, 82, 84, 86, 88, 90, 92, 94, 96, 98])"
      ]
     },
     "execution_count": 54,
     "metadata": {},
     "output_type": "execute_result"
    }
   ],
   "source": [
    "range_tensor = torch.arange(0, 100, 2)\n",
    "range_tensor"
   ]
  },
  {
   "cell_type": "markdown",
   "id": "85631674",
   "metadata": {},
   "source": [
    "#### Data Types\n"
   ]
  },
  {
   "cell_type": "code",
   "execution_count": 55,
   "id": "9819c28b",
   "metadata": {},
   "outputs": [
    {
     "data": {
      "text/plain": [
       "(tensor([2., 6., 9.], dtype=torch.float16), torch.float16)"
      ]
     },
     "execution_count": 55,
     "metadata": {},
     "output_type": "execute_result"
    }
   ],
   "source": [
    "float_32_tensor = torch.tensor([3., 4., 5.], dtype=None)\n",
    "float_16_tensor = torch.tensor([2., 6., 9.], dtype=torch.float16)\n",
    "float_32_tensor, float_32_tensor.dtype\n",
    "float_16_tensor, float_16_tensor.dtype"
   ]
  },
  {
   "cell_type": "code",
   "execution_count": 56,
   "id": "bd680919",
   "metadata": {},
   "outputs": [
    {
     "name": "stdout",
     "output_type": "stream",
     "text": [
      "Original Tensor : \n",
      " tensor([[1., 2., 3.],\n",
      "        [4., 5., 6.]]) \n",
      "\n",
      "Squared Tensor : \n",
      " tensor([[ 2.,  4.,  6.],\n",
      "        [ 8., 10., 12.]]) \n",
      "\n",
      "Sum of Tensor : \n",
      " 21.0 \n",
      "\n"
     ]
    }
   ],
   "source": [
    "# 2 x 3 tensor\n",
    "tensor = torch.tensor([\n",
    "    [1., 2., 3],\n",
    "    [4., 5., 6.]\n",
    "])\n",
    "\n",
    "tensor_squared = tensor * 2\n",
    "tensor_sum = tensor.sum()\n",
    "\n",
    "print(f\"Original Tensor : \\n {tensor} \\n\")\n",
    "print(f\"Squared Tensor : \\n {tensor_squared} \\n\")\n",
    "print(f\"Sum of Tensor : \\n {tensor_sum} \\n\")\n"
   ]
  },
  {
   "cell_type": "markdown",
   "id": "23be6322",
   "metadata": {},
   "source": [
    "#### Manipulating Tensors (tensor Operations)\n"
   ]
  },
  {
   "cell_type": "code",
   "execution_count": 57,
   "id": "a7202141",
   "metadata": {},
   "outputs": [
    {
     "data": {
      "text/plain": [
       "(tensor([11, 12, 13]),\n",
       " tensor([-9, -8, -7]),\n",
       " tensor([10, 20, 30]),\n",
       " tensor([0.1000, 0.2000, 0.3000]))"
      ]
     },
     "execution_count": 57,
     "metadata": {},
     "output_type": "execute_result"
    }
   ],
   "source": [
    "tensor = torch.tensor([1, 2, 3])\n",
    "\n",
    "tensor_add = tensor + 10\n",
    "tensor_sub = tensor - 10\n",
    "tensor_mult = tensor * 10\n",
    "tensor_div = tensor / 10\n",
    "\n",
    "tensor_add, tensor_sub, tensor_mult, tensor_div"
   ]
  },
  {
   "cell_type": "markdown",
   "id": "d77091b0",
   "metadata": {},
   "source": [
    "#### Matrix Multiplication\n"
   ]
  },
  {
   "cell_type": "code",
   "execution_count": 58,
   "id": "1fdc31bc",
   "metadata": {},
   "outputs": [
    {
     "name": "stdout",
     "output_type": "stream",
     "text": [
      "tensor(44)\n",
      "tensor(44)\n"
     ]
    }
   ],
   "source": [
    "a = torch.tensor([2, 4, 6])\n",
    "b = torch.tensor([1, 3, 5])\n",
    "result = torch.dot(a, b)\n",
    "print(result)\n",
    "print(torch.matmul(a, b))\n"
   ]
  },
  {
   "cell_type": "code",
   "execution_count": 59,
   "id": "887e9118",
   "metadata": {},
   "outputs": [
    {
     "name": "stdout",
     "output_type": "stream",
     "text": [
      "Gradient of y = x^2 at x = 3.0 : 3.0, 9.0, 6.0\n"
     ]
    }
   ],
   "source": [
    "x = torch.tensor(3.0, requires_grad=True)\n",
    "y = x ** 2\n",
    "y.backward()\n",
    "print(f\"Gradient of y = x^2 at x = {x} : {x}, {y}, {x.grad}\")"
   ]
  },
  {
   "cell_type": "markdown",
   "id": "8c58743d",
   "metadata": {},
   "source": [
    "#### min/max/mean/sum\n"
   ]
  },
  {
   "cell_type": "code",
   "execution_count": 76,
   "id": "88363c58",
   "metadata": {},
   "outputs": [
    {
     "name": "stdout",
     "output_type": "stream",
     "text": [
      "Tensor: tensor([ 0,  2,  4,  6,  8, 10, 12, 14, 16, 18, 20, 22, 24, 26, 28, 30, 32, 34,\n",
      "        36, 38, 40, 42, 44, 46, 48, 50, 52, 54, 56, 58, 60, 62, 64, 66, 68, 70,\n",
      "        72, 74, 76, 78, 80, 82, 84, 86, 88, 90, 92, 94, 96, 98])\n",
      "Min: 0\n",
      "Max: 98\n",
      "Sum: 2450\n",
      "Mean: 49.0\n"
     ]
    }
   ],
   "source": [
    "\n",
    "tensor = torch.arange(0, 100, 2)\n",
    "\n",
    "print(f\"Tensor: {tensor}\")\n",
    "print(f\"Min: {torch.min(tensor)}\")\n",
    "print(f\"Max: {torch.max(tensor)}\")\n",
    "print(f\"Sum: {torch.sum(tensor)}\")\n",
    "print(f\"Mean: {tensor.float().mean()}\")\n"
   ]
  },
  {
   "cell_type": "markdown",
   "id": "0ab06914",
   "metadata": {},
   "source": [
    "#### Reshaping, stacking, Squeezing, unsqueeezing\n"
   ]
  },
  {
   "cell_type": "code",
   "execution_count": null,
   "id": "4d33556b",
   "metadata": {},
   "outputs": [
    {
     "name": "stdout",
     "output_type": "stream",
     "text": [
      "Original Tensor tensor([1, 2, 3, 4, 5, 6])\n",
      "Reshaped Tensor tensor([[1, 2, 3],\n",
      "        [4, 5, 6]])\n"
     ]
    }
   ],
   "source": [
    "# ReShaping Tensor Reshaping changes the shape (dimensions) of a tensor without altering its data. The total number of elements must remain the same. Use torch.reshape() or .view().\n",
    "\n",
    "tensor = torch.tensor([1, 2, 3, 4, 5, 6])\n",
    "\n",
    "reshape = tensor.reshape(2, 3)\n",
    "print(f\"Original Tensor {tensor}\")\n",
    "print(f\"Reshaped Tensor {reshape}\")"
   ]
  },
  {
   "cell_type": "code",
   "execution_count": null,
   "id": "f441b315",
   "metadata": {},
   "outputs": [
    {
     "name": "stdout",
     "output_type": "stream",
     "text": [
      "stacked tenosr: tensor([[1, 2, 3, 4, 5],\n",
      "        [6, 7, 8, 9, 0]])\n"
     ]
    }
   ],
   "source": [
    "# Stacking Tensor Stacking combines multiple tensors along a new dimension, creating a higher-dimensional tensor. Use torch.stack() to stack tensors of the same shape along a specified axis.\n",
    "\n",
    "\n",
    "\n",
    "tensor1 = torch.tensor([1, 2, 3, 4, 5])\n",
    "tensor2 = torch.tensor([6, 7, 8, 9, 0])\n",
    "\n",
    "stacked = torch.stack((tensor1, tensor2), dim=0)\n",
    "print(f'stacked tenosr: {stacked}')"
   ]
  },
  {
   "cell_type": "code",
   "execution_count": null,
   "id": "998321c3",
   "metadata": {},
   "outputs": [
    {
     "name": "stdout",
     "output_type": "stream",
     "text": [
      "Original tensor shape: torch.Size([1, 3, 1])\n",
      "Squeezed tensor: tensor([1, 2, 3]) with shape: torch.Size([3])\n"
     ]
    }
   ],
   "source": [
    "# Squeezing Squeezing removes dimensions of size 1 from a tensor, reducing its rank. Use torch.squeeze() or .squeeze(). This is useful when a dimension is unnecessary (e.g., batch size of 1).\n",
    "\n",
    "tensor = torch.tensor([[[1], [2], [3]]])\n",
    "\n",
    "squeezed = tensor.squeeze()\n",
    "print(\"Original tensor shape:\", tensor.shape)\n",
    "print(\"Squeezed tensor:\", squeezed, \"with shape:\", squeezed.shape)"
   ]
  },
  {
   "cell_type": "code",
   "execution_count": null,
   "id": "a4c19d6a",
   "metadata": {},
   "outputs": [
    {
     "name": "stdout",
     "output_type": "stream",
     "text": [
      "Original tensor shape: torch.Size([3])\n",
      "Unsqueezed tensor: tensor([[1, 2, 3]]) with shape: torch.Size([1, 3])\n"
     ]
    }
   ],
   "source": [
    "# Unsqueeze Unsqueezing adds a dimension of size 1 at a specified index. Use torch.unsqueeze() or .unsqueeze(). This is often used to match tensor shapes for operations like batch processing.\n",
    "\n",
    "tensor = torch.tensor([1, 2, 3])\n",
    "\n",
    "unsqueezed = tensor.unsqueeze(0)\n",
    "print(\"Original tensor shape:\", tensor.shape)\n",
    "print(\"Unsqueezed tensor:\", unsqueezed, \"with shape:\", unsqueezed.shape)"
   ]
  },
  {
   "cell_type": "markdown",
   "id": "25b96af6",
   "metadata": {},
   "source": [
    "#### PyTorch tensor & Numpy\n"
   ]
  },
  {
   "cell_type": "code",
   "execution_count": 83,
   "id": "32f59691",
   "metadata": {},
   "outputs": [
    {
     "name": "stdout",
     "output_type": "stream",
     "text": [
      "NumPy to Tensor:\n",
      " tensor([[1, 2],\n",
      "        [3, 4]])\n",
      "Tensor to NumPy:\n",
      " [[5 6]\n",
      " [7 8]]\n"
     ]
    }
   ],
   "source": [
    "import torch\n",
    "import numpy as np\n",
    "\n",
    "# NumPy to PyTorch tensor\n",
    "np_array = np.array([[1, 2], [3, 4]])\n",
    "tensor = torch.from_numpy(np_array)\n",
    "print(\"NumPy to Tensor:\\n\", tensor)\n",
    "\n",
    "# PyTorch tensor to NumPy\n",
    "tensor = torch.tensor([[5, 6], [7, 8]])\n",
    "np_array = tensor.numpy()\n",
    "print(\"Tensor to NumPy:\\n\", np_array)"
   ]
  },
  {
   "cell_type": "markdown",
   "id": "71a20fb5",
   "metadata": {},
   "source": [
    "#### ReProducability\n"
   ]
  },
  {
   "cell_type": "code",
   "execution_count": 87,
   "id": "a3c9de21",
   "metadata": {},
   "outputs": [
    {
     "name": "stdout",
     "output_type": "stream",
     "text": [
      "tensor([[0.8823, 0.9150, 0.3829],\n",
      "        [0.9593, 0.3904, 0.6009]]) tensor([[0.8823, 0.9150, 0.3829],\n",
      "        [0.9593, 0.3904, 0.6009]]) tensor([[True, True, True],\n",
      "        [True, True, True]])\n"
     ]
    }
   ],
   "source": [
    "import torch\n",
    "\n",
    "RANDOM_SEED = 42\n",
    "torch.manual_seed(RANDOM_SEED)\n",
    "random_tensor1 = torch.rand(2, 3)\n",
    "\n",
    "torch.manual_seed(RANDOM_SEED)\n",
    "random_tensor2 = torch.rand(2, 3)\n",
    "\n",
    "print(random_tensor1, random_tensor2, random_tensor1 == random_tensor2)\n"
   ]
  },
  {
   "cell_type": "code",
   "execution_count": 88,
   "id": "24a281ae",
   "metadata": {},
   "outputs": [
    {
     "data": {
      "text/plain": [
       "'cpu'"
      ]
     },
     "execution_count": 88,
     "metadata": {},
     "output_type": "execute_result"
    }
   ],
   "source": [
    "import torch\n",
    "\n",
    "device = \"cuda\" if torch.cuda.is_available() else \"cpu\"\n",
    "device"
   ]
  },
  {
   "cell_type": "code",
   "execution_count": null,
   "id": "6e436bd8",
   "metadata": {},
   "outputs": [
    {
     "data": {
      "text/plain": [
       "3"
      ]
     },
     "execution_count": 92,
     "metadata": {},
     "output_type": "execute_result"
    }
   ],
   "source": []
  },
  {
   "cell_type": "code",
   "execution_count": null,
   "id": "caceb6b8",
   "metadata": {},
   "outputs": [],
   "source": []
  }
 ],
 "metadata": {
  "kernelspec": {
   "display_name": ".venv",
   "language": "python",
   "name": "python3"
  },
  "language_info": {
   "codemirror_mode": {
    "name": "ipython",
    "version": 3
   },
   "file_extension": ".py",
   "mimetype": "text/x-python",
   "name": "python",
   "nbconvert_exporter": "python",
   "pygments_lexer": "ipython3",
   "version": "3.12.5"
  }
 },
 "nbformat": 4,
 "nbformat_minor": 5
}
