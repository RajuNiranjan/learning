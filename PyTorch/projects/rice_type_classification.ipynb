{
 "cells": [
  {
   "cell_type": "code",
   "execution_count": 531,
   "id": "b0137d60",
   "metadata": {},
   "outputs": [],
   "source": [
    "ds_path='../datasets/riceClassification.csv'"
   ]
  },
  {
   "cell_type": "code",
   "execution_count": 532,
   "id": "fb52625c",
   "metadata": {},
   "outputs": [],
   "source": [
    "import numpy as np\n",
    "import pandas as pd\n",
    "\n",
    "import matplotlib.pyplot as plt\n",
    "\n",
    "import torch\n",
    "from torch import nn\n",
    "from torch.utils.data import Dataset, DataLoader\n",
    "\n",
    "from sklearn.model_selection import train_test_split\n",
    "from sklearn.metrics import accuracy_score\n"
   ]
  },
  {
   "cell_type": "code",
   "execution_count": 533,
   "id": "6ab26afa",
   "metadata": {},
   "outputs": [
    {
     "data": {
      "text/plain": [
       "'cpu'"
      ]
     },
     "execution_count": 533,
     "metadata": {},
     "output_type": "execute_result"
    }
   ],
   "source": [
    "device = \"cuda\" if torch.cuda.is_available() else 'cpu'\n",
    "\n",
    "device"
   ]
  },
  {
   "cell_type": "code",
   "execution_count": 534,
   "id": "4bba2d0e",
   "metadata": {},
   "outputs": [],
   "source": [
    "rice_ds = pd.read_csv(ds_path)\n",
    "\n",
    "original_ds = rice_ds.copy()"
   ]
  },
  {
   "cell_type": "code",
   "execution_count": 535,
   "id": "338b066a",
   "metadata": {},
   "outputs": [
    {
     "data": {
      "text/html": [
       "<div>\n",
       "<style scoped>\n",
       "    .dataframe tbody tr th:only-of-type {\n",
       "        vertical-align: middle;\n",
       "    }\n",
       "\n",
       "    .dataframe tbody tr th {\n",
       "        vertical-align: top;\n",
       "    }\n",
       "\n",
       "    .dataframe thead th {\n",
       "        text-align: right;\n",
       "    }\n",
       "</style>\n",
       "<table border=\"1\" class=\"dataframe\">\n",
       "  <thead>\n",
       "    <tr style=\"text-align: right;\">\n",
       "      <th></th>\n",
       "      <th>id</th>\n",
       "      <th>Area</th>\n",
       "      <th>MajorAxisLength</th>\n",
       "      <th>MinorAxisLength</th>\n",
       "      <th>Eccentricity</th>\n",
       "      <th>ConvexArea</th>\n",
       "      <th>EquivDiameter</th>\n",
       "      <th>Extent</th>\n",
       "      <th>Perimeter</th>\n",
       "      <th>Roundness</th>\n",
       "      <th>AspectRation</th>\n",
       "      <th>Class</th>\n",
       "    </tr>\n",
       "  </thead>\n",
       "  <tbody>\n",
       "    <tr>\n",
       "      <th>0</th>\n",
       "      <td>1</td>\n",
       "      <td>4537</td>\n",
       "      <td>92.229316</td>\n",
       "      <td>64.012769</td>\n",
       "      <td>0.719916</td>\n",
       "      <td>4677</td>\n",
       "      <td>76.004525</td>\n",
       "      <td>0.657536</td>\n",
       "      <td>273.085</td>\n",
       "      <td>0.764510</td>\n",
       "      <td>1.440796</td>\n",
       "      <td>1</td>\n",
       "    </tr>\n",
       "    <tr>\n",
       "      <th>1</th>\n",
       "      <td>2</td>\n",
       "      <td>2872</td>\n",
       "      <td>74.691881</td>\n",
       "      <td>51.400454</td>\n",
       "      <td>0.725553</td>\n",
       "      <td>3015</td>\n",
       "      <td>60.471018</td>\n",
       "      <td>0.713009</td>\n",
       "      <td>208.317</td>\n",
       "      <td>0.831658</td>\n",
       "      <td>1.453137</td>\n",
       "      <td>1</td>\n",
       "    </tr>\n",
       "    <tr>\n",
       "      <th>2</th>\n",
       "      <td>3</td>\n",
       "      <td>3048</td>\n",
       "      <td>76.293164</td>\n",
       "      <td>52.043491</td>\n",
       "      <td>0.731211</td>\n",
       "      <td>3132</td>\n",
       "      <td>62.296341</td>\n",
       "      <td>0.759153</td>\n",
       "      <td>210.012</td>\n",
       "      <td>0.868434</td>\n",
       "      <td>1.465950</td>\n",
       "      <td>1</td>\n",
       "    </tr>\n",
       "    <tr>\n",
       "      <th>3</th>\n",
       "      <td>4</td>\n",
       "      <td>3073</td>\n",
       "      <td>77.033628</td>\n",
       "      <td>51.928487</td>\n",
       "      <td>0.738639</td>\n",
       "      <td>3157</td>\n",
       "      <td>62.551300</td>\n",
       "      <td>0.783529</td>\n",
       "      <td>210.657</td>\n",
       "      <td>0.870203</td>\n",
       "      <td>1.483456</td>\n",
       "      <td>1</td>\n",
       "    </tr>\n",
       "    <tr>\n",
       "      <th>4</th>\n",
       "      <td>5</td>\n",
       "      <td>3693</td>\n",
       "      <td>85.124785</td>\n",
       "      <td>56.374021</td>\n",
       "      <td>0.749282</td>\n",
       "      <td>3802</td>\n",
       "      <td>68.571668</td>\n",
       "      <td>0.769375</td>\n",
       "      <td>230.332</td>\n",
       "      <td>0.874743</td>\n",
       "      <td>1.510000</td>\n",
       "      <td>1</td>\n",
       "    </tr>\n",
       "  </tbody>\n",
       "</table>\n",
       "</div>"
      ],
      "text/plain": [
       "   id  Area  MajorAxisLength  ...  Roundness  AspectRation  Class\n",
       "0   1  4537        92.229316  ...   0.764510      1.440796      1\n",
       "1   2  2872        74.691881  ...   0.831658      1.453137      1\n",
       "2   3  3048        76.293164  ...   0.868434      1.465950      1\n",
       "3   4  3073        77.033628  ...   0.870203      1.483456      1\n",
       "4   5  3693        85.124785  ...   0.874743      1.510000      1\n",
       "\n",
       "[5 rows x 12 columns]"
      ]
     },
     "execution_count": 535,
     "metadata": {},
     "output_type": "execute_result"
    }
   ],
   "source": [
    "rice_ds.head()"
   ]
  },
  {
   "cell_type": "code",
   "execution_count": 536,
   "id": "524f60cb",
   "metadata": {},
   "outputs": [
    {
     "data": {
      "text/plain": [
       "((18185, 12),\n",
       " id                 0\n",
       " Area               0\n",
       " MajorAxisLength    0\n",
       " MinorAxisLength    0\n",
       " Eccentricity       0\n",
       " ConvexArea         0\n",
       " EquivDiameter      0\n",
       " Extent             0\n",
       " Perimeter          0\n",
       " Roundness          0\n",
       " AspectRation       0\n",
       " Class              0\n",
       " dtype: int64)"
      ]
     },
     "execution_count": 536,
     "metadata": {},
     "output_type": "execute_result"
    }
   ],
   "source": [
    "rice_ds.shape, rice_ds.isnull().sum()"
   ]
  },
  {
   "cell_type": "code",
   "execution_count": 537,
   "id": "173968c8",
   "metadata": {},
   "outputs": [
    {
     "data": {
      "text/html": [
       "<div>\n",
       "<style scoped>\n",
       "    .dataframe tbody tr th:only-of-type {\n",
       "        vertical-align: middle;\n",
       "    }\n",
       "\n",
       "    .dataframe tbody tr th {\n",
       "        vertical-align: top;\n",
       "    }\n",
       "\n",
       "    .dataframe thead th {\n",
       "        text-align: right;\n",
       "    }\n",
       "</style>\n",
       "<table border=\"1\" class=\"dataframe\">\n",
       "  <thead>\n",
       "    <tr style=\"text-align: right;\">\n",
       "      <th></th>\n",
       "      <th>id</th>\n",
       "      <th>Area</th>\n",
       "      <th>MajorAxisLength</th>\n",
       "      <th>MinorAxisLength</th>\n",
       "      <th>Eccentricity</th>\n",
       "      <th>ConvexArea</th>\n",
       "      <th>EquivDiameter</th>\n",
       "      <th>Extent</th>\n",
       "      <th>Perimeter</th>\n",
       "      <th>Roundness</th>\n",
       "      <th>AspectRation</th>\n",
       "      <th>Class</th>\n",
       "    </tr>\n",
       "  </thead>\n",
       "  <tbody>\n",
       "    <tr>\n",
       "      <th>0</th>\n",
       "      <td>0.000055</td>\n",
       "      <td>0.444368</td>\n",
       "      <td>0.503404</td>\n",
       "      <td>0.775435</td>\n",
       "      <td>0.744658</td>\n",
       "      <td>0.424873</td>\n",
       "      <td>0.666610</td>\n",
       "      <td>0.741661</td>\n",
       "      <td>0.537029</td>\n",
       "      <td>0.844997</td>\n",
       "      <td>0.368316</td>\n",
       "      <td>1.0</td>\n",
       "    </tr>\n",
       "    <tr>\n",
       "      <th>1</th>\n",
       "      <td>0.000110</td>\n",
       "      <td>0.281293</td>\n",
       "      <td>0.407681</td>\n",
       "      <td>0.622653</td>\n",
       "      <td>0.750489</td>\n",
       "      <td>0.273892</td>\n",
       "      <td>0.530370</td>\n",
       "      <td>0.804230</td>\n",
       "      <td>0.409661</td>\n",
       "      <td>0.919215</td>\n",
       "      <td>0.371471</td>\n",
       "      <td>1.0</td>\n",
       "    </tr>\n",
       "    <tr>\n",
       "      <th>2</th>\n",
       "      <td>0.000165</td>\n",
       "      <td>0.298531</td>\n",
       "      <td>0.416421</td>\n",
       "      <td>0.630442</td>\n",
       "      <td>0.756341</td>\n",
       "      <td>0.284520</td>\n",
       "      <td>0.546380</td>\n",
       "      <td>0.856278</td>\n",
       "      <td>0.412994</td>\n",
       "      <td>0.959862</td>\n",
       "      <td>0.374747</td>\n",
       "      <td>1.0</td>\n",
       "    </tr>\n",
       "    <tr>\n",
       "      <th>3</th>\n",
       "      <td>0.000220</td>\n",
       "      <td>0.300979</td>\n",
       "      <td>0.420463</td>\n",
       "      <td>0.629049</td>\n",
       "      <td>0.764024</td>\n",
       "      <td>0.286791</td>\n",
       "      <td>0.548616</td>\n",
       "      <td>0.883772</td>\n",
       "      <td>0.414262</td>\n",
       "      <td>0.961818</td>\n",
       "      <td>0.379222</td>\n",
       "      <td>1.0</td>\n",
       "    </tr>\n",
       "    <tr>\n",
       "      <th>4</th>\n",
       "      <td>0.000275</td>\n",
       "      <td>0.361704</td>\n",
       "      <td>0.464626</td>\n",
       "      <td>0.682901</td>\n",
       "      <td>0.775033</td>\n",
       "      <td>0.345385</td>\n",
       "      <td>0.601418</td>\n",
       "      <td>0.867808</td>\n",
       "      <td>0.452954</td>\n",
       "      <td>0.966836</td>\n",
       "      <td>0.386007</td>\n",
       "      <td>1.0</td>\n",
       "    </tr>\n",
       "  </tbody>\n",
       "</table>\n",
       "</div>"
      ],
      "text/plain": [
       "         id      Area  MajorAxisLength  ...  Roundness  AspectRation  Class\n",
       "0  0.000055  0.444368         0.503404  ...   0.844997      0.368316    1.0\n",
       "1  0.000110  0.281293         0.407681  ...   0.919215      0.371471    1.0\n",
       "2  0.000165  0.298531         0.416421  ...   0.959862      0.374747    1.0\n",
       "3  0.000220  0.300979         0.420463  ...   0.961818      0.379222    1.0\n",
       "4  0.000275  0.361704         0.464626  ...   0.966836      0.386007    1.0\n",
       "\n",
       "[5 rows x 12 columns]"
      ]
     },
     "execution_count": 537,
     "metadata": {},
     "output_type": "execute_result"
    }
   ],
   "source": [
    "for column in rice_ds.columns:\n",
    "    rice_ds[column] = rice_ds[column] / rice_ds[column].abs().max()\n",
    "\n",
    "rice_ds.head()"
   ]
  },
  {
   "cell_type": "code",
   "execution_count": 538,
   "id": "06be234e",
   "metadata": {},
   "outputs": [
    {
     "data": {
      "text/plain": [
       "Class\n",
       "1.0    9985\n",
       "0.0    8200\n",
       "Name: count, dtype: int64"
      ]
     },
     "execution_count": 538,
     "metadata": {},
     "output_type": "execute_result"
    }
   ],
   "source": [
    "rice_ds.value_counts(\"Class\")"
   ]
  },
  {
   "cell_type": "code",
   "execution_count": 539,
   "id": "30225697",
   "metadata": {},
   "outputs": [],
   "source": [
    "X = np.array(rice_ds.iloc[:, :-1])\n",
    "Y = np.array(rice_ds.iloc[:, -1])"
   ]
  },
  {
   "cell_type": "code",
   "execution_count": 540,
   "id": "d243e690",
   "metadata": {},
   "outputs": [
    {
     "data": {
      "text/plain": [
       "((18185, 11), (18185,))"
      ]
     },
     "execution_count": 540,
     "metadata": {},
     "output_type": "execute_result"
    }
   ],
   "source": [
    "X.shape, Y.shape"
   ]
  },
  {
   "cell_type": "code",
   "execution_count": 541,
   "id": "0ddd5a96",
   "metadata": {},
   "outputs": [],
   "source": [
    "X_train, X_test, Y_train, Y_test=train_test_split(\n",
    "    X,\n",
    "    Y,\n",
    "    test_size=0.2,\n",
    "    random_state=42,\n",
    "    stratify=Y\n",
    ")\n",
    "\n",
    "X_test, X_val, Y_test, Y_val=train_test_split(\n",
    "    X_test,\n",
    "    Y_test,\n",
    "    test_size=0.5,\n",
    "    random_state=42,\n",
    "    stratify=Y_test\n",
    ")"
   ]
  },
  {
   "cell_type": "code",
   "execution_count": 542,
   "id": "0ae734ff",
   "metadata": {},
   "outputs": [
    {
     "data": {
      "text/plain": [
       "((18185, 11), (14548, 11), (1818, 11), (1819, 11))"
      ]
     },
     "execution_count": 542,
     "metadata": {},
     "output_type": "execute_result"
    }
   ],
   "source": [
    "X.shape, X_train.shape, X_test.shape, X_val.shape"
   ]
  },
  {
   "cell_type": "code",
   "execution_count": 543,
   "id": "25cc1f2d",
   "metadata": {},
   "outputs": [],
   "source": [
    "class dataset(Dataset):\n",
    "    def __init__(self, X, Y):\n",
    "        self.X = torch.tensor(X, dtype=torch.float32)\n",
    "        self.Y = torch.tensor(Y, dtype=torch.float32)\n",
    "\n",
    "    def __len__(self):\n",
    "        return len(self.X)\n",
    "\n",
    "    def __getitem__(self, idx):\n",
    "        return self.X[idx], self.Y[idx]"
   ]
  },
  {
   "cell_type": "code",
   "execution_count": 544,
   "id": "c702b8a5",
   "metadata": {},
   "outputs": [],
   "source": [
    "training_data = dataset(X_train, Y_train)\n",
    "testing_data = dataset(X_test, Y_test)\n",
    "validating_data = dataset(X_val, Y_val)"
   ]
  },
  {
   "cell_type": "code",
   "execution_count": 545,
   "id": "d8e90a35",
   "metadata": {},
   "outputs": [],
   "source": [
    "BATCH_SIZE=32\n",
    "EPOCHS=5\n",
    "HIDDEN_NEURONS=10\n",
    "LR=1e-3"
   ]
  },
  {
   "cell_type": "code",
   "execution_count": 546,
   "id": "56b8bf6f",
   "metadata": {},
   "outputs": [],
   "source": [
    "training_data_loader = DataLoader(training_data, batch_size=BATCH_SIZE, shuffle=True)\n",
    "testing_data_loader = DataLoader(testing_data, batch_size=BATCH_SIZE, shuffle=True)\n",
    "validating_data_loader = DataLoader(validating_data, batch_size=BATCH_SIZE, shuffle=True)"
   ]
  },
  {
   "cell_type": "code",
   "execution_count": 547,
   "id": "6aa6c28d",
   "metadata": {},
   "outputs": [],
   "source": [
    "class MyModel(nn.Module):\n",
    "    def __init__(self, input_size, hidden_neurons):\n",
    "        super(MyModel, self).__init__()\n",
    "        self.input_layer = nn.Linear(input_size, hidden_neurons)\n",
    "        self.linear = nn.Linear(hidden_neurons, 1)\n",
    "        self.relu = nn.ReLU()\n",
    "        self.sigmoid = nn.Sigmoid()\n",
    "\n",
    "    def forward(self, x):\n",
    "        x = self.input_layer(x)\n",
    "        x = self.relu(x)\n",
    "        x = self.linear(x)\n",
    "        x = self.sigmoid(x)\n",
    "        return x"
   ]
  },
  {
   "cell_type": "code",
   "execution_count": 548,
   "id": "daabdfd0",
   "metadata": {},
   "outputs": [],
   "source": [
    "model = MyModel(X.shape[1], HIDDEN_NEURONS)"
   ]
  },
  {
   "cell_type": "code",
   "execution_count": 549,
   "id": "f8a893f5",
   "metadata": {},
   "outputs": [],
   "source": [
    "loss_fn = nn.BCELoss()\n",
    "\n",
    "optimizer = torch.optim.Adam(model.parameters(), lr=LR)"
   ]
  },
  {
   "cell_type": "code",
   "execution_count": 550,
   "id": "38ca1d82",
   "metadata": {},
   "outputs": [],
   "source": [
    "total_train_loss_plot = []\n",
    "total_train_acc_plot = []\n",
    "total_validation_loss_plot = []\n",
    "total_validation_acc_plot = []"
   ]
  },
  {
   "cell_type": "code",
   "execution_count": 551,
   "id": "dc7d94e5",
   "metadata": {},
   "outputs": [
    {
     "name": "stdout",
     "output_type": "stream",
     "text": [
      "EPOCH 1 | Train Loss: 0.5265 | Train Acc: 0.9523 | Val Loss: 0.3149 | Val Acc: 0.9978\n",
      "EPOCH 2 | Train Loss: 0.1773 | Train Acc: 0.9964 | Val Loss: 0.0879 | Val Acc: 0.9989\n",
      "EPOCH 3 | Train Loss: 0.0590 | Train Acc: 0.9993 | Val Loss: 0.0355 | Val Acc: 1.0000\n",
      "EPOCH 4 | Train Loss: 0.0275 | Train Acc: 0.9999 | Val Loss: 0.0186 | Val Acc: 1.0000\n",
      "EPOCH 5 | Train Loss: 0.0154 | Train Acc: 1.0000 | Val Loss: 0.0108 | Val Acc: 1.0000\n"
     ]
    }
   ],
   "source": [
    "\n",
    "for epoch in range(EPOCHS):\n",
    "    model.train()\n",
    "    train_loss = 0.0\n",
    "    train_acc = 0.0\n",
    "\n",
    "    for data in training_data_loader:\n",
    "        inputs, labels = data\n",
    "\n",
    "        predictions = model(inputs).squeeze(1)\n",
    "\n",
    "        training_loss = loss_fn(predictions, labels)\n",
    "        training_acc = (predictions.round() == labels).sum().item()\n",
    "\n",
    "        train_loss += training_loss.item()\n",
    "        train_acc += training_acc \n",
    "\n",
    "        optimizer.zero_grad()\n",
    "        training_loss.backward() \n",
    "        optimizer.step()\n",
    "\n",
    "    avg_train_loss = train_loss / len(training_data_loader)\n",
    "    avg_train_acc = train_acc / len(training_data_loader.dataset) \n",
    "\n",
    "    model.eval()\n",
    "    val_loss = 0.0\n",
    "    val_acc = 0.0\n",
    "\n",
    "    with torch.inference_mode():\n",
    "        for data in validating_data_loader:\n",
    "            inputs, labels = data\n",
    "\n",
    "            predictions = model(inputs).squeeze(1)\n",
    "\n",
    "            validation_loss = loss_fn(predictions, labels)\n",
    "            validation_acc = (predictions.round() == labels).sum().item()\n",
    "\n",
    "            val_loss += validation_loss.item()\n",
    "            val_acc += validation_acc  \n",
    "\n",
    "        avg_val_loss = val_loss / len(validating_data_loader)\n",
    "        avg_val_acc = val_acc / len(validating_data_loader.dataset) \n",
    "\n",
    "    total_train_loss_plot.append(avg_train_loss)\n",
    "    total_train_acc_plot.append(avg_train_acc)\n",
    "    total_validation_loss_plot.append(avg_val_loss)\n",
    "    total_validation_acc_plot.append(avg_val_acc)\n",
    "\n",
    "    print(\n",
    "        f\"EPOCH {epoch + 1} | \"\n",
    "        f\"Train Loss: {avg_train_loss:.4f} | \"\n",
    "        f\"Train Acc: {avg_train_acc:.4f} | \"\n",
    "        f\"Val Loss: {avg_val_loss:.4f} | \"\n",
    "        f\"Val Acc: {avg_val_acc:.4f}\"\n",
    "    )"
   ]
  },
  {
   "cell_type": "code",
   "execution_count": 552,
   "id": "9ad47550",
   "metadata": {},
   "outputs": [
    {
     "name": "stdout",
     "output_type": "stream",
     "text": [
      "Accuracy Score is: 100.0%\n"
     ]
    }
   ],
   "source": [
    "with torch.no_grad():\n",
    "    total_test_loss = 0\n",
    "    total_test_acc = 0\n",
    "    for data in testing_data_loader:\n",
    "        inputs, labels = data\n",
    "\n",
    "        predictions = model(inputs).squeeze(1)\n",
    "\n",
    "        batch_loss = loss_fn(predictions, labels)\n",
    "\n",
    "        total_test_loss += batch_loss.item()\n",
    "\n",
    "        acc = (predictions.round() == labels).sum().item()\n",
    "\n",
    "        total_test_acc += acc\n",
    "\n",
    "print(f\"Accuracy Score is: {round((total_test_acc/X_test.shape[0])*100, 2)}%\")\n"
   ]
  },
  {
   "cell_type": "code",
   "execution_count": 553,
   "id": "30842416",
   "metadata": {},
   "outputs": [
    {
     "data": {
      "image/png": "[encoded data removed]",
      "text/plain": [
       "<Figure size 1500x500 with 2 Axes>"
      ]
     },
     "metadata": {},
     "output_type": "display_data"
    }
   ],
   "source": [
    "fig, axs = plt.subplots(nrows=1, ncols=2, figsize=(15, 5))\n",
    "\n",
    "axs[0].plot(total_train_loss_plot, label='Training Loss')\n",
    "axs[0].plot(total_validation_loss_plot, label='Validation Loss')\n",
    "axs[0].set_title('Training and Validation Loss over Epochs')\n",
    "axs[0].set_xlabel('Epochs')\n",
    "axs[0].set_ylabel('Loss')\n",
    "axs[0].set_ylim([0, 2])\n",
    "axs[0].legend()\n",
    "\n",
    "axs[1].plot(total_train_acc_plot, label='Training Accuracy')\n",
    "axs[1].plot(total_validation_acc_plot, label='Validation Accuracy')\n",
    "axs[1].set_title('Training and Validation Accuracy over Epochs')\n",
    "axs[1].set_xlabel('Epochs')\n",
    "axs[1].set_ylabel('Accuracy')\n",
    "axs[1].set_ylim([0, 100])\n",
    "axs[1].legend()\n",
    "\n",
    "plt.tight_layout()\n",
    "\n",
    "plt.show()"
   ]
  }
 ],
 "metadata": {
  "kernelspec": {
   "display_name": ".venv",
   "language": "python",
   "name": "python3"
  },
  "language_info": {
   "codemirror_mode": {
    "name": "ipython",
    "version": 3
   },
   "file_extension": ".py",
   "mimetype": "text/x-python",
   "name": "python",
   "nbconvert_exporter": "python",
   "pygments_lexer": "ipython3",
   "version": "3.12.5"
  }
 },
 "nbformat": 4,
 "nbformat_minor": 5
}
